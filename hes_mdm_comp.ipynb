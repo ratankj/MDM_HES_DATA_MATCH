{
 "cells": [
  {
   "cell_type": "code",
   "execution_count": 3,
   "metadata": {},
   "outputs": [],
   "source": [
    "import pandas as pd\n",
    "pd.set_option('display.max_columns', None)"
   ]
  },
  {
   "cell_type": "code",
   "execution_count": 4,
   "metadata": {},
   "outputs": [],
   "source": [
    "ASSEST_SB =  pd.read_csv(r\"C:\\Users\\Ratan Kumar Jha\\Desktop\\hes_mdm\\INPUT FOLDER\\ASSET_INITIATION_INVENTORY_SB.csv\")\n",
    "ASSEST_NB = pd.read_csv(r\"C:\\Users\\Ratan Kumar Jha\\Desktop\\hes_mdm\\INPUT FOLDER\\ASSET_INITIATION_INVENTORY_NB.csv\")\n",
    "INFRA_SB = pd.read_csv(r\"C:\\Users\\Ratan Kumar Jha\\Desktop\\hes_mdm\\INPUT FOLDER\\Infrastructure_Devices_SB.csv\",sep=';')\n",
    "INFRA_NB = pd.read_csv( r\"C:\\Users\\Ratan Kumar Jha\\Desktop\\hes_mdm\\INPUT FOLDER\\Infrastructure_Devices_NB.csv\",sep=';')\n",
    "METER_STATUS_NB = pd.read_csv( r\"C:\\Users\\Ratan Kumar Jha\\Desktop\\hes_mdm\\INPUT FOLDER\\METER_STATUS_NB.csv\")\n",
    "METER_STATUS_SB = pd.read_csv( r\"C:\\Users\\Ratan Kumar Jha\\Desktop\\hes_mdm\\INPUT FOLDER\\METER_STATUS_SB.csv\")\n"
   ]
  },
  {
   "cell_type": "code",
   "execution_count": null,
   "metadata": {},
   "outputs": [
    {
     "ename": "",
     "evalue": "",
     "output_type": "error",
     "traceback": [
      "\u001b[1;31mnotebook controller is DISPOSED. \n",
      "\u001b[1;31mView Jupyter <a href='command:jupyter.viewOutput'>log</a> for further details."
     ]
    },
    {
     "ename": "",
     "evalue": "",
     "output_type": "error",
     "traceback": [
      "\u001b[1;31mnotebook controller is DISPOSED. \n",
      "\u001b[1;31mView Jupyter <a href='command:jupyter.viewOutput'>log</a> for further details."
     ]
    }
   ],
   "source": [
    "#METER_STATUS_NB['CONSUMERNO'] = pd.to_numeric(METER_STATUS_NB['CONSUMERNO'], errors='coerce')\n",
    "#METER_STATUS_NB['INSTALLATIONNO'] = pd.to_numeric(METER_STATUS_NB['INSTALLATIONNO'], errors='coerce')\n",
    "\n",
    "\n",
    "#METER_STATUS_SB['CONSUMERNO'] = pd.to_numeric(METER_STATUS_SB['CONSUMERNO'], errors='coerce')\n",
    "#METER_STATUS_SB['INSTALLATIONNO'] = pd.to_numeric(METER_STATUS_SB['INSTALLATIONNO'], errors='coerce')"
   ]
  },
  {
   "cell_type": "code",
   "execution_count": null,
   "metadata": {},
   "outputs": [
    {
     "data": {
      "text/html": [
       "<div>\n",
       "<style scoped>\n",
       "    .dataframe tbody tr th:only-of-type {\n",
       "        vertical-align: middle;\n",
       "    }\n",
       "\n",
       "    .dataframe tbody tr th {\n",
       "        vertical-align: top;\n",
       "    }\n",
       "\n",
       "    .dataframe thead th {\n",
       "        text-align: right;\n",
       "    }\n",
       "</style>\n",
       "<table border=\"1\" class=\"dataframe\">\n",
       "  <thead>\n",
       "    <tr style=\"text-align: right;\">\n",
       "      <th></th>\n",
       "      <th>UTILITY</th>\n",
       "      <th>STATUS_CD</th>\n",
       "      <th>CONNECTED_STATUS</th>\n",
       "      <th>COMMISSIONING</th>\n",
       "      <th>COMMUNICATING</th>\n",
       "      <th>INSERT_TIME</th>\n",
       "      <th>INSTALLATIONNO</th>\n",
       "      <th>METERNO</th>\n",
       "      <th>CONSUMERNO</th>\n",
       "    </tr>\n",
       "  </thead>\n",
       "  <tbody>\n",
       "    <tr>\n",
       "      <th>0</th>\n",
       "      <td>NBPDCL</td>\n",
       "      <td>Installed</td>\n",
       "      <td>Y</td>\n",
       "      <td>Y</td>\n",
       "      <td>Y</td>\n",
       "      <td>10-08-2019 22:06</td>\n",
       "      <td>RAMD-2987900004</td>\n",
       "      <td>GOEGP4967851</td>\n",
       "      <td>1.181010e+11</td>\n",
       "    </tr>\n",
       "  </tbody>\n",
       "</table>\n",
       "</div>"
      ],
      "text/plain": [
       "  UTILITY  STATUS_CD CONNECTED_STATUS COMMISSIONING COMMUNICATING  \\\n",
       "0  NBPDCL  Installed                Y             Y             Y   \n",
       "\n",
       "        INSERT_TIME   INSTALLATIONNO       METERNO    CONSUMERNO  \n",
       "0  10-08-2019 22:06  RAMD-2987900004  GOEGP4967851  1.181010e+11  "
      ]
     },
     "execution_count": 7,
     "metadata": {},
     "output_type": "execute_result"
    },
    {
     "ename": "",
     "evalue": "",
     "output_type": "error",
     "traceback": [
      "\u001b[1;31mnotebook controller is DISPOSED. \n",
      "\u001b[1;31mView Jupyter <a href='command:jupyter.viewOutput'>log</a> for further details."
     ]
    },
    {
     "ename": "",
     "evalue": "",
     "output_type": "error",
     "traceback": [
      "\u001b[1;31mnotebook controller is DISPOSED. \n",
      "\u001b[1;31mView Jupyter <a href='command:jupyter.viewOutput'>log</a> for further details."
     ]
    }
   ],
   "source": [
    "METER_STATUS_NB.head(1)"
   ]
  },
  {
   "cell_type": "code",
   "execution_count": null,
   "metadata": {},
   "outputs": [
    {
     "ename": "",
     "evalue": "",
     "output_type": "error",
     "traceback": [
      "\u001b[1;31mnotebook controller is DISPOSED. \n",
      "\u001b[1;31mView Jupyter <a href='command:jupyter.viewOutput'>log</a> for further details."
     ]
    },
    {
     "ename": "",
     "evalue": "",
     "output_type": "error",
     "traceback": [
      "\u001b[1;31mnotebook controller is DISPOSED. \n",
      "\u001b[1;31mView Jupyter <a href='command:jupyter.viewOutput'>log</a> for further details."
     ]
    }
   ],
   "source": [
    "ASSEST_NB = ASSEST_NB.astype(str)\n",
    "ASSEST_NB.columns = ASSEST_NB.columns.str.upper()\n",
    "ASSEST_NB = ASSEST_NB.apply(lambda x: x.str.strip() if x.dtype == 'O' else x)\n",
    "ASSEST_NB.columns = ASSEST_NB.columns.str.strip()\n",
    "\n",
    "\n",
    "\n",
    "ASSEST_SB = ASSEST_SB.astype(str)\n",
    "ASSEST_SB.columns = ASSEST_SB.columns.str.upper()\n",
    "ASSEST_SB = ASSEST_SB.apply(lambda x: x.str.strip() if x.dtype == 'O' else x)\n",
    "ASSEST_SB.columns = ASSEST_SB.columns.str.strip()\n",
    "#-------------------------------------------------------------------------------------------\n",
    "\n",
    "INFRA_SB = INFRA_SB.astype(str)\n",
    "INFRA_SB.columns = INFRA_SB.columns.str.upper()\n",
    "INFRA_SB = INFRA_SB.apply(lambda x: x.str.strip() if x.dtype == 'O' else x)\n",
    "INFRA_SB.columns = INFRA_SB.columns.str.strip()\n",
    "\n",
    "\n",
    "INFRA_NB = INFRA_NB.astype(str)\n",
    "INFRA_NB.columns = INFRA_NB.columns.str.upper()\n",
    "INFRA_NB = INFRA_NB.apply(lambda x: x.str.strip() if x.dtype == 'O' else x)\n",
    "INFRA_NB.columns = INFRA_NB.columns.str.strip()\n",
    "\n",
    "\n",
    "#-------------------------------------------------------------------------------------------\n",
    "\n",
    "METER_STATUS_NB = METER_STATUS_NB.astype(str)\n",
    "METER_STATUS_NB.columns = METER_STATUS_NB.columns.str.upper()\n",
    "METER_STATUS_NB = METER_STATUS_NB.apply(lambda x: x.str.strip() if x.dtype == 'O' else x)\n",
    "METER_STATUS_NB.columns = METER_STATUS_NB.columns.str.strip()\n",
    "\n",
    "\n",
    "METER_STATUS_SB = METER_STATUS_SB.astype(str)\n",
    "METER_STATUS_SB.columns = METER_STATUS_SB.columns.str.upper()\n",
    "METER_STATUS_SB = METER_STATUS_SB.apply(lambda x: x.str.strip() if x.dtype == 'O' else x)\n",
    "METER_STATUS_SB.columns = METER_STATUS_SB.columns.str.strip()\n"
   ]
  },
  {
   "cell_type": "code",
   "execution_count": null,
   "metadata": {},
   "outputs": [
    {
     "ename": "",
     "evalue": "",
     "output_type": "error",
     "traceback": [
      "\u001b[1;31mnotebook controller is DISPOSED. \n",
      "\u001b[1;31mView Jupyter <a href='command:jupyter.viewOutput'>log</a> for further details."
     ]
    },
    {
     "ename": "",
     "evalue": "",
     "output_type": "error",
     "traceback": [
      "\u001b[1;31mnotebook controller is DISPOSED. \n",
      "\u001b[1;31mView Jupyter <a href='command:jupyter.viewOutput'>log</a> for further details."
     ]
    }
   ],
   "source": [
    "ASSET_CONCAT_SB_NB = pd.concat([ASSEST_SB, ASSEST_NB], ignore_index=True)\n",
    "INFRA_CONCAT_SB_NB =  pd.concat([INFRA_SB,INFRA_NB],ignore_index=True)\n",
    "METER_STATUS_SB_NB =  pd.concat([METER_STATUS_SB,METER_STATUS_NB],ignore_index=True)"
   ]
  },
  {
   "cell_type": "code",
   "execution_count": null,
   "metadata": {},
   "outputs": [
    {
     "ename": "",
     "evalue": "",
     "output_type": "error",
     "traceback": [
      "\u001b[1;31mnotebook controller is DISPOSED. \n",
      "\u001b[1;31mView Jupyter <a href='command:jupyter.viewOutput'>log</a> for further details."
     ]
    },
    {
     "ename": "",
     "evalue": "",
     "output_type": "error",
     "traceback": [
      "\u001b[1;31mnotebook controller is DISPOSED. \n",
      "\u001b[1;31mView Jupyter <a href='command:jupyter.viewOutput'>log</a> for further details."
     ]
    }
   ],
   "source": [
    "# split data from .(dot)  and take only before the .(dot)\n",
    "\n",
    "METER_STATUS_SB_NB['CONSUMERNO'] = METER_STATUS_SB_NB['CONSUMERNO'].str.split('.').str[0]"
   ]
  },
  {
   "cell_type": "code",
   "execution_count": null,
   "metadata": {},
   "outputs": [
    {
     "ename": "",
     "evalue": "",
     "output_type": "error",
     "traceback": [
      "\u001b[1;31mnotebook controller is DISPOSED. \n",
      "\u001b[1;31mView Jupyter <a href='command:jupyter.viewOutput'>log</a> for further details."
     ]
    },
    {
     "ename": "",
     "evalue": "",
     "output_type": "error",
     "traceback": [
      "\u001b[1;31mnotebook controller is DISPOSED. \n",
      "\u001b[1;31mView Jupyter <a href='command:jupyter.viewOutput'>log</a> for further details."
     ]
    }
   ],
   "source": []
  },
  {
   "cell_type": "code",
   "execution_count": null,
   "metadata": {},
   "outputs": [
    {
     "data": {
      "text/html": [
       "<div>\n",
       "<style scoped>\n",
       "    .dataframe tbody tr th:only-of-type {\n",
       "        vertical-align: middle;\n",
       "    }\n",
       "\n",
       "    .dataframe tbody tr th {\n",
       "        vertical-align: top;\n",
       "    }\n",
       "\n",
       "    .dataframe thead th {\n",
       "        text-align: right;\n",
       "    }\n",
       "</style>\n",
       "<table border=\"1\" class=\"dataframe\">\n",
       "  <thead>\n",
       "    <tr style=\"text-align: right;\">\n",
       "      <th></th>\n",
       "      <th>UTILITY</th>\n",
       "      <th>STATUS_CD</th>\n",
       "      <th>CONNECTED_STATUS</th>\n",
       "      <th>COMMISSIONING</th>\n",
       "      <th>COMMUNICATING</th>\n",
       "      <th>INSERT_TIME</th>\n",
       "      <th>INSTALLATIONNO</th>\n",
       "      <th>METERNO</th>\n",
       "      <th>CONSUMERNO</th>\n",
       "    </tr>\n",
       "  </thead>\n",
       "  <tbody>\n",
       "    <tr>\n",
       "      <th>0</th>\n",
       "      <td>SBPDCL</td>\n",
       "      <td>Installed</td>\n",
       "      <td>Y</td>\n",
       "      <td>Y</td>\n",
       "      <td>Y</td>\n",
       "      <td>25-05-2022 21:13</td>\n",
       "      <td>ARWARL6055</td>\n",
       "      <td>LNTLT0581598</td>\n",
       "      <td>23230011191</td>\n",
       "    </tr>\n",
       "  </tbody>\n",
       "</table>\n",
       "</div>"
      ],
      "text/plain": [
       "  UTILITY  STATUS_CD CONNECTED_STATUS COMMISSIONING COMMUNICATING  \\\n",
       "0  SBPDCL  Installed                Y             Y             Y   \n",
       "\n",
       "        INSERT_TIME INSTALLATIONNO       METERNO   CONSUMERNO  \n",
       "0  25-05-2022 21:13     ARWARL6055  LNTLT0581598  23230011191  "
      ]
     },
     "execution_count": 11,
     "metadata": {},
     "output_type": "execute_result"
    },
    {
     "ename": "",
     "evalue": "",
     "output_type": "error",
     "traceback": [
      "\u001b[1;31mnotebook controller is DISPOSED. \n",
      "\u001b[1;31mView Jupyter <a href='command:jupyter.viewOutput'>log</a> for further details."
     ]
    },
    {
     "ename": "",
     "evalue": "",
     "output_type": "error",
     "traceback": [
      "\u001b[1;31mnotebook controller is DISPOSED. \n",
      "\u001b[1;31mView Jupyter <a href='command:jupyter.viewOutput'>log</a> for further details."
     ]
    }
   ],
   "source": [
    "METER_STATUS_SB_NB.head(1)"
   ]
  },
  {
   "cell_type": "code",
   "execution_count": null,
   "metadata": {},
   "outputs": [
    {
     "ename": "",
     "evalue": "",
     "output_type": "error",
     "traceback": [
      "\u001b[1;31mnotebook controller is DISPOSED. \n",
      "\u001b[1;31mView Jupyter <a href='command:jupyter.viewOutput'>log</a> for further details."
     ]
    },
    {
     "ename": "",
     "evalue": "",
     "output_type": "error",
     "traceback": [
      "\u001b[1;31mnotebook controller is DISPOSED. \n",
      "\u001b[1;31mView Jupyter <a href='command:jupyter.viewOutput'>log</a> for further details."
     ]
    }
   ],
   "source": [
    "# TAKE ONLY Imported&&Installed  METER\n",
    "\n",
    "INFRA_CONCAT_SB_NB = INFRA_CONCAT_SB_NB[INFRA_CONCAT_SB_NB['STATENAME']== 'Imported&&Installed']\n",
    "\n",
    "\n",
    "# droppping the unnamed column\n",
    "\n",
    "INFRA_CONCAT_SB_NB.drop(['UNNAMED: 13'], axis=1, inplace=True)"
   ]
  },
  {
   "cell_type": "code",
   "execution_count": null,
   "metadata": {},
   "outputs": [
    {
     "ename": "",
     "evalue": "",
     "output_type": "error",
     "traceback": [
      "\u001b[1;31mnotebook controller is DISPOSED. \n",
      "\u001b[1;31mView Jupyter <a href='command:jupyter.viewOutput'>log</a> for further details."
     ]
    },
    {
     "ename": "",
     "evalue": "",
     "output_type": "error",
     "traceback": [
      "\u001b[1;31mnotebook controller is DISPOSED. \n",
      "\u001b[1;31mView Jupyter <a href='command:jupyter.viewOutput'>log</a> for further details."
     ]
    }
   ],
   "source": []
  },
  {
   "cell_type": "code",
   "execution_count": null,
   "metadata": {},
   "outputs": [
    {
     "name": "stdout",
     "output_type": "stream",
     "text": [
      "INFRA_CONCAT_SB_NB :- (1518472, 13)\n",
      "ASSET_CONCAT_SB_NB :- (1873879, 8)\n",
      "METER_STATUS_SB_NB :- (1553925, 9)\n"
     ]
    },
    {
     "ename": "",
     "evalue": "",
     "output_type": "error",
     "traceback": [
      "\u001b[1;31mnotebook controller is DISPOSED. \n",
      "\u001b[1;31mView Jupyter <a href='command:jupyter.viewOutput'>log</a> for further details."
     ]
    },
    {
     "ename": "",
     "evalue": "",
     "output_type": "error",
     "traceback": [
      "\u001b[1;31mnotebook controller is DISPOSED. \n",
      "\u001b[1;31mView Jupyter <a href='command:jupyter.viewOutput'>log</a> for further details."
     ]
    }
   ],
   "source": [
    "print(f\"INFRA_CONCAT_SB_NB :- {INFRA_CONCAT_SB_NB.shape}\")\n",
    "print(f\"ASSET_CONCAT_SB_NB :- {ASSET_CONCAT_SB_NB.shape}\")\n",
    "print(f\"METER_STATUS_SB_NB :- {METER_STATUS_SB_NB.shape}\")"
   ]
  },
  {
   "cell_type": "markdown",
   "metadata": {},
   "source": [
    "# duplicate file in STATUS FILE"
   ]
  },
  {
   "cell_type": "code",
   "execution_count": null,
   "metadata": {},
   "outputs": [
    {
     "data": {
      "text/html": [
       "<div>\n",
       "<style scoped>\n",
       "    .dataframe tbody tr th:only-of-type {\n",
       "        vertical-align: middle;\n",
       "    }\n",
       "\n",
       "    .dataframe tbody tr th {\n",
       "        vertical-align: top;\n",
       "    }\n",
       "\n",
       "    .dataframe thead th {\n",
       "        text-align: right;\n",
       "    }\n",
       "</style>\n",
       "<table border=\"1\" class=\"dataframe\">\n",
       "  <thead>\n",
       "    <tr style=\"text-align: right;\">\n",
       "      <th></th>\n",
       "      <th>UTILITY</th>\n",
       "      <th>STATUS_CD</th>\n",
       "      <th>CONNECTED_STATUS</th>\n",
       "      <th>COMMISSIONING</th>\n",
       "      <th>COMMUNICATING</th>\n",
       "      <th>INSERT_TIME</th>\n",
       "      <th>INSTALLATIONNO</th>\n",
       "      <th>METERNO</th>\n",
       "      <th>CONSUMERNO</th>\n",
       "    </tr>\n",
       "  </thead>\n",
       "  <tbody>\n",
       "    <tr>\n",
       "      <th>0</th>\n",
       "      <td>SBPDCL</td>\n",
       "      <td>Installed</td>\n",
       "      <td>Y</td>\n",
       "      <td>Y</td>\n",
       "      <td>Y</td>\n",
       "      <td>25-05-2022 21:13</td>\n",
       "      <td>ARWARL6055</td>\n",
       "      <td>LNTLT0581598</td>\n",
       "      <td>23230011191</td>\n",
       "    </tr>\n",
       "    <tr>\n",
       "      <th>1</th>\n",
       "      <td>SBPDCL</td>\n",
       "      <td>Installed</td>\n",
       "      <td>N</td>\n",
       "      <td>Y</td>\n",
       "      <td>Y</td>\n",
       "      <td>06-09-2019 22:31</td>\n",
       "      <td>ARWARL6337</td>\n",
       "      <td>GOEGP4970510</td>\n",
       "      <td>23230012217</td>\n",
       "    </tr>\n",
       "    <tr>\n",
       "      <th>2</th>\n",
       "      <td>SBPDCL</td>\n",
       "      <td>Installed</td>\n",
       "      <td>N</td>\n",
       "      <td>Y</td>\n",
       "      <td>Y</td>\n",
       "      <td>11-10-2021 15:13</td>\n",
       "      <td>ARWARL9295</td>\n",
       "      <td>LNTLT0071494</td>\n",
       "      <td>23230019605</td>\n",
       "    </tr>\n",
       "    <tr>\n",
       "      <th>3</th>\n",
       "      <td>SBPDCL</td>\n",
       "      <td>Installed</td>\n",
       "      <td>Y</td>\n",
       "      <td>Y</td>\n",
       "      <td>Y</td>\n",
       "      <td>06-09-2019 22:31</td>\n",
       "      <td>ARWARL15956</td>\n",
       "      <td>GOEGP4970511</td>\n",
       "      <td>23230039685</td>\n",
       "    </tr>\n",
       "    <tr>\n",
       "      <th>4</th>\n",
       "      <td>SBPDCL</td>\n",
       "      <td>Installed</td>\n",
       "      <td>Y</td>\n",
       "      <td>Y</td>\n",
       "      <td>Y</td>\n",
       "      <td>25-06-2021 15:35</td>\n",
       "      <td>ARWARL17746</td>\n",
       "      <td>GOEGP7558986</td>\n",
       "      <td>23230043294</td>\n",
       "    </tr>\n",
       "  </tbody>\n",
       "</table>\n",
       "</div>"
      ],
      "text/plain": [
       "  UTILITY  STATUS_CD CONNECTED_STATUS COMMISSIONING COMMUNICATING  \\\n",
       "0  SBPDCL  Installed                Y             Y             Y   \n",
       "1  SBPDCL  Installed                N             Y             Y   \n",
       "2  SBPDCL  Installed                N             Y             Y   \n",
       "3  SBPDCL  Installed                Y             Y             Y   \n",
       "4  SBPDCL  Installed                Y             Y             Y   \n",
       "\n",
       "        INSERT_TIME INSTALLATIONNO       METERNO   CONSUMERNO  \n",
       "0  25-05-2022 21:13     ARWARL6055  LNTLT0581598  23230011191  \n",
       "1  06-09-2019 22:31     ARWARL6337  GOEGP4970510  23230012217  \n",
       "2  11-10-2021 15:13     ARWARL9295  LNTLT0071494  23230019605  \n",
       "3  06-09-2019 22:31    ARWARL15956  GOEGP4970511  23230039685  \n",
       "4  25-06-2021 15:35    ARWARL17746  GOEGP7558986  23230043294  "
      ]
     },
     "execution_count": 14,
     "metadata": {},
     "output_type": "execute_result"
    },
    {
     "ename": "",
     "evalue": "",
     "output_type": "error",
     "traceback": [
      "\u001b[1;31mnotebook controller is DISPOSED. \n",
      "\u001b[1;31mView Jupyter <a href='command:jupyter.viewOutput'>log</a> for further details."
     ]
    },
    {
     "ename": "",
     "evalue": "",
     "output_type": "error",
     "traceback": [
      "\u001b[1;31mnotebook controller is DISPOSED. \n",
      "\u001b[1;31mView Jupyter <a href='command:jupyter.viewOutput'>log</a> for further details."
     ]
    }
   ],
   "source": [
    "METER_STATUS_SB_NB.head()"
   ]
  },
  {
   "cell_type": "code",
   "execution_count": null,
   "metadata": {},
   "outputs": [
    {
     "ename": "",
     "evalue": "",
     "output_type": "error",
     "traceback": [
      "\u001b[1;31mnotebook controller is DISPOSED. \n",
      "\u001b[1;31mView Jupyter <a href='command:jupyter.viewOutput'>log</a> for further details."
     ]
    },
    {
     "ename": "",
     "evalue": "",
     "output_type": "error",
     "traceback": [
      "\u001b[1;31mnotebook controller is DISPOSED. \n",
      "\u001b[1;31mView Jupyter <a href='command:jupyter.viewOutput'>log</a> for further details."
     ]
    }
   ],
   "source": [
    "METER_STATUS_SB_NB['UTILITY']= METER_STATUS_SB_NB['UTILITY'].str.upper()\n",
    "\n",
    "#  DUPLICATE DATA\n",
    "METER_STATUS_SB_NB['Duplicated'] = METER_STATUS_SB_NB.duplicated(subset=['METERNO']).map({True: 'Duplicated', False: 'Unique'})\n",
    "\n",
    "\n",
    "# STORE DATA IN  METER_STATUS_SB_NB_DUPLICATED_DATA\n",
    "#METER_STATUS_SB_NB_DUPLICATED_DATA = METER_STATUS_SB_NB[METER_STATUS_SB_NB.duplicated(subset=['METERNO'],keep=False)].sort_values(by = ['METERNO','INSERT_TIME'],ascending=[True,False])"
   ]
  },
  {
   "cell_type": "code",
   "execution_count": null,
   "metadata": {},
   "outputs": [
    {
     "ename": "",
     "evalue": "",
     "output_type": "error",
     "traceback": [
      "\u001b[1;31mnotebook controller is DISPOSED. \n",
      "\u001b[1;31mView Jupyter <a href='command:jupyter.viewOutput'>log</a> for further details."
     ]
    },
    {
     "ename": "",
     "evalue": "",
     "output_type": "error",
     "traceback": [
      "\u001b[1;31mnotebook controller is DISPOSED. \n",
      "\u001b[1;31mView Jupyter <a href='command:jupyter.viewOutput'>log</a> for further details."
     ]
    }
   ],
   "source": [
    "\n",
    "# Sorting the DataFrame by 'METERNO' and 'INSERT_TIME' in descending order of time\n",
    "METER_STATUS_SB_NB.sort_values(by=['METERNO', 'INSERT_TIME'], ascending=[True, False],inplace=True)\n",
    "\n",
    "# Dropping duplicated rows based on 'METERNO' while keeping the first occurrence (which has the latest 'INSERT_TIME')\n",
    "METER_STATUS_SB_NB.drop_duplicates(subset=['METERNO'], keep='first', inplace=True)\n",
    "\n",
    "\n",
    "# drop duplicated column  in meter  status file\n",
    "METER_STATUS_SB_NB.drop(['Duplicated'],axis=1, inplace = True)"
   ]
  },
  {
   "cell_type": "code",
   "execution_count": null,
   "metadata": {},
   "outputs": [
    {
     "ename": "",
     "evalue": "",
     "output_type": "error",
     "traceback": [
      "\u001b[1;31mnotebook controller is DISPOSED. \n",
      "\u001b[1;31mView Jupyter <a href='command:jupyter.viewOutput'>log</a> for further details."
     ]
    },
    {
     "ename": "",
     "evalue": "",
     "output_type": "error",
     "traceback": [
      "\u001b[1;31mnotebook controller is DISPOSED. \n",
      "\u001b[1;31mView Jupyter <a href='command:jupyter.viewOutput'>log</a> for further details."
     ]
    }
   ],
   "source": [
    "# METER STATUS SORT BY INSERT_TIME\n",
    "\n",
    "#METER_STATUS_SB_NB.sort_values(by=['INSERT_TIME'],ascending=False,inplace=True)\n",
    "\n",
    "#METER_STATUS_SB_NB = METER_STATUS_SB_NB[METER_STATUS_SB_NB.duplicated(subset=['METERNO'],keep=False)].sort_values(by = ['METERNO','CONNECTED_STATUS'],ascending=[True,False])\n",
    "\n",
    "#METER_STATUS_SB_NB['Duplicated'] = METER_STATUS_SB_NB.duplicated(subset=['METERNO']).map({True: 'Duplicated', False: 'Unique'})\n",
    "\n",
    "#METER_STATUS_SB_NB.sort_values(by=['METERNO','Duplicated'],ascending=[False,False],inplace=True)\n",
    "\n",
    "#METER_STATUS_SB_NB.to_csv(r\"C:\\Users\\Ratan Kumar Jha\\Desktop\\hes_mdm\\OUTPUT FOLDER\\check_duplicated_meter_Status_data_installation.csv\")\n",
    "\n",
    "\n",
    "#check_duplicated_meter_Status_data_installation=METER_STATUS_SB_NB[METER_STATUS_SB_NB.duplicated(subset=['INSTALLATIONNO'],keep=False)].sort_values(by=['INSTALLATIONNO','INSERT_TIME'],ascending=[False,False])\n",
    "\n",
    "\n",
    "#check_duplicated_meter_Status_data_installation['Duplicated'] = check_duplicated_meter_Status_data_installation.duplicated(subset=['INSTALLATIONNO']).map({True: 'Duplicated', False: 'Unique'})\n",
    "#check_duplicated_meter_Status_data_installation.to_csv(r\"C:\\Users\\Ratan Kumar Jha\\Desktop\\hes_mdm\\OUTPUT FOLDER\\check_duplicated_meter_Status_data_installation.csv\")"
   ]
  },
  {
   "cell_type": "markdown",
   "metadata": {},
   "source": [
    "# extra"
   ]
  },
  {
   "cell_type": "code",
   "execution_count": null,
   "metadata": {},
   "outputs": [
    {
     "ename": "",
     "evalue": "",
     "output_type": "error",
     "traceback": [
      "\u001b[1;31mnotebook controller is DISPOSED. \n",
      "\u001b[1;31mView Jupyter <a href='command:jupyter.viewOutput'>log</a> for further details."
     ]
    },
    {
     "ename": "",
     "evalue": "",
     "output_type": "error",
     "traceback": [
      "\u001b[1;31mnotebook controller is DISPOSED. \n",
      "\u001b[1;31mView Jupyter <a href='command:jupyter.viewOutput'>log</a> for further details."
     ]
    }
   ],
   "source": [
    "#check_Data_meter_Status = METER_STATUS_SB_NB[METER_STATUS_SB_NB.duplicated(subset=['METERNO'],keep=False)].sort_values(by = ['METERNO','CONNECTED_STATUS'],ascending=[True,False])\n",
    "\n",
    "#check_Data_meter_Status['Duplicated'] = check_Data_meter_Status.duplicated(subset=['METERNO']).map({True: 'Duplicated', False: 'Unique'})\n",
    "\n",
    "# check_Data_meter_Status.to_csv(r\"C:\\Users\\Ratan Kumar Jha\\Desktop\\hes_mdm\\OUTPUT FOLDER\\check_Data_meter_Status.csv\")"
   ]
  },
  {
   "cell_type": "code",
   "execution_count": null,
   "metadata": {},
   "outputs": [
    {
     "ename": "",
     "evalue": "",
     "output_type": "error",
     "traceback": [
      "\u001b[1;31mnotebook controller is DISPOSED. \n",
      "\u001b[1;31mView Jupyter <a href='command:jupyter.viewOutput'>log</a> for further details."
     ]
    },
    {
     "ename": "",
     "evalue": "",
     "output_type": "error",
     "traceback": [
      "\u001b[1;31mnotebook controller is DISPOSED. \n",
      "\u001b[1;31mView Jupyter <a href='command:jupyter.viewOutput'>log</a> for further details."
     ]
    }
   ],
   "source": [
    "#INFRA_CONCAT_SB_NB[INFRA_CONCAT_SB_NB.duplicated(subset=['UTILITYDEVICEID'],keep=False)]"
   ]
  },
  {
   "cell_type": "markdown",
   "metadata": {},
   "source": [
    "# create a new column with duplicated"
   ]
  },
  {
   "cell_type": "code",
   "execution_count": null,
   "metadata": {},
   "outputs": [
    {
     "ename": "",
     "evalue": "",
     "output_type": "error",
     "traceback": [
      "\u001b[1;31mnotebook controller is DISPOSED. \n",
      "\u001b[1;31mView Jupyter <a href='command:jupyter.viewOutput'>log</a> for further details."
     ]
    },
    {
     "ename": "",
     "evalue": "",
     "output_type": "error",
     "traceback": [
      "\u001b[1;31mnotebook controller is DISPOSED. \n",
      "\u001b[1;31mView Jupyter <a href='command:jupyter.viewOutput'>log</a> for further details."
     ]
    }
   ],
   "source": [
    "INFRA_CONCAT_SB_NB['Duplicated_infra'] = INFRA_CONCAT_SB_NB.duplicated(subset=['UTILITYDEVICEID']).map({True: 'Duplicated', False: 'Unique'})\n",
    "METER_STATUS_SB_NB['Duplicated_meter'] = METER_STATUS_SB_NB.duplicated(subset=['METERNO']).map({True: 'Duplicated', False: 'Unique'})\n",
    "ASSET_CONCAT_SB_NB['Duplicated_asset'] = ASSET_CONCAT_SB_NB.duplicated(subset=['METERNUMBER']).map({True: 'Duplicated', False: 'Unique'})"
   ]
  },
  {
   "cell_type": "code",
   "execution_count": null,
   "metadata": {},
   "outputs": [
    {
     "ename": "",
     "evalue": "",
     "output_type": "error",
     "traceback": [
      "\u001b[1;31mnotebook controller is DISPOSED. \n",
      "\u001b[1;31mView Jupyter <a href='command:jupyter.viewOutput'>log</a> for further details."
     ]
    },
    {
     "ename": "",
     "evalue": "",
     "output_type": "error",
     "traceback": [
      "\u001b[1;31mnotebook controller is DISPOSED. \n",
      "\u001b[1;31mView Jupyter <a href='command:jupyter.viewOutput'>log</a> for further details."
     ]
    }
   ],
   "source": [
    "METER_STATUS_SB_NB.sort_values(by='INSERT_TIME',ascending=False,inplace=True)"
   ]
  },
  {
   "cell_type": "code",
   "execution_count": null,
   "metadata": {},
   "outputs": [
    {
     "ename": "",
     "evalue": "",
     "output_type": "error",
     "traceback": [
      "\u001b[1;31mnotebook controller is DISPOSED. \n",
      "\u001b[1;31mView Jupyter <a href='command:jupyter.viewOutput'>log</a> for further details."
     ]
    },
    {
     "ename": "",
     "evalue": "",
     "output_type": "error",
     "traceback": [
      "\u001b[1;31mnotebook controller is DISPOSED. \n",
      "\u001b[1;31mView Jupyter <a href='command:jupyter.viewOutput'>log</a> for further details."
     ]
    }
   ],
   "source": [
    "#INFRA_CONCAT_SB_NB.drop(['Duplicated'], axis=1, inplace=True)\n",
    "#METER_STATUS_SB_NB.drop(['Duplicated'], axis=1, inplace=True)\n",
    "#ASSET_CONCAT_SB_NB.drop(['Duplicated'], axis=1, inplace=True)"
   ]
  },
  {
   "cell_type": "code",
   "execution_count": null,
   "metadata": {},
   "outputs": [
    {
     "data": {
      "text/html": [
       "<div>\n",
       "<style scoped>\n",
       "    .dataframe tbody tr th:only-of-type {\n",
       "        vertical-align: middle;\n",
       "    }\n",
       "\n",
       "    .dataframe tbody tr th {\n",
       "        vertical-align: top;\n",
       "    }\n",
       "\n",
       "    .dataframe thead th {\n",
       "        text-align: right;\n",
       "    }\n",
       "</style>\n",
       "<table border=\"1\" class=\"dataframe\">\n",
       "  <thead>\n",
       "    <tr style=\"text-align: right;\">\n",
       "      <th></th>\n",
       "      <th>UTILITY</th>\n",
       "      <th>STATUS_CD</th>\n",
       "      <th>CONNECTED_STATUS</th>\n",
       "      <th>COMMISSIONING</th>\n",
       "      <th>COMMUNICATING</th>\n",
       "      <th>INSERT_TIME</th>\n",
       "      <th>INSTALLATIONNO</th>\n",
       "      <th>METERNO</th>\n",
       "      <th>CONSUMERNO</th>\n",
       "      <th>Duplicated_meter</th>\n",
       "    </tr>\n",
       "  </thead>\n",
       "  <tbody>\n",
       "    <tr>\n",
       "      <th>830749</th>\n",
       "      <td>SBPDCL</td>\n",
       "      <td>Installed</td>\n",
       "      <td>Y</td>\n",
       "      <td>nan</td>\n",
       "      <td>Y</td>\n",
       "      <td>31-12-2023 20:09</td>\n",
       "      <td>5004099635</td>\n",
       "      <td>GOEGP5077325</td>\n",
       "      <td>108736274</td>\n",
       "      <td>Unique</td>\n",
       "    </tr>\n",
       "  </tbody>\n",
       "</table>\n",
       "</div>"
      ],
      "text/plain": [
       "       UTILITY  STATUS_CD CONNECTED_STATUS COMMISSIONING COMMUNICATING  \\\n",
       "830749  SBPDCL  Installed                Y           nan             Y   \n",
       "\n",
       "             INSERT_TIME INSTALLATIONNO       METERNO CONSUMERNO  \\\n",
       "830749  31-12-2023 20:09     5004099635  GOEGP5077325  108736274   \n",
       "\n",
       "       Duplicated_meter  \n",
       "830749           Unique  "
      ]
     },
     "execution_count": 23,
     "metadata": {},
     "output_type": "execute_result"
    },
    {
     "ename": "",
     "evalue": "",
     "output_type": "error",
     "traceback": [
      "\u001b[1;31mnotebook controller is DISPOSED. \n",
      "\u001b[1;31mView Jupyter <a href='command:jupyter.viewOutput'>log</a> for further details."
     ]
    },
    {
     "ename": "",
     "evalue": "",
     "output_type": "error",
     "traceback": [
      "\u001b[1;31mnotebook controller is DISPOSED. \n",
      "\u001b[1;31mView Jupyter <a href='command:jupyter.viewOutput'>log</a> for further details."
     ]
    }
   ],
   "source": [
    "METER_STATUS_SB_NB.head(1)"
   ]
  },
  {
   "cell_type": "code",
   "execution_count": null,
   "metadata": {},
   "outputs": [
    {
     "data": {
      "text/html": [
       "<div>\n",
       "<style scoped>\n",
       "    .dataframe tbody tr th:only-of-type {\n",
       "        vertical-align: middle;\n",
       "    }\n",
       "\n",
       "    .dataframe tbody tr th {\n",
       "        vertical-align: top;\n",
       "    }\n",
       "\n",
       "    .dataframe thead th {\n",
       "        text-align: right;\n",
       "    }\n",
       "</style>\n",
       "<table border=\"1\" class=\"dataframe\">\n",
       "  <thead>\n",
       "    <tr style=\"text-align: right;\">\n",
       "      <th></th>\n",
       "      <th>METERNUMBER</th>\n",
       "      <th>MFG_SERIAL_NUM</th>\n",
       "      <th>UDC_ID</th>\n",
       "      <th>NETWORK_ID</th>\n",
       "      <th>INSTALLATIONNUMBER</th>\n",
       "      <th>STATUS</th>\n",
       "      <th>INSERT_TIME</th>\n",
       "      <th>DECODE(D.ORG_ID,52,'SBPDCL',102,'NBPDCL')</th>\n",
       "      <th>Duplicated_asset</th>\n",
       "    </tr>\n",
       "  </thead>\n",
       "  <tbody>\n",
       "    <tr>\n",
       "      <th>0</th>\n",
       "      <td>GOEGP4970294</td>\n",
       "      <td>GP4970294</td>\n",
       "      <td>404759210464358</td>\n",
       "      <td>2001:4490:0800:5F25:0000:0000:0000:0001</td>\n",
       "      <td>nan</td>\n",
       "      <td>Meter Shop</td>\n",
       "      <td>8/7/2019 1:26:44 PM</td>\n",
       "      <td>SBPDCL</td>\n",
       "      <td>Unique</td>\n",
       "    </tr>\n",
       "  </tbody>\n",
       "</table>\n",
       "</div>"
      ],
      "text/plain": [
       "    METERNUMBER MFG_SERIAL_NUM           UDC_ID  \\\n",
       "0  GOEGP4970294      GP4970294  404759210464358   \n",
       "\n",
       "                                NETWORK_ID INSTALLATIONNUMBER      STATUS  \\\n",
       "0  2001:4490:0800:5F25:0000:0000:0000:0001                nan  Meter Shop   \n",
       "\n",
       "           INSERT_TIME DECODE(D.ORG_ID,52,'SBPDCL',102,'NBPDCL')  \\\n",
       "0  8/7/2019 1:26:44 PM                                    SBPDCL   \n",
       "\n",
       "  Duplicated_asset  \n",
       "0           Unique  "
      ]
     },
     "execution_count": 24,
     "metadata": {},
     "output_type": "execute_result"
    },
    {
     "ename": "",
     "evalue": "",
     "output_type": "error",
     "traceback": [
      "\u001b[1;31mnotebook controller is DISPOSED. \n",
      "\u001b[1;31mView Jupyter <a href='command:jupyter.viewOutput'>log</a> for further details."
     ]
    },
    {
     "ename": "",
     "evalue": "",
     "output_type": "error",
     "traceback": [
      "\u001b[1;31mnotebook controller is DISPOSED. \n",
      "\u001b[1;31mView Jupyter <a href='command:jupyter.viewOutput'>log</a> for further details."
     ]
    }
   ],
   "source": [
    "ASSET_CONCAT_SB_NB.head(1)"
   ]
  },
  {
   "cell_type": "code",
   "execution_count": null,
   "metadata": {},
   "outputs": [
    {
     "data": {
      "text/plain": [
       "(1553663, 10)"
      ]
     },
     "execution_count": 25,
     "metadata": {},
     "output_type": "execute_result"
    },
    {
     "ename": "",
     "evalue": "",
     "output_type": "error",
     "traceback": [
      "\u001b[1;31mnotebook controller is DISPOSED. \n",
      "\u001b[1;31mView Jupyter <a href='command:jupyter.viewOutput'>log</a> for further details."
     ]
    },
    {
     "ename": "",
     "evalue": "",
     "output_type": "error",
     "traceback": [
      "\u001b[1;31mnotebook controller is DISPOSED. \n",
      "\u001b[1;31mView Jupyter <a href='command:jupyter.viewOutput'>log</a> for further details."
     ]
    }
   ],
   "source": [
    "METER_STATUS_SB_NB.shape"
   ]
  },
  {
   "cell_type": "markdown",
   "metadata": {},
   "source": [
    "# Merging meter status and asset file"
   ]
  },
  {
   "cell_type": "code",
   "execution_count": null,
   "metadata": {},
   "outputs": [
    {
     "ename": "",
     "evalue": "",
     "output_type": "error",
     "traceback": [
      "\u001b[1;31mnotebook controller is DISPOSED. \n",
      "\u001b[1;31mView Jupyter <a href='command:jupyter.viewOutput'>log</a> for further details."
     ]
    },
    {
     "ename": "",
     "evalue": "",
     "output_type": "error",
     "traceback": [
      "\u001b[1;31mnotebook controller is DISPOSED. \n",
      "\u001b[1;31mView Jupyter <a href='command:jupyter.viewOutput'>log</a> for further details."
     ]
    }
   ],
   "source": [
    "#  merge status and asset file\n",
    "\n",
    "MERGE_METER_ASSET_STATUS_NB_SB = pd.merge(METER_STATUS_SB_NB[['UTILITY','STATUS_CD','INSERT_TIME','INSTALLATIONNO','METERNO','CONSUMERNO']], ASSET_CONCAT_SB_NB[['METERNUMBER','INSTALLATIONNUMBER','NETWORK_ID']], left_on=['METERNO','INSTALLATIONNO'], right_on=['METERNUMBER','INSTALLATIONNUMBER'], how='left')"
   ]
  },
  {
   "cell_type": "code",
   "execution_count": null,
   "metadata": {},
   "outputs": [
    {
     "data": {
      "text/plain": [
       "(1582566, 9)"
      ]
     },
     "execution_count": 27,
     "metadata": {},
     "output_type": "execute_result"
    },
    {
     "ename": "",
     "evalue": "",
     "output_type": "error",
     "traceback": [
      "\u001b[1;31mnotebook controller is DISPOSED. \n",
      "\u001b[1;31mView Jupyter <a href='command:jupyter.viewOutput'>log</a> for further details."
     ]
    },
    {
     "ename": "",
     "evalue": "",
     "output_type": "error",
     "traceback": [
      "\u001b[1;31mnotebook controller is DISPOSED. \n",
      "\u001b[1;31mView Jupyter <a href='command:jupyter.viewOutput'>log</a> for further details."
     ]
    }
   ],
   "source": [
    "MERGE_METER_ASSET_STATUS_NB_SB.shape"
   ]
  },
  {
   "cell_type": "code",
   "execution_count": null,
   "metadata": {},
   "outputs": [
    {
     "ename": "",
     "evalue": "",
     "output_type": "error",
     "traceback": [
      "\u001b[1;31mnotebook controller is DISPOSED. \n",
      "\u001b[1;31mView Jupyter <a href='command:jupyter.viewOutput'>log</a> for further details."
     ]
    },
    {
     "ename": "",
     "evalue": "",
     "output_type": "error",
     "traceback": [
      "\u001b[1;31mnotebook controller is DISPOSED. \n",
      "\u001b[1;31mView Jupyter <a href='command:jupyter.viewOutput'>log</a> for further details."
     ]
    }
   ],
   "source": [
    "MERGE_METER_ASSET_STATUS_NB_SB['Duplicated_status'] = MERGE_METER_ASSET_STATUS_NB_SB.duplicated(subset=['METERNO']).map({True: 'Duplicated', False: 'Unique'})"
   ]
  },
  {
   "cell_type": "code",
   "execution_count": null,
   "metadata": {},
   "outputs": [
    {
     "data": {
      "text/html": [
       "<div>\n",
       "<style scoped>\n",
       "    .dataframe tbody tr th:only-of-type {\n",
       "        vertical-align: middle;\n",
       "    }\n",
       "\n",
       "    .dataframe tbody tr th {\n",
       "        vertical-align: top;\n",
       "    }\n",
       "\n",
       "    .dataframe thead th {\n",
       "        text-align: right;\n",
       "    }\n",
       "</style>\n",
       "<table border=\"1\" class=\"dataframe\">\n",
       "  <thead>\n",
       "    <tr style=\"text-align: right;\">\n",
       "      <th></th>\n",
       "      <th>UTILITY</th>\n",
       "      <th>STATUS_CD</th>\n",
       "      <th>INSERT_TIME</th>\n",
       "      <th>INSTALLATIONNO</th>\n",
       "      <th>METERNO</th>\n",
       "      <th>CONSUMERNO</th>\n",
       "      <th>METERNUMBER</th>\n",
       "      <th>INSTALLATIONNUMBER</th>\n",
       "      <th>NETWORK_ID</th>\n",
       "      <th>Duplicated_status</th>\n",
       "    </tr>\n",
       "  </thead>\n",
       "  <tbody>\n",
       "    <tr>\n",
       "      <th>0</th>\n",
       "      <td>SBPDCL</td>\n",
       "      <td>Installed</td>\n",
       "      <td>31-12-2023 20:09</td>\n",
       "      <td>5004099635</td>\n",
       "      <td>GOEGP5077325</td>\n",
       "      <td>108736274</td>\n",
       "      <td>GOEGP5077325</td>\n",
       "      <td>5004099635</td>\n",
       "      <td>fd00:0000:0800:D16C:0000:0000:0000:0001</td>\n",
       "      <td>Unique</td>\n",
       "    </tr>\n",
       "    <tr>\n",
       "      <th>1</th>\n",
       "      <td>SBPDCL</td>\n",
       "      <td>Installed</td>\n",
       "      <td>31-12-2023 20:09</td>\n",
       "      <td>5004099635</td>\n",
       "      <td>GOEGP5077325</td>\n",
       "      <td>108736274</td>\n",
       "      <td>GOEGP5077325</td>\n",
       "      <td>5004099635</td>\n",
       "      <td>2001:4490:0800:8C72:0000:0000:0000:0001</td>\n",
       "      <td>Duplicated</td>\n",
       "    </tr>\n",
       "    <tr>\n",
       "      <th>2</th>\n",
       "      <td>SBPDCL</td>\n",
       "      <td>Installed</td>\n",
       "      <td>31-12-2023 20:09</td>\n",
       "      <td>5003955493</td>\n",
       "      <td>GOEGP5026631</td>\n",
       "      <td>108747603</td>\n",
       "      <td>GOEGP5026631</td>\n",
       "      <td>5003955493</td>\n",
       "      <td>fd00:0000:0800:3862:0000:0000:0000:0001</td>\n",
       "      <td>Unique</td>\n",
       "    </tr>\n",
       "    <tr>\n",
       "      <th>3</th>\n",
       "      <td>SBPDCL</td>\n",
       "      <td>Installed</td>\n",
       "      <td>31-12-2023 20:09</td>\n",
       "      <td>5003955493</td>\n",
       "      <td>GOEGP5026631</td>\n",
       "      <td>108747603</td>\n",
       "      <td>GOEGP5026631</td>\n",
       "      <td>5003955493</td>\n",
       "      <td>fd00:0000:0800:CC69:0000:0000:0000:0001</td>\n",
       "      <td>Duplicated</td>\n",
       "    </tr>\n",
       "    <tr>\n",
       "      <th>4</th>\n",
       "      <td>SBPDCL</td>\n",
       "      <td>Installed</td>\n",
       "      <td>31-12-2023 20:09</td>\n",
       "      <td>5004056834</td>\n",
       "      <td>GOEGP5063780</td>\n",
       "      <td>108748486</td>\n",
       "      <td>GOEGP5063780</td>\n",
       "      <td>5004056834</td>\n",
       "      <td>fd00:0000:0800:D21B:0000:0000:0000:0001</td>\n",
       "      <td>Unique</td>\n",
       "    </tr>\n",
       "    <tr>\n",
       "      <th>...</th>\n",
       "      <td>...</td>\n",
       "      <td>...</td>\n",
       "      <td>...</td>\n",
       "      <td>...</td>\n",
       "      <td>...</td>\n",
       "      <td>...</td>\n",
       "      <td>...</td>\n",
       "      <td>...</td>\n",
       "      <td>...</td>\n",
       "      <td>...</td>\n",
       "    </tr>\n",
       "    <tr>\n",
       "      <th>1582135</th>\n",
       "      <td>SBPDCL</td>\n",
       "      <td>Installed</td>\n",
       "      <td>01-01-2024 12:09</td>\n",
       "      <td>5004027287</td>\n",
       "      <td>GOEGP5065101</td>\n",
       "      <td>108736940</td>\n",
       "      <td>GOEGP5065101</td>\n",
       "      <td>5004027287</td>\n",
       "      <td>2001:4490:0800:492E:0000:0000:0000:0001</td>\n",
       "      <td>Duplicated</td>\n",
       "    </tr>\n",
       "    <tr>\n",
       "      <th>1582136</th>\n",
       "      <td>SBPDCL</td>\n",
       "      <td>Installed</td>\n",
       "      <td>01-01-2024 12:09</td>\n",
       "      <td>5003988854</td>\n",
       "      <td>GOEGP5048963</td>\n",
       "      <td>108747511</td>\n",
       "      <td>GOEGP5048963</td>\n",
       "      <td>5003988854</td>\n",
       "      <td>2001:4490:0800:5096:0000:0000:0000:0001</td>\n",
       "      <td>Unique</td>\n",
       "    </tr>\n",
       "    <tr>\n",
       "      <th>1582137</th>\n",
       "      <td>SBPDCL</td>\n",
       "      <td>Installed</td>\n",
       "      <td>01-01-2024 12:09</td>\n",
       "      <td>5003988854</td>\n",
       "      <td>GOEGP5048963</td>\n",
       "      <td>108747511</td>\n",
       "      <td>GOEGP5048963</td>\n",
       "      <td>5003988854</td>\n",
       "      <td>fd00:0000:0800:D9F0:0000:0000:0000:0001</td>\n",
       "      <td>Duplicated</td>\n",
       "    </tr>\n",
       "    <tr>\n",
       "      <th>1582138</th>\n",
       "      <td>SBPDCL</td>\n",
       "      <td>Installed</td>\n",
       "      <td>01-01-2024 12:09</td>\n",
       "      <td>5003980282</td>\n",
       "      <td>GOEGP5070872</td>\n",
       "      <td>108747626</td>\n",
       "      <td>GOEGP5070872</td>\n",
       "      <td>5003980282</td>\n",
       "      <td>fd00:0000:0800:D9B2:0000:0000:0000:0001</td>\n",
       "      <td>Unique</td>\n",
       "    </tr>\n",
       "    <tr>\n",
       "      <th>1582139</th>\n",
       "      <td>SBPDCL</td>\n",
       "      <td>Installed</td>\n",
       "      <td>01-01-2024 12:09</td>\n",
       "      <td>5003980282</td>\n",
       "      <td>GOEGP5070872</td>\n",
       "      <td>108747626</td>\n",
       "      <td>GOEGP5070872</td>\n",
       "      <td>5003980282</td>\n",
       "      <td>2001:4490:0802:9553:0000:0000:0000:0001</td>\n",
       "      <td>Duplicated</td>\n",
       "    </tr>\n",
       "  </tbody>\n",
       "</table>\n",
       "<p>56213 rows × 10 columns</p>\n",
       "</div>"
      ],
      "text/plain": [
       "        UTILITY  STATUS_CD       INSERT_TIME INSTALLATIONNO       METERNO  \\\n",
       "0        SBPDCL  Installed  31-12-2023 20:09     5004099635  GOEGP5077325   \n",
       "1        SBPDCL  Installed  31-12-2023 20:09     5004099635  GOEGP5077325   \n",
       "2        SBPDCL  Installed  31-12-2023 20:09     5003955493  GOEGP5026631   \n",
       "3        SBPDCL  Installed  31-12-2023 20:09     5003955493  GOEGP5026631   \n",
       "4        SBPDCL  Installed  31-12-2023 20:09     5004056834  GOEGP5063780   \n",
       "...         ...        ...               ...            ...           ...   \n",
       "1582135  SBPDCL  Installed  01-01-2024 12:09     5004027287  GOEGP5065101   \n",
       "1582136  SBPDCL  Installed  01-01-2024 12:09     5003988854  GOEGP5048963   \n",
       "1582137  SBPDCL  Installed  01-01-2024 12:09     5003988854  GOEGP5048963   \n",
       "1582138  SBPDCL  Installed  01-01-2024 12:09     5003980282  GOEGP5070872   \n",
       "1582139  SBPDCL  Installed  01-01-2024 12:09     5003980282  GOEGP5070872   \n",
       "\n",
       "        CONSUMERNO   METERNUMBER INSTALLATIONNUMBER  \\\n",
       "0        108736274  GOEGP5077325         5004099635   \n",
       "1        108736274  GOEGP5077325         5004099635   \n",
       "2        108747603  GOEGP5026631         5003955493   \n",
       "3        108747603  GOEGP5026631         5003955493   \n",
       "4        108748486  GOEGP5063780         5004056834   \n",
       "...            ...           ...                ...   \n",
       "1582135  108736940  GOEGP5065101         5004027287   \n",
       "1582136  108747511  GOEGP5048963         5003988854   \n",
       "1582137  108747511  GOEGP5048963         5003988854   \n",
       "1582138  108747626  GOEGP5070872         5003980282   \n",
       "1582139  108747626  GOEGP5070872         5003980282   \n",
       "\n",
       "                                      NETWORK_ID Duplicated_status  \n",
       "0        fd00:0000:0800:D16C:0000:0000:0000:0001            Unique  \n",
       "1        2001:4490:0800:8C72:0000:0000:0000:0001        Duplicated  \n",
       "2        fd00:0000:0800:3862:0000:0000:0000:0001            Unique  \n",
       "3        fd00:0000:0800:CC69:0000:0000:0000:0001        Duplicated  \n",
       "4        fd00:0000:0800:D21B:0000:0000:0000:0001            Unique  \n",
       "...                                          ...               ...  \n",
       "1582135  2001:4490:0800:492E:0000:0000:0000:0001        Duplicated  \n",
       "1582136  2001:4490:0800:5096:0000:0000:0000:0001            Unique  \n",
       "1582137  fd00:0000:0800:D9F0:0000:0000:0000:0001        Duplicated  \n",
       "1582138  fd00:0000:0800:D9B2:0000:0000:0000:0001            Unique  \n",
       "1582139  2001:4490:0802:9553:0000:0000:0000:0001        Duplicated  \n",
       "\n",
       "[56213 rows x 10 columns]"
      ]
     },
     "execution_count": 32,
     "metadata": {},
     "output_type": "execute_result"
    },
    {
     "ename": "",
     "evalue": "",
     "output_type": "error",
     "traceback": [
      "\u001b[1;31mnotebook controller is DISPOSED. \n",
      "\u001b[1;31mView Jupyter <a href='command:jupyter.viewOutput'>log</a> for further details."
     ]
    },
    {
     "ename": "",
     "evalue": "",
     "output_type": "error",
     "traceback": [
      "\u001b[1;31mnotebook controller is DISPOSED. \n",
      "\u001b[1;31mView Jupyter <a href='command:jupyter.viewOutput'>log</a> for further details."
     ]
    }
   ],
   "source": [
    "MERGE_METER_ASSET_STATUS_NB_SB[MERGE_METER_ASSET_STATUS_NB_SB.duplicated(subset=['METERNO'],keep=False)]"
   ]
  },
  {
   "cell_type": "code",
   "execution_count": null,
   "metadata": {},
   "outputs": [
    {
     "ename": "",
     "evalue": "",
     "output_type": "error",
     "traceback": [
      "\u001b[1;31mnotebook controller is DISPOSED. \n",
      "\u001b[1;31mView Jupyter <a href='command:jupyter.viewOutput'>log</a> for further details."
     ]
    },
    {
     "ename": "",
     "evalue": "",
     "output_type": "error",
     "traceback": [
      "\u001b[1;31mnotebook controller is DISPOSED. \n",
      "\u001b[1;31mView Jupyter <a href='command:jupyter.viewOutput'>log</a> for further details."
     ]
    }
   ],
   "source": [
    "MERGE_METER_ASSET_STATUS_NB_SB.rename(\n",
    "    columns = {\"UTILITY\":\"MDM_UTILITY\",\"STATUS_CD\": \"MDM_STATUS_CD\",\n",
    "    \"INSERT_TIME\":\"MDM_INSERT_TIME\",\"INSTALLATIONNO\":\"MDM_INSTALLATIONNO\",\n",
    "    \"METERNO\":\"MDM_METERNO\",\"CONSUMERNO\":\"MDM_CONSUMERNO\",\"METERNUMBER\":\"MDM_ASSET_METERNUMBER\",\n",
    "    \"INSTALLATIONNUMBER\":\"MDM_ASSET_INSTALLATIONNUMBER\",\"NETWORK_ID\":\"MDM_IP\",\"Duplicated_status\":\"MDM_DUPLICATE\"},\n",
    "    inplace=True\n",
    ")\n"
   ]
  },
  {
   "cell_type": "code",
   "execution_count": null,
   "metadata": {},
   "outputs": [
    {
     "data": {
      "text/plain": [
       "(1582566, 10)"
      ]
     },
     "execution_count": 36,
     "metadata": {},
     "output_type": "execute_result"
    },
    {
     "ename": "",
     "evalue": "",
     "output_type": "error",
     "traceback": [
      "\u001b[1;31mnotebook controller is DISPOSED. \n",
      "\u001b[1;31mView Jupyter <a href='command:jupyter.viewOutput'>log</a> for further details."
     ]
    },
    {
     "ename": "",
     "evalue": "",
     "output_type": "error",
     "traceback": [
      "\u001b[1;31mnotebook controller is DISPOSED. \n",
      "\u001b[1;31mView Jupyter <a href='command:jupyter.viewOutput'>log</a> for further details."
     ]
    }
   ],
   "source": [
    "MERGE_METER_ASSET_STATUS_NB_SB.shape"
   ]
  },
  {
   "cell_type": "code",
   "execution_count": null,
   "metadata": {},
   "outputs": [
    {
     "name": "stdout",
     "output_type": "stream",
     "text": [
      "MDM_METER_ASSET_STATUS_NB SHAPE : (687913, 10)\n",
      "MDM_METER_ASSET_STATUS_SB SHAPE : (894653, 10)\n"
     ]
    },
    {
     "ename": "",
     "evalue": "",
     "output_type": "error",
     "traceback": [
      "\u001b[1;31mnotebook controller is DISPOSED. \n",
      "\u001b[1;31mView Jupyter <a href='command:jupyter.viewOutput'>log</a> for further details."
     ]
    },
    {
     "ename": "",
     "evalue": "",
     "output_type": "error",
     "traceback": [
      "\u001b[1;31mnotebook controller is DISPOSED. \n",
      "\u001b[1;31mView Jupyter <a href='command:jupyter.viewOutput'>log</a> for further details."
     ]
    }
   ],
   "source": [
    "MDM_METER_ASSET_STATUS_NB = MERGE_METER_ASSET_STATUS_NB_SB[MERGE_METER_ASSET_STATUS_NB_SB['MDM_UTILITY']=='NBPDCL']\n",
    "MDM_METER_ASSET_STATUS_SB = MERGE_METER_ASSET_STATUS_NB_SB[MERGE_METER_ASSET_STATUS_NB_SB['MDM_UTILITY']=='SBPDCL']\n",
    "\n",
    "\n",
    "# shape\n",
    "\n",
    "print(f\"MDM_METER_ASSET_STATUS_NB SHAPE : {MDM_METER_ASSET_STATUS_NB.shape}\")\n",
    "print(f\"MDM_METER_ASSET_STATUS_SB SHAPE : {MDM_METER_ASSET_STATUS_SB.shape}\")"
   ]
  },
  {
   "cell_type": "code",
   "execution_count": null,
   "metadata": {},
   "outputs": [
    {
     "ename": "",
     "evalue": "",
     "output_type": "error",
     "traceback": [
      "\u001b[1;31mnotebook controller is DISPOSED. \n",
      "\u001b[1;31mView Jupyter <a href='command:jupyter.viewOutput'>log</a> for further details."
     ]
    },
    {
     "ename": "",
     "evalue": "",
     "output_type": "error",
     "traceback": [
      "\u001b[1;31mnotebook controller is DISPOSED. \n",
      "\u001b[1;31mView Jupyter <a href='command:jupyter.viewOutput'>log</a> for further details."
     ]
    }
   ],
   "source": []
  },
  {
   "cell_type": "markdown",
   "metadata": {},
   "source": [
    "# working on hes data"
   ]
  },
  {
   "cell_type": "code",
   "execution_count": null,
   "metadata": {},
   "outputs": [
    {
     "name": "stdout",
     "output_type": "stream",
     "text": [
      "<class 'pandas.core.frame.DataFrame'>\n",
      "Index: 1518472 entries, 0 to 1555912\n",
      "Data columns (total 14 columns):\n",
      " #   Column                Non-Null Count    Dtype \n",
      "---  ------                --------------    ----- \n",
      " 0   INSTALLATIONDATETIME  1518472 non-null  object\n",
      " 1   ENTRYDATETIME         1518472 non-null  object\n",
      " 2   UTILITY               1518472 non-null  object\n",
      " 3   UTILITYSITEID         1518472 non-null  object\n",
      " 4   UTILITYDEVICEID       1518472 non-null  object\n",
      " 5   SERIALNUMBER          1518472 non-null  object\n",
      " 6   LASTS05               1518472 non-null  object\n",
      " 7   LASTS02               1518472 non-null  object\n",
      " 8   LASTS04               1518472 non-null  object\n",
      " 9   COORDINATEX           1518472 non-null  object\n",
      " 10  COORDINATEY           1518472 non-null  object\n",
      " 11  STATENAME             1518472 non-null  object\n",
      " 12  IP                    1518472 non-null  object\n",
      " 13  Duplicated_infra      1518472 non-null  object\n",
      "dtypes: object(14)\n",
      "memory usage: 173.8+ MB\n"
     ]
    },
    {
     "ename": "",
     "evalue": "",
     "output_type": "error",
     "traceback": [
      "\u001b[1;31mnotebook controller is DISPOSED. \n",
      "\u001b[1;31mView Jupyter <a href='command:jupyter.viewOutput'>log</a> for further details."
     ]
    },
    {
     "ename": "",
     "evalue": "",
     "output_type": "error",
     "traceback": [
      "\u001b[1;31mnotebook controller is DISPOSED. \n",
      "\u001b[1;31mView Jupyter <a href='command:jupyter.viewOutput'>log</a> for further details."
     ]
    }
   ],
   "source": [
    "INFRA_CONCAT_SB_NB.info()"
   ]
  },
  {
   "cell_type": "code",
   "execution_count": null,
   "metadata": {},
   "outputs": [
    {
     "ename": "",
     "evalue": "",
     "output_type": "error",
     "traceback": [
      "\u001b[1;31mnotebook controller is DISPOSED. \n",
      "\u001b[1;31mView Jupyter <a href='command:jupyter.viewOutput'>log</a> for further details."
     ]
    },
    {
     "ename": "",
     "evalue": "",
     "output_type": "error",
     "traceback": [
      "\u001b[1;31mnotebook controller is DISPOSED. \n",
      "\u001b[1;31mView Jupyter <a href='command:jupyter.viewOutput'>log</a> for further details."
     ]
    }
   ],
   "source": []
  },
  {
   "cell_type": "code",
   "execution_count": null,
   "metadata": {},
   "outputs": [
    {
     "ename": "",
     "evalue": "",
     "output_type": "error",
     "traceback": [
      "\u001b[1;31mnotebook controller is DISPOSED. \n",
      "\u001b[1;31mView Jupyter <a href='command:jupyter.viewOutput'>log</a> for further details."
     ]
    },
    {
     "ename": "",
     "evalue": "",
     "output_type": "error",
     "traceback": [
      "\u001b[1;31mnotebook controller is DISPOSED. \n",
      "\u001b[1;31mView Jupyter <a href='command:jupyter.viewOutput'>log</a> for further details."
     ]
    }
   ],
   "source": [
    "# drop column from the HES INFRA DATA\n",
    "\n",
    "INFRA_CONCAT_SB_NB.drop(['ENTRYDATETIME','COORDINATEX','COORDINATEY','SERIALNUMBER','LASTS05','LASTS02','LASTS04'],axis=1,inplace =True)"
   ]
  },
  {
   "cell_type": "code",
   "execution_count": null,
   "metadata": {},
   "outputs": [
    {
     "name": "stdout",
     "output_type": "stream",
     "text": [
      "INFRA_CONCAT_SB_NB SHAPE : (1518472, 7)\n"
     ]
    },
    {
     "ename": "",
     "evalue": "",
     "output_type": "error",
     "traceback": [
      "\u001b[1;31mnotebook controller is DISPOSED. \n",
      "\u001b[1;31mView Jupyter <a href='command:jupyter.viewOutput'>log</a> for further details."
     ]
    },
    {
     "ename": "",
     "evalue": "",
     "output_type": "error",
     "traceback": [
      "\u001b[1;31mnotebook controller is DISPOSED. \n",
      "\u001b[1;31mView Jupyter <a href='command:jupyter.viewOutput'>log</a> for further details."
     ]
    }
   ],
   "source": [
    "print(f\"INFRA_CONCAT_SB_NB SHAPE : {INFRA_CONCAT_SB_NB.shape}\")\n"
   ]
  },
  {
   "cell_type": "code",
   "execution_count": null,
   "metadata": {},
   "outputs": [
    {
     "data": {
      "text/html": [
       "<div>\n",
       "<style scoped>\n",
       "    .dataframe tbody tr th:only-of-type {\n",
       "        vertical-align: middle;\n",
       "    }\n",
       "\n",
       "    .dataframe tbody tr th {\n",
       "        vertical-align: top;\n",
       "    }\n",
       "\n",
       "    .dataframe thead th {\n",
       "        text-align: right;\n",
       "    }\n",
       "</style>\n",
       "<table border=\"1\" class=\"dataframe\">\n",
       "  <thead>\n",
       "    <tr style=\"text-align: right;\">\n",
       "      <th></th>\n",
       "      <th>HES_INSTALLATIONDATETIME</th>\n",
       "      <th>HES_UTILITY</th>\n",
       "      <th>HES_INSTALLATION_NO</th>\n",
       "      <th>HES_METER_NO</th>\n",
       "      <th>HES_STATUS</th>\n",
       "      <th>HES_IP</th>\n",
       "      <th>HES_DUPLICATED_INFRA</th>\n",
       "    </tr>\n",
       "  </thead>\n",
       "  <tbody>\n",
       "    <tr>\n",
       "      <th>0</th>\n",
       "      <td>8/18/2023 6:11:30 PM</td>\n",
       "      <td>SBPDCL</td>\n",
       "      <td>5002259607</td>\n",
       "      <td>LNTLT8072561</td>\n",
       "      <td>Imported&amp;&amp;Installed</td>\n",
       "      <td>2405:0203:0535:126E:0000:0000:0000:0010</td>\n",
       "      <td>Unique</td>\n",
       "    </tr>\n",
       "  </tbody>\n",
       "</table>\n",
       "</div>"
      ],
      "text/plain": [
       "  HES_INSTALLATIONDATETIME HES_UTILITY HES_INSTALLATION_NO  HES_METER_NO  \\\n",
       "0     8/18/2023 6:11:30 PM      SBPDCL          5002259607  LNTLT8072561   \n",
       "\n",
       "            HES_STATUS                                   HES_IP  \\\n",
       "0  Imported&&Installed  2405:0203:0535:126E:0000:0000:0000:0010   \n",
       "\n",
       "  HES_DUPLICATED_INFRA  \n",
       "0               Unique  "
      ]
     },
     "execution_count": 54,
     "metadata": {},
     "output_type": "execute_result"
    },
    {
     "ename": "",
     "evalue": "",
     "output_type": "error",
     "traceback": [
      "\u001b[1;31mnotebook controller is DISPOSED. \n",
      "\u001b[1;31mView Jupyter <a href='command:jupyter.viewOutput'>log</a> for further details."
     ]
    },
    {
     "ename": "",
     "evalue": "",
     "output_type": "error",
     "traceback": [
      "\u001b[1;31mnotebook controller is DISPOSED. \n",
      "\u001b[1;31mView Jupyter <a href='command:jupyter.viewOutput'>log</a> for further details."
     ]
    }
   ],
   "source": [
    "INFRA_CONCAT_SB_NB.head(1)"
   ]
  },
  {
   "cell_type": "code",
   "execution_count": null,
   "metadata": {},
   "outputs": [
    {
     "ename": "",
     "evalue": "",
     "output_type": "error",
     "traceback": [
      "\u001b[1;31mnotebook controller is DISPOSED. \n",
      "\u001b[1;31mView Jupyter <a href='command:jupyter.viewOutput'>log</a> for further details."
     ]
    },
    {
     "ename": "",
     "evalue": "",
     "output_type": "error",
     "traceback": [
      "\u001b[1;31mnotebook controller is DISPOSED. \n",
      "\u001b[1;31mView Jupyter <a href='command:jupyter.viewOutput'>log</a> for further details."
     ]
    }
   ],
   "source": [
    "INFRA_CONCAT_SB_NB.rename(\n",
    "    columns = {\"INSTALLATIONDATETIME\":\"HES_INSTALLATIONDATETIME\",\"UTILITY\": \"HES_UTILITY\",\n",
    "    \"UTILITYSITEID\":\"HES_INSTALLATION_NO\",\"UTILITYDEVICEID\":\"HES_METER_NO\",\n",
    "    \"STATENAME\":\"HES_STATUS\",\"IP\":\"HES_IP\",\"Duplicated_infra\":\"HES_DUPLICATED_INFRA\"},\n",
    "    inplace=True\n",
    ")\n"
   ]
  },
  {
   "cell_type": "code",
   "execution_count": null,
   "metadata": {},
   "outputs": [
    {
     "name": "stdout",
     "output_type": "stream",
     "text": [
      "HES_METER_NB SHAPE : (662274, 7)\n",
      "MDM_METER_SB SHAPE : (856198, 7)\n"
     ]
    },
    {
     "ename": "",
     "evalue": "",
     "output_type": "error",
     "traceback": [
      "\u001b[1;31mnotebook controller is DISPOSED. \n",
      "\u001b[1;31mView Jupyter <a href='command:jupyter.viewOutput'>log</a> for further details."
     ]
    },
    {
     "ename": "",
     "evalue": "",
     "output_type": "error",
     "traceback": [
      "\u001b[1;31mnotebook controller is DISPOSED. \n",
      "\u001b[1;31mView Jupyter <a href='command:jupyter.viewOutput'>log</a> for further details."
     ]
    }
   ],
   "source": [
    "HES_METER_NB =  INFRA_CONCAT_SB_NB[INFRA_CONCAT_SB_NB['HES_UTILITY']=='NBPDCL']\n",
    "HES_METER_SB =  INFRA_CONCAT_SB_NB[INFRA_CONCAT_SB_NB['HES_UTILITY']=='SBPDCL']\n",
    "\n",
    "\n",
    "print(f\"HES_METER_NB SHAPE : {HES_METER_NB.shape}\")\n",
    "print(f\"HES_METER_SB SHAPE : {HES_METER_SB.shape}\")"
   ]
  },
  {
   "cell_type": "code",
   "execution_count": null,
   "metadata": {},
   "outputs": [
    {
     "ename": "",
     "evalue": "",
     "output_type": "error",
     "traceback": [
      "\u001b[1;31mnotebook controller is DISPOSED. \n",
      "\u001b[1;31mView Jupyter <a href='command:jupyter.viewOutput'>log</a> for further details."
     ]
    },
    {
     "ename": "",
     "evalue": "",
     "output_type": "error",
     "traceback": [
      "\u001b[1;31mnotebook controller is DISPOSED. \n",
      "\u001b[1;31mView Jupyter <a href='command:jupyter.viewOutput'>log</a> for further details."
     ]
    }
   ],
   "source": []
  },
  {
   "cell_type": "markdown",
   "metadata": {},
   "source": [
    "# FINAL DATA  HES & MDM"
   ]
  },
  {
   "cell_type": "code",
   "execution_count": null,
   "metadata": {},
   "outputs": [
    {
     "name": "stdout",
     "output_type": "stream",
     "text": [
      "HES_METER_NB SHAPE : (662274, 7)\n",
      "MDM_METER_SB SHAPE : (856198, 7)\n",
      "MDM_METER_ASSET_STATUS_NB SHAPE : (687913, 10)\n",
      "MDM_METER_ASSET_STATUS_SB SHAPE : (894653, 10)\n"
     ]
    },
    {
     "ename": "",
     "evalue": "",
     "output_type": "error",
     "traceback": [
      "\u001b[1;31mnotebook controller is DISPOSED. \n",
      "\u001b[1;31mView Jupyter <a href='command:jupyter.viewOutput'>log</a> for further details."
     ]
    },
    {
     "ename": "",
     "evalue": "",
     "output_type": "error",
     "traceback": [
      "\u001b[1;31mnotebook controller is DISPOSED. \n",
      "\u001b[1;31mView Jupyter <a href='command:jupyter.viewOutput'>log</a> for further details."
     ]
    }
   ],
   "source": [
    "\n",
    "print(f\"HES_METER_NB SHAPE : {HES_METER_NB.shape}\")\n",
    "print(f\"MDM_METER_SB SHAPE : {HES_METER_SB.shape}\")\n",
    "\n",
    "#-----------------------------------------------------------------------------------------------------\n",
    "\n",
    "print(f\"MDM_METER_ASSET_STATUS_NB SHAPE : {MDM_METER_ASSET_STATUS_NB.shape}\")\n",
    "print(f\"MDM_METER_ASSET_STATUS_SB SHAPE : {MDM_METER_ASSET_STATUS_SB.shape}\")"
   ]
  },
  {
   "cell_type": "code",
   "execution_count": null,
   "metadata": {},
   "outputs": [
    {
     "data": {
      "text/html": [
       "<div>\n",
       "<style scoped>\n",
       "    .dataframe tbody tr th:only-of-type {\n",
       "        vertical-align: middle;\n",
       "    }\n",
       "\n",
       "    .dataframe tbody tr th {\n",
       "        vertical-align: top;\n",
       "    }\n",
       "\n",
       "    .dataframe thead th {\n",
       "        text-align: right;\n",
       "    }\n",
       "</style>\n",
       "<table border=\"1\" class=\"dataframe\">\n",
       "  <thead>\n",
       "    <tr style=\"text-align: right;\">\n",
       "      <th></th>\n",
       "      <th>HES_INSTALLATIONDATETIME</th>\n",
       "      <th>HES_UTILITY</th>\n",
       "      <th>HES_INSTALLATION_NO</th>\n",
       "      <th>HES_METER_NO</th>\n",
       "      <th>HES_STATUS</th>\n",
       "      <th>HES_IP</th>\n",
       "      <th>HES_DUPLICATED_INFRA</th>\n",
       "    </tr>\n",
       "  </thead>\n",
       "  <tbody>\n",
       "    <tr>\n",
       "      <th>877095</th>\n",
       "      <td>1/3/2024 10:49:59 PM</td>\n",
       "      <td>NBPDCL</td>\n",
       "      <td>5001461671</td>\n",
       "      <td>LNTLT8069351</td>\n",
       "      <td>Imported&amp;&amp;Installed</td>\n",
       "      <td>2405:0203:0535:37E5:0000:0000:0000:0010</td>\n",
       "      <td>Unique</td>\n",
       "    </tr>\n",
       "  </tbody>\n",
       "</table>\n",
       "</div>"
      ],
      "text/plain": [
       "       HES_INSTALLATIONDATETIME HES_UTILITY HES_INSTALLATION_NO  HES_METER_NO  \\\n",
       "877095     1/3/2024 10:49:59 PM      NBPDCL          5001461671  LNTLT8069351   \n",
       "\n",
       "                 HES_STATUS                                   HES_IP  \\\n",
       "877095  Imported&&Installed  2405:0203:0535:37E5:0000:0000:0000:0010   \n",
       "\n",
       "       HES_DUPLICATED_INFRA  \n",
       "877095               Unique  "
      ]
     },
     "execution_count": 61,
     "metadata": {},
     "output_type": "execute_result"
    },
    {
     "ename": "",
     "evalue": "",
     "output_type": "error",
     "traceback": [
      "\u001b[1;31mnotebook controller is DISPOSED. \n",
      "\u001b[1;31mView Jupyter <a href='command:jupyter.viewOutput'>log</a> for further details."
     ]
    },
    {
     "ename": "",
     "evalue": "",
     "output_type": "error",
     "traceback": [
      "\u001b[1;31mnotebook controller is DISPOSED. \n",
      "\u001b[1;31mView Jupyter <a href='command:jupyter.viewOutput'>log</a> for further details."
     ]
    }
   ],
   "source": [
    "HES_METER_NB.head(1)"
   ]
  },
  {
   "cell_type": "code",
   "execution_count": null,
   "metadata": {},
   "outputs": [
    {
     "ename": "",
     "evalue": "",
     "output_type": "error",
     "traceback": [
      "\u001b[1;31mnotebook controller is DISPOSED. \n",
      "\u001b[1;31mView Jupyter <a href='command:jupyter.viewOutput'>log</a> for further details."
     ]
    },
    {
     "ename": "",
     "evalue": "",
     "output_type": "error",
     "traceback": [
      "\u001b[1;31mnotebook controller is DISPOSED. \n",
      "\u001b[1;31mView Jupyter <a href='command:jupyter.viewOutput'>log</a> for further details."
     ]
    }
   ],
   "source": []
  },
  {
   "cell_type": "markdown",
   "metadata": {},
   "source": [
    "# MERGE HES AND MDM FILE  UTILITY WISE"
   ]
  },
  {
   "cell_type": "code",
   "execution_count": null,
   "metadata": {},
   "outputs": [
    {
     "ename": "",
     "evalue": "",
     "output_type": "error",
     "traceback": [
      "\u001b[1;31mnotebook controller is DISPOSED. \n",
      "\u001b[1;31mView Jupyter <a href='command:jupyter.viewOutput'>log</a> for further details."
     ]
    },
    {
     "ename": "",
     "evalue": "",
     "output_type": "error",
     "traceback": [
      "\u001b[1;31mnotebook controller is DISPOSED. \n",
      "\u001b[1;31mView Jupyter <a href='command:jupyter.viewOutput'>log</a> for further details."
     ]
    },
    {
     "ename": "",
     "evalue": "",
     "output_type": "error",
     "traceback": [
      "\u001b[1;31mnotebook controller is DISPOSED. \n",
      "\u001b[1;31mView Jupyter <a href='command:jupyter.viewOutput'>log</a> for further details."
     ]
    },
    {
     "ename": "",
     "evalue": "",
     "output_type": "error",
     "traceback": [
      "\u001b[1;31mnotebook controller is DISPOSED. \n",
      "\u001b[1;31mView Jupyter <a href='command:jupyter.viewOutput'>log</a> for further details."
     ]
    }
   ],
   "source": [
    "# merge infra and asset_status file\n",
    "\n",
    "MERGE_MDM_HES_NB =pd.merge(MDM_METER_ASSET_STATUS_NB,HES_METER_NB, left_on=['MDM_METERNO'], right_on=['HES_METER_NO'], how='left')\n",
    "MERGE_MDM_HES_SB =pd.merge(MDM_METER_ASSET_STATUS_SB,HES_METER_SB, left_on=['MDM_METERNO'], right_on=['HES_METER_NO'], how='left')"
   ]
  },
  {
   "cell_type": "code",
   "execution_count": null,
   "metadata": {},
   "outputs": [
    {
     "ename": "",
     "evalue": "",
     "output_type": "error",
     "traceback": [
      "\u001b[1;31mnotebook controller is DISPOSED. \n",
      "\u001b[1;31mView Jupyter <a href='command:jupyter.viewOutput'>log</a> for further details."
     ]
    },
    {
     "ename": "",
     "evalue": "",
     "output_type": "error",
     "traceback": [
      "\u001b[1;31mnotebook controller is DISPOSED. \n",
      "\u001b[1;31mView Jupyter <a href='command:jupyter.viewOutput'>log</a> for further details."
     ]
    }
   ],
   "source": [
    "FD FG AG "
   ]
  },
  {
   "cell_type": "code",
   "execution_count": null,
   "metadata": {},
   "outputs": [
    {
     "data": {
      "text/html": [
       "<div>\n",
       "<style scoped>\n",
       "    .dataframe tbody tr th:only-of-type {\n",
       "        vertical-align: middle;\n",
       "    }\n",
       "\n",
       "    .dataframe tbody tr th {\n",
       "        vertical-align: top;\n",
       "    }\n",
       "\n",
       "    .dataframe thead th {\n",
       "        text-align: right;\n",
       "    }\n",
       "</style>\n",
       "<table border=\"1\" class=\"dataframe\">\n",
       "  <thead>\n",
       "    <tr style=\"text-align: right;\">\n",
       "      <th></th>\n",
       "      <th>INSTALLATIONDATETIME</th>\n",
       "      <th>ENTRYDATETIME</th>\n",
       "      <th>UTILITY</th>\n",
       "      <th>UTILITYSITEID</th>\n",
       "      <th>UTILITYDEVICEID</th>\n",
       "      <th>SERIALNUMBER</th>\n",
       "      <th>LASTS05</th>\n",
       "      <th>LASTS02</th>\n",
       "      <th>LASTS04</th>\n",
       "      <th>COORDINATEX</th>\n",
       "      <th>COORDINATEY</th>\n",
       "      <th>STATENAME</th>\n",
       "      <th>IP</th>\n",
       "      <th>Duplicated_infra</th>\n",
       "      <th>METERNUMBER</th>\n",
       "      <th>MFG_SERIAL_NUM</th>\n",
       "      <th>UDC_ID</th>\n",
       "      <th>NETWORK_ID</th>\n",
       "      <th>INSTALLATIONNUMBER</th>\n",
       "      <th>STATUS</th>\n",
       "      <th>DECODE(D.ORG_ID,52,'SBPDCL',102,'NBPDCL')</th>\n",
       "      <th>Duplicated_asset</th>\n",
       "    </tr>\n",
       "  </thead>\n",
       "  <tbody>\n",
       "    <tr>\n",
       "      <th>0</th>\n",
       "      <td>8/18/2023 6:11:30 PM</td>\n",
       "      <td>7/31/2023 4:25:14 PM</td>\n",
       "      <td>SBPDCL</td>\n",
       "      <td>5002259607</td>\n",
       "      <td>LNTLT8072561</td>\n",
       "      <td>LT8072561</td>\n",
       "      <td>2/25/2024 12:00:00 AM</td>\n",
       "      <td>10/2/2023 12:00:00 AM</td>\n",
       "      <td>2/1/2024 12:00:00 AM</td>\n",
       "      <td>85.12033</td>\n",
       "      <td>25.6107</td>\n",
       "      <td>Imported&amp;&amp;Installed</td>\n",
       "      <td>2405:0203:0535:126E:0000:0000:0000:0010</td>\n",
       "      <td>Unique</td>\n",
       "      <td>LNTLT8072561</td>\n",
       "      <td>LT8072561</td>\n",
       "      <td>405856707246263</td>\n",
       "      <td>2405:0203:0535:126E:0000:0000:0000:0010</td>\n",
       "      <td>5002259607</td>\n",
       "      <td>Installed</td>\n",
       "      <td>SBPDCL</td>\n",
       "      <td>Unique</td>\n",
       "    </tr>\n",
       "  </tbody>\n",
       "</table>\n",
       "</div>"
      ],
      "text/plain": [
       "   INSTALLATIONDATETIME         ENTRYDATETIME UTILITY UTILITYSITEID  \\\n",
       "0  8/18/2023 6:11:30 PM  7/31/2023 4:25:14 PM  SBPDCL    5002259607   \n",
       "\n",
       "  UTILITYDEVICEID SERIALNUMBER                LASTS05                LASTS02  \\\n",
       "0    LNTLT8072561    LT8072561  2/25/2024 12:00:00 AM  10/2/2023 12:00:00 AM   \n",
       "\n",
       "                LASTS04 COORDINATEX COORDINATEY            STATENAME  \\\n",
       "0  2/1/2024 12:00:00 AM    85.12033     25.6107  Imported&&Installed   \n",
       "\n",
       "                                        IP Duplicated_infra   METERNUMBER  \\\n",
       "0  2405:0203:0535:126E:0000:0000:0000:0010           Unique  LNTLT8072561   \n",
       "\n",
       "  MFG_SERIAL_NUM           UDC_ID                               NETWORK_ID  \\\n",
       "0      LT8072561  405856707246263  2405:0203:0535:126E:0000:0000:0000:0010   \n",
       "\n",
       "  INSTALLATIONNUMBER     STATUS DECODE(D.ORG_ID,52,'SBPDCL',102,'NBPDCL')  \\\n",
       "0         5002259607  Installed                                    SBPDCL   \n",
       "\n",
       "  Duplicated_asset  \n",
       "0           Unique  "
      ]
     },
     "execution_count": 33,
     "metadata": {},
     "output_type": "execute_result"
    },
    {
     "ename": "",
     "evalue": "",
     "output_type": "error",
     "traceback": [
      "\u001b[1;31mnotebook controller is DISPOSED. \n",
      "\u001b[1;31mView Jupyter <a href='command:jupyter.viewOutput'>log</a> for further details."
     ]
    },
    {
     "ename": "",
     "evalue": "",
     "output_type": "error",
     "traceback": [
      "\u001b[1;31mnotebook controller is DISPOSED. \n",
      "\u001b[1;31mView Jupyter <a href='command:jupyter.viewOutput'>log</a> for further details."
     ]
    },
    {
     "ename": "",
     "evalue": "",
     "output_type": "error",
     "traceback": [
      "\u001b[1;31mnotebook controller is DISPOSED. \n",
      "\u001b[1;31mView Jupyter <a href='command:jupyter.viewOutput'>log</a> for further details."
     ]
    },
    {
     "ename": "",
     "evalue": "",
     "output_type": "error",
     "traceback": [
      "\u001b[1;31mnotebook controller is DISPOSED. \n",
      "\u001b[1;31mView Jupyter <a href='command:jupyter.viewOutput'>log</a> for further details."
     ]
    }
   ],
   "source": [
    "merge_asset_infra_nb_sb.head(1)"
   ]
  },
  {
   "cell_type": "code",
   "execution_count": null,
   "metadata": {},
   "outputs": [
    {
     "ename": "",
     "evalue": "",
     "output_type": "error",
     "traceback": [
      "\u001b[1;31mnotebook controller is DISPOSED. \n",
      "\u001b[1;31mView Jupyter <a href='command:jupyter.viewOutput'>log</a> for further details."
     ]
    },
    {
     "ename": "",
     "evalue": "",
     "output_type": "error",
     "traceback": [
      "\u001b[1;31mnotebook controller is DISPOSED. \n",
      "\u001b[1;31mView Jupyter <a href='command:jupyter.viewOutput'>log</a> for further details."
     ]
    },
    {
     "ename": "",
     "evalue": "",
     "output_type": "error",
     "traceback": [
      "\u001b[1;31mnotebook controller is DISPOSED. \n",
      "\u001b[1;31mView Jupyter <a href='command:jupyter.viewOutput'>log</a> for further details."
     ]
    },
    {
     "ename": "",
     "evalue": "",
     "output_type": "error",
     "traceback": [
      "\u001b[1;31mnotebook controller is DISPOSED. \n",
      "\u001b[1;31mView Jupyter <a href='command:jupyter.viewOutput'>log</a> for further details."
     ]
    }
   ],
   "source": [
    "merge_asset_infra_nb_sb.drop[['COORDINATEX','COORDINATEY','SERIALNUMBER','LASTS05','LASTS02','LASTS04']]"
   ]
  },
  {
   "cell_type": "code",
   "execution_count": null,
   "metadata": {},
   "outputs": [
    {
     "ename": "",
     "evalue": "",
     "output_type": "error",
     "traceback": [
      "\u001b[1;31mnotebook controller is DISPOSED. \n",
      "\u001b[1;31mView Jupyter <a href='command:jupyter.viewOutput'>log</a> for further details."
     ]
    },
    {
     "ename": "",
     "evalue": "",
     "output_type": "error",
     "traceback": [
      "\u001b[1;31mnotebook controller is DISPOSED. \n",
      "\u001b[1;31mView Jupyter <a href='command:jupyter.viewOutput'>log</a> for further details."
     ]
    },
    {
     "ename": "",
     "evalue": "",
     "output_type": "error",
     "traceback": [
      "\u001b[1;31mnotebook controller is DISPOSED. \n",
      "\u001b[1;31mView Jupyter <a href='command:jupyter.viewOutput'>log</a> for further details."
     ]
    },
    {
     "ename": "",
     "evalue": "",
     "output_type": "error",
     "traceback": [
      "\u001b[1;31mnotebook controller is DISPOSED. \n",
      "\u001b[1;31mView Jupyter <a href='command:jupyter.viewOutput'>log</a> for further details."
     ]
    }
   ],
   "source": [
    "merge_asset_infra_nb_sb.rename(\n",
    "    columns = {\"METERNUMBER\":\"MDM_METERNUMBER\",\"MFG_SERIAL_NUM\": \"MDM_MFG_SERIAL_NUM\",\n",
    "    \"UDC_ID\":\"MDM_UDC_ID\",\"NETWORK_ID\":\"MDM_NETWORK_ID\",\n",
    "    \"INSTALLATIONNUMBER\":\"MDM_INSTALLATIONNUMBER\",\"STATUS\":\"MDM_STATUS\",\"INSERT_TIME\":\"MDM_INSERT_TIME\",\"DECODE(D.ORG_ID,52,'SBPDCL',102,'NBPDCL')\":\"MDM_DECODE(D.ORG_ID,52,'SBPDCL',102,'NBPDCL')\"},\n",
    "    inplace=True\n",
    ")\n"
   ]
  },
  {
   "cell_type": "code",
   "execution_count": null,
   "metadata": {},
   "outputs": [
    {
     "data": {
      "text/html": [
       "<div>\n",
       "<style scoped>\n",
       "    .dataframe tbody tr th:only-of-type {\n",
       "        vertical-align: middle;\n",
       "    }\n",
       "\n",
       "    .dataframe tbody tr th {\n",
       "        vertical-align: top;\n",
       "    }\n",
       "\n",
       "    .dataframe thead th {\n",
       "        text-align: right;\n",
       "    }\n",
       "</style>\n",
       "<table border=\"1\" class=\"dataframe\">\n",
       "  <thead>\n",
       "    <tr style=\"text-align: right;\">\n",
       "      <th></th>\n",
       "      <th>MDM_METERNUMBER</th>\n",
       "      <th>MDM_MFG_SERIAL_NUM</th>\n",
       "      <th>MDM_UDC_ID</th>\n",
       "      <th>MDM_NETWORK_ID</th>\n",
       "      <th>MDM_INSTALLATIONNUMBER</th>\n",
       "      <th>MDM_STATUS</th>\n",
       "      <th>MDM_INSERT_TIME</th>\n",
       "      <th>MDM_DECODE(D.ORG_ID,52,'SBPDCL',102,'NBPDCL')</th>\n",
       "      <th>INSTALLATIONDATETIME</th>\n",
       "      <th>ENTRYDATETIME</th>\n",
       "      <th>UTILITY</th>\n",
       "      <th>UTILITYSITEID</th>\n",
       "      <th>UTILITYDEVICEID</th>\n",
       "      <th>SERIALNUMBER</th>\n",
       "      <th>LASTS05</th>\n",
       "      <th>LASTS02</th>\n",
       "      <th>LASTS04</th>\n",
       "      <th>COORDINATEX</th>\n",
       "      <th>COORDINATEY</th>\n",
       "      <th>STATENAME</th>\n",
       "      <th>IP</th>\n",
       "      <th>UNNAMED: 13</th>\n",
       "    </tr>\n",
       "  </thead>\n",
       "  <tbody>\n",
       "    <tr>\n",
       "      <th>0</th>\n",
       "      <td>GOEGP4970294</td>\n",
       "      <td>GP4970294</td>\n",
       "      <td>404759210464358</td>\n",
       "      <td>2001:4490:0800:5F25:0000:0000:0000:0001</td>\n",
       "      <td>nan</td>\n",
       "      <td>Meter Shop</td>\n",
       "      <td>8/7/2019 1:26:44 PM</td>\n",
       "      <td>SBPDCL</td>\n",
       "      <td>NaN</td>\n",
       "      <td>NaN</td>\n",
       "      <td>NaN</td>\n",
       "      <td>NaN</td>\n",
       "      <td>NaN</td>\n",
       "      <td>NaN</td>\n",
       "      <td>NaN</td>\n",
       "      <td>NaN</td>\n",
       "      <td>NaN</td>\n",
       "      <td>NaN</td>\n",
       "      <td>NaN</td>\n",
       "      <td>NaN</td>\n",
       "      <td>NaN</td>\n",
       "      <td>NaN</td>\n",
       "    </tr>\n",
       "    <tr>\n",
       "      <th>1</th>\n",
       "      <td>GOEGP4962320</td>\n",
       "      <td>GP4962320</td>\n",
       "      <td>404751250451741</td>\n",
       "      <td>2001:4490:0800:A6F5:0000:0000:0000:1</td>\n",
       "      <td>ARWARL9082</td>\n",
       "      <td>Installed</td>\n",
       "      <td>9/2/2019 1:08:20 AM</td>\n",
       "      <td>SBPDCL</td>\n",
       "      <td>9/4/2019 10:33:55 PM</td>\n",
       "      <td>8/16/2019 4:10:02 PM</td>\n",
       "      <td>SBPDCL</td>\n",
       "      <td>ARWARL9082</td>\n",
       "      <td>GOEGP4962320</td>\n",
       "      <td>GP4962320</td>\n",
       "      <td>2/22/2024 12:00:00 AM</td>\n",
       "      <td>10/2/2023 12:00:00 AM</td>\n",
       "      <td>2/1/2024 12:00:00 AM</td>\n",
       "      <td>84.66899</td>\n",
       "      <td>25.25095</td>\n",
       "      <td>Imported&amp;&amp;Installed</td>\n",
       "      <td>2001:4490:0800:A6F5:0000:0000:0000:0001</td>\n",
       "      <td>nan</td>\n",
       "    </tr>\n",
       "    <tr>\n",
       "      <th>2</th>\n",
       "      <td>GOEGP4964119</td>\n",
       "      <td>GP4964119</td>\n",
       "      <td>404751250456722</td>\n",
       "      <td>2001:4490:0800:B5B4:0000:0000:0000:0001</td>\n",
       "      <td>5001507481</td>\n",
       "      <td>Installed</td>\n",
       "      <td>9/9/2019 1:02:10 AM</td>\n",
       "      <td>SBPDCL</td>\n",
       "      <td>3/6/2020 4:09:01 PM</td>\n",
       "      <td>9/7/2019 2:10:08 AM</td>\n",
       "      <td>SBPDCL</td>\n",
       "      <td>5001507481</td>\n",
       "      <td>GOEGP4964119</td>\n",
       "      <td>GP4964119</td>\n",
       "      <td>2/22/2024 12:00:00 AM</td>\n",
       "      <td>10/2/2023 12:00:00 AM</td>\n",
       "      <td>2/1/2024 12:00:00 AM</td>\n",
       "      <td>85.14491</td>\n",
       "      <td>25.60932</td>\n",
       "      <td>Installed&amp;&amp;Imported</td>\n",
       "      <td>2001:4490:0800:B5B4:0000:0000:0000:0001</td>\n",
       "      <td>nan</td>\n",
       "    </tr>\n",
       "  </tbody>\n",
       "</table>\n",
       "</div>"
      ],
      "text/plain": [
       "  MDM_METERNUMBER MDM_MFG_SERIAL_NUM       MDM_UDC_ID  \\\n",
       "0    GOEGP4970294          GP4970294  404759210464358   \n",
       "1    GOEGP4962320          GP4962320  404751250451741   \n",
       "2    GOEGP4964119          GP4964119  404751250456722   \n",
       "\n",
       "                            MDM_NETWORK_ID MDM_INSTALLATIONNUMBER  MDM_STATUS  \\\n",
       "0  2001:4490:0800:5F25:0000:0000:0000:0001                    nan  Meter Shop   \n",
       "1     2001:4490:0800:A6F5:0000:0000:0000:1             ARWARL9082   Installed   \n",
       "2  2001:4490:0800:B5B4:0000:0000:0000:0001             5001507481   Installed   \n",
       "\n",
       "       MDM_INSERT_TIME MDM_DECODE(D.ORG_ID,52,'SBPDCL',102,'NBPDCL')  \\\n",
       "0  8/7/2019 1:26:44 PM                                        SBPDCL   \n",
       "1  9/2/2019 1:08:20 AM                                        SBPDCL   \n",
       "2  9/9/2019 1:02:10 AM                                        SBPDCL   \n",
       "\n",
       "   INSTALLATIONDATETIME         ENTRYDATETIME UTILITY UTILITYSITEID  \\\n",
       "0                   NaN                   NaN     NaN           NaN   \n",
       "1  9/4/2019 10:33:55 PM  8/16/2019 4:10:02 PM  SBPDCL    ARWARL9082   \n",
       "2   3/6/2020 4:09:01 PM   9/7/2019 2:10:08 AM  SBPDCL    5001507481   \n",
       "\n",
       "  UTILITYDEVICEID SERIALNUMBER                LASTS05                LASTS02  \\\n",
       "0             NaN          NaN                    NaN                    NaN   \n",
       "1    GOEGP4962320    GP4962320  2/22/2024 12:00:00 AM  10/2/2023 12:00:00 AM   \n",
       "2    GOEGP4964119    GP4964119  2/22/2024 12:00:00 AM  10/2/2023 12:00:00 AM   \n",
       "\n",
       "                LASTS04 COORDINATEX COORDINATEY            STATENAME  \\\n",
       "0                   NaN         NaN         NaN                  NaN   \n",
       "1  2/1/2024 12:00:00 AM    84.66899    25.25095  Imported&&Installed   \n",
       "2  2/1/2024 12:00:00 AM    85.14491    25.60932  Installed&&Imported   \n",
       "\n",
       "                                        IP UNNAMED: 13  \n",
       "0                                      NaN         NaN  \n",
       "1  2001:4490:0800:A6F5:0000:0000:0000:0001         nan  \n",
       "2  2001:4490:0800:B5B4:0000:0000:0000:0001         nan  "
      ]
     },
     "execution_count": 45,
     "metadata": {},
     "output_type": "execute_result"
    },
    {
     "ename": "",
     "evalue": "",
     "output_type": "error",
     "traceback": [
      "\u001b[1;31mnotebook controller is DISPOSED. \n",
      "\u001b[1;31mView Jupyter <a href='command:jupyter.viewOutput'>log</a> for further details."
     ]
    },
    {
     "ename": "",
     "evalue": "",
     "output_type": "error",
     "traceback": [
      "\u001b[1;31mnotebook controller is DISPOSED. \n",
      "\u001b[1;31mView Jupyter <a href='command:jupyter.viewOutput'>log</a> for further details."
     ]
    },
    {
     "ename": "",
     "evalue": "",
     "output_type": "error",
     "traceback": [
      "\u001b[1;31mnotebook controller is DISPOSED. \n",
      "\u001b[1;31mView Jupyter <a href='command:jupyter.viewOutput'>log</a> for further details."
     ]
    },
    {
     "ename": "",
     "evalue": "",
     "output_type": "error",
     "traceback": [
      "\u001b[1;31mnotebook controller is DISPOSED. \n",
      "\u001b[1;31mView Jupyter <a href='command:jupyter.viewOutput'>log</a> for further details."
     ]
    }
   ],
   "source": [
    "merge_asset_infra_nb_sb.head(3)"
   ]
  },
  {
   "cell_type": "code",
   "execution_count": null,
   "metadata": {},
   "outputs": [
    {
     "ename": "",
     "evalue": "",
     "output_type": "error",
     "traceback": [
      "\u001b[1;31mnotebook controller is DISPOSED. \n",
      "\u001b[1;31mView Jupyter <a href='command:jupyter.viewOutput'>log</a> for further details."
     ]
    },
    {
     "ename": "",
     "evalue": "",
     "output_type": "error",
     "traceback": [
      "\u001b[1;31mnotebook controller is DISPOSED. \n",
      "\u001b[1;31mView Jupyter <a href='command:jupyter.viewOutput'>log</a> for further details."
     ]
    },
    {
     "ename": "",
     "evalue": "",
     "output_type": "error",
     "traceback": [
      "\u001b[1;31mnotebook controller is DISPOSED. \n",
      "\u001b[1;31mView Jupyter <a href='command:jupyter.viewOutput'>log</a> for further details."
     ]
    },
    {
     "ename": "",
     "evalue": "",
     "output_type": "error",
     "traceback": [
      "\u001b[1;31mnotebook controller is DISPOSED. \n",
      "\u001b[1;31mView Jupyter <a href='command:jupyter.viewOutput'>log</a> for further details."
     ]
    }
   ],
   "source": [
    "merge_asset_infra_nb_sb.drop(['MDM_MFG_SERIAL_NUM','SERIALNUMBER','LASTS05','LASTS02','LASTS04','COORDINATEX','COORDINATEY','UNNAMED: 13'], axis=1, inplace=True)"
   ]
  },
  {
   "cell_type": "code",
   "execution_count": null,
   "metadata": {},
   "outputs": [
    {
     "ename": "",
     "evalue": "",
     "output_type": "error",
     "traceback": [
      "\u001b[1;31mnotebook controller is DISPOSED. \n",
      "\u001b[1;31mView Jupyter <a href='command:jupyter.viewOutput'>log</a> for further details."
     ]
    },
    {
     "ename": "",
     "evalue": "",
     "output_type": "error",
     "traceback": [
      "\u001b[1;31mnotebook controller is DISPOSED. \n",
      "\u001b[1;31mView Jupyter <a href='command:jupyter.viewOutput'>log</a> for further details."
     ]
    },
    {
     "ename": "",
     "evalue": "",
     "output_type": "error",
     "traceback": [
      "\u001b[1;31mnotebook controller is DISPOSED. \n",
      "\u001b[1;31mView Jupyter <a href='command:jupyter.viewOutput'>log</a> for further details."
     ]
    },
    {
     "ename": "",
     "evalue": "",
     "output_type": "error",
     "traceback": [
      "\u001b[1;31mnotebook controller is DISPOSED. \n",
      "\u001b[1;31mView Jupyter <a href='command:jupyter.viewOutput'>log</a> for further details."
     ]
    }
   ],
   "source": []
  },
  {
   "cell_type": "code",
   "execution_count": null,
   "metadata": {},
   "outputs": [
    {
     "data": {
      "text/html": [
       "<div>\n",
       "<style scoped>\n",
       "    .dataframe tbody tr th:only-of-type {\n",
       "        vertical-align: middle;\n",
       "    }\n",
       "\n",
       "    .dataframe tbody tr th {\n",
       "        vertical-align: top;\n",
       "    }\n",
       "\n",
       "    .dataframe thead th {\n",
       "        text-align: right;\n",
       "    }\n",
       "</style>\n",
       "<table border=\"1\" class=\"dataframe\">\n",
       "  <thead>\n",
       "    <tr style=\"text-align: right;\">\n",
       "      <th></th>\n",
       "      <th>MDM_METERNUMBER</th>\n",
       "      <th>MDM_UDC_ID</th>\n",
       "      <th>MDM_NETWORK_ID</th>\n",
       "      <th>MDM_INSTALLATIONNUMBER</th>\n",
       "      <th>MDM_STATUS</th>\n",
       "      <th>MDM_INSERT_TIME</th>\n",
       "      <th>MDM_UTILITY</th>\n",
       "      <th>INSTALLATIONDATETIME</th>\n",
       "      <th>ENTRYDATETIME</th>\n",
       "      <th>UTILITY</th>\n",
       "      <th>UTILITYSITEID</th>\n",
       "      <th>UTILITYDEVICEID</th>\n",
       "      <th>STATENAME</th>\n",
       "      <th>IP</th>\n",
       "    </tr>\n",
       "  </thead>\n",
       "  <tbody>\n",
       "    <tr>\n",
       "      <th>0</th>\n",
       "      <td>GOEGP4970294</td>\n",
       "      <td>404759210464358</td>\n",
       "      <td>2001:4490:0800:5F25:0000:0000:0000:0001</td>\n",
       "      <td>nan</td>\n",
       "      <td>Meter Shop</td>\n",
       "      <td>8/7/2019 1:26:44 PM</td>\n",
       "      <td>SBPDCL</td>\n",
       "      <td>NaN</td>\n",
       "      <td>NaN</td>\n",
       "      <td>NaN</td>\n",
       "      <td>NaN</td>\n",
       "      <td>NaN</td>\n",
       "      <td>NaN</td>\n",
       "      <td>NaN</td>\n",
       "    </tr>\n",
       "    <tr>\n",
       "      <th>1</th>\n",
       "      <td>GOEGP4962320</td>\n",
       "      <td>404751250451741</td>\n",
       "      <td>2001:4490:0800:A6F5:0000:0000:0000:1</td>\n",
       "      <td>ARWARL9082</td>\n",
       "      <td>Installed</td>\n",
       "      <td>9/2/2019 1:08:20 AM</td>\n",
       "      <td>SBPDCL</td>\n",
       "      <td>9/4/2019 10:33:55 PM</td>\n",
       "      <td>8/16/2019 4:10:02 PM</td>\n",
       "      <td>SBPDCL</td>\n",
       "      <td>ARWARL9082</td>\n",
       "      <td>GOEGP4962320</td>\n",
       "      <td>Imported&amp;&amp;Installed</td>\n",
       "      <td>2001:4490:0800:A6F5:0000:0000:0000:0001</td>\n",
       "    </tr>\n",
       "    <tr>\n",
       "      <th>2</th>\n",
       "      <td>GOEGP4964119</td>\n",
       "      <td>404751250456722</td>\n",
       "      <td>2001:4490:0800:B5B4:0000:0000:0000:0001</td>\n",
       "      <td>5001507481</td>\n",
       "      <td>Installed</td>\n",
       "      <td>9/9/2019 1:02:10 AM</td>\n",
       "      <td>SBPDCL</td>\n",
       "      <td>3/6/2020 4:09:01 PM</td>\n",
       "      <td>9/7/2019 2:10:08 AM</td>\n",
       "      <td>SBPDCL</td>\n",
       "      <td>5001507481</td>\n",
       "      <td>GOEGP4964119</td>\n",
       "      <td>Installed&amp;&amp;Imported</td>\n",
       "      <td>2001:4490:0800:B5B4:0000:0000:0000:0001</td>\n",
       "    </tr>\n",
       "    <tr>\n",
       "      <th>3</th>\n",
       "      <td>GOEGP4964992</td>\n",
       "      <td>404751250456883</td>\n",
       "      <td>2001:4490:0800:B655:0000:0000:0000:0001</td>\n",
       "      <td>ARWARL8832</td>\n",
       "      <td>Installed</td>\n",
       "      <td>9/9/2019 1:02:10 AM</td>\n",
       "      <td>SBPDCL</td>\n",
       "      <td>9/13/2019 10:44:38 PM</td>\n",
       "      <td>9/7/2019 7:58:58 PM</td>\n",
       "      <td>SBPDCL</td>\n",
       "      <td>ARWARL8832</td>\n",
       "      <td>GOEGP4964992</td>\n",
       "      <td>Imported&amp;&amp;Installed</td>\n",
       "      <td>2001:4490:0800:B655:0000:0000:0000:0001</td>\n",
       "    </tr>\n",
       "    <tr>\n",
       "      <th>4</th>\n",
       "      <td>GOEGP4964995</td>\n",
       "      <td>404751250456886</td>\n",
       "      <td>2001:4490:0800:B658:0000:0000:0000:0001</td>\n",
       "      <td>ARWARL17057</td>\n",
       "      <td>Installed</td>\n",
       "      <td>9/9/2019 1:02:10 AM</td>\n",
       "      <td>SBPDCL</td>\n",
       "      <td>9/13/2019 10:49:21 PM</td>\n",
       "      <td>9/7/2019 7:58:54 PM</td>\n",
       "      <td>SBPDCL</td>\n",
       "      <td>ARWARL17057</td>\n",
       "      <td>GOEGP4964995</td>\n",
       "      <td>Imported&amp;&amp;Installed</td>\n",
       "      <td>2001:4490:0800:B658:0000:0000:0000:0001</td>\n",
       "    </tr>\n",
       "  </tbody>\n",
       "</table>\n",
       "</div>"
      ],
      "text/plain": [
       "  MDM_METERNUMBER       MDM_UDC_ID                           MDM_NETWORK_ID  \\\n",
       "0    GOEGP4970294  404759210464358  2001:4490:0800:5F25:0000:0000:0000:0001   \n",
       "1    GOEGP4962320  404751250451741     2001:4490:0800:A6F5:0000:0000:0000:1   \n",
       "2    GOEGP4964119  404751250456722  2001:4490:0800:B5B4:0000:0000:0000:0001   \n",
       "3    GOEGP4964992  404751250456883  2001:4490:0800:B655:0000:0000:0000:0001   \n",
       "4    GOEGP4964995  404751250456886  2001:4490:0800:B658:0000:0000:0000:0001   \n",
       "\n",
       "  MDM_INSTALLATIONNUMBER  MDM_STATUS      MDM_INSERT_TIME MDM_UTILITY  \\\n",
       "0                    nan  Meter Shop  8/7/2019 1:26:44 PM      SBPDCL   \n",
       "1             ARWARL9082   Installed  9/2/2019 1:08:20 AM      SBPDCL   \n",
       "2             5001507481   Installed  9/9/2019 1:02:10 AM      SBPDCL   \n",
       "3             ARWARL8832   Installed  9/9/2019 1:02:10 AM      SBPDCL   \n",
       "4            ARWARL17057   Installed  9/9/2019 1:02:10 AM      SBPDCL   \n",
       "\n",
       "    INSTALLATIONDATETIME         ENTRYDATETIME UTILITY UTILITYSITEID  \\\n",
       "0                    NaN                   NaN     NaN           NaN   \n",
       "1   9/4/2019 10:33:55 PM  8/16/2019 4:10:02 PM  SBPDCL    ARWARL9082   \n",
       "2    3/6/2020 4:09:01 PM   9/7/2019 2:10:08 AM  SBPDCL    5001507481   \n",
       "3  9/13/2019 10:44:38 PM   9/7/2019 7:58:58 PM  SBPDCL    ARWARL8832   \n",
       "4  9/13/2019 10:49:21 PM   9/7/2019 7:58:54 PM  SBPDCL   ARWARL17057   \n",
       "\n",
       "  UTILITYDEVICEID            STATENAME  \\\n",
       "0             NaN                  NaN   \n",
       "1    GOEGP4962320  Imported&&Installed   \n",
       "2    GOEGP4964119  Installed&&Imported   \n",
       "3    GOEGP4964992  Imported&&Installed   \n",
       "4    GOEGP4964995  Imported&&Installed   \n",
       "\n",
       "                                        IP  \n",
       "0                                      NaN  \n",
       "1  2001:4490:0800:A6F5:0000:0000:0000:0001  \n",
       "2  2001:4490:0800:B5B4:0000:0000:0000:0001  \n",
       "3  2001:4490:0800:B655:0000:0000:0000:0001  \n",
       "4  2001:4490:0800:B658:0000:0000:0000:0001  "
      ]
     },
     "execution_count": 62,
     "metadata": {},
     "output_type": "execute_result"
    },
    {
     "ename": "",
     "evalue": "",
     "output_type": "error",
     "traceback": [
      "\u001b[1;31mnotebook controller is DISPOSED. \n",
      "\u001b[1;31mView Jupyter <a href='command:jupyter.viewOutput'>log</a> for further details."
     ]
    },
    {
     "ename": "",
     "evalue": "",
     "output_type": "error",
     "traceback": [
      "\u001b[1;31mnotebook controller is DISPOSED. \n",
      "\u001b[1;31mView Jupyter <a href='command:jupyter.viewOutput'>log</a> for further details."
     ]
    },
    {
     "ename": "",
     "evalue": "",
     "output_type": "error",
     "traceback": [
      "\u001b[1;31mnotebook controller is DISPOSED. \n",
      "\u001b[1;31mView Jupyter <a href='command:jupyter.viewOutput'>log</a> for further details."
     ]
    },
    {
     "ename": "",
     "evalue": "",
     "output_type": "error",
     "traceback": [
      "\u001b[1;31mnotebook controller is DISPOSED. \n",
      "\u001b[1;31mView Jupyter <a href='command:jupyter.viewOutput'>log</a> for further details."
     ]
    }
   ],
   "source": [
    "merge_asset_infra_nb_sb.head()"
   ]
  },
  {
   "cell_type": "code",
   "execution_count": null,
   "metadata": {},
   "outputs": [
    {
     "ename": "",
     "evalue": "",
     "output_type": "error",
     "traceback": [
      "\u001b[1;31mnotebook controller is DISPOSED. \n",
      "\u001b[1;31mView Jupyter <a href='command:jupyter.viewOutput'>log</a> for further details."
     ]
    },
    {
     "ename": "",
     "evalue": "",
     "output_type": "error",
     "traceback": [
      "\u001b[1;31mnotebook controller is DISPOSED. \n",
      "\u001b[1;31mView Jupyter <a href='command:jupyter.viewOutput'>log</a> for further details."
     ]
    },
    {
     "ename": "",
     "evalue": "",
     "output_type": "error",
     "traceback": [
      "\u001b[1;31mnotebook controller is DISPOSED. \n",
      "\u001b[1;31mView Jupyter <a href='command:jupyter.viewOutput'>log</a> for further details."
     ]
    },
    {
     "ename": "",
     "evalue": "",
     "output_type": "error",
     "traceback": [
      "\u001b[1;31mnotebook controller is DISPOSED. \n",
      "\u001b[1;31mView Jupyter <a href='command:jupyter.viewOutput'>log</a> for further details."
     ]
    }
   ],
   "source": []
  },
  {
   "cell_type": "code",
   "execution_count": null,
   "metadata": {},
   "outputs": [
    {
     "ename": "",
     "evalue": "",
     "output_type": "error",
     "traceback": [
      "\u001b[1;31mnotebook controller is DISPOSED. \n",
      "\u001b[1;31mView Jupyter <a href='command:jupyter.viewOutput'>log</a> for further details."
     ]
    },
    {
     "ename": "",
     "evalue": "",
     "output_type": "error",
     "traceback": [
      "\u001b[1;31mnotebook controller is DISPOSED. \n",
      "\u001b[1;31mView Jupyter <a href='command:jupyter.viewOutput'>log</a> for further details."
     ]
    },
    {
     "ename": "",
     "evalue": "",
     "output_type": "error",
     "traceback": [
      "\u001b[1;31mnotebook controller is DISPOSED. \n",
      "\u001b[1;31mView Jupyter <a href='command:jupyter.viewOutput'>log</a> for further details."
     ]
    },
    {
     "ename": "",
     "evalue": "",
     "output_type": "error",
     "traceback": [
      "\u001b[1;31mnotebook controller is DISPOSED. \n",
      "\u001b[1;31mView Jupyter <a href='command:jupyter.viewOutput'>log</a> for further details."
     ]
    }
   ],
   "source": [
    "merge_asset_infra_nb_sb.rename(\n",
    "    columns = {\"MDM_DECODE(D.ORG_ID,52,'SBPDCL',102,'NBPDCL')\":\"MDM_UTILITY\"},\n",
    "    inplace=True\n",
    ")\n"
   ]
  },
  {
   "cell_type": "code",
   "execution_count": null,
   "metadata": {},
   "outputs": [
    {
     "ename": "",
     "evalue": "",
     "output_type": "error",
     "traceback": [
      "\u001b[1;31mnotebook controller is DISPOSED. \n",
      "\u001b[1;31mView Jupyter <a href='command:jupyter.viewOutput'>log</a> for further details."
     ]
    },
    {
     "ename": "",
     "evalue": "",
     "output_type": "error",
     "traceback": [
      "\u001b[1;31mnotebook controller is DISPOSED. \n",
      "\u001b[1;31mView Jupyter <a href='command:jupyter.viewOutput'>log</a> for further details."
     ]
    },
    {
     "ename": "",
     "evalue": "",
     "output_type": "error",
     "traceback": [
      "\u001b[1;31mnotebook controller is DISPOSED. \n",
      "\u001b[1;31mView Jupyter <a href='command:jupyter.viewOutput'>log</a> for further details."
     ]
    },
    {
     "ename": "",
     "evalue": "",
     "output_type": "error",
     "traceback": [
      "\u001b[1;31mnotebook controller is DISPOSED. \n",
      "\u001b[1;31mView Jupyter <a href='command:jupyter.viewOutput'>log</a> for further details."
     ]
    }
   ],
   "source": [
    "merge_asset_infra_nb_sb.rename(columns={\"INSTALLATIONDATETIME\":\"HES_INSTALLATIONDATETIME\",\"ENTRYDATETIME\":\"HES_ENTRYDATETIME\",\n",
    "\"UTILITY\":\"HES_UTILITY\",\"UTILITYSITEID\":\"HES_UTILITYSITEID\",\"UTILITYDEVICEID\":\"HES_UTILITYDEVICEID\",\"STATENAME\":\"HES_STATENAME\",\"IP\":\"HES_IP\"},inplace=True)"
   ]
  },
  {
   "cell_type": "code",
   "execution_count": null,
   "metadata": {},
   "outputs": [
    {
     "ename": "",
     "evalue": "",
     "output_type": "error",
     "traceback": [
      "\u001b[1;31mnotebook controller is DISPOSED. \n",
      "\u001b[1;31mView Jupyter <a href='command:jupyter.viewOutput'>log</a> for further details."
     ]
    },
    {
     "ename": "",
     "evalue": "",
     "output_type": "error",
     "traceback": [
      "\u001b[1;31mnotebook controller is DISPOSED. \n",
      "\u001b[1;31mView Jupyter <a href='command:jupyter.viewOutput'>log</a> for further details."
     ]
    },
    {
     "ename": "",
     "evalue": "",
     "output_type": "error",
     "traceback": [
      "\u001b[1;31mnotebook controller is DISPOSED. \n",
      "\u001b[1;31mView Jupyter <a href='command:jupyter.viewOutput'>log</a> for further details."
     ]
    },
    {
     "ename": "",
     "evalue": "",
     "output_type": "error",
     "traceback": [
      "\u001b[1;31mnotebook controller is DISPOSED. \n",
      "\u001b[1;31mView Jupyter <a href='command:jupyter.viewOutput'>log</a> for further details."
     ]
    }
   ],
   "source": []
  },
  {
   "cell_type": "code",
   "execution_count": null,
   "metadata": {},
   "outputs": [
    {
     "ename": "",
     "evalue": "",
     "output_type": "error",
     "traceback": [
      "\u001b[1;31mnotebook controller is DISPOSED. \n",
      "\u001b[1;31mView Jupyter <a href='command:jupyter.viewOutput'>log</a> for further details."
     ]
    },
    {
     "ename": "",
     "evalue": "",
     "output_type": "error",
     "traceback": [
      "\u001b[1;31mnotebook controller is DISPOSED. \n",
      "\u001b[1;31mView Jupyter <a href='command:jupyter.viewOutput'>log</a> for further details."
     ]
    },
    {
     "ename": "",
     "evalue": "",
     "output_type": "error",
     "traceback": [
      "\u001b[1;31mnotebook controller is DISPOSED. \n",
      "\u001b[1;31mView Jupyter <a href='command:jupyter.viewOutput'>log</a> for further details."
     ]
    },
    {
     "ename": "",
     "evalue": "",
     "output_type": "error",
     "traceback": [
      "\u001b[1;31mnotebook controller is DISPOSED. \n",
      "\u001b[1;31mView Jupyter <a href='command:jupyter.viewOutput'>log</a> for further details."
     ]
    }
   ],
   "source": [
    "MERGE_MDM_HES_SB = merge_asset_infra_nb_sb[merge_asset_infra_nb_sb['MDM_UTILITY']=='SBPDCL']"
   ]
  },
  {
   "cell_type": "code",
   "execution_count": null,
   "metadata": {},
   "outputs": [
    {
     "ename": "",
     "evalue": "",
     "output_type": "error",
     "traceback": [
      "\u001b[1;31mnotebook controller is DISPOSED. \n",
      "\u001b[1;31mView Jupyter <a href='command:jupyter.viewOutput'>log</a> for further details."
     ]
    },
    {
     "ename": "",
     "evalue": "",
     "output_type": "error",
     "traceback": [
      "\u001b[1;31mnotebook controller is DISPOSED. \n",
      "\u001b[1;31mView Jupyter <a href='command:jupyter.viewOutput'>log</a> for further details."
     ]
    },
    {
     "ename": "",
     "evalue": "",
     "output_type": "error",
     "traceback": [
      "\u001b[1;31mnotebook controller is DISPOSED. \n",
      "\u001b[1;31mView Jupyter <a href='command:jupyter.viewOutput'>log</a> for further details."
     ]
    },
    {
     "ename": "",
     "evalue": "",
     "output_type": "error",
     "traceback": [
      "\u001b[1;31mnotebook controller is DISPOSED. \n",
      "\u001b[1;31mView Jupyter <a href='command:jupyter.viewOutput'>log</a> for further details."
     ]
    }
   ],
   "source": [
    "MERGE_MDM_HES_NB = merge_asset_infra_nb_sb[merge_asset_infra_nb_sb['MDM_UTILITY']=='NBPDCL']"
   ]
  },
  {
   "cell_type": "code",
   "execution_count": null,
   "metadata": {},
   "outputs": [
    {
     "ename": "",
     "evalue": "",
     "output_type": "error",
     "traceback": [
      "\u001b[1;31mnotebook controller is DISPOSED. \n",
      "\u001b[1;31mView Jupyter <a href='command:jupyter.viewOutput'>log</a> for further details."
     ]
    },
    {
     "ename": "",
     "evalue": "",
     "output_type": "error",
     "traceback": [
      "\u001b[1;31mnotebook controller is DISPOSED. \n",
      "\u001b[1;31mView Jupyter <a href='command:jupyter.viewOutput'>log</a> for further details."
     ]
    },
    {
     "ename": "",
     "evalue": "",
     "output_type": "error",
     "traceback": [
      "\u001b[1;31mnotebook controller is DISPOSED. \n",
      "\u001b[1;31mView Jupyter <a href='command:jupyter.viewOutput'>log</a> for further details."
     ]
    },
    {
     "ename": "",
     "evalue": "",
     "output_type": "error",
     "traceback": [
      "\u001b[1;31mnotebook controller is DISPOSED. \n",
      "\u001b[1;31mView Jupyter <a href='command:jupyter.viewOutput'>log</a> for further details."
     ]
    }
   ],
   "source": [
    "MERGE_MDM_HES_SB.to_csv(r\"C:\\Users\\Ratan Kumar Jha\\Desktop\\hes_mdm\\OUTPUT FOLDER\\MERGE_MDM_HES_SB.csv\",index=False)\n",
    "MERGE_MDM_HES_NB.to_csv(r\"C:\\Users\\Ratan Kumar Jha\\Desktop\\hes_mdm\\OUTPUT FOLDER\\MERGE_MDM_HES_NB.csv\",index=False)"
   ]
  },
  {
   "cell_type": "code",
   "execution_count": null,
   "metadata": {},
   "outputs": [
    {
     "ename": "",
     "evalue": "",
     "output_type": "error",
     "traceback": [
      "\u001b[1;31mnotebook controller is DISPOSED. \n",
      "\u001b[1;31mView Jupyter <a href='command:jupyter.viewOutput'>log</a> for further details."
     ]
    },
    {
     "ename": "",
     "evalue": "",
     "output_type": "error",
     "traceback": [
      "\u001b[1;31mnotebook controller is DISPOSED. \n",
      "\u001b[1;31mView Jupyter <a href='command:jupyter.viewOutput'>log</a> for further details."
     ]
    },
    {
     "ename": "",
     "evalue": "",
     "output_type": "error",
     "traceback": [
      "\u001b[1;31mnotebook controller is DISPOSED. \n",
      "\u001b[1;31mView Jupyter <a href='command:jupyter.viewOutput'>log</a> for further details."
     ]
    },
    {
     "ename": "",
     "evalue": "",
     "output_type": "error",
     "traceback": [
      "\u001b[1;31mnotebook controller is DISPOSED. \n",
      "\u001b[1;31mView Jupyter <a href='command:jupyter.viewOutput'>log</a> for further details."
     ]
    }
   ],
   "source": []
  },
  {
   "cell_type": "markdown",
   "metadata": {},
   "source": [
    "# HES AND MDM COMPARISON"
   ]
  },
  {
   "cell_type": "code",
   "execution_count": null,
   "metadata": {},
   "outputs": [
    {
     "data": {
      "text/html": [
       "<div>\n",
       "<style scoped>\n",
       "    .dataframe tbody tr th:only-of-type {\n",
       "        vertical-align: middle;\n",
       "    }\n",
       "\n",
       "    .dataframe tbody tr th {\n",
       "        vertical-align: top;\n",
       "    }\n",
       "\n",
       "    .dataframe thead th {\n",
       "        text-align: right;\n",
       "    }\n",
       "</style>\n",
       "<table border=\"1\" class=\"dataframe\">\n",
       "  <thead>\n",
       "    <tr style=\"text-align: right;\">\n",
       "      <th></th>\n",
       "      <th>MDM_METERNUMBER</th>\n",
       "      <th>MDM_UDC_ID</th>\n",
       "      <th>MDM_NETWORK_ID</th>\n",
       "      <th>MDM_INSTALLATIONNUMBER</th>\n",
       "      <th>MDM_STATUS</th>\n",
       "      <th>MDM_INSERT_TIME</th>\n",
       "      <th>MDM_UTILITY</th>\n",
       "      <th>HES_INSTALLATIONDATETIME</th>\n",
       "      <th>HES_ENTRYDATETIME</th>\n",
       "      <th>HES_UTILITY</th>\n",
       "      <th>HES_UTILITYSITEID</th>\n",
       "      <th>HES_UTILITYDEVICEID</th>\n",
       "      <th>HES_STATENAME</th>\n",
       "      <th>HES_IP</th>\n",
       "    </tr>\n",
       "  </thead>\n",
       "  <tbody>\n",
       "    <tr>\n",
       "      <th>0</th>\n",
       "      <td>GOEGP4970294</td>\n",
       "      <td>404759210464358</td>\n",
       "      <td>2001:4490:0800:5F25:0000:0000:0000:0001</td>\n",
       "      <td>nan</td>\n",
       "      <td>Meter Shop</td>\n",
       "      <td>8/7/2019 1:26:44 PM</td>\n",
       "      <td>SBPDCL</td>\n",
       "      <td>NaN</td>\n",
       "      <td>NaN</td>\n",
       "      <td>NaN</td>\n",
       "      <td>NaN</td>\n",
       "      <td>NaN</td>\n",
       "      <td>NaN</td>\n",
       "      <td>NaN</td>\n",
       "    </tr>\n",
       "    <tr>\n",
       "      <th>1</th>\n",
       "      <td>GOEGP4962320</td>\n",
       "      <td>404751250451741</td>\n",
       "      <td>2001:4490:0800:A6F5:0000:0000:0000:1</td>\n",
       "      <td>ARWARL9082</td>\n",
       "      <td>Installed</td>\n",
       "      <td>9/2/2019 1:08:20 AM</td>\n",
       "      <td>SBPDCL</td>\n",
       "      <td>9/4/2019 10:33:55 PM</td>\n",
       "      <td>8/16/2019 4:10:02 PM</td>\n",
       "      <td>SBPDCL</td>\n",
       "      <td>ARWARL9082</td>\n",
       "      <td>GOEGP4962320</td>\n",
       "      <td>Imported&amp;&amp;Installed</td>\n",
       "      <td>2001:4490:0800:A6F5:0000:0000:0000:0001</td>\n",
       "    </tr>\n",
       "    <tr>\n",
       "      <th>2</th>\n",
       "      <td>GOEGP4964119</td>\n",
       "      <td>404751250456722</td>\n",
       "      <td>2001:4490:0800:B5B4:0000:0000:0000:0001</td>\n",
       "      <td>5001507481</td>\n",
       "      <td>Installed</td>\n",
       "      <td>9/9/2019 1:02:10 AM</td>\n",
       "      <td>SBPDCL</td>\n",
       "      <td>3/6/2020 4:09:01 PM</td>\n",
       "      <td>9/7/2019 2:10:08 AM</td>\n",
       "      <td>SBPDCL</td>\n",
       "      <td>5001507481</td>\n",
       "      <td>GOEGP4964119</td>\n",
       "      <td>Installed&amp;&amp;Imported</td>\n",
       "      <td>2001:4490:0800:B5B4:0000:0000:0000:0001</td>\n",
       "    </tr>\n",
       "    <tr>\n",
       "      <th>3</th>\n",
       "      <td>GOEGP4964992</td>\n",
       "      <td>404751250456883</td>\n",
       "      <td>2001:4490:0800:B655:0000:0000:0000:0001</td>\n",
       "      <td>ARWARL8832</td>\n",
       "      <td>Installed</td>\n",
       "      <td>9/9/2019 1:02:10 AM</td>\n",
       "      <td>SBPDCL</td>\n",
       "      <td>9/13/2019 10:44:38 PM</td>\n",
       "      <td>9/7/2019 7:58:58 PM</td>\n",
       "      <td>SBPDCL</td>\n",
       "      <td>ARWARL8832</td>\n",
       "      <td>GOEGP4964992</td>\n",
       "      <td>Imported&amp;&amp;Installed</td>\n",
       "      <td>2001:4490:0800:B655:0000:0000:0000:0001</td>\n",
       "    </tr>\n",
       "    <tr>\n",
       "      <th>4</th>\n",
       "      <td>GOEGP4964995</td>\n",
       "      <td>404751250456886</td>\n",
       "      <td>2001:4490:0800:B658:0000:0000:0000:0001</td>\n",
       "      <td>ARWARL17057</td>\n",
       "      <td>Installed</td>\n",
       "      <td>9/9/2019 1:02:10 AM</td>\n",
       "      <td>SBPDCL</td>\n",
       "      <td>9/13/2019 10:49:21 PM</td>\n",
       "      <td>9/7/2019 7:58:54 PM</td>\n",
       "      <td>SBPDCL</td>\n",
       "      <td>ARWARL17057</td>\n",
       "      <td>GOEGP4964995</td>\n",
       "      <td>Imported&amp;&amp;Installed</td>\n",
       "      <td>2001:4490:0800:B658:0000:0000:0000:0001</td>\n",
       "    </tr>\n",
       "  </tbody>\n",
       "</table>\n",
       "</div>"
      ],
      "text/plain": [
       "  MDM_METERNUMBER       MDM_UDC_ID                           MDM_NETWORK_ID  \\\n",
       "0    GOEGP4970294  404759210464358  2001:4490:0800:5F25:0000:0000:0000:0001   \n",
       "1    GOEGP4962320  404751250451741     2001:4490:0800:A6F5:0000:0000:0000:1   \n",
       "2    GOEGP4964119  404751250456722  2001:4490:0800:B5B4:0000:0000:0000:0001   \n",
       "3    GOEGP4964992  404751250456883  2001:4490:0800:B655:0000:0000:0000:0001   \n",
       "4    GOEGP4964995  404751250456886  2001:4490:0800:B658:0000:0000:0000:0001   \n",
       "\n",
       "  MDM_INSTALLATIONNUMBER  MDM_STATUS      MDM_INSERT_TIME MDM_UTILITY  \\\n",
       "0                    nan  Meter Shop  8/7/2019 1:26:44 PM      SBPDCL   \n",
       "1             ARWARL9082   Installed  9/2/2019 1:08:20 AM      SBPDCL   \n",
       "2             5001507481   Installed  9/9/2019 1:02:10 AM      SBPDCL   \n",
       "3             ARWARL8832   Installed  9/9/2019 1:02:10 AM      SBPDCL   \n",
       "4            ARWARL17057   Installed  9/9/2019 1:02:10 AM      SBPDCL   \n",
       "\n",
       "  HES_INSTALLATIONDATETIME     HES_ENTRYDATETIME HES_UTILITY  \\\n",
       "0                      NaN                   NaN         NaN   \n",
       "1     9/4/2019 10:33:55 PM  8/16/2019 4:10:02 PM      SBPDCL   \n",
       "2      3/6/2020 4:09:01 PM   9/7/2019 2:10:08 AM      SBPDCL   \n",
       "3    9/13/2019 10:44:38 PM   9/7/2019 7:58:58 PM      SBPDCL   \n",
       "4    9/13/2019 10:49:21 PM   9/7/2019 7:58:54 PM      SBPDCL   \n",
       "\n",
       "  HES_UTILITYSITEID HES_UTILITYDEVICEID        HES_STATENAME  \\\n",
       "0               NaN                 NaN                  NaN   \n",
       "1        ARWARL9082        GOEGP4962320  Imported&&Installed   \n",
       "2        5001507481        GOEGP4964119  Installed&&Imported   \n",
       "3        ARWARL8832        GOEGP4964992  Imported&&Installed   \n",
       "4       ARWARL17057        GOEGP4964995  Imported&&Installed   \n",
       "\n",
       "                                    HES_IP  \n",
       "0                                      NaN  \n",
       "1  2001:4490:0800:A6F5:0000:0000:0000:0001  \n",
       "2  2001:4490:0800:B5B4:0000:0000:0000:0001  \n",
       "3  2001:4490:0800:B655:0000:0000:0000:0001  \n",
       "4  2001:4490:0800:B658:0000:0000:0000:0001  "
      ]
     },
     "execution_count": 70,
     "metadata": {},
     "output_type": "execute_result"
    },
    {
     "ename": "",
     "evalue": "",
     "output_type": "error",
     "traceback": [
      "\u001b[1;31mnotebook controller is DISPOSED. \n",
      "\u001b[1;31mView Jupyter <a href='command:jupyter.viewOutput'>log</a> for further details."
     ]
    },
    {
     "ename": "",
     "evalue": "",
     "output_type": "error",
     "traceback": [
      "\u001b[1;31mnotebook controller is DISPOSED. \n",
      "\u001b[1;31mView Jupyter <a href='command:jupyter.viewOutput'>log</a> for further details."
     ]
    },
    {
     "ename": "",
     "evalue": "",
     "output_type": "error",
     "traceback": [
      "\u001b[1;31mnotebook controller is DISPOSED. \n",
      "\u001b[1;31mView Jupyter <a href='command:jupyter.viewOutput'>log</a> for further details."
     ]
    },
    {
     "ename": "",
     "evalue": "",
     "output_type": "error",
     "traceback": [
      "\u001b[1;31mnotebook controller is DISPOSED. \n",
      "\u001b[1;31mView Jupyter <a href='command:jupyter.viewOutput'>log</a> for further details."
     ]
    }
   ],
   "source": [
    "MERGE_MDM_HES_SB.head()"
   ]
  },
  {
   "cell_type": "markdown",
   "metadata": {},
   "source": [
    "### 1.  MDM UTILITY == SBPDCL   and  HES UTILITY == NBPDCL"
   ]
  },
  {
   "cell_type": "code",
   "execution_count": null,
   "metadata": {},
   "outputs": [
    {
     "ename": "",
     "evalue": "",
     "output_type": "error",
     "traceback": [
      "\u001b[1;31mnotebook controller is DISPOSED. \n",
      "\u001b[1;31mView Jupyter <a href='command:jupyter.viewOutput'>log</a> for further details."
     ]
    },
    {
     "ename": "",
     "evalue": "",
     "output_type": "error",
     "traceback": [
      "\u001b[1;31mnotebook controller is DISPOSED. \n",
      "\u001b[1;31mView Jupyter <a href='command:jupyter.viewOutput'>log</a> for further details."
     ]
    },
    {
     "ename": "",
     "evalue": "",
     "output_type": "error",
     "traceback": [
      "\u001b[1;31mnotebook controller is DISPOSED. \n",
      "\u001b[1;31mView Jupyter <a href='command:jupyter.viewOutput'>log</a> for further details."
     ]
    },
    {
     "ename": "",
     "evalue": "",
     "output_type": "error",
     "traceback": [
      "\u001b[1;31mnotebook controller is DISPOSED. \n",
      "\u001b[1;31mView Jupyter <a href='command:jupyter.viewOutput'>log</a> for further details."
     ]
    }
   ],
   "source": [
    "SB_DATA_CHECK_UTILITY_MDM_SB_HES_NB=MERGE_MDM_HES_SB[(MERGE_MDM_HES_SB['MDM_UTILITY']=='SBPDCL') & (MERGE_MDM_HES_SB['HES_UTILITY'] =='NBPDCL') ]"
   ]
  },
  {
   "cell_type": "code",
   "execution_count": null,
   "metadata": {},
   "outputs": [
    {
     "ename": "",
     "evalue": "",
     "output_type": "error",
     "traceback": [
      "\u001b[1;31mnotebook controller is DISPOSED. \n",
      "\u001b[1;31mView Jupyter <a href='command:jupyter.viewOutput'>log</a> for further details."
     ]
    },
    {
     "ename": "",
     "evalue": "",
     "output_type": "error",
     "traceback": [
      "\u001b[1;31mnotebook controller is DISPOSED. \n",
      "\u001b[1;31mView Jupyter <a href='command:jupyter.viewOutput'>log</a> for further details."
     ]
    },
    {
     "ename": "",
     "evalue": "",
     "output_type": "error",
     "traceback": [
      "\u001b[1;31mnotebook controller is DISPOSED. \n",
      "\u001b[1;31mView Jupyter <a href='command:jupyter.viewOutput'>log</a> for further details."
     ]
    },
    {
     "ename": "",
     "evalue": "",
     "output_type": "error",
     "traceback": [
      "\u001b[1;31mnotebook controller is DISPOSED. \n",
      "\u001b[1;31mView Jupyter <a href='command:jupyter.viewOutput'>log</a> for further details."
     ]
    }
   ],
   "source": [
    "SB_DATA_CHECK_UTILITY_MDM_SB_HES_NB.to_csv(r\"C:\\Users\\Ratan Kumar Jha\\Desktop\\hes_mdm\\OUTPUT FOLDER\\SB_DATA_CHECK_UTILITY_MDM_SB_HES_NB.csv\",index=False)"
   ]
  },
  {
   "cell_type": "code",
   "execution_count": null,
   "metadata": {},
   "outputs": [
    {
     "ename": "",
     "evalue": "",
     "output_type": "error",
     "traceback": [
      "\u001b[1;31mnotebook controller is DISPOSED. \n",
      "\u001b[1;31mView Jupyter <a href='command:jupyter.viewOutput'>log</a> for further details."
     ]
    },
    {
     "ename": "",
     "evalue": "",
     "output_type": "error",
     "traceback": [
      "\u001b[1;31mnotebook controller is DISPOSED. \n",
      "\u001b[1;31mView Jupyter <a href='command:jupyter.viewOutput'>log</a> for further details."
     ]
    },
    {
     "ename": "",
     "evalue": "",
     "output_type": "error",
     "traceback": [
      "\u001b[1;31mnotebook controller is DISPOSED. \n",
      "\u001b[1;31mView Jupyter <a href='command:jupyter.viewOutput'>log</a> for further details."
     ]
    },
    {
     "ename": "",
     "evalue": "",
     "output_type": "error",
     "traceback": [
      "\u001b[1;31mnotebook controller is DISPOSED. \n",
      "\u001b[1;31mView Jupyter <a href='command:jupyter.viewOutput'>log</a> for further details."
     ]
    }
   ],
   "source": []
  },
  {
   "cell_type": "code",
   "execution_count": null,
   "metadata": {},
   "outputs": [
    {
     "data": {
      "text/html": [
       "<div>\n",
       "<style scoped>\n",
       "    .dataframe tbody tr th:only-of-type {\n",
       "        vertical-align: middle;\n",
       "    }\n",
       "\n",
       "    .dataframe tbody tr th {\n",
       "        vertical-align: top;\n",
       "    }\n",
       "\n",
       "    .dataframe thead th {\n",
       "        text-align: right;\n",
       "    }\n",
       "</style>\n",
       "<table border=\"1\" class=\"dataframe\">\n",
       "  <thead>\n",
       "    <tr style=\"text-align: right;\">\n",
       "      <th></th>\n",
       "      <th>MDM_METERNUMBER</th>\n",
       "      <th>MDM_UDC_ID</th>\n",
       "      <th>MDM_NETWORK_ID</th>\n",
       "      <th>MDM_INSTALLATIONNUMBER</th>\n",
       "      <th>MDM_STATUS</th>\n",
       "      <th>MDM_INSERT_TIME</th>\n",
       "      <th>MDM_UTILITY</th>\n",
       "      <th>HES_INSTALLATIONDATETIME</th>\n",
       "      <th>HES_ENTRYDATETIME</th>\n",
       "      <th>HES_UTILITY</th>\n",
       "      <th>HES_UTILITYSITEID</th>\n",
       "      <th>HES_UTILITYDEVICEID</th>\n",
       "      <th>HES_STATENAME</th>\n",
       "      <th>HES_IP</th>\n",
       "    </tr>\n",
       "  </thead>\n",
       "  <tbody>\n",
       "    <tr>\n",
       "      <th>0</th>\n",
       "      <td>GOEGP4970294</td>\n",
       "      <td>404759210464358</td>\n",
       "      <td>2001:4490:0800:5F25:0000:0000:0000:0001</td>\n",
       "      <td>nan</td>\n",
       "      <td>Meter Shop</td>\n",
       "      <td>8/7/2019 1:26:44 PM</td>\n",
       "      <td>SBPDCL</td>\n",
       "      <td>NaN</td>\n",
       "      <td>NaN</td>\n",
       "      <td>NaN</td>\n",
       "      <td>NaN</td>\n",
       "      <td>NaN</td>\n",
       "      <td>NaN</td>\n",
       "      <td>NaN</td>\n",
       "    </tr>\n",
       "    <tr>\n",
       "      <th>1</th>\n",
       "      <td>GOEGP4962320</td>\n",
       "      <td>404751250451741</td>\n",
       "      <td>2001:4490:0800:A6F5:0000:0000:0000:1</td>\n",
       "      <td>ARWARL9082</td>\n",
       "      <td>Installed</td>\n",
       "      <td>9/2/2019 1:08:20 AM</td>\n",
       "      <td>SBPDCL</td>\n",
       "      <td>9/4/2019 10:33:55 PM</td>\n",
       "      <td>8/16/2019 4:10:02 PM</td>\n",
       "      <td>SBPDCL</td>\n",
       "      <td>ARWARL9082</td>\n",
       "      <td>GOEGP4962320</td>\n",
       "      <td>Imported&amp;&amp;Installed</td>\n",
       "      <td>2001:4490:0800:A6F5:0000:0000:0000:0001</td>\n",
       "    </tr>\n",
       "  </tbody>\n",
       "</table>\n",
       "</div>"
      ],
      "text/plain": [
       "  MDM_METERNUMBER       MDM_UDC_ID                           MDM_NETWORK_ID  \\\n",
       "0    GOEGP4970294  404759210464358  2001:4490:0800:5F25:0000:0000:0000:0001   \n",
       "1    GOEGP4962320  404751250451741     2001:4490:0800:A6F5:0000:0000:0000:1   \n",
       "\n",
       "  MDM_INSTALLATIONNUMBER  MDM_STATUS      MDM_INSERT_TIME MDM_UTILITY  \\\n",
       "0                    nan  Meter Shop  8/7/2019 1:26:44 PM      SBPDCL   \n",
       "1             ARWARL9082   Installed  9/2/2019 1:08:20 AM      SBPDCL   \n",
       "\n",
       "  HES_INSTALLATIONDATETIME     HES_ENTRYDATETIME HES_UTILITY  \\\n",
       "0                      NaN                   NaN         NaN   \n",
       "1     9/4/2019 10:33:55 PM  8/16/2019 4:10:02 PM      SBPDCL   \n",
       "\n",
       "  HES_UTILITYSITEID HES_UTILITYDEVICEID        HES_STATENAME  \\\n",
       "0               NaN                 NaN                  NaN   \n",
       "1        ARWARL9082        GOEGP4962320  Imported&&Installed   \n",
       "\n",
       "                                    HES_IP  \n",
       "0                                      NaN  \n",
       "1  2001:4490:0800:A6F5:0000:0000:0000:0001  "
      ]
     },
     "execution_count": 101,
     "metadata": {},
     "output_type": "execute_result"
    },
    {
     "ename": "",
     "evalue": "",
     "output_type": "error",
     "traceback": [
      "\u001b[1;31mnotebook controller is DISPOSED. \n",
      "\u001b[1;31mView Jupyter <a href='command:jupyter.viewOutput'>log</a> for further details."
     ]
    },
    {
     "ename": "",
     "evalue": "",
     "output_type": "error",
     "traceback": [
      "\u001b[1;31mnotebook controller is DISPOSED. \n",
      "\u001b[1;31mView Jupyter <a href='command:jupyter.viewOutput'>log</a> for further details."
     ]
    },
    {
     "ename": "",
     "evalue": "",
     "output_type": "error",
     "traceback": [
      "\u001b[1;31mnotebook controller is DISPOSED. \n",
      "\u001b[1;31mView Jupyter <a href='command:jupyter.viewOutput'>log</a> for further details."
     ]
    },
    {
     "ename": "",
     "evalue": "",
     "output_type": "error",
     "traceback": [
      "\u001b[1;31mnotebook controller is DISPOSED. \n",
      "\u001b[1;31mView Jupyter <a href='command:jupyter.viewOutput'>log</a> for further details."
     ]
    }
   ],
   "source": [
    "MERGE_MDM_HES_SB.head(2)"
   ]
  },
  {
   "cell_type": "markdown",
   "metadata": {},
   "source": [
    "### 2. IP DIFF IN MDM AND HES  "
   ]
  },
  {
   "cell_type": "code",
   "execution_count": null,
   "metadata": {},
   "outputs": [
    {
     "ename": "",
     "evalue": "",
     "output_type": "error",
     "traceback": [
      "\u001b[1;31mnotebook controller is DISPOSED. \n",
      "\u001b[1;31mView Jupyter <a href='command:jupyter.viewOutput'>log</a> for further details."
     ]
    },
    {
     "ename": "",
     "evalue": "",
     "output_type": "error",
     "traceback": [
      "\u001b[1;31mnotebook controller is DISPOSED. \n",
      "\u001b[1;31mView Jupyter <a href='command:jupyter.viewOutput'>log</a> for further details."
     ]
    },
    {
     "ename": "",
     "evalue": "",
     "output_type": "error",
     "traceback": [
      "\u001b[1;31mnotebook controller is DISPOSED. \n",
      "\u001b[1;31mView Jupyter <a href='command:jupyter.viewOutput'>log</a> for further details."
     ]
    },
    {
     "ename": "",
     "evalue": "",
     "output_type": "error",
     "traceback": [
      "\u001b[1;31mnotebook controller is DISPOSED. \n",
      "\u001b[1;31mView Jupyter <a href='command:jupyter.viewOutput'>log</a> for further details."
     ]
    }
   ],
   "source": [
    "SB_DATA_CHECK_IP_MDM_AND_HES = MERGE_MDM_HES_SB[(MERGE_MDM_HES_SB['MDM_NETWORK_ID']!=MERGE_MDM_HES_SB['HES_IP']) & (MERGE_MDM_HES_SB['HES_IP'].notnull())]"
   ]
  },
  {
   "cell_type": "code",
   "execution_count": null,
   "metadata": {},
   "outputs": [
    {
     "ename": "",
     "evalue": "",
     "output_type": "error",
     "traceback": [
      "\u001b[1;31mnotebook controller is DISPOSED. \n",
      "\u001b[1;31mView Jupyter <a href='command:jupyter.viewOutput'>log</a> for further details."
     ]
    },
    {
     "ename": "",
     "evalue": "",
     "output_type": "error",
     "traceback": [
      "\u001b[1;31mnotebook controller is DISPOSED. \n",
      "\u001b[1;31mView Jupyter <a href='command:jupyter.viewOutput'>log</a> for further details."
     ]
    },
    {
     "ename": "",
     "evalue": "",
     "output_type": "error",
     "traceback": [
      "\u001b[1;31mnotebook controller is DISPOSED. \n",
      "\u001b[1;31mView Jupyter <a href='command:jupyter.viewOutput'>log</a> for further details."
     ]
    },
    {
     "ename": "",
     "evalue": "",
     "output_type": "error",
     "traceback": [
      "\u001b[1;31mnotebook controller is DISPOSED. \n",
      "\u001b[1;31mView Jupyter <a href='command:jupyter.viewOutput'>log</a> for further details."
     ]
    }
   ],
   "source": [
    "SB_DATA_CHECK_IP_MDM_AND_HES.to_csv(r\"C:\\Users\\Ratan Kumar Jha\\Desktop\\hes_mdm\\OUTPUT FOLDER\\SB_DATA_CHECK_IP_MDM_AND_HES.csv\",index=False)"
   ]
  },
  {
   "cell_type": "code",
   "execution_count": null,
   "metadata": {},
   "outputs": [
    {
     "data": {
      "text/plain": [
       "(38008, 14)"
      ]
     },
     "execution_count": 98,
     "metadata": {},
     "output_type": "execute_result"
    },
    {
     "ename": "",
     "evalue": "",
     "output_type": "error",
     "traceback": [
      "\u001b[1;31mnotebook controller is DISPOSED. \n",
      "\u001b[1;31mView Jupyter <a href='command:jupyter.viewOutput'>log</a> for further details."
     ]
    },
    {
     "ename": "",
     "evalue": "",
     "output_type": "error",
     "traceback": [
      "\u001b[1;31mnotebook controller is DISPOSED. \n",
      "\u001b[1;31mView Jupyter <a href='command:jupyter.viewOutput'>log</a> for further details."
     ]
    },
    {
     "ename": "",
     "evalue": "",
     "output_type": "error",
     "traceback": [
      "\u001b[1;31mnotebook controller is DISPOSED. \n",
      "\u001b[1;31mView Jupyter <a href='command:jupyter.viewOutput'>log</a> for further details."
     ]
    },
    {
     "ename": "",
     "evalue": "",
     "output_type": "error",
     "traceback": [
      "\u001b[1;31mnotebook controller is DISPOSED. \n",
      "\u001b[1;31mView Jupyter <a href='command:jupyter.viewOutput'>log</a> for further details."
     ]
    }
   ],
   "source": []
  },
  {
   "cell_type": "code",
   "execution_count": null,
   "metadata": {},
   "outputs": [
    {
     "ename": "",
     "evalue": "",
     "output_type": "error",
     "traceback": [
      "\u001b[1;31mnotebook controller is DISPOSED. \n",
      "\u001b[1;31mView Jupyter <a href='command:jupyter.viewOutput'>log</a> for further details."
     ]
    },
    {
     "ename": "",
     "evalue": "",
     "output_type": "error",
     "traceback": [
      "\u001b[1;31mnotebook controller is DISPOSED. \n",
      "\u001b[1;31mView Jupyter <a href='command:jupyter.viewOutput'>log</a> for further details."
     ]
    },
    {
     "ename": "",
     "evalue": "",
     "output_type": "error",
     "traceback": [
      "\u001b[1;31mnotebook controller is DISPOSED. \n",
      "\u001b[1;31mView Jupyter <a href='command:jupyter.viewOutput'>log</a> for further details."
     ]
    },
    {
     "ename": "",
     "evalue": "",
     "output_type": "error",
     "traceback": [
      "\u001b[1;31mnotebook controller is DISPOSED. \n",
      "\u001b[1;31mView Jupyter <a href='command:jupyter.viewOutput'>log</a> for further details."
     ]
    }
   ],
   "source": [
    "### 3. INSTALLATION NO. DIFF IN MDM AND HES "
   ]
  },
  {
   "cell_type": "code",
   "execution_count": null,
   "metadata": {},
   "outputs": [
    {
     "ename": "",
     "evalue": "",
     "output_type": "error",
     "traceback": [
      "\u001b[1;31mnotebook controller is DISPOSED. \n",
      "\u001b[1;31mView Jupyter <a href='command:jupyter.viewOutput'>log</a> for further details."
     ]
    },
    {
     "ename": "",
     "evalue": "",
     "output_type": "error",
     "traceback": [
      "\u001b[1;31mnotebook controller is DISPOSED. \n",
      "\u001b[1;31mView Jupyter <a href='command:jupyter.viewOutput'>log</a> for further details."
     ]
    },
    {
     "ename": "",
     "evalue": "",
     "output_type": "error",
     "traceback": [
      "\u001b[1;31mnotebook controller is DISPOSED. \n",
      "\u001b[1;31mView Jupyter <a href='command:jupyter.viewOutput'>log</a> for further details."
     ]
    },
    {
     "ename": "",
     "evalue": "",
     "output_type": "error",
     "traceback": [
      "\u001b[1;31mnotebook controller is DISPOSED. \n",
      "\u001b[1;31mView Jupyter <a href='command:jupyter.viewOutput'>log</a> for further details."
     ]
    }
   ],
   "source": [
    "SB_DATA_CHECK_INSTALLATION_MDM_AND_HES = MERGE_MDM_HES_SB[(MERGE_MDM_HES_SB['MDM_INSTALLATIONNUMBER'] != MERGE_MDM_HES_SB['HES_UTILITYSITEID']) & (MERGE_MDM_HES_SB['HES_UTILITYSITEID'].notnull())]"
   ]
  },
  {
   "cell_type": "code",
   "execution_count": null,
   "metadata": {},
   "outputs": [
    {
     "ename": "",
     "evalue": "",
     "output_type": "error",
     "traceback": [
      "\u001b[1;31mnotebook controller is DISPOSED. \n",
      "\u001b[1;31mView Jupyter <a href='command:jupyter.viewOutput'>log</a> for further details."
     ]
    },
    {
     "ename": "",
     "evalue": "",
     "output_type": "error",
     "traceback": [
      "\u001b[1;31mnotebook controller is DISPOSED. \n",
      "\u001b[1;31mView Jupyter <a href='command:jupyter.viewOutput'>log</a> for further details."
     ]
    },
    {
     "ename": "",
     "evalue": "",
     "output_type": "error",
     "traceback": [
      "\u001b[1;31mnotebook controller is DISPOSED. \n",
      "\u001b[1;31mView Jupyter <a href='command:jupyter.viewOutput'>log</a> for further details."
     ]
    },
    {
     "ename": "",
     "evalue": "",
     "output_type": "error",
     "traceback": [
      "\u001b[1;31mnotebook controller is DISPOSED. \n",
      "\u001b[1;31mView Jupyter <a href='command:jupyter.viewOutput'>log</a> for further details."
     ]
    }
   ],
   "source": [
    "SB_DATA_CHECK_INSTALLATION_MDM_AND_HES.to_csv(r\"C:\\Users\\Ratan Kumar Jha\\Desktop\\hes_mdm\\OUTPUT FOLDER\\SB_DATA_CHECK_INSTALLATION_MDM_AND_HES.csv\",index=False)"
   ]
  },
  {
   "cell_type": "code",
   "execution_count": null,
   "metadata": {},
   "outputs": [
    {
     "data": {
      "text/html": [
       "<div>\n",
       "<style scoped>\n",
       "    .dataframe tbody tr th:only-of-type {\n",
       "        vertical-align: middle;\n",
       "    }\n",
       "\n",
       "    .dataframe tbody tr th {\n",
       "        vertical-align: top;\n",
       "    }\n",
       "\n",
       "    .dataframe thead th {\n",
       "        text-align: right;\n",
       "    }\n",
       "</style>\n",
       "<table border=\"1\" class=\"dataframe\">\n",
       "  <thead>\n",
       "    <tr style=\"text-align: right;\">\n",
       "      <th></th>\n",
       "      <th>MDM_METERNUMBER</th>\n",
       "      <th>MDM_UDC_ID</th>\n",
       "      <th>MDM_NETWORK_ID</th>\n",
       "      <th>MDM_INSTALLATIONNUMBER</th>\n",
       "      <th>MDM_STATUS</th>\n",
       "      <th>MDM_INSERT_TIME</th>\n",
       "      <th>MDM_UTILITY</th>\n",
       "      <th>HES_INSTALLATIONDATETIME</th>\n",
       "      <th>HES_ENTRYDATETIME</th>\n",
       "      <th>HES_UTILITY</th>\n",
       "      <th>HES_UTILITYSITEID</th>\n",
       "      <th>HES_UTILITYDEVICEID</th>\n",
       "      <th>HES_STATENAME</th>\n",
       "      <th>HES_IP</th>\n",
       "    </tr>\n",
       "  </thead>\n",
       "  <tbody>\n",
       "    <tr>\n",
       "      <th>0</th>\n",
       "      <td>GOEGP4970294</td>\n",
       "      <td>404759210464358</td>\n",
       "      <td>2001:4490:0800:5F25:0000:0000:0000:0001</td>\n",
       "      <td>nan</td>\n",
       "      <td>Meter Shop</td>\n",
       "      <td>8/7/2019 1:26:44 PM</td>\n",
       "      <td>SBPDCL</td>\n",
       "      <td>NaN</td>\n",
       "      <td>NaN</td>\n",
       "      <td>NaN</td>\n",
       "      <td>NaN</td>\n",
       "      <td>NaN</td>\n",
       "      <td>NaN</td>\n",
       "      <td>NaN</td>\n",
       "    </tr>\n",
       "    <tr>\n",
       "      <th>1</th>\n",
       "      <td>None</td>\n",
       "      <td>None</td>\n",
       "      <td>None</td>\n",
       "      <td>None</td>\n",
       "      <td>None</td>\n",
       "      <td>None</td>\n",
       "      <td>None</td>\n",
       "      <td>None</td>\n",
       "      <td>None</td>\n",
       "      <td>None</td>\n",
       "      <td>None</td>\n",
       "      <td>None</td>\n",
       "      <td>None</td>\n",
       "      <td>None</td>\n",
       "    </tr>\n",
       "    <tr>\n",
       "      <th>2</th>\n",
       "      <td>None</td>\n",
       "      <td>None</td>\n",
       "      <td>None</td>\n",
       "      <td>None</td>\n",
       "      <td>None</td>\n",
       "      <td>None</td>\n",
       "      <td>None</td>\n",
       "      <td>None</td>\n",
       "      <td>None</td>\n",
       "      <td>None</td>\n",
       "      <td>None</td>\n",
       "      <td>None</td>\n",
       "      <td>None</td>\n",
       "      <td>None</td>\n",
       "    </tr>\n",
       "    <tr>\n",
       "      <th>3</th>\n",
       "      <td>None</td>\n",
       "      <td>None</td>\n",
       "      <td>None</td>\n",
       "      <td>None</td>\n",
       "      <td>None</td>\n",
       "      <td>None</td>\n",
       "      <td>None</td>\n",
       "      <td>None</td>\n",
       "      <td>None</td>\n",
       "      <td>None</td>\n",
       "      <td>None</td>\n",
       "      <td>None</td>\n",
       "      <td>None</td>\n",
       "      <td>None</td>\n",
       "    </tr>\n",
       "    <tr>\n",
       "      <th>4</th>\n",
       "      <td>None</td>\n",
       "      <td>None</td>\n",
       "      <td>None</td>\n",
       "      <td>None</td>\n",
       "      <td>None</td>\n",
       "      <td>None</td>\n",
       "      <td>None</td>\n",
       "      <td>None</td>\n",
       "      <td>None</td>\n",
       "      <td>None</td>\n",
       "      <td>None</td>\n",
       "      <td>None</td>\n",
       "      <td>None</td>\n",
       "      <td>None</td>\n",
       "    </tr>\n",
       "  </tbody>\n",
       "</table>\n",
       "</div>"
      ],
      "text/plain": [
       "  MDM_METERNUMBER       MDM_UDC_ID                           MDM_NETWORK_ID  \\\n",
       "0    GOEGP4970294  404759210464358  2001:4490:0800:5F25:0000:0000:0000:0001   \n",
       "1            None             None                                     None   \n",
       "2            None             None                                     None   \n",
       "3            None             None                                     None   \n",
       "4            None             None                                     None   \n",
       "\n",
       "  MDM_INSTALLATIONNUMBER  MDM_STATUS      MDM_INSERT_TIME MDM_UTILITY  \\\n",
       "0                    nan  Meter Shop  8/7/2019 1:26:44 PM      SBPDCL   \n",
       "1                   None        None                 None        None   \n",
       "2                   None        None                 None        None   \n",
       "3                   None        None                 None        None   \n",
       "4                   None        None                 None        None   \n",
       "\n",
       "  HES_INSTALLATIONDATETIME HES_ENTRYDATETIME HES_UTILITY HES_UTILITYSITEID  \\\n",
       "0                      NaN               NaN         NaN               NaN   \n",
       "1                     None              None        None              None   \n",
       "2                     None              None        None              None   \n",
       "3                     None              None        None              None   \n",
       "4                     None              None        None              None   \n",
       "\n",
       "  HES_UTILITYDEVICEID HES_STATENAME HES_IP  \n",
       "0                 NaN           NaN    NaN  \n",
       "1                None          None   None  \n",
       "2                None          None   None  \n",
       "3                None          None   None  \n",
       "4                None          None   None  "
      ]
     },
     "execution_count": 113,
     "metadata": {},
     "output_type": "execute_result"
    },
    {
     "ename": "",
     "evalue": "",
     "output_type": "error",
     "traceback": [
      "\u001b[1;31mnotebook controller is DISPOSED. \n",
      "\u001b[1;31mView Jupyter <a href='command:jupyter.viewOutput'>log</a> for further details."
     ]
    },
    {
     "ename": "",
     "evalue": "",
     "output_type": "error",
     "traceback": [
      "\u001b[1;31mnotebook controller is DISPOSED. \n",
      "\u001b[1;31mView Jupyter <a href='command:jupyter.viewOutput'>log</a> for further details."
     ]
    },
    {
     "ename": "",
     "evalue": "",
     "output_type": "error",
     "traceback": [
      "\u001b[1;31mnotebook controller is DISPOSED. \n",
      "\u001b[1;31mView Jupyter <a href='command:jupyter.viewOutput'>log</a> for further details."
     ]
    },
    {
     "ename": "",
     "evalue": "",
     "output_type": "error",
     "traceback": [
      "\u001b[1;31mnotebook controller is DISPOSED. \n",
      "\u001b[1;31mView Jupyter <a href='command:jupyter.viewOutput'>log</a> for further details."
     ]
    }
   ],
   "source": []
  },
  {
   "cell_type": "code",
   "execution_count": null,
   "metadata": {},
   "outputs": [
    {
     "ename": "",
     "evalue": "",
     "output_type": "error",
     "traceback": [
      "\u001b[1;31mnotebook controller is DISPOSED. \n",
      "\u001b[1;31mView Jupyter <a href='command:jupyter.viewOutput'>log</a> for further details."
     ]
    },
    {
     "ename": "",
     "evalue": "",
     "output_type": "error",
     "traceback": [
      "\u001b[1;31mnotebook controller is DISPOSED. \n",
      "\u001b[1;31mView Jupyter <a href='command:jupyter.viewOutput'>log</a> for further details."
     ]
    },
    {
     "ename": "",
     "evalue": "",
     "output_type": "error",
     "traceback": [
      "\u001b[1;31mnotebook controller is DISPOSED. \n",
      "\u001b[1;31mView Jupyter <a href='command:jupyter.viewOutput'>log</a> for further details."
     ]
    },
    {
     "ename": "",
     "evalue": "",
     "output_type": "error",
     "traceback": [
      "\u001b[1;31mnotebook controller is DISPOSED. \n",
      "\u001b[1;31mView Jupyter <a href='command:jupyter.viewOutput'>log</a> for further details."
     ]
    }
   ],
   "source": []
  }
 ],
 "metadata": {
  "kernelspec": {
   "display_name": "Python 3",
   "language": "python",
   "name": "python3"
  },
  "language_info": {
   "codemirror_mode": {
    "name": "ipython",
    "version": 3
   },
   "file_extension": ".py",
   "mimetype": "text/x-python",
   "name": "python",
   "nbconvert_exporter": "python",
   "pygments_lexer": "ipython3",
   "version": "3.9.18"
  }
 },
 "nbformat": 4,
 "nbformat_minor": 2
}
