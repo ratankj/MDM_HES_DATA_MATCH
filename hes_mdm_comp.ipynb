{
 "cells": [
  {
   "cell_type": "code",
   "execution_count": 1,
   "metadata": {},
   "outputs": [],
   "source": [
    "import pandas as pd\n",
    "pd.set_option('display.max_columns', None)"
   ]
  },
  {
   "cell_type": "code",
   "execution_count": null,
   "metadata": {},
   "outputs": [],
   "source": []
  },
  {
   "cell_type": "code",
   "execution_count": null,
   "metadata": {},
   "outputs": [],
   "source": []
  },
  {
   "cell_type": "markdown",
   "metadata": {},
   "source": [
    "\n",
    "\n",
    "-- HES COMM. DATA \n",
    "-- UNIQUE DATA OF HES - NB AND SB\n",
    "\n",
    "-- SAME WITH MDM\n"
   ]
  },
  {
   "cell_type": "code",
   "execution_count": null,
   "metadata": {},
   "outputs": [],
   "source": []
  },
  {
   "cell_type": "code",
   "execution_count": 2,
   "metadata": {},
   "outputs": [],
   "source": [
    "ASSEST_SB =  pd.read_csv(r\"C:\\Users\\Ratan Kumar Jha\\Desktop\\hes_mdm\\INPUT FOLDER\\ASSET_INITIATION_INVENTORY_SB.csv\")\n",
    "ASSEST_NB = pd.read_csv(r\"C:\\Users\\Ratan Kumar Jha\\Desktop\\hes_mdm\\INPUT FOLDER\\ASSET_INITIATION_INVENTORY_NB.csv\")\n",
    "INFRA_SB = pd.read_csv(r\"C:\\Users\\Ratan Kumar Jha\\Desktop\\hes_mdm\\INPUT FOLDER\\Infrastructure_Devices_SB.csv\",sep=';')\n",
    "INFRA_NB = pd.read_csv( r\"C:\\Users\\Ratan Kumar Jha\\Desktop\\hes_mdm\\INPUT FOLDER\\Infrastructure_Devices_NB.csv\",sep=';')\n",
    "METER_STATUS_NB = pd.read_csv( r\"C:\\Users\\Ratan Kumar Jha\\Desktop\\hes_mdm\\INPUT FOLDER\\METER_STATUS_NB.csv\")\n",
    "METER_STATUS_SB = pd.read_csv( r\"C:\\Users\\Ratan Kumar Jha\\Desktop\\hes_mdm\\INPUT FOLDER\\METER_STATUS_SB.csv\")\n"
   ]
  },
  {
   "cell_type": "code",
   "execution_count": 3,
   "metadata": {},
   "outputs": [],
   "source": [
    "#METER_STATUS_NB['CONSUMERNO'] = pd.to_numeric(METER_STATUS_NB['CONSUMERNO'], errors='coerce')\n",
    "#METER_STATUS_NB['INSTALLATIONNO'] = pd.to_numeric(METER_STATUS_NB['INSTALLATIONNO'], errors='coerce')\n",
    "\n",
    "\n",
    "#METER_STATUS_SB['CONSUMERNO'] = pd.to_numeric(METER_STATUS_SB['CONSUMERNO'], errors='coerce')\n",
    "#METER_STATUS_SB['INSTALLATIONNO'] = pd.to_numeric(METER_STATUS_SB['INSTALLATIONNO'], errors='coerce')"
   ]
  },
  {
   "cell_type": "code",
   "execution_count": 4,
   "metadata": {},
   "outputs": [
    {
     "data": {
      "text/html": [
       "<div>\n",
       "<style scoped>\n",
       "    .dataframe tbody tr th:only-of-type {\n",
       "        vertical-align: middle;\n",
       "    }\n",
       "\n",
       "    .dataframe tbody tr th {\n",
       "        vertical-align: top;\n",
       "    }\n",
       "\n",
       "    .dataframe thead th {\n",
       "        text-align: right;\n",
       "    }\n",
       "</style>\n",
       "<table border=\"1\" class=\"dataframe\">\n",
       "  <thead>\n",
       "    <tr style=\"text-align: right;\">\n",
       "      <th></th>\n",
       "      <th>UTILITY</th>\n",
       "      <th>STATUS_CD</th>\n",
       "      <th>CONNECTED_STATUS</th>\n",
       "      <th>COMMISSIONING</th>\n",
       "      <th>COMMUNICATING</th>\n",
       "      <th>INSERT_TIME</th>\n",
       "      <th>INSTALLATIONNO</th>\n",
       "      <th>METERNO</th>\n",
       "      <th>CONSUMERNO</th>\n",
       "    </tr>\n",
       "  </thead>\n",
       "  <tbody>\n",
       "    <tr>\n",
       "      <th>0</th>\n",
       "      <td>NBPDCL</td>\n",
       "      <td>Installed</td>\n",
       "      <td>Y</td>\n",
       "      <td>Y</td>\n",
       "      <td>Y</td>\n",
       "      <td>8/10/2019 10:06:32 PM</td>\n",
       "      <td>RAMD-2987900004</td>\n",
       "      <td>GOEGP4967851</td>\n",
       "      <td>1.181013e+11</td>\n",
       "    </tr>\n",
       "  </tbody>\n",
       "</table>\n",
       "</div>"
      ],
      "text/plain": [
       "  UTILITY  STATUS_CD CONNECTED_STATUS COMMISSIONING COMMUNICATING  \\\n",
       "0  NBPDCL  Installed                Y             Y             Y   \n",
       "\n",
       "             INSERT_TIME   INSTALLATIONNO       METERNO    CONSUMERNO  \n",
       "0  8/10/2019 10:06:32 PM  RAMD-2987900004  GOEGP4967851  1.181013e+11  "
      ]
     },
     "execution_count": 4,
     "metadata": {},
     "output_type": "execute_result"
    }
   ],
   "source": [
    "METER_STATUS_NB.head(1)"
   ]
  },
  {
   "cell_type": "code",
   "execution_count": 5,
   "metadata": {},
   "outputs": [],
   "source": [
    "ASSEST_NB = ASSEST_NB.astype(str)\n",
    "ASSEST_NB.columns = ASSEST_NB.columns.str.upper()\n",
    "ASSEST_NB = ASSEST_NB.apply(lambda x: x.str.strip() if x.dtype == 'O' else x)\n",
    "ASSEST_NB.columns = ASSEST_NB.columns.str.strip()\n",
    "\n",
    "\n",
    "\n",
    "ASSEST_SB = ASSEST_SB.astype(str)\n",
    "ASSEST_SB.columns = ASSEST_SB.columns.str.upper()\n",
    "ASSEST_SB = ASSEST_SB.apply(lambda x: x.str.strip() if x.dtype == 'O' else x)\n",
    "ASSEST_SB.columns = ASSEST_SB.columns.str.strip()\n",
    "#-------------------------------------------------------------------------------------------\n",
    "\n",
    "INFRA_SB = INFRA_SB.astype(str)\n",
    "INFRA_SB.columns = INFRA_SB.columns.str.upper()\n",
    "INFRA_SB = INFRA_SB.apply(lambda x: x.str.strip() if x.dtype == 'O' else x)\n",
    "INFRA_SB.columns = INFRA_SB.columns.str.strip()\n",
    "\n",
    "\n",
    "INFRA_NB = INFRA_NB.astype(str)\n",
    "INFRA_NB.columns = INFRA_NB.columns.str.upper()\n",
    "INFRA_NB = INFRA_NB.apply(lambda x: x.str.strip() if x.dtype == 'O' else x)\n",
    "INFRA_NB.columns = INFRA_NB.columns.str.strip()\n",
    "\n",
    "\n",
    "#-------------------------------------------------------------------------------------------\n",
    "\n",
    "METER_STATUS_NB = METER_STATUS_NB.astype(str)\n",
    "METER_STATUS_NB.columns = METER_STATUS_NB.columns.str.upper()\n",
    "METER_STATUS_NB = METER_STATUS_NB.apply(lambda x: x.str.strip() if x.dtype == 'O' else x)\n",
    "METER_STATUS_NB.columns = METER_STATUS_NB.columns.str.strip()\n",
    "\n",
    "\n",
    "METER_STATUS_SB = METER_STATUS_SB.astype(str)\n",
    "METER_STATUS_SB.columns = METER_STATUS_SB.columns.str.upper()\n",
    "METER_STATUS_SB = METER_STATUS_SB.apply(lambda x: x.str.strip() if x.dtype == 'O' else x)\n",
    "METER_STATUS_SB.columns = METER_STATUS_SB.columns.str.strip()\n"
   ]
  },
  {
   "cell_type": "code",
   "execution_count": 6,
   "metadata": {},
   "outputs": [],
   "source": [
    "ASSET_CONCAT_SB_NB = pd.concat([ASSEST_SB, ASSEST_NB], ignore_index=True)\n",
    "INFRA_CONCAT_SB_NB =  pd.concat([INFRA_SB,INFRA_NB],ignore_index=True)\n",
    "METER_STATUS_SB_NB =  pd.concat([METER_STATUS_SB,METER_STATUS_NB],ignore_index=True)"
   ]
  },
  {
   "cell_type": "code",
   "execution_count": 7,
   "metadata": {},
   "outputs": [
    {
     "data": {
      "text/html": [
       "<div>\n",
       "<style scoped>\n",
       "    .dataframe tbody tr th:only-of-type {\n",
       "        vertical-align: middle;\n",
       "    }\n",
       "\n",
       "    .dataframe tbody tr th {\n",
       "        vertical-align: top;\n",
       "    }\n",
       "\n",
       "    .dataframe thead th {\n",
       "        text-align: right;\n",
       "    }\n",
       "</style>\n",
       "<table border=\"1\" class=\"dataframe\">\n",
       "  <thead>\n",
       "    <tr style=\"text-align: right;\">\n",
       "      <th></th>\n",
       "      <th>UTILITY</th>\n",
       "      <th>STATUS_CD</th>\n",
       "      <th>CONNECTED_STATUS</th>\n",
       "      <th>COMMISSIONING</th>\n",
       "      <th>COMMUNICATING</th>\n",
       "      <th>INSERT_TIME</th>\n",
       "      <th>INSTALLATIONNO</th>\n",
       "      <th>METERNO</th>\n",
       "      <th>CONSUMERNO</th>\n",
       "    </tr>\n",
       "  </thead>\n",
       "  <tbody>\n",
       "    <tr>\n",
       "      <th>0</th>\n",
       "      <td>SBPDCL</td>\n",
       "      <td>Installed</td>\n",
       "      <td>N</td>\n",
       "      <td>Y</td>\n",
       "      <td>Y</td>\n",
       "      <td>8/29/2019 11:08:09 PM</td>\n",
       "      <td>PHUN-12589</td>\n",
       "      <td>GOEGP4875493</td>\n",
       "      <td>21610030201.0</td>\n",
       "    </tr>\n",
       "  </tbody>\n",
       "</table>\n",
       "</div>"
      ],
      "text/plain": [
       "  UTILITY  STATUS_CD CONNECTED_STATUS COMMISSIONING COMMUNICATING  \\\n",
       "0  SBPDCL  Installed                N             Y             Y   \n",
       "\n",
       "             INSERT_TIME INSTALLATIONNO       METERNO     CONSUMERNO  \n",
       "0  8/29/2019 11:08:09 PM     PHUN-12589  GOEGP4875493  21610030201.0  "
      ]
     },
     "execution_count": 7,
     "metadata": {},
     "output_type": "execute_result"
    }
   ],
   "source": [
    "METER_STATUS_SB_NB.head(1)"
   ]
  },
  {
   "cell_type": "code",
   "execution_count": 8,
   "metadata": {},
   "outputs": [],
   "source": [
    "# split data from .(dot)  and take only before the .(dot)\n",
    "\n",
    "METER_STATUS_SB_NB['CONSUMERNO'] = METER_STATUS_SB_NB['CONSUMERNO'].str.split('.').str[0]"
   ]
  },
  {
   "cell_type": "code",
   "execution_count": null,
   "metadata": {},
   "outputs": [],
   "source": []
  },
  {
   "cell_type": "code",
   "execution_count": 9,
   "metadata": {},
   "outputs": [
    {
     "data": {
      "text/html": [
       "<div>\n",
       "<style scoped>\n",
       "    .dataframe tbody tr th:only-of-type {\n",
       "        vertical-align: middle;\n",
       "    }\n",
       "\n",
       "    .dataframe tbody tr th {\n",
       "        vertical-align: top;\n",
       "    }\n",
       "\n",
       "    .dataframe thead th {\n",
       "        text-align: right;\n",
       "    }\n",
       "</style>\n",
       "<table border=\"1\" class=\"dataframe\">\n",
       "  <thead>\n",
       "    <tr style=\"text-align: right;\">\n",
       "      <th></th>\n",
       "      <th>UTILITY</th>\n",
       "      <th>STATUS_CD</th>\n",
       "      <th>CONNECTED_STATUS</th>\n",
       "      <th>COMMISSIONING</th>\n",
       "      <th>COMMUNICATING</th>\n",
       "      <th>INSERT_TIME</th>\n",
       "      <th>INSTALLATIONNO</th>\n",
       "      <th>METERNO</th>\n",
       "      <th>CONSUMERNO</th>\n",
       "    </tr>\n",
       "  </thead>\n",
       "  <tbody>\n",
       "    <tr>\n",
       "      <th>0</th>\n",
       "      <td>SBPDCL</td>\n",
       "      <td>Installed</td>\n",
       "      <td>N</td>\n",
       "      <td>Y</td>\n",
       "      <td>Y</td>\n",
       "      <td>8/29/2019 11:08:09 PM</td>\n",
       "      <td>PHUN-12589</td>\n",
       "      <td>GOEGP4875493</td>\n",
       "      <td>21610030201</td>\n",
       "    </tr>\n",
       "  </tbody>\n",
       "</table>\n",
       "</div>"
      ],
      "text/plain": [
       "  UTILITY  STATUS_CD CONNECTED_STATUS COMMISSIONING COMMUNICATING  \\\n",
       "0  SBPDCL  Installed                N             Y             Y   \n",
       "\n",
       "             INSERT_TIME INSTALLATIONNO       METERNO   CONSUMERNO  \n",
       "0  8/29/2019 11:08:09 PM     PHUN-12589  GOEGP4875493  21610030201  "
      ]
     },
     "execution_count": 9,
     "metadata": {},
     "output_type": "execute_result"
    }
   ],
   "source": [
    "METER_STATUS_SB_NB.head(1)"
   ]
  },
  {
   "cell_type": "code",
   "execution_count": 10,
   "metadata": {},
   "outputs": [],
   "source": [
    "# TAKE ONLY Imported&&Installed  METER\n",
    "\n",
    "INFRA_CONCAT_SB_NB = INFRA_CONCAT_SB_NB[INFRA_CONCAT_SB_NB['STATENAME']== 'Imported&&Installed']\n",
    "\n",
    "\n",
    "# droppping the unnamed column\n",
    "\n",
    "INFRA_CONCAT_SB_NB.drop(['UNNAMED: 13'], axis=1, inplace=True)"
   ]
  },
  {
   "cell_type": "code",
   "execution_count": null,
   "metadata": {},
   "outputs": [],
   "source": []
  },
  {
   "cell_type": "code",
   "execution_count": 11,
   "metadata": {},
   "outputs": [
    {
     "name": "stdout",
     "output_type": "stream",
     "text": [
      "INFRA_CONCAT_SB_NB :- (1520336, 13)\n",
      "ASSET_CONCAT_SB_NB :- (1874917, 8)\n",
      "METER_STATUS_SB_NB :- (1558932, 9)\n"
     ]
    }
   ],
   "source": [
    "print(f\"INFRA_CONCAT_SB_NB :- {INFRA_CONCAT_SB_NB.shape}\")\n",
    "print(f\"ASSET_CONCAT_SB_NB :- {ASSET_CONCAT_SB_NB.shape}\")\n",
    "print(f\"METER_STATUS_SB_NB :- {METER_STATUS_SB_NB.shape}\")"
   ]
  },
  {
   "cell_type": "markdown",
   "metadata": {},
   "source": [
    "# duplicate file in STATUS FILE"
   ]
  },
  {
   "cell_type": "code",
   "execution_count": 12,
   "metadata": {},
   "outputs": [
    {
     "data": {
      "text/html": [
       "<div>\n",
       "<style scoped>\n",
       "    .dataframe tbody tr th:only-of-type {\n",
       "        vertical-align: middle;\n",
       "    }\n",
       "\n",
       "    .dataframe tbody tr th {\n",
       "        vertical-align: top;\n",
       "    }\n",
       "\n",
       "    .dataframe thead th {\n",
       "        text-align: right;\n",
       "    }\n",
       "</style>\n",
       "<table border=\"1\" class=\"dataframe\">\n",
       "  <thead>\n",
       "    <tr style=\"text-align: right;\">\n",
       "      <th></th>\n",
       "      <th>UTILITY</th>\n",
       "      <th>STATUS_CD</th>\n",
       "      <th>CONNECTED_STATUS</th>\n",
       "      <th>COMMISSIONING</th>\n",
       "      <th>COMMUNICATING</th>\n",
       "      <th>INSERT_TIME</th>\n",
       "      <th>INSTALLATIONNO</th>\n",
       "      <th>METERNO</th>\n",
       "      <th>CONSUMERNO</th>\n",
       "    </tr>\n",
       "  </thead>\n",
       "  <tbody>\n",
       "    <tr>\n",
       "      <th>0</th>\n",
       "      <td>SBPDCL</td>\n",
       "      <td>Installed</td>\n",
       "      <td>N</td>\n",
       "      <td>Y</td>\n",
       "      <td>Y</td>\n",
       "      <td>8/29/2019 11:08:09 PM</td>\n",
       "      <td>PHUN-12589</td>\n",
       "      <td>GOEGP4875493</td>\n",
       "      <td>21610030201</td>\n",
       "    </tr>\n",
       "    <tr>\n",
       "      <th>1</th>\n",
       "      <td>SBPDCL</td>\n",
       "      <td>Installed</td>\n",
       "      <td>Y</td>\n",
       "      <td>Y</td>\n",
       "      <td>Y</td>\n",
       "      <td>5/25/2022 9:13:49 PM</td>\n",
       "      <td>ARWARL6055</td>\n",
       "      <td>LNTLT0581598</td>\n",
       "      <td>23230011191</td>\n",
       "    </tr>\n",
       "    <tr>\n",
       "      <th>2</th>\n",
       "      <td>SBPDCL</td>\n",
       "      <td>Installed</td>\n",
       "      <td>Y</td>\n",
       "      <td>Y</td>\n",
       "      <td>Y</td>\n",
       "      <td>3/30/2022 6:17:23 PM</td>\n",
       "      <td>ARWARL7614</td>\n",
       "      <td>LNTLT0425351</td>\n",
       "      <td>23230014274</td>\n",
       "    </tr>\n",
       "    <tr>\n",
       "      <th>3</th>\n",
       "      <td>SBPDCL</td>\n",
       "      <td>Installed</td>\n",
       "      <td>Y</td>\n",
       "      <td>Y</td>\n",
       "      <td>Y</td>\n",
       "      <td>12/13/2021 8:13:08 PM</td>\n",
       "      <td>ARL19278</td>\n",
       "      <td>LNTLT0149502</td>\n",
       "      <td>23230051826</td>\n",
       "    </tr>\n",
       "    <tr>\n",
       "      <th>4</th>\n",
       "      <td>SBPDCL</td>\n",
       "      <td>Installed</td>\n",
       "      <td>N</td>\n",
       "      <td>Y</td>\n",
       "      <td>Y</td>\n",
       "      <td>9/6/2019 10:31:49 PM</td>\n",
       "      <td>ARL19519</td>\n",
       "      <td>GOEGP4968562</td>\n",
       "      <td>23230053876</td>\n",
       "    </tr>\n",
       "  </tbody>\n",
       "</table>\n",
       "</div>"
      ],
      "text/plain": [
       "  UTILITY  STATUS_CD CONNECTED_STATUS COMMISSIONING COMMUNICATING  \\\n",
       "0  SBPDCL  Installed                N             Y             Y   \n",
       "1  SBPDCL  Installed                Y             Y             Y   \n",
       "2  SBPDCL  Installed                Y             Y             Y   \n",
       "3  SBPDCL  Installed                Y             Y             Y   \n",
       "4  SBPDCL  Installed                N             Y             Y   \n",
       "\n",
       "             INSERT_TIME INSTALLATIONNO       METERNO   CONSUMERNO  \n",
       "0  8/29/2019 11:08:09 PM     PHUN-12589  GOEGP4875493  21610030201  \n",
       "1   5/25/2022 9:13:49 PM     ARWARL6055  LNTLT0581598  23230011191  \n",
       "2   3/30/2022 6:17:23 PM     ARWARL7614  LNTLT0425351  23230014274  \n",
       "3  12/13/2021 8:13:08 PM       ARL19278  LNTLT0149502  23230051826  \n",
       "4   9/6/2019 10:31:49 PM       ARL19519  GOEGP4968562  23230053876  "
      ]
     },
     "execution_count": 12,
     "metadata": {},
     "output_type": "execute_result"
    }
   ],
   "source": [
    "METER_STATUS_SB_NB.head()"
   ]
  },
  {
   "cell_type": "code",
   "execution_count": 13,
   "metadata": {},
   "outputs": [],
   "source": [
    "METER_STATUS_SB_NB['UTILITY']= METER_STATUS_SB_NB['UTILITY'].str.upper()\n",
    "METER_STATUS_SB_NB['METERNO']= METER_STATUS_SB_NB['METERNO'].str.upper()\n",
    "METER_STATUS_SB_NB['INSTALLATIONNO']= METER_STATUS_SB_NB['INSTALLATIONNO'].str.upper()\n",
    "\n",
    "#  DUPLICATE DATA\n",
    "METER_STATUS_SB_NB['Duplicated'] = METER_STATUS_SB_NB.duplicated(subset=['METERNO']).map({True: 'Duplicated', False: 'Unique'})\n",
    "\n",
    "\n",
    "# STORE DATA IN  METER_STATUS_SB_NB_DUPLICATED_DATA\n",
    "#METER_STATUS_SB_NB_DUPLICATED_DATA = METER_STATUS_SB_NB[METER_STATUS_SB_NB.duplicated(subset=['METERNO'],keep=False)].sort_values(by = ['METERNO','INSERT_TIME'],ascending=[True,False])\n",
    "\n",
    "\n",
    "# Sorting the DataFrame by 'METERNO' and 'INSERT_TIME' in descending order of time\n",
    "METER_STATUS_SB_NB.sort_values(by=['METERNO', 'INSERT_TIME'], ascending=[True, False],inplace=True)\n",
    "\n",
    "# Dropping duplicated rows based on 'METERNO' while keeping the first occurrence (which has the latest 'INSERT_TIME')\n",
    "METER_STATUS_SB_NB.drop_duplicates(subset=['METERNO'], keep='first', inplace=True)\n",
    "\n",
    "\n",
    "# drop duplicated column  in meter  status file\n",
    "METER_STATUS_SB_NB.drop(['Duplicated'],axis=1, inplace = True)"
   ]
  },
  {
   "cell_type": "code",
   "execution_count": 15,
   "metadata": {},
   "outputs": [],
   "source": [
    "# METER STATUS SORT BY INSERT_TIME\n",
    "\n",
    "#METER_STATUS_SB_NB.sort_values(by=['INSERT_TIME'],ascending=False,inplace=True)\n",
    "\n",
    "#METER_STATUS_SB_NB = METER_STATUS_SB_NB[METER_STATUS_SB_NB.duplicated(subset=['METERNO'],keep=False)].sort_values(by = ['METERNO','CONNECTED_STATUS'],ascending=[True,False])\n",
    "\n",
    "#METER_STATUS_SB_NB['Duplicated'] = METER_STATUS_SB_NB.duplicated(subset=['METERNO']).map({True: 'Duplicated', False: 'Unique'})\n",
    "\n",
    "#METER_STATUS_SB_NB.sort_values(by=['METERNO','Duplicated'],ascending=[False,False],inplace=True)\n",
    "\n",
    "#METER_STATUS_SB_NB.to_csv(r\"C:\\Users\\Ratan Kumar Jha\\Desktop\\hes_mdm\\OUTPUT FOLDER\\check_duplicated_meter_Status_data_installation.csv\")\n",
    "\n",
    "\n",
    "#check_duplicated_meter_Status_data_installation=METER_STATUS_SB_NB[METER_STATUS_SB_NB.duplicated(subset=['INSTALLATIONNO'],keep=False)].sort_values(by=['INSTALLATIONNO','INSERT_TIME'],ascending=[False,False])\n",
    "\n",
    "\n",
    "#check_duplicated_meter_Status_data_installation['Duplicated'] = check_duplicated_meter_Status_data_installation.duplicated(subset=['INSTALLATIONNO']).map({True: 'Duplicated', False: 'Unique'})\n",
    "#check_duplicated_meter_Status_data_installation.to_csv(r\"C:\\Users\\Ratan Kumar Jha\\Desktop\\hes_mdm\\OUTPUT FOLDER\\check_duplicated_meter_Status_data_installation.csv\")"
   ]
  },
  {
   "cell_type": "markdown",
   "metadata": {},
   "source": [
    "# extra"
   ]
  },
  {
   "cell_type": "code",
   "execution_count": 16,
   "metadata": {},
   "outputs": [],
   "source": [
    "#check_Data_meter_Status = METER_STATUS_SB_NB[METER_STATUS_SB_NB.duplicated(subset=['METERNO'],keep=False)].sort_values(by = ['METERNO','CONNECTED_STATUS'],ascending=[True,False])\n",
    "\n",
    "#check_Data_meter_Status['Duplicated'] = check_Data_meter_Status.duplicated(subset=['METERNO']).map({True: 'Duplicated', False: 'Unique'})\n",
    "\n",
    "# check_Data_meter_Status.to_csv(r\"C:\\Users\\Ratan Kumar Jha\\Desktop\\hes_mdm\\OUTPUT FOLDER\\check_Data_meter_Status.csv\")"
   ]
  },
  {
   "cell_type": "code",
   "execution_count": 17,
   "metadata": {},
   "outputs": [],
   "source": [
    "#INFRA_CONCAT_SB_NB[INFRA_CONCAT_SB_NB.duplicated(subset=['UTILITYDEVICEID'],keep=False)]"
   ]
  },
  {
   "cell_type": "markdown",
   "metadata": {},
   "source": [
    "# create a new column with duplicated"
   ]
  },
  {
   "cell_type": "code",
   "execution_count": 18,
   "metadata": {},
   "outputs": [],
   "source": [
    "INFRA_CONCAT_SB_NB['Duplicated_infra'] = INFRA_CONCAT_SB_NB.duplicated(subset=['UTILITYDEVICEID']).map({True: 'Duplicated', False: 'Unique'})\n",
    "METER_STATUS_SB_NB['Duplicated_meter'] = METER_STATUS_SB_NB.duplicated(subset=['METERNO']).map({True: 'Duplicated', False: 'Unique'})\n",
    "ASSET_CONCAT_SB_NB['Duplicated_asset'] = ASSET_CONCAT_SB_NB.duplicated(subset=['METERNUMBER']).map({True: 'Duplicated', False: 'Unique'})"
   ]
  },
  {
   "cell_type": "code",
   "execution_count": 19,
   "metadata": {},
   "outputs": [],
   "source": [
    "METER_STATUS_SB_NB.sort_values(by='INSERT_TIME',ascending=False,inplace=True)"
   ]
  },
  {
   "cell_type": "code",
   "execution_count": 20,
   "metadata": {},
   "outputs": [],
   "source": [
    "#INFRA_CONCAT_SB_NB.drop(['Duplicated'], axis=1, inplace=True)\n",
    "#METER_STATUS_SB_NB.drop(['Duplicated'], axis=1, inplace=True)\n",
    "#ASSET_CONCAT_SB_NB.drop(['Duplicated'], axis=1, inplace=True)"
   ]
  },
  {
   "cell_type": "code",
   "execution_count": 21,
   "metadata": {},
   "outputs": [
    {
     "data": {
      "text/html": [
       "<div>\n",
       "<style scoped>\n",
       "    .dataframe tbody tr th:only-of-type {\n",
       "        vertical-align: middle;\n",
       "    }\n",
       "\n",
       "    .dataframe tbody tr th {\n",
       "        vertical-align: top;\n",
       "    }\n",
       "\n",
       "    .dataframe thead th {\n",
       "        text-align: right;\n",
       "    }\n",
       "</style>\n",
       "<table border=\"1\" class=\"dataframe\">\n",
       "  <thead>\n",
       "    <tr style=\"text-align: right;\">\n",
       "      <th></th>\n",
       "      <th>UTILITY</th>\n",
       "      <th>STATUS_CD</th>\n",
       "      <th>CONNECTED_STATUS</th>\n",
       "      <th>COMMISSIONING</th>\n",
       "      <th>COMMUNICATING</th>\n",
       "      <th>INSERT_TIME</th>\n",
       "      <th>INSTALLATIONNO</th>\n",
       "      <th>METERNO</th>\n",
       "      <th>CONSUMERNO</th>\n",
       "      <th>Duplicated_meter</th>\n",
       "    </tr>\n",
       "  </thead>\n",
       "  <tbody>\n",
       "    <tr>\n",
       "      <th>1493537</th>\n",
       "      <td>NBPDCL</td>\n",
       "      <td>Installed</td>\n",
       "      <td>Y</td>\n",
       "      <td>Y</td>\n",
       "      <td>Y</td>\n",
       "      <td>9/9/2023 8:12:46 PM</td>\n",
       "      <td>521111549057</td>\n",
       "      <td>GOEGL9028994</td>\n",
       "      <td>101409629643</td>\n",
       "      <td>Unique</td>\n",
       "    </tr>\n",
       "  </tbody>\n",
       "</table>\n",
       "</div>"
      ],
      "text/plain": [
       "        UTILITY  STATUS_CD CONNECTED_STATUS COMMISSIONING COMMUNICATING  \\\n",
       "1493537  NBPDCL  Installed                Y             Y             Y   \n",
       "\n",
       "                 INSERT_TIME INSTALLATIONNO       METERNO    CONSUMERNO  \\\n",
       "1493537  9/9/2023 8:12:46 PM   521111549057  GOEGL9028994  101409629643   \n",
       "\n",
       "        Duplicated_meter  \n",
       "1493537           Unique  "
      ]
     },
     "execution_count": 21,
     "metadata": {},
     "output_type": "execute_result"
    }
   ],
   "source": [
    "METER_STATUS_SB_NB.head(1)"
   ]
  },
  {
   "cell_type": "code",
   "execution_count": 22,
   "metadata": {},
   "outputs": [
    {
     "data": {
      "text/html": [
       "<div>\n",
       "<style scoped>\n",
       "    .dataframe tbody tr th:only-of-type {\n",
       "        vertical-align: middle;\n",
       "    }\n",
       "\n",
       "    .dataframe tbody tr th {\n",
       "        vertical-align: top;\n",
       "    }\n",
       "\n",
       "    .dataframe thead th {\n",
       "        text-align: right;\n",
       "    }\n",
       "</style>\n",
       "<table border=\"1\" class=\"dataframe\">\n",
       "  <thead>\n",
       "    <tr style=\"text-align: right;\">\n",
       "      <th></th>\n",
       "      <th>METERNUMBER</th>\n",
       "      <th>MFG_SERIAL_NUM</th>\n",
       "      <th>UDC_ID</th>\n",
       "      <th>NETWORK_ID</th>\n",
       "      <th>INSTALLATIONNUMBER</th>\n",
       "      <th>STATUS</th>\n",
       "      <th>INSERT_TIME</th>\n",
       "      <th>DECODE(D.ORG_ID,52,'SBPDCL',102,'NBPDCL')</th>\n",
       "      <th>Duplicated_asset</th>\n",
       "    </tr>\n",
       "  </thead>\n",
       "  <tbody>\n",
       "    <tr>\n",
       "      <th>0</th>\n",
       "      <td>GOEGP4970294</td>\n",
       "      <td>GP4970294</td>\n",
       "      <td>404759210464358</td>\n",
       "      <td>2001:4490:0800:5F25:0000:0000:0000:0001</td>\n",
       "      <td>nan</td>\n",
       "      <td>Meter Shop</td>\n",
       "      <td>8/7/2019 1:26:44 PM</td>\n",
       "      <td>SBPDCL</td>\n",
       "      <td>Unique</td>\n",
       "    </tr>\n",
       "  </tbody>\n",
       "</table>\n",
       "</div>"
      ],
      "text/plain": [
       "    METERNUMBER MFG_SERIAL_NUM           UDC_ID  \\\n",
       "0  GOEGP4970294      GP4970294  404759210464358   \n",
       "\n",
       "                                NETWORK_ID INSTALLATIONNUMBER      STATUS  \\\n",
       "0  2001:4490:0800:5F25:0000:0000:0000:0001                nan  Meter Shop   \n",
       "\n",
       "           INSERT_TIME DECODE(D.ORG_ID,52,'SBPDCL',102,'NBPDCL')  \\\n",
       "0  8/7/2019 1:26:44 PM                                    SBPDCL   \n",
       "\n",
       "  Duplicated_asset  \n",
       "0           Unique  "
      ]
     },
     "execution_count": 22,
     "metadata": {},
     "output_type": "execute_result"
    }
   ],
   "source": [
    "ASSET_CONCAT_SB_NB.head(1)"
   ]
  },
  {
   "cell_type": "code",
   "execution_count": 23,
   "metadata": {},
   "outputs": [
    {
     "data": {
      "text/plain": [
       "(1558830, 10)"
      ]
     },
     "execution_count": 23,
     "metadata": {},
     "output_type": "execute_result"
    }
   ],
   "source": [
    "METER_STATUS_SB_NB.shape"
   ]
  },
  {
   "cell_type": "markdown",
   "metadata": {},
   "source": [
    "# Merging meter status and asset file"
   ]
  },
  {
   "cell_type": "code",
   "execution_count": 24,
   "metadata": {},
   "outputs": [],
   "source": [
    "#  merge status and asset file\n",
    "\n",
    "MERGE_METER_ASSET_STATUS_NB_SB = pd.merge(METER_STATUS_SB_NB[['UTILITY','STATUS_CD','INSERT_TIME','INSTALLATIONNO','METERNO','CONSUMERNO']], ASSET_CONCAT_SB_NB[['METERNUMBER','INSTALLATIONNUMBER','NETWORK_ID']], left_on=['METERNO','INSTALLATIONNO'], right_on=['METERNUMBER','INSTALLATIONNUMBER'], how='left')"
   ]
  },
  {
   "cell_type": "code",
   "execution_count": 25,
   "metadata": {},
   "outputs": [
    {
     "data": {
      "text/plain": [
       "(1591640, 9)"
      ]
     },
     "execution_count": 25,
     "metadata": {},
     "output_type": "execute_result"
    }
   ],
   "source": [
    "MERGE_METER_ASSET_STATUS_NB_SB.shape"
   ]
  },
  {
   "cell_type": "code",
   "execution_count": 26,
   "metadata": {},
   "outputs": [],
   "source": [
    "MERGE_METER_ASSET_STATUS_NB_SB['Duplicated_status'] = MERGE_METER_ASSET_STATUS_NB_SB.duplicated(subset=['METERNO']).map({True: 'Duplicated', False: 'Unique'})"
   ]
  },
  {
   "cell_type": "code",
   "execution_count": 27,
   "metadata": {},
   "outputs": [
    {
     "data": {
      "text/html": [
       "<div>\n",
       "<style scoped>\n",
       "    .dataframe tbody tr th:only-of-type {\n",
       "        vertical-align: middle;\n",
       "    }\n",
       "\n",
       "    .dataframe tbody tr th {\n",
       "        vertical-align: top;\n",
       "    }\n",
       "\n",
       "    .dataframe thead th {\n",
       "        text-align: right;\n",
       "    }\n",
       "</style>\n",
       "<table border=\"1\" class=\"dataframe\">\n",
       "  <thead>\n",
       "    <tr style=\"text-align: right;\">\n",
       "      <th></th>\n",
       "      <th>UTILITY</th>\n",
       "      <th>STATUS_CD</th>\n",
       "      <th>INSERT_TIME</th>\n",
       "      <th>INSTALLATIONNO</th>\n",
       "      <th>METERNO</th>\n",
       "      <th>CONSUMERNO</th>\n",
       "      <th>METERNUMBER</th>\n",
       "      <th>INSTALLATIONNUMBER</th>\n",
       "      <th>NETWORK_ID</th>\n",
       "      <th>Duplicated_status</th>\n",
       "    </tr>\n",
       "  </thead>\n",
       "  <tbody>\n",
       "    <tr>\n",
       "      <th>4011</th>\n",
       "      <td>NBPDCL</td>\n",
       "      <td>Installed</td>\n",
       "      <td>9/9/2020 6:17:54 PM</td>\n",
       "      <td>5001871684</td>\n",
       "      <td>GOEGP7471917</td>\n",
       "      <td>400794007</td>\n",
       "      <td>GOEGP7471917</td>\n",
       "      <td>5001871684</td>\n",
       "      <td>fd00:0000:0800:DE1A:0000:0000:0000:0001</td>\n",
       "      <td>Unique</td>\n",
       "    </tr>\n",
       "    <tr>\n",
       "      <th>4012</th>\n",
       "      <td>NBPDCL</td>\n",
       "      <td>Installed</td>\n",
       "      <td>9/9/2020 6:17:54 PM</td>\n",
       "      <td>5001871684</td>\n",
       "      <td>GOEGP7471917</td>\n",
       "      <td>400794007</td>\n",
       "      <td>GOEGP7471917</td>\n",
       "      <td>5001871684</td>\n",
       "      <td>2001:4490:0802:BAA9:0000:0000:0000:0001</td>\n",
       "      <td>Duplicated</td>\n",
       "    </tr>\n",
       "    <tr>\n",
       "      <th>8192</th>\n",
       "      <td>NBPDCL</td>\n",
       "      <td>Installed</td>\n",
       "      <td>9/8/2020 3:15:06 PM</td>\n",
       "      <td>BAL/CBL-2708</td>\n",
       "      <td>GOEGP7547192</td>\n",
       "      <td>11730015066</td>\n",
       "      <td>GOEGP7547192</td>\n",
       "      <td>BAL/CBL-2708</td>\n",
       "      <td>fd00:0000:0800:DED7:0000:0000:0000:0001</td>\n",
       "      <td>Unique</td>\n",
       "    </tr>\n",
       "    <tr>\n",
       "      <th>8193</th>\n",
       "      <td>NBPDCL</td>\n",
       "      <td>Installed</td>\n",
       "      <td>9/8/2020 3:15:06 PM</td>\n",
       "      <td>BAL/CBL-2708</td>\n",
       "      <td>GOEGP7547192</td>\n",
       "      <td>11730015066</td>\n",
       "      <td>GOEGP7547192</td>\n",
       "      <td>BAL/CBL-2708</td>\n",
       "      <td>2001:4490:0801:E442:0000:0000:0000:0001</td>\n",
       "      <td>Duplicated</td>\n",
       "    </tr>\n",
       "    <tr>\n",
       "      <th>8228</th>\n",
       "      <td>NBPDCL</td>\n",
       "      <td>Installed</td>\n",
       "      <td>9/8/2020 3:13:10 PM</td>\n",
       "      <td>ROSR-240</td>\n",
       "      <td>GOEGP5084017</td>\n",
       "      <td>11410012746</td>\n",
       "      <td>GOEGP5084017</td>\n",
       "      <td>ROSR-240</td>\n",
       "      <td>fd00:0000:0800:CCCC:0000:0000:0000:0001</td>\n",
       "      <td>Unique</td>\n",
       "    </tr>\n",
       "    <tr>\n",
       "      <th>...</th>\n",
       "      <td>...</td>\n",
       "      <td>...</td>\n",
       "      <td>...</td>\n",
       "      <td>...</td>\n",
       "      <td>...</td>\n",
       "      <td>...</td>\n",
       "      <td>...</td>\n",
       "      <td>...</td>\n",
       "      <td>...</td>\n",
       "      <td>...</td>\n",
       "    </tr>\n",
       "    <tr>\n",
       "      <th>1591209</th>\n",
       "      <td>SBPDCL</td>\n",
       "      <td>Installed</td>\n",
       "      <td>1/1/2024 12:09:20 PM</td>\n",
       "      <td>5004025883</td>\n",
       "      <td>GOEGP5057160</td>\n",
       "      <td>108745492</td>\n",
       "      <td>GOEGP5057160</td>\n",
       "      <td>5004025883</td>\n",
       "      <td>fd00:0000:0800:DABE:0000:0000:0000:0001</td>\n",
       "      <td>Duplicated</td>\n",
       "    </tr>\n",
       "    <tr>\n",
       "      <th>1591211</th>\n",
       "      <td>SBPDCL</td>\n",
       "      <td>Installed</td>\n",
       "      <td>1/1/2024 12:09:17 PM</td>\n",
       "      <td>5003988854</td>\n",
       "      <td>GOEGP5048963</td>\n",
       "      <td>108747511</td>\n",
       "      <td>GOEGP5048963</td>\n",
       "      <td>5003988854</td>\n",
       "      <td>2001:4490:0800:5096:0000:0000:0000:0001</td>\n",
       "      <td>Unique</td>\n",
       "    </tr>\n",
       "    <tr>\n",
       "      <th>1591212</th>\n",
       "      <td>SBPDCL</td>\n",
       "      <td>Installed</td>\n",
       "      <td>1/1/2024 12:09:17 PM</td>\n",
       "      <td>5003988854</td>\n",
       "      <td>GOEGP5048963</td>\n",
       "      <td>108747511</td>\n",
       "      <td>GOEGP5048963</td>\n",
       "      <td>5003988854</td>\n",
       "      <td>fd00:0000:0800:D9F0:0000:0000:0000:0001</td>\n",
       "      <td>Duplicated</td>\n",
       "    </tr>\n",
       "    <tr>\n",
       "      <th>1591213</th>\n",
       "      <td>SBPDCL</td>\n",
       "      <td>Installed</td>\n",
       "      <td>1/1/2024 12:09:15 PM</td>\n",
       "      <td>5003980282</td>\n",
       "      <td>GOEGP5070872</td>\n",
       "      <td>108747626</td>\n",
       "      <td>GOEGP5070872</td>\n",
       "      <td>5003980282</td>\n",
       "      <td>fd00:0000:0800:D9B2:0000:0000:0000:0001</td>\n",
       "      <td>Unique</td>\n",
       "    </tr>\n",
       "    <tr>\n",
       "      <th>1591214</th>\n",
       "      <td>SBPDCL</td>\n",
       "      <td>Installed</td>\n",
       "      <td>1/1/2024 12:09:15 PM</td>\n",
       "      <td>5003980282</td>\n",
       "      <td>GOEGP5070872</td>\n",
       "      <td>108747626</td>\n",
       "      <td>GOEGP5070872</td>\n",
       "      <td>5003980282</td>\n",
       "      <td>2001:4490:0802:9553:0000:0000:0000:0001</td>\n",
       "      <td>Duplicated</td>\n",
       "    </tr>\n",
       "  </tbody>\n",
       "</table>\n",
       "<p>63493 rows × 10 columns</p>\n",
       "</div>"
      ],
      "text/plain": [
       "        UTILITY  STATUS_CD           INSERT_TIME INSTALLATIONNO       METERNO  \\\n",
       "4011     NBPDCL  Installed   9/9/2020 6:17:54 PM     5001871684  GOEGP7471917   \n",
       "4012     NBPDCL  Installed   9/9/2020 6:17:54 PM     5001871684  GOEGP7471917   \n",
       "8192     NBPDCL  Installed   9/8/2020 3:15:06 PM   BAL/CBL-2708  GOEGP7547192   \n",
       "8193     NBPDCL  Installed   9/8/2020 3:15:06 PM   BAL/CBL-2708  GOEGP7547192   \n",
       "8228     NBPDCL  Installed   9/8/2020 3:13:10 PM       ROSR-240  GOEGP5084017   \n",
       "...         ...        ...                   ...            ...           ...   \n",
       "1591209  SBPDCL  Installed  1/1/2024 12:09:20 PM     5004025883  GOEGP5057160   \n",
       "1591211  SBPDCL  Installed  1/1/2024 12:09:17 PM     5003988854  GOEGP5048963   \n",
       "1591212  SBPDCL  Installed  1/1/2024 12:09:17 PM     5003988854  GOEGP5048963   \n",
       "1591213  SBPDCL  Installed  1/1/2024 12:09:15 PM     5003980282  GOEGP5070872   \n",
       "1591214  SBPDCL  Installed  1/1/2024 12:09:15 PM     5003980282  GOEGP5070872   \n",
       "\n",
       "          CONSUMERNO   METERNUMBER INSTALLATIONNUMBER  \\\n",
       "4011       400794007  GOEGP7471917         5001871684   \n",
       "4012       400794007  GOEGP7471917         5001871684   \n",
       "8192     11730015066  GOEGP7547192       BAL/CBL-2708   \n",
       "8193     11730015066  GOEGP7547192       BAL/CBL-2708   \n",
       "8228     11410012746  GOEGP5084017           ROSR-240   \n",
       "...              ...           ...                ...   \n",
       "1591209    108745492  GOEGP5057160         5004025883   \n",
       "1591211    108747511  GOEGP5048963         5003988854   \n",
       "1591212    108747511  GOEGP5048963         5003988854   \n",
       "1591213    108747626  GOEGP5070872         5003980282   \n",
       "1591214    108747626  GOEGP5070872         5003980282   \n",
       "\n",
       "                                      NETWORK_ID Duplicated_status  \n",
       "4011     fd00:0000:0800:DE1A:0000:0000:0000:0001            Unique  \n",
       "4012     2001:4490:0802:BAA9:0000:0000:0000:0001        Duplicated  \n",
       "8192     fd00:0000:0800:DED7:0000:0000:0000:0001            Unique  \n",
       "8193     2001:4490:0801:E442:0000:0000:0000:0001        Duplicated  \n",
       "8228     fd00:0000:0800:CCCC:0000:0000:0000:0001            Unique  \n",
       "...                                          ...               ...  \n",
       "1591209  fd00:0000:0800:DABE:0000:0000:0000:0001        Duplicated  \n",
       "1591211  2001:4490:0800:5096:0000:0000:0000:0001            Unique  \n",
       "1591212  fd00:0000:0800:D9F0:0000:0000:0000:0001        Duplicated  \n",
       "1591213  fd00:0000:0800:D9B2:0000:0000:0000:0001            Unique  \n",
       "1591214  2001:4490:0802:9553:0000:0000:0000:0001        Duplicated  \n",
       "\n",
       "[63493 rows x 10 columns]"
      ]
     },
     "execution_count": 27,
     "metadata": {},
     "output_type": "execute_result"
    }
   ],
   "source": [
    "MERGE_METER_ASSET_STATUS_NB_SB[MERGE_METER_ASSET_STATUS_NB_SB.duplicated(subset=['METERNO'],keep=False)]"
   ]
  },
  {
   "cell_type": "code",
   "execution_count": 28,
   "metadata": {},
   "outputs": [],
   "source": [
    "MERGE_METER_ASSET_STATUS_NB_SB.rename(\n",
    "    columns = {\"UTILITY\":\"MDM_UTILITY\",\"STATUS_CD\": \"MDM_STATUS_CD\",\n",
    "    \"INSERT_TIME\":\"MDM_INSERT_TIME\",\"INSTALLATIONNO\":\"MDM_INSTALLATIONNO\",\n",
    "    \"METERNO\":\"MDM_METERNO\",\"CONSUMERNO\":\"MDM_CONSUMERNO\",\"METERNUMBER\":\"MDM_ASSET_METERNUMBER\",\n",
    "    \"INSTALLATIONNUMBER\":\"MDM_ASSET_INSTALLATIONNUMBER\",\"NETWORK_ID\":\"MDM_IP\",\"Duplicated_status\":\"MDM_DUPLICATE\"},\n",
    "    inplace=True\n",
    ")\n"
   ]
  },
  {
   "cell_type": "code",
   "execution_count": 29,
   "metadata": {},
   "outputs": [
    {
     "data": {
      "text/plain": [
       "(1591640, 10)"
      ]
     },
     "execution_count": 29,
     "metadata": {},
     "output_type": "execute_result"
    }
   ],
   "source": [
    "MERGE_METER_ASSET_STATUS_NB_SB.shape"
   ]
  },
  {
   "cell_type": "code",
   "execution_count": 30,
   "metadata": {},
   "outputs": [
    {
     "name": "stdout",
     "output_type": "stream",
     "text": [
      "MDM_METER_ASSET_STATUS_NB SHAPE : (692095, 10)\n",
      "MDM_METER_ASSET_STATUS_SB SHAPE : (899545, 10)\n"
     ]
    }
   ],
   "source": [
    "MDM_METER_ASSET_STATUS_NB = MERGE_METER_ASSET_STATUS_NB_SB[MERGE_METER_ASSET_STATUS_NB_SB['MDM_UTILITY']=='NBPDCL']\n",
    "MDM_METER_ASSET_STATUS_SB = MERGE_METER_ASSET_STATUS_NB_SB[MERGE_METER_ASSET_STATUS_NB_SB['MDM_UTILITY']=='SBPDCL']\n",
    "\n",
    "\n",
    "# shape\n",
    "\n",
    "print(f\"MDM_METER_ASSET_STATUS_NB SHAPE : {MDM_METER_ASSET_STATUS_NB.shape}\")\n",
    "print(f\"MDM_METER_ASSET_STATUS_SB SHAPE : {MDM_METER_ASSET_STATUS_SB.shape}\")"
   ]
  },
  {
   "cell_type": "code",
   "execution_count": null,
   "metadata": {},
   "outputs": [],
   "source": []
  },
  {
   "cell_type": "markdown",
   "metadata": {},
   "source": [
    "# working on hes data"
   ]
  },
  {
   "cell_type": "code",
   "execution_count": 31,
   "metadata": {},
   "outputs": [
    {
     "name": "stdout",
     "output_type": "stream",
     "text": [
      "<class 'pandas.core.frame.DataFrame'>\n",
      "Index: 1520336 entries, 0 to 1557358\n",
      "Data columns (total 14 columns):\n",
      " #   Column                Non-Null Count    Dtype \n",
      "---  ------                --------------    ----- \n",
      " 0   INSTALLATIONDATETIME  1520336 non-null  object\n",
      " 1   ENTRYDATETIME         1520336 non-null  object\n",
      " 2   UTILITY               1520336 non-null  object\n",
      " 3   UTILITYSITEID         1520336 non-null  object\n",
      " 4   UTILITYDEVICEID       1520336 non-null  object\n",
      " 5   SERIALNUMBER          1520336 non-null  object\n",
      " 6   LASTS05               1520336 non-null  object\n",
      " 7   LASTS02               1520336 non-null  object\n",
      " 8   LASTS04               1520336 non-null  object\n",
      " 9   COORDINATEX           1520336 non-null  object\n",
      " 10  COORDINATEY           1520336 non-null  object\n",
      " 11  STATENAME             1520336 non-null  object\n",
      " 12  IP                    1520336 non-null  object\n",
      " 13  Duplicated_infra      1520336 non-null  object\n",
      "dtypes: object(14)\n",
      "memory usage: 174.0+ MB\n"
     ]
    }
   ],
   "source": [
    "INFRA_CONCAT_SB_NB.info()"
   ]
  },
  {
   "cell_type": "code",
   "execution_count": null,
   "metadata": {},
   "outputs": [],
   "source": []
  },
  {
   "cell_type": "code",
   "execution_count": 32,
   "metadata": {},
   "outputs": [],
   "source": [
    "# drop column from the HES INFRA DATA\n",
    "\n",
    "INFRA_CONCAT_SB_NB.drop(['ENTRYDATETIME','COORDINATEX','COORDINATEY','SERIALNUMBER','LASTS05','LASTS02','LASTS04'],axis=1,inplace =True)"
   ]
  },
  {
   "cell_type": "code",
   "execution_count": 33,
   "metadata": {},
   "outputs": [
    {
     "name": "stdout",
     "output_type": "stream",
     "text": [
      "INFRA_CONCAT_SB_NB SHAPE : (1520336, 7)\n"
     ]
    }
   ],
   "source": [
    "print(f\"INFRA_CONCAT_SB_NB SHAPE : {INFRA_CONCAT_SB_NB.shape}\")\n"
   ]
  },
  {
   "cell_type": "code",
   "execution_count": 34,
   "metadata": {},
   "outputs": [
    {
     "data": {
      "text/html": [
       "<div>\n",
       "<style scoped>\n",
       "    .dataframe tbody tr th:only-of-type {\n",
       "        vertical-align: middle;\n",
       "    }\n",
       "\n",
       "    .dataframe tbody tr th {\n",
       "        vertical-align: top;\n",
       "    }\n",
       "\n",
       "    .dataframe thead th {\n",
       "        text-align: right;\n",
       "    }\n",
       "</style>\n",
       "<table border=\"1\" class=\"dataframe\">\n",
       "  <thead>\n",
       "    <tr style=\"text-align: right;\">\n",
       "      <th></th>\n",
       "      <th>INSTALLATIONDATETIME</th>\n",
       "      <th>UTILITY</th>\n",
       "      <th>UTILITYSITEID</th>\n",
       "      <th>UTILITYDEVICEID</th>\n",
       "      <th>STATENAME</th>\n",
       "      <th>IP</th>\n",
       "      <th>Duplicated_infra</th>\n",
       "    </tr>\n",
       "  </thead>\n",
       "  <tbody>\n",
       "    <tr>\n",
       "      <th>0</th>\n",
       "      <td>8/18/2023 6:11:30 PM</td>\n",
       "      <td>SBPDCL</td>\n",
       "      <td>5002259607</td>\n",
       "      <td>LNTLT8072561</td>\n",
       "      <td>Imported&amp;&amp;Installed</td>\n",
       "      <td>2405:0203:0535:126E:0000:0000:0000:0010</td>\n",
       "      <td>Unique</td>\n",
       "    </tr>\n",
       "  </tbody>\n",
       "</table>\n",
       "</div>"
      ],
      "text/plain": [
       "   INSTALLATIONDATETIME UTILITY UTILITYSITEID UTILITYDEVICEID  \\\n",
       "0  8/18/2023 6:11:30 PM  SBPDCL    5002259607    LNTLT8072561   \n",
       "\n",
       "             STATENAME                                       IP  \\\n",
       "0  Imported&&Installed  2405:0203:0535:126E:0000:0000:0000:0010   \n",
       "\n",
       "  Duplicated_infra  \n",
       "0           Unique  "
      ]
     },
     "execution_count": 34,
     "metadata": {},
     "output_type": "execute_result"
    }
   ],
   "source": [
    "INFRA_CONCAT_SB_NB.head(1)"
   ]
  },
  {
   "cell_type": "code",
   "execution_count": 35,
   "metadata": {},
   "outputs": [],
   "source": [
    "INFRA_CONCAT_SB_NB.rename(\n",
    "    columns = {\"INSTALLATIONDATETIME\":\"HES_INSTALLATIONDATETIME\",\"UTILITY\": \"HES_UTILITY\",\n",
    "    \"UTILITYSITEID\":\"HES_INSTALLATION_NO\",\"UTILITYDEVICEID\":\"HES_METER_NO\",\n",
    "    \"STATENAME\":\"HES_STATUS\",\"IP\":\"HES_IP\",\"Duplicated_infra\":\"HES_DUPLICATED_INFRA\"},\n",
    "    inplace=True\n",
    ")\n"
   ]
  },
  {
   "cell_type": "code",
   "execution_count": 36,
   "metadata": {},
   "outputs": [
    {
     "name": "stdout",
     "output_type": "stream",
     "text": [
      "HES_METER_NB SHAPE : (663345, 7)\n",
      "HES_METER_SB SHAPE : (856991, 7)\n"
     ]
    }
   ],
   "source": [
    "HES_METER_NB =  INFRA_CONCAT_SB_NB[INFRA_CONCAT_SB_NB['HES_UTILITY']=='NBPDCL']\n",
    "HES_METER_SB =  INFRA_CONCAT_SB_NB[INFRA_CONCAT_SB_NB['HES_UTILITY']=='SBPDCL']\n",
    "\n",
    "\n",
    "print(f\"HES_METER_NB SHAPE : {HES_METER_NB.shape}\")\n",
    "print(f\"HES_METER_SB SHAPE : {HES_METER_SB.shape}\")"
   ]
  },
  {
   "cell_type": "code",
   "execution_count": null,
   "metadata": {},
   "outputs": [],
   "source": []
  },
  {
   "cell_type": "markdown",
   "metadata": {},
   "source": [
    "# FINAL DATA  HES & MDM"
   ]
  },
  {
   "cell_type": "code",
   "execution_count": 37,
   "metadata": {},
   "outputs": [
    {
     "name": "stdout",
     "output_type": "stream",
     "text": [
      "HES_METER_NB SHAPE : (663345, 7)\n",
      "MDM_METER_SB SHAPE : (856991, 7)\n",
      "MDM_METER_ASSET_STATUS_NB SHAPE : (692095, 10)\n",
      "MDM_METER_ASSET_STATUS_SB SHAPE : (899545, 10)\n"
     ]
    }
   ],
   "source": [
    "\n",
    "print(f\"HES_METER_NB SHAPE : {HES_METER_NB.shape}\")\n",
    "print(f\"MDM_METER_SB SHAPE : {HES_METER_SB.shape}\")\n",
    "\n",
    "#-----------------------------------------------------------------------------------------------------\n",
    "\n",
    "print(f\"MDM_METER_ASSET_STATUS_NB SHAPE : {MDM_METER_ASSET_STATUS_NB.shape}\")\n",
    "print(f\"MDM_METER_ASSET_STATUS_SB SHAPE : {MDM_METER_ASSET_STATUS_SB.shape}\")"
   ]
  },
  {
   "cell_type": "code",
   "execution_count": 38,
   "metadata": {},
   "outputs": [
    {
     "data": {
      "text/html": [
       "<div>\n",
       "<style scoped>\n",
       "    .dataframe tbody tr th:only-of-type {\n",
       "        vertical-align: middle;\n",
       "    }\n",
       "\n",
       "    .dataframe tbody tr th {\n",
       "        vertical-align: top;\n",
       "    }\n",
       "\n",
       "    .dataframe thead th {\n",
       "        text-align: right;\n",
       "    }\n",
       "</style>\n",
       "<table border=\"1\" class=\"dataframe\">\n",
       "  <thead>\n",
       "    <tr style=\"text-align: right;\">\n",
       "      <th></th>\n",
       "      <th>HES_INSTALLATIONDATETIME</th>\n",
       "      <th>HES_UTILITY</th>\n",
       "      <th>HES_INSTALLATION_NO</th>\n",
       "      <th>HES_METER_NO</th>\n",
       "      <th>HES_STATUS</th>\n",
       "      <th>HES_IP</th>\n",
       "      <th>HES_DUPLICATED_INFRA</th>\n",
       "    </tr>\n",
       "  </thead>\n",
       "  <tbody>\n",
       "    <tr>\n",
       "      <th>877655</th>\n",
       "      <td>1/3/2024 10:49:59 PM</td>\n",
       "      <td>NBPDCL</td>\n",
       "      <td>5001461671</td>\n",
       "      <td>LNTLT8069351</td>\n",
       "      <td>Imported&amp;&amp;Installed</td>\n",
       "      <td>2405:0203:0535:37E5:0000:0000:0000:0010</td>\n",
       "      <td>Unique</td>\n",
       "    </tr>\n",
       "  </tbody>\n",
       "</table>\n",
       "</div>"
      ],
      "text/plain": [
       "       HES_INSTALLATIONDATETIME HES_UTILITY HES_INSTALLATION_NO  HES_METER_NO  \\\n",
       "877655     1/3/2024 10:49:59 PM      NBPDCL          5001461671  LNTLT8069351   \n",
       "\n",
       "                 HES_STATUS                                   HES_IP  \\\n",
       "877655  Imported&&Installed  2405:0203:0535:37E5:0000:0000:0000:0010   \n",
       "\n",
       "       HES_DUPLICATED_INFRA  \n",
       "877655               Unique  "
      ]
     },
     "execution_count": 38,
     "metadata": {},
     "output_type": "execute_result"
    }
   ],
   "source": [
    "HES_METER_NB.head(1)"
   ]
  },
  {
   "cell_type": "code",
   "execution_count": null,
   "metadata": {},
   "outputs": [],
   "source": []
  },
  {
   "cell_type": "markdown",
   "metadata": {},
   "source": [
    "# MERGE HES AND MDM FILE  UTILITY WISE"
   ]
  },
  {
   "cell_type": "code",
   "execution_count": 53,
   "metadata": {},
   "outputs": [],
   "source": [
    "# merge infra and asset_status file\n",
    "\n",
    "MERGE_MDM_NB_HES_NB =pd.merge(MDM_METER_ASSET_STATUS_NB,HES_METER_NB, left_on=['MDM_METERNO'], right_on=['HES_METER_NO'], how='left')\n",
    "MERGE_MDM_SB_HES_SB =pd.merge(MDM_METER_ASSET_STATUS_SB,HES_METER_SB, left_on=['MDM_METERNO'], right_on=['HES_METER_NO'], how='left')\n",
    "\n",
    "\n",
    "MERGE_MDM_NB_HES_SB =pd.merge(MDM_METER_ASSET_STATUS_NB,HES_METER_SB, left_on=['MDM_METERNO'], right_on=['HES_METER_NO'], how='left')\n",
    "MERGE_MDM_SB_HES_NB =pd.merge(MDM_METER_ASSET_STATUS_SB,HES_METER_NB, left_on=['MDM_METERNO'], right_on=['HES_METER_NO'], how='left')"
   ]
  },
  {
   "cell_type": "code",
   "execution_count": 57,
   "metadata": {},
   "outputs": [
    {
     "data": {
      "text/html": [
       "<div>\n",
       "<style scoped>\n",
       "    .dataframe tbody tr th:only-of-type {\n",
       "        vertical-align: middle;\n",
       "    }\n",
       "\n",
       "    .dataframe tbody tr th {\n",
       "        vertical-align: top;\n",
       "    }\n",
       "\n",
       "    .dataframe thead th {\n",
       "        text-align: right;\n",
       "    }\n",
       "</style>\n",
       "<table border=\"1\" class=\"dataframe\">\n",
       "  <thead>\n",
       "    <tr style=\"text-align: right;\">\n",
       "      <th></th>\n",
       "      <th>HES_INSTALLATIONDATETIME</th>\n",
       "      <th>HES_UTILITY</th>\n",
       "      <th>HES_INSTALLATION_NO</th>\n",
       "      <th>HES_METER_NO</th>\n",
       "      <th>HES_STATUS</th>\n",
       "      <th>HES_IP</th>\n",
       "      <th>HES_DUPLICATED_INFRA</th>\n",
       "    </tr>\n",
       "  </thead>\n",
       "  <tbody>\n",
       "    <tr>\n",
       "      <th>0</th>\n",
       "      <td>1/3/2024 10:49:59 PM</td>\n",
       "      <td>NBPDCL</td>\n",
       "      <td>5001461671</td>\n",
       "      <td>LNTLT8069351</td>\n",
       "      <td>Imported&amp;&amp;Installed</td>\n",
       "      <td>2405:0203:0535:37E5:0000:0000:0000:0010</td>\n",
       "      <td>Unique</td>\n",
       "    </tr>\n",
       "  </tbody>\n",
       "</table>\n",
       "</div>"
      ],
      "text/plain": [
       "  HES_INSTALLATIONDATETIME HES_UTILITY HES_INSTALLATION_NO  HES_METER_NO  \\\n",
       "0     1/3/2024 10:49:59 PM      NBPDCL          5001461671  LNTLT8069351   \n",
       "\n",
       "            HES_STATUS                                   HES_IP  \\\n",
       "0  Imported&&Installed  2405:0203:0535:37E5:0000:0000:0000:0010   \n",
       "\n",
       "  HES_DUPLICATED_INFRA  \n",
       "0               Unique  "
      ]
     },
     "execution_count": 57,
     "metadata": {},
     "output_type": "execute_result"
    }
   ],
   "source": [
    "HES_METER_NB.head(1)"
   ]
  },
  {
   "cell_type": "code",
   "execution_count": 58,
   "metadata": {},
   "outputs": [],
   "source": [
    "# HERE MERGE ON THE BASIS OF IP IN HES AND MDM  AND LETS CHECK.  SAME SAME ON 2 DIFF METER\n",
    "\n",
    "\n",
    "MERGE_MDM_NB_HES_NB_ON_IP =pd.merge(MDM_METER_ASSET_STATUS_NB,HES_METER_NB, left_on=['MDM_IP'], right_on=['HES_IP'], how='left')\n",
    "MERGE_MDM_SB_HES_SB_ON_IP =pd.merge(MDM_METER_ASSET_STATUS_SB,HES_METER_SB, left_on=['MDM_IP'], right_on=['HES_IP'], how='left')\n",
    "\n",
    "\n",
    "MERGE_MDM_NB_HES_SB_ON_IP =pd.merge(MDM_METER_ASSET_STATUS_NB,HES_METER_SB, left_on=['MDM_IP'], right_on=['HES_IP'], how='left')\n",
    "MERGE_MDM_SB_HES_NB_ON_IP =pd.merge(MDM_METER_ASSET_STATUS_SB,HES_METER_NB, left_on=['MDM_IP'], right_on=['HES_IP'], how='left')"
   ]
  },
  {
   "cell_type": "code",
   "execution_count": null,
   "metadata": {},
   "outputs": [],
   "source": []
  },
  {
   "cell_type": "markdown",
   "metadata": {},
   "source": [
    "# WORKING ON IP"
   ]
  },
  {
   "cell_type": "code",
   "execution_count": 55,
   "metadata": {},
   "outputs": [],
   "source": [
    "# CASE 1 : - WHERE UTILITY AND METER NO. OF MDM AND HES IS SAME  FOR NB DATA BUT IP IS DIFF\n",
    "\n",
    "IP_DATA_MDM_NB_HES_NB_METER_SAME_IP_DIFF = MERGE_MDM_NB_HES_NB[(MERGE_MDM_NB_HES_NB['MDM_METERNO']==MERGE_MDM_NB_HES_NB['HES_METER_NO']) \n",
    "                                                               & (MERGE_MDM_NB_HES_NB['MDM_IP']!=MERGE_MDM_NB_HES_NB['HES_IP']) \n",
    "                                                               & (MERGE_MDM_NB_HES_NB['HES_IP'].notnull()) \n",
    "                                                               & (MERGE_MDM_NB_HES_NB['MDM_IP'].notnull())]\n",
    "\n",
    "\n",
    "IP_DATA_MDM_NB_HES_NB_METER_SAME_IP_DIFF.to_csv(r\"C:\\Users\\Ratan Kumar Jha\\Desktop\\hes_mdm\\OUTPUT FOLDER\\IP_DATA_MDM_NB_HES_NB_METER_SAME_IP_DIFF.csv\")"
   ]
  },
  {
   "cell_type": "code",
   "execution_count": 74,
   "metadata": {},
   "outputs": [
    {
     "data": {
      "text/plain": [
       "(14423, 17)"
      ]
     },
     "execution_count": 74,
     "metadata": {},
     "output_type": "execute_result"
    }
   ],
   "source": [
    "IP_DATA_MDM_NB_HES_NB_METER_SAME_IP_DIFF.shape"
   ]
  },
  {
   "cell_type": "code",
   "execution_count": 60,
   "metadata": {},
   "outputs": [],
   "source": [
    "# CASE 2  : -   WHERE UTILITY AND METER NO. OF MDM AND HES IS SAME  FOR SB DATA  BUT IP IS DIFF \n",
    "\n",
    "\n",
    "\n",
    "IP_DATA_MDM_SB_HES_SB_METER_SAME_IP_DIFF = MERGE_MDM_SB_HES_SB[(MERGE_MDM_SB_HES_SB['MDM_METERNO']==MERGE_MDM_SB_HES_SB['HES_METER_NO']) \n",
    "                                                               & (MERGE_MDM_SB_HES_SB['MDM_IP']!=MERGE_MDM_SB_HES_SB['HES_IP']) \n",
    "                                                               & (MERGE_MDM_SB_HES_SB['HES_IP'].notnull()) \n",
    "                                                               & (MERGE_MDM_SB_HES_SB['MDM_IP'].notnull())]\n",
    "\n",
    "\n",
    "IP_DATA_MDM_SB_HES_SB_METER_SAME_IP_DIFF.to_csv(r\"C:\\Users\\Ratan Kumar Jha\\Desktop\\hes_mdm\\OUTPUT FOLDER\\IP_DATA_MDM_SB_HES_SB_METER_SAME_IP_DIFF.csv\")"
   ]
  },
  {
   "cell_type": "code",
   "execution_count": 77,
   "metadata": {},
   "outputs": [
    {
     "data": {
      "text/plain": [
       "(27234, 17)"
      ]
     },
     "execution_count": 77,
     "metadata": {},
     "output_type": "execute_result"
    }
   ],
   "source": [
    "IP_DATA_MDM_SB_HES_SB_METER_SAME_IP_DIFF.shape"
   ]
  },
  {
   "cell_type": "code",
   "execution_count": 62,
   "metadata": {},
   "outputs": [],
   "source": [
    "# CASE 3 :- WHERE MDM IN NB  AND HES IN SB :- WHERE METER NO. IS SAME IN MDM NB AND HES SB  BUT  UTILITY AND IP IS DIFF\n",
    "\n",
    "\n",
    "\n",
    "\n",
    "IP_DATA_MDM_NB_HES_SB_METER_SAME_UTILITY_DIFF_IP_DIFF = MERGE_MDM_NB_HES_SB[(MERGE_MDM_NB_HES_SB['MDM_METERNO']==MERGE_MDM_NB_HES_SB['HES_METER_NO']) \n",
    "                                                               & (MERGE_MDM_NB_HES_SB['MDM_IP']!=MERGE_MDM_NB_HES_SB['HES_IP']) \n",
    "                                                               & (MERGE_MDM_NB_HES_SB['HES_IP'].notnull()) \n",
    "                                                               & (MERGE_MDM_NB_HES_SB['MDM_IP'].notnull())]\n",
    "\n",
    "\n",
    "IP_DATA_MDM_NB_HES_SB_METER_SAME_UTILITY_DIFF_IP_DIFF.to_csv(r\"C:\\Users\\Ratan Kumar Jha\\Desktop\\hes_mdm\\OUTPUT FOLDER\\IP_DATA_MDM_NB_HES_SB_METER_SAME_UTILITY_DIFF_IP_DIFF.csv\")\n"
   ]
  },
  {
   "cell_type": "code",
   "execution_count": 75,
   "metadata": {},
   "outputs": [
    {
     "data": {
      "text/plain": [
       "(154, 17)"
      ]
     },
     "execution_count": 75,
     "metadata": {},
     "output_type": "execute_result"
    }
   ],
   "source": [
    "IP_DATA_MDM_NB_HES_SB_METER_SAME_UTILITY_DIFF_IP_DIFF.shape"
   ]
  },
  {
   "cell_type": "code",
   "execution_count": 66,
   "metadata": {},
   "outputs": [],
   "source": [
    "# CASE 4 :- WHERE MDM IN SB  AND HES IN NB :- WHERE METER NO. IS SAME IN MDM SB AND HES NB  BUT  UTILITY AND IP IS DIFF\n",
    "\n",
    "\n",
    "\n",
    "\n",
    "IP_DATA_MDM_SB_HES_NB_METER_SAME_UTILITY_DIFF_IP_DIFF = MERGE_MDM_SB_HES_NB[(MERGE_MDM_SB_HES_NB['MDM_METERNO']==MERGE_MDM_SB_HES_NB['HES_METER_NO']) \n",
    "                                                               & (MERGE_MDM_SB_HES_NB['MDM_IP']!=MERGE_MDM_SB_HES_NB['HES_IP']) \n",
    "                                                               & (MERGE_MDM_SB_HES_NB['HES_IP'].notnull()) \n",
    "                                                               & (MERGE_MDM_SB_HES_NB['MDM_IP'].notnull())]\n",
    "\n",
    "\n",
    "IP_DATA_MDM_SB_HES_NB_METER_SAME_UTILITY_DIFF_IP_DIFF.to_csv(r\"C:\\Users\\Ratan Kumar Jha\\Desktop\\hes_mdm\\OUTPUT FOLDER\\IP_DATA_MDM_SB_HES_NB_METER_SAME_UTILITY_DIFF_IP_DIFF.csv\")\n"
   ]
  },
  {
   "cell_type": "code",
   "execution_count": 79,
   "metadata": {},
   "outputs": [
    {
     "data": {
      "text/plain": [
       "(203, 17)"
      ]
     },
     "execution_count": 79,
     "metadata": {},
     "output_type": "execute_result"
    }
   ],
   "source": [
    "IP_DATA_MDM_SB_HES_NB_METER_SAME_UTILITY_DIFF_IP_DIFF.shape"
   ]
  },
  {
   "cell_type": "code",
   "execution_count": null,
   "metadata": {},
   "outputs": [],
   "source": []
  },
  {
   "cell_type": "markdown",
   "metadata": {},
   "source": [
    "#### CASE WHERE IP IS SAME BUT UTILITY AND METER NO. IS DIFF"
   ]
  },
  {
   "cell_type": "code",
   "execution_count": 70,
   "metadata": {},
   "outputs": [],
   "source": [
    "# CASE 5 : - WHERE UTILITY - NB AND IP OF MDM AND HES IS SAME   BUT METER NO. IS DIFF\n",
    "\n",
    "IP_DATA_MDM_NB_HES_NB_METER_DIFF_UTILITY_SAME_IP_SAME=MERGE_MDM_NB_HES_NB_ON_IP[(MERGE_MDM_NB_HES_NB_ON_IP['MDM_METERNO']!=MERGE_MDM_NB_HES_NB_ON_IP['HES_METER_NO']) \n",
    "                                                               & (MERGE_MDM_NB_HES_NB_ON_IP['MDM_IP']==MERGE_MDM_NB_HES_NB_ON_IP['HES_IP']) \n",
    "                                                               & (MERGE_MDM_NB_HES_NB_ON_IP['HES_IP'].notnull()) \n",
    "                                                               & (MERGE_MDM_NB_HES_NB_ON_IP['MDM_IP'].notnull())\n",
    "                                                               & (MERGE_MDM_NB_HES_NB_ON_IP['MDM_METERNO'].notnull())\n",
    "                                                               & (MERGE_MDM_NB_HES_NB_ON_IP['HES_METER_NO'].notnull())\n",
    "                                                               \n",
    "                                                               ]\n",
    "\n",
    "\n",
    "IP_DATA_MDM_NB_HES_NB_METER_DIFF_UTILITY_SAME_IP_SAME.to_csv(r\"C:\\Users\\Ratan Kumar Jha\\Desktop\\hes_mdm\\OUTPUT FOLDER\\IP_DATA_MDM_NB_HES_NB_METER_DIFF_UTILITY_SAME_IP_SAME.csv\")"
   ]
  },
  {
   "cell_type": "code",
   "execution_count": 80,
   "metadata": {},
   "outputs": [
    {
     "data": {
      "text/plain": [
       "(28991, 17)"
      ]
     },
     "execution_count": 80,
     "metadata": {},
     "output_type": "execute_result"
    }
   ],
   "source": [
    "IP_DATA_MDM_NB_HES_NB_METER_DIFF_UTILITY_SAME_IP_SAME.shape"
   ]
  },
  {
   "cell_type": "code",
   "execution_count": 81,
   "metadata": {},
   "outputs": [
    {
     "data": {
      "text/html": [
       "<div>\n",
       "<style scoped>\n",
       "    .dataframe tbody tr th:only-of-type {\n",
       "        vertical-align: middle;\n",
       "    }\n",
       "\n",
       "    .dataframe tbody tr th {\n",
       "        vertical-align: top;\n",
       "    }\n",
       "\n",
       "    .dataframe thead th {\n",
       "        text-align: right;\n",
       "    }\n",
       "</style>\n",
       "<table border=\"1\" class=\"dataframe\">\n",
       "  <thead>\n",
       "    <tr style=\"text-align: right;\">\n",
       "      <th></th>\n",
       "      <th>MDM_UTILITY</th>\n",
       "      <th>MDM_STATUS_CD</th>\n",
       "      <th>MDM_INSERT_TIME</th>\n",
       "      <th>MDM_INSTALLATIONNO</th>\n",
       "      <th>MDM_METERNO</th>\n",
       "      <th>MDM_CONSUMERNO</th>\n",
       "      <th>MDM_ASSET_METERNUMBER</th>\n",
       "      <th>MDM_ASSET_INSTALLATIONNUMBER</th>\n",
       "      <th>MDM_IP</th>\n",
       "      <th>MDM_DUPLICATE</th>\n",
       "      <th>HES_INSTALLATIONDATETIME</th>\n",
       "      <th>HES_UTILITY</th>\n",
       "      <th>HES_INSTALLATION_NO</th>\n",
       "      <th>HES_METER_NO</th>\n",
       "      <th>HES_STATUS</th>\n",
       "      <th>HES_IP</th>\n",
       "      <th>HES_DUPLICATED_INFRA</th>\n",
       "    </tr>\n",
       "  </thead>\n",
       "  <tbody>\n",
       "    <tr>\n",
       "      <th>9237</th>\n",
       "      <td>NBPDCL</td>\n",
       "      <td>Installed</td>\n",
       "      <td>9/5/2023 12:16:21 PM</td>\n",
       "      <td>5002648047</td>\n",
       "      <td>LNTLT0033628</td>\n",
       "      <td>401103766</td>\n",
       "      <td>LNTLT0033628</td>\n",
       "      <td>5002648047</td>\n",
       "      <td>2405:0203:0520:8C80:0000:0000:0000:0010</td>\n",
       "      <td>Unique</td>\n",
       "      <td>10/6/2021 12:30:00 PM</td>\n",
       "      <td>NBPDCL</td>\n",
       "      <td>5002704338</td>\n",
       "      <td>LNTLT0033627</td>\n",
       "      <td>Imported&amp;&amp;Installed</td>\n",
       "      <td>2405:0203:0520:8C80:0000:0000:0000:0010</td>\n",
       "      <td>Unique</td>\n",
       "    </tr>\n",
       "    <tr>\n",
       "      <th>10886</th>\n",
       "      <td>NBPDCL</td>\n",
       "      <td>Installed</td>\n",
       "      <td>9/4/2023 6:15:45 PM</td>\n",
       "      <td>5004008784</td>\n",
       "      <td>LNTLT0032535</td>\n",
       "      <td>402256863</td>\n",
       "      <td>LNTLT0032535</td>\n",
       "      <td>5004008784</td>\n",
       "      <td>2405:0203:0520:883B:0000:0000:0000:0010</td>\n",
       "      <td>Unique</td>\n",
       "      <td>10/21/2021 11:42:00 AM</td>\n",
       "      <td>NBPDCL</td>\n",
       "      <td>DALDLW-36</td>\n",
       "      <td>LNTLT0032534</td>\n",
       "      <td>Imported&amp;&amp;Installed</td>\n",
       "      <td>2405:0203:0520:883B:0000:0000:0000:0010</td>\n",
       "      <td>Unique</td>\n",
       "    </tr>\n",
       "  </tbody>\n",
       "</table>\n",
       "</div>"
      ],
      "text/plain": [
       "      MDM_UTILITY MDM_STATUS_CD       MDM_INSERT_TIME MDM_INSTALLATIONNO  \\\n",
       "9237       NBPDCL     Installed  9/5/2023 12:16:21 PM         5002648047   \n",
       "10886      NBPDCL     Installed   9/4/2023 6:15:45 PM         5004008784   \n",
       "\n",
       "        MDM_METERNO MDM_CONSUMERNO MDM_ASSET_METERNUMBER  \\\n",
       "9237   LNTLT0033628      401103766          LNTLT0033628   \n",
       "10886  LNTLT0032535      402256863          LNTLT0032535   \n",
       "\n",
       "      MDM_ASSET_INSTALLATIONNUMBER                                   MDM_IP  \\\n",
       "9237                    5002648047  2405:0203:0520:8C80:0000:0000:0000:0010   \n",
       "10886                   5004008784  2405:0203:0520:883B:0000:0000:0000:0010   \n",
       "\n",
       "      MDM_DUPLICATE HES_INSTALLATIONDATETIME HES_UTILITY HES_INSTALLATION_NO  \\\n",
       "9237         Unique    10/6/2021 12:30:00 PM      NBPDCL          5002704338   \n",
       "10886        Unique   10/21/2021 11:42:00 AM      NBPDCL           DALDLW-36   \n",
       "\n",
       "       HES_METER_NO           HES_STATUS  \\\n",
       "9237   LNTLT0033627  Imported&&Installed   \n",
       "10886  LNTLT0032534  Imported&&Installed   \n",
       "\n",
       "                                        HES_IP HES_DUPLICATED_INFRA  \n",
       "9237   2405:0203:0520:8C80:0000:0000:0000:0010               Unique  \n",
       "10886  2405:0203:0520:883B:0000:0000:0000:0010               Unique  "
      ]
     },
     "execution_count": 81,
     "metadata": {},
     "output_type": "execute_result"
    }
   ],
   "source": [
    "IP_DATA_MDM_NB_HES_NB_METER_DIFF_UTILITY_SAME_IP_SAME.head(2)"
   ]
  },
  {
   "cell_type": "code",
   "execution_count": 71,
   "metadata": {},
   "outputs": [],
   "source": [
    "# CASE 6 : - WHERE UTILITY-SB AND IP OF MDM AND HES IS SAME   BUT METER NO. IS DIFF\n",
    "\n",
    "IP_DATA_MDM_SB_HES_SB_METER_DIFF_UTILITY_SAME_IP_SAME = MERGE_MDM_SB_HES_SB_ON_IP[(MERGE_MDM_SB_HES_SB_ON_IP['MDM_METERNO']!=MERGE_MDM_SB_HES_SB_ON_IP['HES_METER_NO']) \n",
    "                                                               & (MERGE_MDM_SB_HES_SB_ON_IP['MDM_IP']==MERGE_MDM_SB_HES_SB_ON_IP['HES_IP']) \n",
    "                                                               & (MERGE_MDM_SB_HES_SB_ON_IP['HES_IP'].notnull()) \n",
    "                                                               & (MERGE_MDM_SB_HES_SB_ON_IP['MDM_IP'].notnull())\n",
    "                                                               & (MERGE_MDM_SB_HES_SB_ON_IP['MDM_METERNO'].notnull())\n",
    "                                                               & (MERGE_MDM_SB_HES_SB_ON_IP['HES_METER_NO'].notnull())\n",
    "                                                               \n",
    "                                                               ]\n",
    "\n",
    "\n",
    "IP_DATA_MDM_SB_HES_SB_METER_DIFF_UTILITY_SAME_IP_SAME.to_csv(r\"C:\\Users\\Ratan Kumar Jha\\Desktop\\hes_mdm\\OUTPUT FOLDER\\IP_DATA_MDM_SB_HES_SB_METER_DIFF_UTILITY_SAME_IP_SAME.csv\")"
   ]
  },
  {
   "cell_type": "code",
   "execution_count": 82,
   "metadata": {},
   "outputs": [
    {
     "data": {
      "text/plain": [
       "(11210, 17)"
      ]
     },
     "execution_count": 82,
     "metadata": {},
     "output_type": "execute_result"
    }
   ],
   "source": [
    "IP_DATA_MDM_SB_HES_SB_METER_DIFF_UTILITY_SAME_IP_SAME.shape"
   ]
  },
  {
   "cell_type": "code",
   "execution_count": 72,
   "metadata": {},
   "outputs": [],
   "source": [
    "# CASE 7 :- WHERE UTILITY IS DIFF , MDM SB, HES NB  ,  METER NO IS DIFF,  BUT IP IS SAME \n",
    "\n",
    "\n",
    "\n",
    "IP_DATA_MDM_SB_HES_NB_METER_DIFF_UTILITY_DIFF_IP_SAME = MERGE_MDM_SB_HES_NB_ON_IP[(MERGE_MDM_SB_HES_NB_ON_IP['MDM_METERNO']!=MERGE_MDM_SB_HES_NB_ON_IP['HES_METER_NO']) \n",
    "                                                               & (MERGE_MDM_SB_HES_NB_ON_IP['MDM_IP']==MERGE_MDM_SB_HES_NB_ON_IP['HES_IP']) \n",
    "                                                               & (MERGE_MDM_SB_HES_NB_ON_IP['HES_IP'].notnull()) \n",
    "                                                               & (MERGE_MDM_SB_HES_NB_ON_IP['MDM_IP'].notnull())\n",
    "                                                               & (MERGE_MDM_SB_HES_NB_ON_IP['MDM_METERNO'].notnull())\n",
    "                                                               & (MERGE_MDM_SB_HES_NB_ON_IP['HES_METER_NO'].notnull())\n",
    "                                                               \n",
    "                                                               ]\n",
    "\n",
    "\n",
    "IP_DATA_MDM_SB_HES_NB_METER_DIFF_UTILITY_DIFF_IP_SAME.to_csv(r\"C:\\Users\\Ratan Kumar Jha\\Desktop\\hes_mdm\\OUTPUT FOLDER\\IP_DATA_MDM_SB_HES_NB_METER_DIFF_UTILITY_DIFF_IP_SAME.csv\")"
   ]
  },
  {
   "cell_type": "code",
   "execution_count": 83,
   "metadata": {},
   "outputs": [
    {
     "data": {
      "text/plain": [
       "(2771, 17)"
      ]
     },
     "execution_count": 83,
     "metadata": {},
     "output_type": "execute_result"
    }
   ],
   "source": [
    "IP_DATA_MDM_SB_HES_NB_METER_DIFF_UTILITY_DIFF_IP_SAME.shape"
   ]
  },
  {
   "cell_type": "code",
   "execution_count": 84,
   "metadata": {},
   "outputs": [
    {
     "data": {
      "text/html": [
       "<div>\n",
       "<style scoped>\n",
       "    .dataframe tbody tr th:only-of-type {\n",
       "        vertical-align: middle;\n",
       "    }\n",
       "\n",
       "    .dataframe tbody tr th {\n",
       "        vertical-align: top;\n",
       "    }\n",
       "\n",
       "    .dataframe thead th {\n",
       "        text-align: right;\n",
       "    }\n",
       "</style>\n",
       "<table border=\"1\" class=\"dataframe\">\n",
       "  <thead>\n",
       "    <tr style=\"text-align: right;\">\n",
       "      <th></th>\n",
       "      <th>MDM_UTILITY</th>\n",
       "      <th>MDM_STATUS_CD</th>\n",
       "      <th>MDM_INSERT_TIME</th>\n",
       "      <th>MDM_INSTALLATIONNO</th>\n",
       "      <th>MDM_METERNO</th>\n",
       "      <th>MDM_CONSUMERNO</th>\n",
       "      <th>MDM_ASSET_METERNUMBER</th>\n",
       "      <th>MDM_ASSET_INSTALLATIONNUMBER</th>\n",
       "      <th>MDM_IP</th>\n",
       "      <th>MDM_DUPLICATE</th>\n",
       "      <th>HES_INSTALLATIONDATETIME</th>\n",
       "      <th>HES_UTILITY</th>\n",
       "      <th>HES_INSTALLATION_NO</th>\n",
       "      <th>HES_METER_NO</th>\n",
       "      <th>HES_STATUS</th>\n",
       "      <th>HES_IP</th>\n",
       "      <th>HES_DUPLICATED_INFRA</th>\n",
       "    </tr>\n",
       "  </thead>\n",
       "  <tbody>\n",
       "    <tr>\n",
       "      <th>4658</th>\n",
       "      <td>SBPDCL</td>\n",
       "      <td>Installed</td>\n",
       "      <td>9/7/2023 12:58:20 PM</td>\n",
       "      <td>DUM178071</td>\n",
       "      <td>LNTLT0178071</td>\n",
       "      <td>1000004</td>\n",
       "      <td>LNTLT0178071</td>\n",
       "      <td>DUM178071</td>\n",
       "      <td>2405:0203:0522:D3E4:0000:0000:0000:0010</td>\n",
       "      <td>Duplicated</td>\n",
       "      <td>12/30/2023 6:10:55 PM</td>\n",
       "      <td>NBPDCL</td>\n",
       "      <td>520712246737</td>\n",
       "      <td>LNTLT0162158</td>\n",
       "      <td>Imported&amp;&amp;Installed</td>\n",
       "      <td>2405:0203:0522:D3E4:0000:0000:0000:0010</td>\n",
       "      <td>Unique</td>\n",
       "    </tr>\n",
       "    <tr>\n",
       "      <th>15724</th>\n",
       "      <td>SBPDCL</td>\n",
       "      <td>Installed</td>\n",
       "      <td>9/30/2023 6:12:07 PM</td>\n",
       "      <td>523711004387</td>\n",
       "      <td>LNTLT0562410</td>\n",
       "      <td>222109719404</td>\n",
       "      <td>LNTLT0562410</td>\n",
       "      <td>523711004387</td>\n",
       "      <td>2405:0203:0529:3436:0000:0000:0000:0010</td>\n",
       "      <td>Duplicated</td>\n",
       "      <td>2/20/2024 6:26:57 PM</td>\n",
       "      <td>NBPDCL</td>\n",
       "      <td>520412643509</td>\n",
       "      <td>LNTLT0422362</td>\n",
       "      <td>Imported&amp;&amp;Installed</td>\n",
       "      <td>2405:0203:0529:3436:0000:0000:0000:0010</td>\n",
       "      <td>Unique</td>\n",
       "    </tr>\n",
       "  </tbody>\n",
       "</table>\n",
       "</div>"
      ],
      "text/plain": [
       "      MDM_UTILITY MDM_STATUS_CD       MDM_INSERT_TIME MDM_INSTALLATIONNO  \\\n",
       "4658       SBPDCL     Installed  9/7/2023 12:58:20 PM          DUM178071   \n",
       "15724      SBPDCL     Installed  9/30/2023 6:12:07 PM       523711004387   \n",
       "\n",
       "        MDM_METERNO MDM_CONSUMERNO MDM_ASSET_METERNUMBER  \\\n",
       "4658   LNTLT0178071        1000004          LNTLT0178071   \n",
       "15724  LNTLT0562410   222109719404          LNTLT0562410   \n",
       "\n",
       "      MDM_ASSET_INSTALLATIONNUMBER                                   MDM_IP  \\\n",
       "4658                     DUM178071  2405:0203:0522:D3E4:0000:0000:0000:0010   \n",
       "15724                 523711004387  2405:0203:0529:3436:0000:0000:0000:0010   \n",
       "\n",
       "      MDM_DUPLICATE HES_INSTALLATIONDATETIME HES_UTILITY HES_INSTALLATION_NO  \\\n",
       "4658     Duplicated    12/30/2023 6:10:55 PM      NBPDCL        520712246737   \n",
       "15724    Duplicated     2/20/2024 6:26:57 PM      NBPDCL        520412643509   \n",
       "\n",
       "       HES_METER_NO           HES_STATUS  \\\n",
       "4658   LNTLT0162158  Imported&&Installed   \n",
       "15724  LNTLT0422362  Imported&&Installed   \n",
       "\n",
       "                                        HES_IP HES_DUPLICATED_INFRA  \n",
       "4658   2405:0203:0522:D3E4:0000:0000:0000:0010               Unique  \n",
       "15724  2405:0203:0529:3436:0000:0000:0000:0010               Unique  "
      ]
     },
     "execution_count": 84,
     "metadata": {},
     "output_type": "execute_result"
    }
   ],
   "source": [
    "IP_DATA_MDM_SB_HES_NB_METER_DIFF_UTILITY_DIFF_IP_SAME.head(2)"
   ]
  },
  {
   "cell_type": "code",
   "execution_count": 73,
   "metadata": {},
   "outputs": [],
   "source": [
    "# CASE 8 :- WHERE UTILITY IS DIFF , MDM NB, HES SB  ,  METER NO IS DIFF,  BUT IP IS SAME \n",
    "\n",
    "\n",
    "\n",
    "IP_DATA_MDM_NB_HES_SB_METER_DIFF_UTILITY_DIFF_IP_SAME = MERGE_MDM_NB_HES_SB_ON_IP[(MERGE_MDM_NB_HES_SB_ON_IP['MDM_METERNO']!=MERGE_MDM_NB_HES_SB_ON_IP['HES_METER_NO']) \n",
    "                                                               & (MERGE_MDM_NB_HES_SB_ON_IP['MDM_IP']==MERGE_MDM_NB_HES_SB_ON_IP['HES_IP']) \n",
    "                                                               & (MERGE_MDM_NB_HES_SB_ON_IP['HES_IP'].notnull()) \n",
    "                                                               & (MERGE_MDM_NB_HES_SB_ON_IP['MDM_IP'].notnull())\n",
    "                                                               & (MERGE_MDM_NB_HES_SB_ON_IP['MDM_METERNO'].notnull())\n",
    "                                                               & (MERGE_MDM_NB_HES_SB_ON_IP['HES_METER_NO'].notnull())\n",
    "                                                               \n",
    "                                                               ]\n",
    "\n",
    "\n",
    "IP_DATA_MDM_NB_HES_SB_METER_DIFF_UTILITY_DIFF_IP_SAME.to_csv(r\"C:\\Users\\Ratan Kumar Jha\\Desktop\\hes_mdm\\OUTPUT FOLDER\\IP_DATA_MDM_NB_HES_SB_METER_DIFF_UTILITY_DIFF_IP_SAME.csv\")"
   ]
  },
  {
   "cell_type": "code",
   "execution_count": 85,
   "metadata": {},
   "outputs": [
    {
     "data": {
      "text/plain": [
       "(27034, 17)"
      ]
     },
     "execution_count": 85,
     "metadata": {},
     "output_type": "execute_result"
    }
   ],
   "source": [
    "IP_DATA_MDM_NB_HES_SB_METER_DIFF_UTILITY_DIFF_IP_SAME.shape"
   ]
  },
  {
   "cell_type": "code",
   "execution_count": 86,
   "metadata": {},
   "outputs": [
    {
     "data": {
      "text/html": [
       "<div>\n",
       "<style scoped>\n",
       "    .dataframe tbody tr th:only-of-type {\n",
       "        vertical-align: middle;\n",
       "    }\n",
       "\n",
       "    .dataframe tbody tr th {\n",
       "        vertical-align: top;\n",
       "    }\n",
       "\n",
       "    .dataframe thead th {\n",
       "        text-align: right;\n",
       "    }\n",
       "</style>\n",
       "<table border=\"1\" class=\"dataframe\">\n",
       "  <thead>\n",
       "    <tr style=\"text-align: right;\">\n",
       "      <th></th>\n",
       "      <th>MDM_UTILITY</th>\n",
       "      <th>MDM_STATUS_CD</th>\n",
       "      <th>MDM_INSERT_TIME</th>\n",
       "      <th>MDM_INSTALLATIONNO</th>\n",
       "      <th>MDM_METERNO</th>\n",
       "      <th>MDM_CONSUMERNO</th>\n",
       "      <th>MDM_ASSET_METERNUMBER</th>\n",
       "      <th>MDM_ASSET_INSTALLATIONNUMBER</th>\n",
       "      <th>MDM_IP</th>\n",
       "      <th>MDM_DUPLICATE</th>\n",
       "      <th>HES_INSTALLATIONDATETIME</th>\n",
       "      <th>HES_UTILITY</th>\n",
       "      <th>HES_INSTALLATION_NO</th>\n",
       "      <th>HES_METER_NO</th>\n",
       "      <th>HES_STATUS</th>\n",
       "      <th>HES_IP</th>\n",
       "      <th>HES_DUPLICATED_INFRA</th>\n",
       "    </tr>\n",
       "  </thead>\n",
       "  <tbody>\n",
       "    <tr>\n",
       "      <th>3261</th>\n",
       "      <td>NBPDCL</td>\n",
       "      <td>Installed</td>\n",
       "      <td>9/8/2021 8:13:01 PM</td>\n",
       "      <td>DALDLE-2299</td>\n",
       "      <td>GOEGP7607660</td>\n",
       "      <td>1151010914</td>\n",
       "      <td>GOEGP7607660</td>\n",
       "      <td>DALDLE-2299</td>\n",
       "      <td>fd00:0000:0800:6AD5:0000:0000:0000:0001</td>\n",
       "      <td>Unique</td>\n",
       "      <td>1/10/2024 12:29:38 PM</td>\n",
       "      <td>SBPDCL</td>\n",
       "      <td>5001731484</td>\n",
       "      <td>GOEGP7456083</td>\n",
       "      <td>Imported&amp;&amp;Installed</td>\n",
       "      <td>fd00:0000:0800:6AD5:0000:0000:0000:0001</td>\n",
       "      <td>Unique</td>\n",
       "    </tr>\n",
       "    <tr>\n",
       "      <th>6074</th>\n",
       "      <td>NBPDCL</td>\n",
       "      <td>Installed</td>\n",
       "      <td>9/7/2021 3:18:52 PM</td>\n",
       "      <td>5002982871</td>\n",
       "      <td>GOEGP7608463</td>\n",
       "      <td>401504392</td>\n",
       "      <td>GOEGP7608463</td>\n",
       "      <td>5002982871</td>\n",
       "      <td>fd00:0000:0800:7B07:0000:0000:0000:0001</td>\n",
       "      <td>Unique</td>\n",
       "      <td>1/18/2024 8:06:28 PM</td>\n",
       "      <td>SBPDCL</td>\n",
       "      <td>5001853622</td>\n",
       "      <td>GOEGP7508868</td>\n",
       "      <td>Imported&amp;&amp;Installed</td>\n",
       "      <td>fd00:0000:0800:7B07:0000:0000:0000:0001</td>\n",
       "      <td>Unique</td>\n",
       "    </tr>\n",
       "  </tbody>\n",
       "</table>\n",
       "</div>"
      ],
      "text/plain": [
       "     MDM_UTILITY MDM_STATUS_CD      MDM_INSERT_TIME MDM_INSTALLATIONNO  \\\n",
       "3261      NBPDCL     Installed  9/8/2021 8:13:01 PM        DALDLE-2299   \n",
       "6074      NBPDCL     Installed  9/7/2021 3:18:52 PM         5002982871   \n",
       "\n",
       "       MDM_METERNO MDM_CONSUMERNO MDM_ASSET_METERNUMBER  \\\n",
       "3261  GOEGP7607660     1151010914          GOEGP7607660   \n",
       "6074  GOEGP7608463      401504392          GOEGP7608463   \n",
       "\n",
       "     MDM_ASSET_INSTALLATIONNUMBER                                   MDM_IP  \\\n",
       "3261                  DALDLE-2299  fd00:0000:0800:6AD5:0000:0000:0000:0001   \n",
       "6074                   5002982871  fd00:0000:0800:7B07:0000:0000:0000:0001   \n",
       "\n",
       "     MDM_DUPLICATE HES_INSTALLATIONDATETIME HES_UTILITY HES_INSTALLATION_NO  \\\n",
       "3261        Unique    1/10/2024 12:29:38 PM      SBPDCL          5001731484   \n",
       "6074        Unique     1/18/2024 8:06:28 PM      SBPDCL          5001853622   \n",
       "\n",
       "      HES_METER_NO           HES_STATUS  \\\n",
       "3261  GOEGP7456083  Imported&&Installed   \n",
       "6074  GOEGP7508868  Imported&&Installed   \n",
       "\n",
       "                                       HES_IP HES_DUPLICATED_INFRA  \n",
       "3261  fd00:0000:0800:6AD5:0000:0000:0000:0001               Unique  \n",
       "6074  fd00:0000:0800:7B07:0000:0000:0000:0001               Unique  "
      ]
     },
     "execution_count": 86,
     "metadata": {},
     "output_type": "execute_result"
    }
   ],
   "source": [
    "IP_DATA_MDM_NB_HES_SB_METER_DIFF_UTILITY_DIFF_IP_SAME.head(2)"
   ]
  },
  {
   "cell_type": "code",
   "execution_count": null,
   "metadata": {},
   "outputs": [],
   "source": []
  },
  {
   "cell_type": "code",
   "execution_count": null,
   "metadata": {},
   "outputs": [],
   "source": []
  },
  {
   "cell_type": "code",
   "execution_count": null,
   "metadata": {},
   "outputs": [],
   "source": []
  },
  {
   "cell_type": "code",
   "execution_count": null,
   "metadata": {},
   "outputs": [],
   "source": []
  },
  {
   "cell_type": "markdown",
   "metadata": {},
   "source": [
    "# working on NB data \n",
    "\n"
   ]
  },
  {
   "cell_type": "markdown",
   "metadata": {},
   "source": [
    "####  working on utility in hes and mdm"
   ]
  },
  {
   "cell_type": "code",
   "execution_count": null,
   "metadata": {},
   "outputs": [],
   "source": [
    "DATA_UTILITY_MDM_NB_HES_SB=MERGE_MDM_HES_NB[(MERGE_MDM_HES_NB['MDM_UTILITY']=='NBPDCL') & (MERGE_MDM_HES_NB['HES_UTILITY'] =='SBPDCL')]\n",
    "\n",
    "DATA_UTILITY_MDM_NB_HES_SB.to_csv(r\"C:\\Users\\Ratan Kumar Jha\\Desktop\\hes_mdm\\OUTPUT FOLDER\\DATA_UTILITY_MDM_NB_HES_SB.csv\")"
   ]
  },
  {
   "cell_type": "code",
   "execution_count": null,
   "metadata": {},
   "outputs": [],
   "source": []
  },
  {
   "cell_type": "markdown",
   "metadata": {},
   "source": [
    "### working on IP"
   ]
  },
  {
   "cell_type": "code",
   "execution_count": null,
   "metadata": {},
   "outputs": [],
   "source": [
    "DATA_IP_MDM_HES_NB =MERGE_MDM_HES_NB[(MERGE_MDM_HES_NB['MDM_METERNO']==MERGE_MDM_HES_NB['HES_METER_NO']) & (MERGE_MDM_HES_NB['MDM_IP']!=MERGE_MDM_HES_NB['HES_IP']) & (MERGE_MDM_HES_NB['HES_IP'].notnull()) & (MERGE_MDM_HES_NB['MDM_IP'].notnull())]\n",
    "\n",
    "DATA_IP_MDM_HES_NB.to_csv(r\"C:\\Users\\Ratan Kumar Jha\\Desktop\\hes_mdm\\OUTPUT FOLDER\\DATA_IP_MDM_HES_NB.csv\")"
   ]
  },
  {
   "cell_type": "markdown",
   "metadata": {},
   "source": [
    "###  Working on Installation no data"
   ]
  },
  {
   "cell_type": "code",
   "execution_count": null,
   "metadata": {},
   "outputs": [],
   "source": [
    "DATA_installation_no_MDM_HES_NB = MERGE_MDM_HES_NB[(MERGE_MDM_HES_NB['MDM_METERNO']==MERGE_MDM_HES_NB['HES_METER_NO']) & (MERGE_MDM_HES_NB['MDM_INSTALLATIONNO']!=MERGE_MDM_HES_NB['HES_INSTALLATION_NO']) & (MERGE_MDM_HES_NB['MDM_INSTALLATIONNO'].notnull()) & (MERGE_MDM_HES_NB['HES_INSTALLATION_NO'].notnull())]\n",
    "\n",
    "DATA_installation_no_MDM_HES_NB.to_csv(r\"C:\\Users\\Ratan Kumar Jha\\Desktop\\hes_mdm\\OUTPUT FOLDER\\DATA_installation_no_MDM_HES_NB.csv\")"
   ]
  },
  {
   "cell_type": "code",
   "execution_count": null,
   "metadata": {},
   "outputs": [],
   "source": []
  },
  {
   "cell_type": "code",
   "execution_count": null,
   "metadata": {},
   "outputs": [],
   "source": []
  },
  {
   "cell_type": "markdown",
   "metadata": {},
   "source": [
    "# working on SB data"
   ]
  },
  {
   "cell_type": "markdown",
   "metadata": {},
   "source": [
    "\n",
    "\n",
    "####  working on utility in hes and mdm"
   ]
  },
  {
   "cell_type": "code",
   "execution_count": null,
   "metadata": {},
   "outputs": [],
   "source": [
    "DATA_UTILITY_MDM_SB_HES_NB=MERGE_MDM_HES_SB[(MERGE_MDM_HES_SB['MDM_UTILITY']=='SBPDCL') & (MERGE_MDM_HES_SB['HES_UTILITY'] =='NBPDCL')]\n",
    "\n",
    "DATA_UTILITY_MDM_SB_HES_NB.to_csv(r\"C:\\Users\\Ratan Kumar Jha\\Desktop\\hes_mdm\\OUTPUT FOLDER\\DATA_UTILITY_MDM_SB_HES_NB.csv\")"
   ]
  },
  {
   "cell_type": "markdown",
   "metadata": {},
   "source": [
    "#### working on IP"
   ]
  },
  {
   "cell_type": "code",
   "execution_count": null,
   "metadata": {},
   "outputs": [],
   "source": [
    "DATA_IP_MDM_HES_SB =MERGE_MDM_HES_SB[(MERGE_MDM_HES_SB['MDM_METERNO']==MERGE_MDM_HES_SB['HES_METER_NO']) & (MERGE_MDM_HES_SB['MDM_IP']!=MERGE_MDM_HES_SB['HES_IP']) & (MERGE_MDM_HES_SB['HES_IP'].notnull()) & (MERGE_MDM_HES_SB['MDM_IP'].notnull())]\n",
    "\n",
    "DATA_IP_MDM_HES_SB.to_csv(r\"C:\\Users\\Ratan Kumar Jha\\Desktop\\hes_mdm\\OUTPUT FOLDER\\DATA_IP_MDM_HES_SB.csv\")"
   ]
  },
  {
   "cell_type": "markdown",
   "metadata": {},
   "source": [
    "###  Working on Installation no data"
   ]
  },
  {
   "cell_type": "code",
   "execution_count": null,
   "metadata": {},
   "outputs": [],
   "source": [
    "DATA_installation_no_MDM_HES_SB = MERGE_MDM_HES_SB[(MERGE_MDM_HES_SB['MDM_METERNO']==MERGE_MDM_HES_SB['HES_METER_NO']) & (MERGE_MDM_HES_SB['MDM_INSTALLATIONNO']!=MERGE_MDM_HES_SB['HES_INSTALLATION_NO']) & (MERGE_MDM_HES_SB['MDM_INSTALLATIONNO'].notnull()) & (MERGE_MDM_HES_SB['HES_INSTALLATION_NO'].notnull())]\n",
    "\n",
    "DATA_installation_no_MDM_HES_SB.to_csv(r\"C:\\Users\\Ratan Kumar Jha\\Desktop\\hes_mdm\\OUTPUT FOLDER\\DATA_installation_no_MDM_HES_SB.csv\")"
   ]
  },
  {
   "cell_type": "code",
   "execution_count": null,
   "metadata": {},
   "outputs": [],
   "source": []
  },
  {
   "cell_type": "code",
   "execution_count": null,
   "metadata": {},
   "outputs": [],
   "source": []
  },
  {
   "cell_type": "code",
   "execution_count": null,
   "metadata": {},
   "outputs": [],
   "source": []
  },
  {
   "cell_type": "markdown",
   "metadata": {},
   "source": [
    "### 1.  MDM UTILITY == SBPDCL   and  HES UTILITY == NBPDCL"
   ]
  },
  {
   "cell_type": "code",
   "execution_count": null,
   "metadata": {},
   "outputs": [
    {
     "ename": "",
     "evalue": "",
     "output_type": "error",
     "traceback": [
      "\u001b[1;31mnotebook controller is DISPOSED. \n",
      "\u001b[1;31mView Jupyter <a href='command:jupyter.viewOutput'>log</a> for further details."
     ]
    },
    {
     "ename": "",
     "evalue": "",
     "output_type": "error",
     "traceback": [
      "\u001b[1;31mnotebook controller is DISPOSED. \n",
      "\u001b[1;31mView Jupyter <a href='command:jupyter.viewOutput'>log</a> for further details."
     ]
    },
    {
     "ename": "",
     "evalue": "",
     "output_type": "error",
     "traceback": [
      "\u001b[1;31mnotebook controller is DISPOSED. \n",
      "\u001b[1;31mView Jupyter <a href='command:jupyter.viewOutput'>log</a> for further details."
     ]
    },
    {
     "ename": "",
     "evalue": "",
     "output_type": "error",
     "traceback": [
      "\u001b[1;31mnotebook controller is DISPOSED. \n",
      "\u001b[1;31mView Jupyter <a href='command:jupyter.viewOutput'>log</a> for further details."
     ]
    }
   ],
   "source": [
    "SB_DATA_CHECK_UTILITY_MDM_SB_HES_NB=MERGE_MDM_HES_SB[(MERGE_MDM_HES_SB['MDM_UTILITY']=='SBPDCL') & (MERGE_MDM_HES_SB['HES_UTILITY'] =='NBPDCL') ]"
   ]
  },
  {
   "cell_type": "code",
   "execution_count": null,
   "metadata": {},
   "outputs": [
    {
     "ename": "",
     "evalue": "",
     "output_type": "error",
     "traceback": [
      "\u001b[1;31mnotebook controller is DISPOSED. \n",
      "\u001b[1;31mView Jupyter <a href='command:jupyter.viewOutput'>log</a> for further details."
     ]
    },
    {
     "ename": "",
     "evalue": "",
     "output_type": "error",
     "traceback": [
      "\u001b[1;31mnotebook controller is DISPOSED. \n",
      "\u001b[1;31mView Jupyter <a href='command:jupyter.viewOutput'>log</a> for further details."
     ]
    },
    {
     "ename": "",
     "evalue": "",
     "output_type": "error",
     "traceback": [
      "\u001b[1;31mnotebook controller is DISPOSED. \n",
      "\u001b[1;31mView Jupyter <a href='command:jupyter.viewOutput'>log</a> for further details."
     ]
    },
    {
     "ename": "",
     "evalue": "",
     "output_type": "error",
     "traceback": [
      "\u001b[1;31mnotebook controller is DISPOSED. \n",
      "\u001b[1;31mView Jupyter <a href='command:jupyter.viewOutput'>log</a> for further details."
     ]
    }
   ],
   "source": [
    "SB_DATA_CHECK_UTILITY_MDM_SB_HES_NB.to_csv(r\"C:\\Users\\Ratan Kumar Jha\\Desktop\\hes_mdm\\OUTPUT FOLDER\\SB_DATA_CHECK_UTILITY_MDM_SB_HES_NB.csv\",index=False)"
   ]
  },
  {
   "cell_type": "code",
   "execution_count": null,
   "metadata": {},
   "outputs": [
    {
     "ename": "",
     "evalue": "",
     "output_type": "error",
     "traceback": [
      "\u001b[1;31mnotebook controller is DISPOSED. \n",
      "\u001b[1;31mView Jupyter <a href='command:jupyter.viewOutput'>log</a> for further details."
     ]
    },
    {
     "ename": "",
     "evalue": "",
     "output_type": "error",
     "traceback": [
      "\u001b[1;31mnotebook controller is DISPOSED. \n",
      "\u001b[1;31mView Jupyter <a href='command:jupyter.viewOutput'>log</a> for further details."
     ]
    },
    {
     "ename": "",
     "evalue": "",
     "output_type": "error",
     "traceback": [
      "\u001b[1;31mnotebook controller is DISPOSED. \n",
      "\u001b[1;31mView Jupyter <a href='command:jupyter.viewOutput'>log</a> for further details."
     ]
    },
    {
     "ename": "",
     "evalue": "",
     "output_type": "error",
     "traceback": [
      "\u001b[1;31mnotebook controller is DISPOSED. \n",
      "\u001b[1;31mView Jupyter <a href='command:jupyter.viewOutput'>log</a> for further details."
     ]
    }
   ],
   "source": []
  },
  {
   "cell_type": "code",
   "execution_count": null,
   "metadata": {},
   "outputs": [
    {
     "data": {
      "text/html": [
       "<div>\n",
       "<style scoped>\n",
       "    .dataframe tbody tr th:only-of-type {\n",
       "        vertical-align: middle;\n",
       "    }\n",
       "\n",
       "    .dataframe tbody tr th {\n",
       "        vertical-align: top;\n",
       "    }\n",
       "\n",
       "    .dataframe thead th {\n",
       "        text-align: right;\n",
       "    }\n",
       "</style>\n",
       "<table border=\"1\" class=\"dataframe\">\n",
       "  <thead>\n",
       "    <tr style=\"text-align: right;\">\n",
       "      <th></th>\n",
       "      <th>MDM_METERNUMBER</th>\n",
       "      <th>MDM_UDC_ID</th>\n",
       "      <th>MDM_NETWORK_ID</th>\n",
       "      <th>MDM_INSTALLATIONNUMBER</th>\n",
       "      <th>MDM_STATUS</th>\n",
       "      <th>MDM_INSERT_TIME</th>\n",
       "      <th>MDM_UTILITY</th>\n",
       "      <th>HES_INSTALLATIONDATETIME</th>\n",
       "      <th>HES_ENTRYDATETIME</th>\n",
       "      <th>HES_UTILITY</th>\n",
       "      <th>HES_UTILITYSITEID</th>\n",
       "      <th>HES_UTILITYDEVICEID</th>\n",
       "      <th>HES_STATENAME</th>\n",
       "      <th>HES_IP</th>\n",
       "    </tr>\n",
       "  </thead>\n",
       "  <tbody>\n",
       "    <tr>\n",
       "      <th>0</th>\n",
       "      <td>GOEGP4970294</td>\n",
       "      <td>404759210464358</td>\n",
       "      <td>2001:4490:0800:5F25:0000:0000:0000:0001</td>\n",
       "      <td>nan</td>\n",
       "      <td>Meter Shop</td>\n",
       "      <td>8/7/2019 1:26:44 PM</td>\n",
       "      <td>SBPDCL</td>\n",
       "      <td>NaN</td>\n",
       "      <td>NaN</td>\n",
       "      <td>NaN</td>\n",
       "      <td>NaN</td>\n",
       "      <td>NaN</td>\n",
       "      <td>NaN</td>\n",
       "      <td>NaN</td>\n",
       "    </tr>\n",
       "    <tr>\n",
       "      <th>1</th>\n",
       "      <td>GOEGP4962320</td>\n",
       "      <td>404751250451741</td>\n",
       "      <td>2001:4490:0800:A6F5:0000:0000:0000:1</td>\n",
       "      <td>ARWARL9082</td>\n",
       "      <td>Installed</td>\n",
       "      <td>9/2/2019 1:08:20 AM</td>\n",
       "      <td>SBPDCL</td>\n",
       "      <td>9/4/2019 10:33:55 PM</td>\n",
       "      <td>8/16/2019 4:10:02 PM</td>\n",
       "      <td>SBPDCL</td>\n",
       "      <td>ARWARL9082</td>\n",
       "      <td>GOEGP4962320</td>\n",
       "      <td>Imported&amp;&amp;Installed</td>\n",
       "      <td>2001:4490:0800:A6F5:0000:0000:0000:0001</td>\n",
       "    </tr>\n",
       "  </tbody>\n",
       "</table>\n",
       "</div>"
      ],
      "text/plain": [
       "  MDM_METERNUMBER       MDM_UDC_ID                           MDM_NETWORK_ID  \\\n",
       "0    GOEGP4970294  404759210464358  2001:4490:0800:5F25:0000:0000:0000:0001   \n",
       "1    GOEGP4962320  404751250451741     2001:4490:0800:A6F5:0000:0000:0000:1   \n",
       "\n",
       "  MDM_INSTALLATIONNUMBER  MDM_STATUS      MDM_INSERT_TIME MDM_UTILITY  \\\n",
       "0                    nan  Meter Shop  8/7/2019 1:26:44 PM      SBPDCL   \n",
       "1             ARWARL9082   Installed  9/2/2019 1:08:20 AM      SBPDCL   \n",
       "\n",
       "  HES_INSTALLATIONDATETIME     HES_ENTRYDATETIME HES_UTILITY  \\\n",
       "0                      NaN                   NaN         NaN   \n",
       "1     9/4/2019 10:33:55 PM  8/16/2019 4:10:02 PM      SBPDCL   \n",
       "\n",
       "  HES_UTILITYSITEID HES_UTILITYDEVICEID        HES_STATENAME  \\\n",
       "0               NaN                 NaN                  NaN   \n",
       "1        ARWARL9082        GOEGP4962320  Imported&&Installed   \n",
       "\n",
       "                                    HES_IP  \n",
       "0                                      NaN  \n",
       "1  2001:4490:0800:A6F5:0000:0000:0000:0001  "
      ]
     },
     "execution_count": 101,
     "metadata": {},
     "output_type": "execute_result"
    },
    {
     "ename": "",
     "evalue": "",
     "output_type": "error",
     "traceback": [
      "\u001b[1;31mnotebook controller is DISPOSED. \n",
      "\u001b[1;31mView Jupyter <a href='command:jupyter.viewOutput'>log</a> for further details."
     ]
    },
    {
     "ename": "",
     "evalue": "",
     "output_type": "error",
     "traceback": [
      "\u001b[1;31mnotebook controller is DISPOSED. \n",
      "\u001b[1;31mView Jupyter <a href='command:jupyter.viewOutput'>log</a> for further details."
     ]
    },
    {
     "ename": "",
     "evalue": "",
     "output_type": "error",
     "traceback": [
      "\u001b[1;31mnotebook controller is DISPOSED. \n",
      "\u001b[1;31mView Jupyter <a href='command:jupyter.viewOutput'>log</a> for further details."
     ]
    },
    {
     "ename": "",
     "evalue": "",
     "output_type": "error",
     "traceback": [
      "\u001b[1;31mnotebook controller is DISPOSED. \n",
      "\u001b[1;31mView Jupyter <a href='command:jupyter.viewOutput'>log</a> for further details."
     ]
    }
   ],
   "source": [
    "MERGE_MDM_HES_SB.head(2)"
   ]
  },
  {
   "cell_type": "markdown",
   "metadata": {},
   "source": [
    "### 2. IP DIFF IN MDM AND HES  "
   ]
  },
  {
   "cell_type": "code",
   "execution_count": null,
   "metadata": {},
   "outputs": [
    {
     "ename": "",
     "evalue": "",
     "output_type": "error",
     "traceback": [
      "\u001b[1;31mnotebook controller is DISPOSED. \n",
      "\u001b[1;31mView Jupyter <a href='command:jupyter.viewOutput'>log</a> for further details."
     ]
    },
    {
     "ename": "",
     "evalue": "",
     "output_type": "error",
     "traceback": [
      "\u001b[1;31mnotebook controller is DISPOSED. \n",
      "\u001b[1;31mView Jupyter <a href='command:jupyter.viewOutput'>log</a> for further details."
     ]
    },
    {
     "ename": "",
     "evalue": "",
     "output_type": "error",
     "traceback": [
      "\u001b[1;31mnotebook controller is DISPOSED. \n",
      "\u001b[1;31mView Jupyter <a href='command:jupyter.viewOutput'>log</a> for further details."
     ]
    },
    {
     "ename": "",
     "evalue": "",
     "output_type": "error",
     "traceback": [
      "\u001b[1;31mnotebook controller is DISPOSED. \n",
      "\u001b[1;31mView Jupyter <a href='command:jupyter.viewOutput'>log</a> for further details."
     ]
    }
   ],
   "source": [
    "SB_DATA_CHECK_IP_MDM_AND_HES = MERGE_MDM_HES_SB[(MERGE_MDM_HES_SB['MDM_NETWORK_ID']!=MERGE_MDM_HES_SB['HES_IP']) & (MERGE_MDM_HES_SB['HES_IP'].notnull())]"
   ]
  },
  {
   "cell_type": "code",
   "execution_count": null,
   "metadata": {},
   "outputs": [
    {
     "ename": "",
     "evalue": "",
     "output_type": "error",
     "traceback": [
      "\u001b[1;31mnotebook controller is DISPOSED. \n",
      "\u001b[1;31mView Jupyter <a href='command:jupyter.viewOutput'>log</a> for further details."
     ]
    },
    {
     "ename": "",
     "evalue": "",
     "output_type": "error",
     "traceback": [
      "\u001b[1;31mnotebook controller is DISPOSED. \n",
      "\u001b[1;31mView Jupyter <a href='command:jupyter.viewOutput'>log</a> for further details."
     ]
    },
    {
     "ename": "",
     "evalue": "",
     "output_type": "error",
     "traceback": [
      "\u001b[1;31mnotebook controller is DISPOSED. \n",
      "\u001b[1;31mView Jupyter <a href='command:jupyter.viewOutput'>log</a> for further details."
     ]
    },
    {
     "ename": "",
     "evalue": "",
     "output_type": "error",
     "traceback": [
      "\u001b[1;31mnotebook controller is DISPOSED. \n",
      "\u001b[1;31mView Jupyter <a href='command:jupyter.viewOutput'>log</a> for further details."
     ]
    }
   ],
   "source": [
    "SB_DATA_CHECK_IP_MDM_AND_HES.to_csv(r\"C:\\Users\\Ratan Kumar Jha\\Desktop\\hes_mdm\\OUTPUT FOLDER\\SB_DATA_CHECK_IP_MDM_AND_HES.csv\",index=False)"
   ]
  },
  {
   "cell_type": "code",
   "execution_count": null,
   "metadata": {},
   "outputs": [
    {
     "data": {
      "text/plain": [
       "(38008, 14)"
      ]
     },
     "execution_count": 98,
     "metadata": {},
     "output_type": "execute_result"
    },
    {
     "ename": "",
     "evalue": "",
     "output_type": "error",
     "traceback": [
      "\u001b[1;31mnotebook controller is DISPOSED. \n",
      "\u001b[1;31mView Jupyter <a href='command:jupyter.viewOutput'>log</a> for further details."
     ]
    },
    {
     "ename": "",
     "evalue": "",
     "output_type": "error",
     "traceback": [
      "\u001b[1;31mnotebook controller is DISPOSED. \n",
      "\u001b[1;31mView Jupyter <a href='command:jupyter.viewOutput'>log</a> for further details."
     ]
    },
    {
     "ename": "",
     "evalue": "",
     "output_type": "error",
     "traceback": [
      "\u001b[1;31mnotebook controller is DISPOSED. \n",
      "\u001b[1;31mView Jupyter <a href='command:jupyter.viewOutput'>log</a> for further details."
     ]
    },
    {
     "ename": "",
     "evalue": "",
     "output_type": "error",
     "traceback": [
      "\u001b[1;31mnotebook controller is DISPOSED. \n",
      "\u001b[1;31mView Jupyter <a href='command:jupyter.viewOutput'>log</a> for further details."
     ]
    }
   ],
   "source": []
  },
  {
   "cell_type": "code",
   "execution_count": null,
   "metadata": {},
   "outputs": [
    {
     "ename": "",
     "evalue": "",
     "output_type": "error",
     "traceback": [
      "\u001b[1;31mnotebook controller is DISPOSED. \n",
      "\u001b[1;31mView Jupyter <a href='command:jupyter.viewOutput'>log</a> for further details."
     ]
    },
    {
     "ename": "",
     "evalue": "",
     "output_type": "error",
     "traceback": [
      "\u001b[1;31mnotebook controller is DISPOSED. \n",
      "\u001b[1;31mView Jupyter <a href='command:jupyter.viewOutput'>log</a> for further details."
     ]
    },
    {
     "ename": "",
     "evalue": "",
     "output_type": "error",
     "traceback": [
      "\u001b[1;31mnotebook controller is DISPOSED. \n",
      "\u001b[1;31mView Jupyter <a href='command:jupyter.viewOutput'>log</a> for further details."
     ]
    },
    {
     "ename": "",
     "evalue": "",
     "output_type": "error",
     "traceback": [
      "\u001b[1;31mnotebook controller is DISPOSED. \n",
      "\u001b[1;31mView Jupyter <a href='command:jupyter.viewOutput'>log</a> for further details."
     ]
    }
   ],
   "source": [
    "### 3. INSTALLATION NO. DIFF IN MDM AND HES "
   ]
  },
  {
   "cell_type": "code",
   "execution_count": null,
   "metadata": {},
   "outputs": [
    {
     "ename": "",
     "evalue": "",
     "output_type": "error",
     "traceback": [
      "\u001b[1;31mnotebook controller is DISPOSED. \n",
      "\u001b[1;31mView Jupyter <a href='command:jupyter.viewOutput'>log</a> for further details."
     ]
    },
    {
     "ename": "",
     "evalue": "",
     "output_type": "error",
     "traceback": [
      "\u001b[1;31mnotebook controller is DISPOSED. \n",
      "\u001b[1;31mView Jupyter <a href='command:jupyter.viewOutput'>log</a> for further details."
     ]
    },
    {
     "ename": "",
     "evalue": "",
     "output_type": "error",
     "traceback": [
      "\u001b[1;31mnotebook controller is DISPOSED. \n",
      "\u001b[1;31mView Jupyter <a href='command:jupyter.viewOutput'>log</a> for further details."
     ]
    },
    {
     "ename": "",
     "evalue": "",
     "output_type": "error",
     "traceback": [
      "\u001b[1;31mnotebook controller is DISPOSED. \n",
      "\u001b[1;31mView Jupyter <a href='command:jupyter.viewOutput'>log</a> for further details."
     ]
    }
   ],
   "source": [
    "SB_DATA_CHECK_INSTALLATION_MDM_AND_HES = MERGE_MDM_HES_SB[(MERGE_MDM_HES_SB['MDM_INSTALLATIONNUMBER'] != MERGE_MDM_HES_SB['HES_UTILITYSITEID']) & (MERGE_MDM_HES_SB['HES_UTILITYSITEID'].notnull())]"
   ]
  },
  {
   "cell_type": "code",
   "execution_count": null,
   "metadata": {},
   "outputs": [
    {
     "ename": "",
     "evalue": "",
     "output_type": "error",
     "traceback": [
      "\u001b[1;31mnotebook controller is DISPOSED. \n",
      "\u001b[1;31mView Jupyter <a href='command:jupyter.viewOutput'>log</a> for further details."
     ]
    },
    {
     "ename": "",
     "evalue": "",
     "output_type": "error",
     "traceback": [
      "\u001b[1;31mnotebook controller is DISPOSED. \n",
      "\u001b[1;31mView Jupyter <a href='command:jupyter.viewOutput'>log</a> for further details."
     ]
    },
    {
     "ename": "",
     "evalue": "",
     "output_type": "error",
     "traceback": [
      "\u001b[1;31mnotebook controller is DISPOSED. \n",
      "\u001b[1;31mView Jupyter <a href='command:jupyter.viewOutput'>log</a> for further details."
     ]
    },
    {
     "ename": "",
     "evalue": "",
     "output_type": "error",
     "traceback": [
      "\u001b[1;31mnotebook controller is DISPOSED. \n",
      "\u001b[1;31mView Jupyter <a href='command:jupyter.viewOutput'>log</a> for further details."
     ]
    }
   ],
   "source": [
    "SB_DATA_CHECK_INSTALLATION_MDM_AND_HES.to_csv(r\"C:\\Users\\Ratan Kumar Jha\\Desktop\\hes_mdm\\OUTPUT FOLDER\\SB_DATA_CHECK_INSTALLATION_MDM_AND_HES.csv\",index=False)"
   ]
  },
  {
   "cell_type": "code",
   "execution_count": null,
   "metadata": {},
   "outputs": [
    {
     "data": {
      "text/html": [
       "<div>\n",
       "<style scoped>\n",
       "    .dataframe tbody tr th:only-of-type {\n",
       "        vertical-align: middle;\n",
       "    }\n",
       "\n",
       "    .dataframe tbody tr th {\n",
       "        vertical-align: top;\n",
       "    }\n",
       "\n",
       "    .dataframe thead th {\n",
       "        text-align: right;\n",
       "    }\n",
       "</style>\n",
       "<table border=\"1\" class=\"dataframe\">\n",
       "  <thead>\n",
       "    <tr style=\"text-align: right;\">\n",
       "      <th></th>\n",
       "      <th>MDM_METERNUMBER</th>\n",
       "      <th>MDM_UDC_ID</th>\n",
       "      <th>MDM_NETWORK_ID</th>\n",
       "      <th>MDM_INSTALLATIONNUMBER</th>\n",
       "      <th>MDM_STATUS</th>\n",
       "      <th>MDM_INSERT_TIME</th>\n",
       "      <th>MDM_UTILITY</th>\n",
       "      <th>HES_INSTALLATIONDATETIME</th>\n",
       "      <th>HES_ENTRYDATETIME</th>\n",
       "      <th>HES_UTILITY</th>\n",
       "      <th>HES_UTILITYSITEID</th>\n",
       "      <th>HES_UTILITYDEVICEID</th>\n",
       "      <th>HES_STATENAME</th>\n",
       "      <th>HES_IP</th>\n",
       "    </tr>\n",
       "  </thead>\n",
       "  <tbody>\n",
       "    <tr>\n",
       "      <th>0</th>\n",
       "      <td>GOEGP4970294</td>\n",
       "      <td>404759210464358</td>\n",
       "      <td>2001:4490:0800:5F25:0000:0000:0000:0001</td>\n",
       "      <td>nan</td>\n",
       "      <td>Meter Shop</td>\n",
       "      <td>8/7/2019 1:26:44 PM</td>\n",
       "      <td>SBPDCL</td>\n",
       "      <td>NaN</td>\n",
       "      <td>NaN</td>\n",
       "      <td>NaN</td>\n",
       "      <td>NaN</td>\n",
       "      <td>NaN</td>\n",
       "      <td>NaN</td>\n",
       "      <td>NaN</td>\n",
       "    </tr>\n",
       "    <tr>\n",
       "      <th>1</th>\n",
       "      <td>None</td>\n",
       "      <td>None</td>\n",
       "      <td>None</td>\n",
       "      <td>None</td>\n",
       "      <td>None</td>\n",
       "      <td>None</td>\n",
       "      <td>None</td>\n",
       "      <td>None</td>\n",
       "      <td>None</td>\n",
       "      <td>None</td>\n",
       "      <td>None</td>\n",
       "      <td>None</td>\n",
       "      <td>None</td>\n",
       "      <td>None</td>\n",
       "    </tr>\n",
       "    <tr>\n",
       "      <th>2</th>\n",
       "      <td>None</td>\n",
       "      <td>None</td>\n",
       "      <td>None</td>\n",
       "      <td>None</td>\n",
       "      <td>None</td>\n",
       "      <td>None</td>\n",
       "      <td>None</td>\n",
       "      <td>None</td>\n",
       "      <td>None</td>\n",
       "      <td>None</td>\n",
       "      <td>None</td>\n",
       "      <td>None</td>\n",
       "      <td>None</td>\n",
       "      <td>None</td>\n",
       "    </tr>\n",
       "    <tr>\n",
       "      <th>3</th>\n",
       "      <td>None</td>\n",
       "      <td>None</td>\n",
       "      <td>None</td>\n",
       "      <td>None</td>\n",
       "      <td>None</td>\n",
       "      <td>None</td>\n",
       "      <td>None</td>\n",
       "      <td>None</td>\n",
       "      <td>None</td>\n",
       "      <td>None</td>\n",
       "      <td>None</td>\n",
       "      <td>None</td>\n",
       "      <td>None</td>\n",
       "      <td>None</td>\n",
       "    </tr>\n",
       "    <tr>\n",
       "      <th>4</th>\n",
       "      <td>None</td>\n",
       "      <td>None</td>\n",
       "      <td>None</td>\n",
       "      <td>None</td>\n",
       "      <td>None</td>\n",
       "      <td>None</td>\n",
       "      <td>None</td>\n",
       "      <td>None</td>\n",
       "      <td>None</td>\n",
       "      <td>None</td>\n",
       "      <td>None</td>\n",
       "      <td>None</td>\n",
       "      <td>None</td>\n",
       "      <td>None</td>\n",
       "    </tr>\n",
       "  </tbody>\n",
       "</table>\n",
       "</div>"
      ],
      "text/plain": [
       "  MDM_METERNUMBER       MDM_UDC_ID                           MDM_NETWORK_ID  \\\n",
       "0    GOEGP4970294  404759210464358  2001:4490:0800:5F25:0000:0000:0000:0001   \n",
       "1            None             None                                     None   \n",
       "2            None             None                                     None   \n",
       "3            None             None                                     None   \n",
       "4            None             None                                     None   \n",
       "\n",
       "  MDM_INSTALLATIONNUMBER  MDM_STATUS      MDM_INSERT_TIME MDM_UTILITY  \\\n",
       "0                    nan  Meter Shop  8/7/2019 1:26:44 PM      SBPDCL   \n",
       "1                   None        None                 None        None   \n",
       "2                   None        None                 None        None   \n",
       "3                   None        None                 None        None   \n",
       "4                   None        None                 None        None   \n",
       "\n",
       "  HES_INSTALLATIONDATETIME HES_ENTRYDATETIME HES_UTILITY HES_UTILITYSITEID  \\\n",
       "0                      NaN               NaN         NaN               NaN   \n",
       "1                     None              None        None              None   \n",
       "2                     None              None        None              None   \n",
       "3                     None              None        None              None   \n",
       "4                     None              None        None              None   \n",
       "\n",
       "  HES_UTILITYDEVICEID HES_STATENAME HES_IP  \n",
       "0                 NaN           NaN    NaN  \n",
       "1                None          None   None  \n",
       "2                None          None   None  \n",
       "3                None          None   None  \n",
       "4                None          None   None  "
      ]
     },
     "execution_count": 113,
     "metadata": {},
     "output_type": "execute_result"
    },
    {
     "ename": "",
     "evalue": "",
     "output_type": "error",
     "traceback": [
      "\u001b[1;31mnotebook controller is DISPOSED. \n",
      "\u001b[1;31mView Jupyter <a href='command:jupyter.viewOutput'>log</a> for further details."
     ]
    },
    {
     "ename": "",
     "evalue": "",
     "output_type": "error",
     "traceback": [
      "\u001b[1;31mnotebook controller is DISPOSED. \n",
      "\u001b[1;31mView Jupyter <a href='command:jupyter.viewOutput'>log</a> for further details."
     ]
    },
    {
     "ename": "",
     "evalue": "",
     "output_type": "error",
     "traceback": [
      "\u001b[1;31mnotebook controller is DISPOSED. \n",
      "\u001b[1;31mView Jupyter <a href='command:jupyter.viewOutput'>log</a> for further details."
     ]
    },
    {
     "ename": "",
     "evalue": "",
     "output_type": "error",
     "traceback": [
      "\u001b[1;31mnotebook controller is DISPOSED. \n",
      "\u001b[1;31mView Jupyter <a href='command:jupyter.viewOutput'>log</a> for further details."
     ]
    }
   ],
   "source": []
  },
  {
   "cell_type": "code",
   "execution_count": null,
   "metadata": {},
   "outputs": [
    {
     "ename": "",
     "evalue": "",
     "output_type": "error",
     "traceback": [
      "\u001b[1;31mnotebook controller is DISPOSED. \n",
      "\u001b[1;31mView Jupyter <a href='command:jupyter.viewOutput'>log</a> for further details."
     ]
    },
    {
     "ename": "",
     "evalue": "",
     "output_type": "error",
     "traceback": [
      "\u001b[1;31mnotebook controller is DISPOSED. \n",
      "\u001b[1;31mView Jupyter <a href='command:jupyter.viewOutput'>log</a> for further details."
     ]
    },
    {
     "ename": "",
     "evalue": "",
     "output_type": "error",
     "traceback": [
      "\u001b[1;31mnotebook controller is DISPOSED. \n",
      "\u001b[1;31mView Jupyter <a href='command:jupyter.viewOutput'>log</a> for further details."
     ]
    },
    {
     "ename": "",
     "evalue": "",
     "output_type": "error",
     "traceback": [
      "\u001b[1;31mnotebook controller is DISPOSED. \n",
      "\u001b[1;31mView Jupyter <a href='command:jupyter.viewOutput'>log</a> for further details."
     ]
    }
   ],
   "source": []
  }
 ],
 "metadata": {
  "kernelspec": {
   "display_name": "Python 3",
   "language": "python",
   "name": "python3"
  },
  "language_info": {
   "codemirror_mode": {
    "name": "ipython",
    "version": 3
   },
   "file_extension": ".py",
   "mimetype": "text/x-python",
   "name": "python",
   "nbconvert_exporter": "python",
   "pygments_lexer": "ipython3",
   "version": "3.9.18"
  }
 },
 "nbformat": 4,
 "nbformat_minor": 2
}
