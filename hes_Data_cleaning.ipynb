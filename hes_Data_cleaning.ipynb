{
 "cells": [
  {
   "cell_type": "code",
   "execution_count": 33,
   "metadata": {},
   "outputs": [],
   "source": [
    "import pandas as pd\n",
    "import pandas as pd\n",
    "import numpy as np\n",
    "import os\n",
    "import sys\n",
    "from datetime import datetime, timedelta\n",
    "pd.set_option('display.max_columns', None)\n",
    "import openpyxl"
   ]
  },
  {
   "cell_type": "code",
   "execution_count": 34,
   "metadata": {},
   "outputs": [],
   "source": [
    "INFRA_SB = pd.read_csv(r\"C:\\Users\\Ratan Kumar Jha\\Desktop\\hes_mdm\\INPUT FOLDER\\infra file\\Infrastructure_Devices SB.csv\",sep=';')\n",
    "INFRA_NB = pd.read_csv( r\"C:\\Users\\Ratan Kumar Jha\\Desktop\\hes_mdm\\INPUT FOLDER\\infra file\\Infrastructure_Devices NB.csv\",sep=';')\n",
    "\n"
   ]
  },
  {
   "cell_type": "code",
   "execution_count": 35,
   "metadata": {},
   "outputs": [],
   "source": [
    "\n",
    "\n",
    "#INFRA_SB.to_csv(r\"C:\\Users\\Ratan Kumar Jha\\Desktop\\hes_mdm\\INPUT FOLDER\\infra file\\HES_INFRA_SB_DATA.csv\")\n",
    "#INFRA_NB.to_csv(r\"C:\\Users\\Ratan Kumar Jha\\Desktop\\hes_mdm\\INPUT FOLDER\\infra file\\HES_INFRA_NB_DATA.csv\")\n",
    "\n",
    "#INFRA_SB = pd.read_csv(r\"C:\\Users\\Ratan Kumar Jha\\Desktop\\hes_mdm\\INPUT FOLDER\\infra file\\HES_INFRA_SB_DATA.csv\")\n",
    "#INFRA_NB = pd.read_csv( r\"C:\\Users\\Ratan Kumar Jha\\Desktop\\hes_mdm\\INPUT FOLDER\\infra file\\HES_INFRA_NB_DATA.csv\")"
   ]
  },
  {
   "cell_type": "code",
   "execution_count": 36,
   "metadata": {},
   "outputs": [
    {
     "data": {
      "text/html": [
       "<div>\n",
       "<style scoped>\n",
       "    .dataframe tbody tr th:only-of-type {\n",
       "        vertical-align: middle;\n",
       "    }\n",
       "\n",
       "    .dataframe tbody tr th {\n",
       "        vertical-align: top;\n",
       "    }\n",
       "\n",
       "    .dataframe thead th {\n",
       "        text-align: right;\n",
       "    }\n",
       "</style>\n",
       "<table border=\"1\" class=\"dataframe\">\n",
       "  <thead>\n",
       "    <tr style=\"text-align: right;\">\n",
       "      <th></th>\n",
       "      <th>InstallationDatetime</th>\n",
       "      <th>EntryDatetime</th>\n",
       "      <th>Utility</th>\n",
       "      <th>UtilitySiteId</th>\n",
       "      <th>UtilityDeviceId</th>\n",
       "      <th>SerialNumber</th>\n",
       "      <th>LastS05</th>\n",
       "      <th>LastS02</th>\n",
       "      <th>LastS04</th>\n",
       "      <th>CoordinateX</th>\n",
       "      <th>CoordinateY</th>\n",
       "      <th>StateName</th>\n",
       "      <th>Ip</th>\n",
       "      <th>Unnamed: 13</th>\n",
       "    </tr>\n",
       "  </thead>\n",
       "  <tbody>\n",
       "    <tr>\n",
       "      <th>0</th>\n",
       "      <td>11/7/2023 9:21:01 PM</td>\n",
       "      <td>5/10/2023 6:26:48 PM</td>\n",
       "      <td>NBPDCL</td>\n",
       "      <td>5004001830</td>\n",
       "      <td>LNTLT8066550</td>\n",
       "      <td>LT8066550</td>\n",
       "      <td>9/18/2024 12:00:00 AM</td>\n",
       "      <td>NaN</td>\n",
       "      <td>9/1/2024 12:00:00 AM</td>\n",
       "      <td>86.49338</td>\n",
       "      <td>25.31855</td>\n",
       "      <td>Imported&amp;&amp;Installed</td>\n",
       "      <td>2405:0203:0534:0C31:0000:0000:0000:0010</td>\n",
       "      <td>NaN</td>\n",
       "    </tr>\n",
       "    <tr>\n",
       "      <th>1</th>\n",
       "      <td>11/7/2023 9:21:01 PM</td>\n",
       "      <td>8/25/2023 8:42:11 PM</td>\n",
       "      <td>NBPDCL</td>\n",
       "      <td>5004015194</td>\n",
       "      <td>LNTLT8065314</td>\n",
       "      <td>LT8065314</td>\n",
       "      <td>9/18/2024 12:00:00 AM</td>\n",
       "      <td>NaN</td>\n",
       "      <td>9/1/2024 12:00:00 AM</td>\n",
       "      <td>85.18143</td>\n",
       "      <td>25.57919</td>\n",
       "      <td>Imported&amp;&amp;Installed</td>\n",
       "      <td>2405:0203:0535:2884:0000:0000:0000:0010</td>\n",
       "      <td>NaN</td>\n",
       "    </tr>\n",
       "  </tbody>\n",
       "</table>\n",
       "</div>"
      ],
      "text/plain": [
       "   InstallationDatetime         EntryDatetime Utility UtilitySiteId  \\\n",
       "0  11/7/2023 9:21:01 PM  5/10/2023 6:26:48 PM  NBPDCL    5004001830   \n",
       "1  11/7/2023 9:21:01 PM  8/25/2023 8:42:11 PM  NBPDCL    5004015194   \n",
       "\n",
       "  UtilityDeviceId SerialNumber                LastS05 LastS02  \\\n",
       "0    LNTLT8066550    LT8066550  9/18/2024 12:00:00 AM     NaN   \n",
       "1    LNTLT8065314    LT8065314  9/18/2024 12:00:00 AM     NaN   \n",
       "\n",
       "                LastS04  CoordinateX  CoordinateY            StateName  \\\n",
       "0  9/1/2024 12:00:00 AM     86.49338     25.31855  Imported&&Installed   \n",
       "1  9/1/2024 12:00:00 AM     85.18143     25.57919  Imported&&Installed   \n",
       "\n",
       "                                        Ip  Unnamed: 13  \n",
       "0  2405:0203:0534:0C31:0000:0000:0000:0010          NaN  \n",
       "1  2405:0203:0535:2884:0000:0000:0000:0010          NaN  "
      ]
     },
     "execution_count": 36,
     "metadata": {},
     "output_type": "execute_result"
    }
   ],
   "source": [
    "INFRA_NB.head(2)"
   ]
  },
  {
   "cell_type": "code",
   "execution_count": 37,
   "metadata": {},
   "outputs": [],
   "source": [
    "INFRA_NB.drop(columns=['Unnamed: 13'],axis=1, inplace= True)\n",
    "INFRA_SB.drop(columns=['Unnamed: 13'],axis=1, inplace= True)"
   ]
  },
  {
   "cell_type": "code",
   "execution_count": 38,
   "metadata": {},
   "outputs": [],
   "source": [
    "INFRA_NB = INFRA_NB.astype(str)\n",
    "INFRA_NB.columns = INFRA_NB.columns.str.upper()\n",
    "INFRA_NB = INFRA_NB.apply(lambda x: x.str.strip() if x.dtype == 'O' else x)\n",
    "INFRA_NB.columns = INFRA_NB.columns.str.strip()\n",
    "\n",
    "\n",
    "\n",
    "INFRA_SB = INFRA_SB.astype(str)\n",
    "INFRA_SB.columns = INFRA_SB.columns.str.upper()\n",
    "INFRA_SB = INFRA_SB.apply(lambda x: x.str.strip() if x.dtype == 'O' else x)\n",
    "INFRA_SB.columns = INFRA_SB.columns.str.strip()\n",
    "#-------------------------------------------------------------------------------------------\n",
    "\n"
   ]
  },
  {
   "cell_type": "code",
   "execution_count": 39,
   "metadata": {},
   "outputs": [
    {
     "data": {
      "text/plain": [
       "Index(['INSTALLATIONDATETIME', 'ENTRYDATETIME', 'UTILITY', 'UTILITYSITEID',\n",
       "       'UTILITYDEVICEID', 'SERIALNUMBER', 'LASTS05', 'LASTS02', 'LASTS04',\n",
       "       'COORDINATEX', 'COORDINATEY', 'STATENAME', 'IP'],\n",
       "      dtype='object')"
      ]
     },
     "execution_count": 39,
     "metadata": {},
     "output_type": "execute_result"
    }
   ],
   "source": [
    "INFRA_NB.columns"
   ]
  },
  {
   "cell_type": "code",
   "execution_count": 40,
   "metadata": {},
   "outputs": [
    {
     "name": "stderr",
     "output_type": "stream",
     "text": [
      "C:\\Users\\Ratan Kumar Jha\\AppData\\Local\\Temp\\ipykernel_19528\\944210187.py:1: UserWarning: Could not infer format, so each element will be parsed individually, falling back to `dateutil`. To ensure parsing is consistent and as-expected, please specify a format.\n",
      "  INFRA_SB['INSTALLATIONDATETIME'] = pd.to_datetime(INFRA_SB['INSTALLATIONDATETIME'])\n",
      "C:\\Users\\Ratan Kumar Jha\\AppData\\Local\\Temp\\ipykernel_19528\\944210187.py:2: UserWarning: Could not infer format, so each element will be parsed individually, falling back to `dateutil`. To ensure parsing is consistent and as-expected, please specify a format.\n",
      "  INFRA_SB['LASTS05'] = pd.to_datetime(INFRA_SB['LASTS05'])\n",
      "C:\\Users\\Ratan Kumar Jha\\AppData\\Local\\Temp\\ipykernel_19528\\944210187.py:9: UserWarning: Could not infer format, so each element will be parsed individually, falling back to `dateutil`. To ensure parsing is consistent and as-expected, please specify a format.\n",
      "  INFRA_NB['INSTALLATIONDATETIME'] = pd.to_datetime(INFRA_NB['INSTALLATIONDATETIME'])\n",
      "C:\\Users\\Ratan Kumar Jha\\AppData\\Local\\Temp\\ipykernel_19528\\944210187.py:10: UserWarning: Could not infer format, so each element will be parsed individually, falling back to `dateutil`. To ensure parsing is consistent and as-expected, please specify a format.\n",
      "  INFRA_NB['LASTS05'] = pd.to_datetime(INFRA_NB['LASTS05'])\n"
     ]
    }
   ],
   "source": [
    "INFRA_SB['INSTALLATIONDATETIME'] = pd.to_datetime(INFRA_SB['INSTALLATIONDATETIME'])\n",
    "INFRA_SB['LASTS05'] = pd.to_datetime(INFRA_SB['LASTS05'])\n",
    "#INFRA_SB['LastS04'] = pd.to_datetime(INFRA_SB['LastS04'])\n",
    "\n",
    "\n",
    "#--------------------------------------------------------------------------------------------------\n",
    "\n",
    "\n",
    "INFRA_NB['INSTALLATIONDATETIME'] = pd.to_datetime(INFRA_NB['INSTALLATIONDATETIME'])\n",
    "INFRA_NB['LASTS05'] = pd.to_datetime(INFRA_NB['LASTS05'])\n",
    "#INFRA_NB['LastS04'] = pd.to_datetime(INFRA_NB['LastS04'])\n"
   ]
  },
  {
   "cell_type": "code",
   "execution_count": 41,
   "metadata": {},
   "outputs": [
    {
     "name": "stdout",
     "output_type": "stream",
     "text": [
      "<class 'pandas.core.frame.DataFrame'>\n",
      "RangeIndex: 743297 entries, 0 to 743296\n",
      "Data columns (total 13 columns):\n",
      " #   Column                Non-Null Count   Dtype         \n",
      "---  ------                --------------   -----         \n",
      " 0   INSTALLATIONDATETIME  743297 non-null  datetime64[ns]\n",
      " 1   ENTRYDATETIME         743297 non-null  object        \n",
      " 2   UTILITY               743297 non-null  object        \n",
      " 3   UTILITYSITEID         743297 non-null  object        \n",
      " 4   UTILITYDEVICEID       743297 non-null  object        \n",
      " 5   SERIALNUMBER          743297 non-null  object        \n",
      " 6   LASTS05               740412 non-null  datetime64[ns]\n",
      " 7   LASTS02               743297 non-null  object        \n",
      " 8   LASTS04               743297 non-null  object        \n",
      " 9   COORDINATEX           743297 non-null  object        \n",
      " 10  COORDINATEY           743297 non-null  object        \n",
      " 11  STATENAME             743297 non-null  object        \n",
      " 12  IP                    743297 non-null  object        \n",
      "dtypes: datetime64[ns](2), object(11)\n",
      "memory usage: 73.7+ MB\n"
     ]
    }
   ],
   "source": [
    "INFRA_NB.info()"
   ]
  },
  {
   "cell_type": "code",
   "execution_count": 42,
   "metadata": {},
   "outputs": [
    {
     "data": {
      "text/plain": [
       "Index(['INSTALLATIONDATETIME', 'ENTRYDATETIME', 'UTILITY', 'UTILITYSITEID',\n",
       "       'UTILITYDEVICEID', 'SERIALNUMBER', 'LASTS05', 'LASTS02', 'LASTS04',\n",
       "       'COORDINATEX', 'COORDINATEY', 'STATENAME', 'IP'],\n",
       "      dtype='object')"
      ]
     },
     "execution_count": 42,
     "metadata": {},
     "output_type": "execute_result"
    }
   ],
   "source": [
    "INFRA_NB.columns"
   ]
  },
  {
   "cell_type": "code",
   "execution_count": 43,
   "metadata": {},
   "outputs": [
    {
     "data": {
      "text/html": [
       "<div>\n",
       "<style scoped>\n",
       "    .dataframe tbody tr th:only-of-type {\n",
       "        vertical-align: middle;\n",
       "    }\n",
       "\n",
       "    .dataframe tbody tr th {\n",
       "        vertical-align: top;\n",
       "    }\n",
       "\n",
       "    .dataframe thead th {\n",
       "        text-align: right;\n",
       "    }\n",
       "</style>\n",
       "<table border=\"1\" class=\"dataframe\">\n",
       "  <thead>\n",
       "    <tr style=\"text-align: right;\">\n",
       "      <th></th>\n",
       "      <th>INSTALLATIONDATETIME</th>\n",
       "      <th>ENTRYDATETIME</th>\n",
       "      <th>UTILITY</th>\n",
       "      <th>UTILITYSITEID</th>\n",
       "      <th>UTILITYDEVICEID</th>\n",
       "      <th>SERIALNUMBER</th>\n",
       "      <th>LASTS05</th>\n",
       "      <th>LASTS02</th>\n",
       "      <th>LASTS04</th>\n",
       "      <th>COORDINATEX</th>\n",
       "      <th>COORDINATEY</th>\n",
       "      <th>STATENAME</th>\n",
       "      <th>IP</th>\n",
       "    </tr>\n",
       "  </thead>\n",
       "  <tbody>\n",
       "    <tr>\n",
       "      <th>0</th>\n",
       "      <td>2023-11-07 21:21:01</td>\n",
       "      <td>5/10/2023 6:26:48 PM</td>\n",
       "      <td>NBPDCL</td>\n",
       "      <td>5004001830</td>\n",
       "      <td>LNTLT8066550</td>\n",
       "      <td>LT8066550</td>\n",
       "      <td>2024-09-18</td>\n",
       "      <td>nan</td>\n",
       "      <td>9/1/2024 12:00:00 AM</td>\n",
       "      <td>86.49338</td>\n",
       "      <td>25.31855</td>\n",
       "      <td>Imported&amp;&amp;Installed</td>\n",
       "      <td>2405:0203:0534:0C31:0000:0000:0000:0010</td>\n",
       "    </tr>\n",
       "  </tbody>\n",
       "</table>\n",
       "</div>"
      ],
      "text/plain": [
       "  INSTALLATIONDATETIME         ENTRYDATETIME UTILITY UTILITYSITEID  \\\n",
       "0  2023-11-07 21:21:01  5/10/2023 6:26:48 PM  NBPDCL    5004001830   \n",
       "\n",
       "  UTILITYDEVICEID SERIALNUMBER    LASTS05 LASTS02               LASTS04  \\\n",
       "0    LNTLT8066550    LT8066550 2024-09-18     nan  9/1/2024 12:00:00 AM   \n",
       "\n",
       "  COORDINATEX COORDINATEY            STATENAME  \\\n",
       "0    86.49338    25.31855  Imported&&Installed   \n",
       "\n",
       "                                        IP  \n",
       "0  2405:0203:0534:0C31:0000:0000:0000:0010  "
      ]
     },
     "execution_count": 43,
     "metadata": {},
     "output_type": "execute_result"
    }
   ],
   "source": [
    "INFRA_NB.head(1)"
   ]
  },
  {
   "cell_type": "code",
   "execution_count": 44,
   "metadata": {},
   "outputs": [],
   "source": [
    "# rename the column name\n",
    "\n",
    "INFRA_NB.rename(\n",
    "    columns = {\"INSTALLATIONDATETIME\":\"INSTALLATIONDATETIME_NB\",\"UTILITY\": \"UTILITY_NB\",\n",
    "    \"DEVICEID\":\"DEVICEID_NB\",\"LASTS04\":\"LASTS04_NB\",\n",
    "    \"SERIALNUMBER\":\"SERIALNUMBER_NB\",\"LASTS05\":\"LASTS05_NB\",\"STATENAME\":\"STATENAME_NB\",\n",
    "    \"IP\":\"IP_NB\"},inplace=True\n",
    ")\n",
    "\n",
    "\n",
    "\n",
    "#-----------------------------------------------------------------\n",
    "\n",
    "\n",
    "\n",
    "\n",
    "INFRA_SB.rename(\n",
    "    columns = {\"INSTALLATIONDATETIME\":\"INSTALLATIONDATETIME_SB\",\"UTILITY\": \"UTILITY_SB\",\n",
    "    \"DEVICEID\":\"DEVICEID_NB\",\"LASTS04\":\"LASTS04_SB\",\n",
    "    \"SERIALNUMBER\":\"SERIALNUMBER_SB\",\"LASTS05\":\"LASTS05_SB\",\"STATENAME\":\"STATENAME_SB\",\n",
    "    \"IP\":\"IP_SB\"},inplace=True\n",
    ")\n"
   ]
  },
  {
   "cell_type": "code",
   "execution_count": 49,
   "metadata": {},
   "outputs": [
    {
     "data": {
      "text/plain": [
       "(963302, 11)"
      ]
     },
     "execution_count": 49,
     "metadata": {},
     "output_type": "execute_result"
    }
   ],
   "source": [
    "INFRA_SB.shape"
   ]
  },
  {
   "cell_type": "code",
   "execution_count": 45,
   "metadata": {},
   "outputs": [],
   "source": [
    "# Remove cordinatex, cordinatey   from infrasb and infranb file \n",
    "\n",
    "INFRA_SB.drop(columns = ['COORDINATEX','COORDINATEY'],axis= 1,inplace= True)\n",
    "INFRA_NB.drop(columns = ['COORDINATEX','COORDINATEY'],axis= 1,inplace= True)"
   ]
  },
  {
   "cell_type": "code",
   "execution_count": null,
   "metadata": {},
   "outputs": [],
   "source": []
  },
  {
   "cell_type": "markdown",
   "metadata": {},
   "source": [
    "### Joining diff column from SB and NB data"
   ]
  },
  {
   "cell_type": "code",
   "execution_count": null,
   "metadata": {},
   "outputs": [],
   "source": []
  },
  {
   "cell_type": "code",
   "execution_count": 47,
   "metadata": {},
   "outputs": [],
   "source": [
    "# join on  meter no\n",
    "\n",
    "HES_NB_SB_DATA_SERIAL_NO = pd.merge(INFRA_NB, INFRA_SB, left_on=['SERIALNUMBER_NB'], right_on=['SERIALNUMBER_SB'], how='inner')\n",
    "HES_NB_SB_DATA_SERIAL_NO.to_csv(r\"C:\\Users\\Ratan Kumar Jha\\Desktop\\hes_mdm\\OUTPUT FOLDER HES\\HES_NB_SB_DATA_SERIAL_NO.csv\")\n",
    "\n",
    "\n",
    "# JOIN ON INSTALLATION FILE\n",
    "\n",
    "HES_NB_SB_DATA_UTILITY = pd.merge(INFRA_NB, INFRA_SB, left_on=['UTILITY_NB'], right_on=['UTILITY_SB'], how='inner')\n",
    "HES_NB_SB_DATA_UTILITY.to_csv(r\"C:\\Users\\Ratan Kumar Jha\\Desktop\\hes_mdm\\OUTPUT FOLDER HES\\HES_NB_SB_DATA_UTILITY.csv\")\n",
    "\n",
    "\n",
    "# JOIN ON IP DATA\n",
    "\n",
    "HES_NB_SB_DATA_IP = pd.merge(INFRA_NB, INFRA_SB, left_on=['IP_NB'], right_on=['IP_SB'], how='inner')\n",
    "HES_NB_SB_DATA_IP=HES_NB_SB_DATA_IP[(HES_NB_SB_DATA_IP['IP_NB']==HES_NB_SB_DATA_IP['IP_SB']) & (HES_NB_SB_DATA_IP['IP_NB']!='nan')  &  (HES_NB_SB_DATA_IP['IP_SB']!='nan') ]\n",
    "HES_NB_SB_DATA_IP.to_csv(r\"C:\\Users\\Ratan Kumar Jha\\Desktop\\hes_mdm\\OUTPUT FOLDER HES\\HES_NB_SB_DATA_IP.csv\")\n",
    "\n",
    "\n",
    "# JOIN ON METER AND INSTALLATION DATA\n",
    "\n",
    "HES_NB_SB_DATA_METER_AND_IP = pd.merge(INFRA_NB, INFRA_SB, left_on=['SERIALNUMBER_NB','IP_NB'], right_on=['SERIALNUMBER_SB','IP_SB'], how='inner')\n",
    "HES_NB_SB_DATA_METER_AND_IP.to_csv(r\"C:\\Users\\Ratan Kumar Jha\\Desktop\\hes_mdm\\OUTPUT FOLDER HES\\HES_NB_SB_DATA_METER_AND_IP.csv\")\n",
    "\n",
    "\n",
    "# work on installation no\n",
    "HES_NB_SB_DATA_INSTALLATION_NO = pd.merge(INFRA_NB, INFRA_SB, left_on=['UTILITYSITEID'], right_on=['UTILITYSITEID'], how='inner')\n",
    "HES_NB_SB_DATA_INSTALLATION_NO.to_csv(r\"C:\\Users\\Ratan Kumar Jha\\Desktop\\hes_mdm\\OUTPUT FOLDER HES\\HES_NB_SB_DATA_INSTALLATION_NO.csv\")\n",
    "\n",
    "\n",
    "\n",
    "\n",
    "\n"
   ]
  },
  {
   "cell_type": "code",
   "execution_count": null,
   "metadata": {},
   "outputs": [],
   "source": []
  }
 ],
 "metadata": {
  "kernelspec": {
   "display_name": "Python 3",
   "language": "python",
   "name": "python3"
  },
  "language_info": {
   "codemirror_mode": {
    "name": "ipython",
    "version": 3
   },
   "file_extension": ".py",
   "mimetype": "text/x-python",
   "name": "python",
   "nbconvert_exporter": "python",
   "pygments_lexer": "ipython3",
   "version": "3.9.18"
  }
 },
 "nbformat": 4,
 "nbformat_minor": 2
}
