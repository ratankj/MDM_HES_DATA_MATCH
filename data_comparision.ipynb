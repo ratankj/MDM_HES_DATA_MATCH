{
 "cells": [
  {
   "cell_type": "code",
   "execution_count": 1,
   "metadata": {},
   "outputs": [],
   "source": [
    "import pandas as pd\n",
    "import numpy as np\n",
    "import os\n",
    "import sys\n",
    "from colorama import Fore, Back, Style\n",
    "from datetime import datetime, timedelta\n",
    "pd.set_option('display.max_columns', None)"
   ]
  },
  {
   "cell_type": "code",
   "execution_count": 2,
   "metadata": {},
   "outputs": [
    {
     "ename": "",
     "evalue": "",
     "output_type": "error",
     "traceback": [
      "\u001b[1;31mThe Kernel crashed while executing code in the the current cell or a previous cell. Please review the code in the cell(s) to identify a possible cause of the failure. Click <a href='https://aka.ms/vscodeJupyterKernelCrash'>here</a> for more info. View Jupyter <a href='command:jupyter.viewOutput'>log</a> for further details."
     ]
    }
   ],
   "source": [
    "ASSEST_SB =  pd.read_csv(r\"C:\\Users\\Ratan Kumar Jha\\Desktop\\hes_mdm\\INPUT FOLDER\\ASSET_INITIATION_INVENTORY_SB.csv\")\n",
    "ASSEST_NB = pd.read_csv(r\"C:\\Users\\Ratan Kumar Jha\\Desktop\\hes_mdm\\INPUT FOLDER\\ASSET_INITIATION_INVENTORY_NB.csv\")\n",
    "INFRA_SB = pd.read_csv(r\"C:\\Users\\Ratan Kumar Jha\\Desktop\\hes_mdm\\INPUT FOLDER\\Infrastructure_Devices_SB.csv\",sep=';')\n",
    "INFRA_NB = pd.read_csv( r\"C:\\Users\\Ratan Kumar Jha\\Desktop\\hes_mdm\\INPUT FOLDER\\Infrastructure_Devices_NB.csv\",sep=';')\n",
    "METER_STATUS_NB = pd.read_csv( r\"C:\\Users\\Ratan Kumar Jha\\Desktop\\hes_mdm\\INPUT FOLDER\\METER_STATUS_NB.csv\")\n",
    "METER_STATUS_SB = pd.read_csv( r\"C:\\Users\\Ratan Kumar Jha\\Desktop\\hes_mdm\\INPUT FOLDER\\METER_STATUS_SB.csv\")\n",
    "DC_NON_COMM =  pd.read_csv(r\"C:\\Users\\Ratan Kumar Jha\\Desktop\\hes_mdm\\eligible DC list with non com meter 7.3.24.csv\")\n",
    "\n",
    "\n",
    "\n"
   ]
  },
  {
   "cell_type": "code",
   "execution_count": null,
   "metadata": {},
   "outputs": [],
   "source": []
  }
 ],
 "metadata": {
  "kernelspec": {
   "display_name": "Python 3",
   "language": "python",
   "name": "python3"
  },
  "language_info": {
   "codemirror_mode": {
    "name": "ipython",
    "version": 3
   },
   "file_extension": ".py",
   "mimetype": "text/x-python",
   "name": "python",
   "nbconvert_exporter": "python",
   "pygments_lexer": "ipython3",
   "version": "3.9.18"
  }
 },
 "nbformat": 4,
 "nbformat_minor": 2
}
