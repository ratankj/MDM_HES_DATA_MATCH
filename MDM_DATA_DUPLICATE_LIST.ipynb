{
 "cells": [
  {
   "cell_type": "code",
   "execution_count": 1,
   "metadata": {},
   "outputs": [],
   "source": [
    "import pandas as pd\n",
    "import numpy as np\n",
    "import os\n",
    "import sys\n",
    "from colorama import Fore, Back, Style\n",
    "from datetime import datetime, timedelta\n",
    "pd.set_option('display.max_columns', None)"
   ]
  },
  {
   "cell_type": "code",
   "execution_count": 2,
   "metadata": {},
   "outputs": [
    {
     "name": "stderr",
     "output_type": "stream",
     "text": [
      "C:\\Users\\Ratan Kumar Jha\\AppData\\Local\\Temp\\ipykernel_35800\\3713355638.py:1: DtypeWarning: Columns (2) have mixed types. Specify dtype option on import or set low_memory=False.\n",
      "  CurrentActiveMeters_MDMS=pd.read_csv(r\"C:\\Users\\Ratan Kumar Jha\\Desktop\\hes_mdm\\INPUT FOLDER\\MDM DATA NEW\\CurrentActiveMeters_MDMS.csv\",encoding='latin-1')\n"
     ]
    }
   ],
   "source": [
    "CurrentActiveMeters_MDMS=pd.read_csv(r\"C:\\Users\\Ratan Kumar Jha\\Desktop\\hes_mdm\\INPUT FOLDER\\MDM DATA NEW\\CurrentActiveMeters_MDMS.csv\",encoding='latin-1')\n",
    "NEW_CORRECT_DATA_102_NO_DUPLICATION = pd.read_csv(r\"C:\\Users\\Ratan Kumar Jha\\Desktop\\hes_mdm\\INPUT FOLDER\\MDM DATA NEW\\duplicate_data_mdm.csv\")"
   ]
  },
  {
   "cell_type": "code",
   "execution_count": 3,
   "metadata": {},
   "outputs": [
    {
     "data": {
      "text/html": [
       "<div>\n",
       "<style scoped>\n",
       "    .dataframe tbody tr th:only-of-type {\n",
       "        vertical-align: middle;\n",
       "    }\n",
       "\n",
       "    .dataframe tbody tr th {\n",
       "        vertical-align: top;\n",
       "    }\n",
       "\n",
       "    .dataframe thead th {\n",
       "        text-align: right;\n",
       "    }\n",
       "</style>\n",
       "<table border=\"1\" class=\"dataframe\">\n",
       "  <thead>\n",
       "    <tr style=\"text-align: right;\">\n",
       "      <th></th>\n",
       "      <th>SDP_MRID</th>\n",
       "      <th>METER_MRID</th>\n",
       "      <th>ACCOUNT_UDC_ID</th>\n",
       "      <th>MRU</th>\n",
       "      <th>INSTALLATION_TIME</th>\n",
       "      <th>LAST_UPD_TIME</th>\n",
       "      <th>ACCNT_SDP_REL_START_TIME</th>\n",
       "    </tr>\n",
       "  </thead>\n",
       "  <tbody>\n",
       "    <tr>\n",
       "      <th>16212</th>\n",
       "      <td>5001365060</td>\n",
       "      <td>LNTLT0964748</td>\n",
       "      <td>100599582</td>\n",
       "      <td>AAFBSMO8</td>\n",
       "      <td>02-DEC-22 12.00.00.000000000 AM</td>\n",
       "      <td>12-MAR-2024 12:30:31</td>\n",
       "      <td>02-DEC-22 12.00.00.000000000 AM</td>\n",
       "    </tr>\n",
       "    <tr>\n",
       "      <th>23606</th>\n",
       "      <td>5004056835</td>\n",
       "      <td>GOEGP4977744</td>\n",
       "      <td>108748487</td>\n",
       "      <td>AAFBSMA1</td>\n",
       "      <td>03-JAN-24 12.00.00.000000000 AM</td>\n",
       "      <td>12-MAR-2024 12:30:31</td>\n",
       "      <td>06-JAN-24 12.00.00.000000000 AM</td>\n",
       "    </tr>\n",
       "    <tr>\n",
       "      <th>23838</th>\n",
       "      <td>5003955342</td>\n",
       "      <td>GOEGL9042911</td>\n",
       "      <td>402233650</td>\n",
       "      <td>FBDASMAA</td>\n",
       "      <td>24-JAN-24 03.30.57.000000000 PM</td>\n",
       "      <td>12-MAR-2024 12:30:31</td>\n",
       "      <td>27-DEC-23 12.00.00.000000000 AM</td>\n",
       "    </tr>\n",
       "    <tr>\n",
       "      <th>28803</th>\n",
       "      <td>5001377926</td>\n",
       "      <td>LNTLT0141023</td>\n",
       "      <td>100674586</td>\n",
       "      <td>ABAASMQ7</td>\n",
       "      <td>09-DEC-21 05.47.38.000000000 PM</td>\n",
       "      <td>12-MAR-2024 12:30:31</td>\n",
       "      <td>02-SEP-21 12.00.00.000000000 AM</td>\n",
       "    </tr>\n",
       "    <tr>\n",
       "      <th>37942</th>\n",
       "      <td>5003887664</td>\n",
       "      <td>LNTLT0471106</td>\n",
       "      <td>108463495</td>\n",
       "      <td>BCABSMQQ</td>\n",
       "      <td>16-AUG-22 12.00.00.000000000 AM</td>\n",
       "      <td>12-MAR-2024 12:30:31</td>\n",
       "      <td>25-AUG-22 12.00.00.000000000 AM</td>\n",
       "    </tr>\n",
       "  </tbody>\n",
       "</table>\n",
       "</div>"
      ],
      "text/plain": [
       "         SDP_MRID    METER_MRID ACCOUNT_UDC_ID       MRU  \\\n",
       "16212  5001365060  LNTLT0964748      100599582  AAFBSMO8   \n",
       "23606  5004056835  GOEGP4977744      108748487  AAFBSMA1   \n",
       "23838  5003955342  GOEGL9042911      402233650  FBDASMAA   \n",
       "28803  5001377926  LNTLT0141023      100674586  ABAASMQ7   \n",
       "37942  5003887664  LNTLT0471106      108463495  BCABSMQQ   \n",
       "\n",
       "                     INSTALLATION_TIME         LAST_UPD_TIME  \\\n",
       "16212  02-DEC-22 12.00.00.000000000 AM  12-MAR-2024 12:30:31   \n",
       "23606  03-JAN-24 12.00.00.000000000 AM  12-MAR-2024 12:30:31   \n",
       "23838  24-JAN-24 03.30.57.000000000 PM  12-MAR-2024 12:30:31   \n",
       "28803  09-DEC-21 05.47.38.000000000 PM  12-MAR-2024 12:30:31   \n",
       "37942  16-AUG-22 12.00.00.000000000 AM  12-MAR-2024 12:30:31   \n",
       "\n",
       "              ACCNT_SDP_REL_START_TIME  \n",
       "16212  02-DEC-22 12.00.00.000000000 AM  \n",
       "23606  06-JAN-24 12.00.00.000000000 AM  \n",
       "23838  27-DEC-23 12.00.00.000000000 AM  \n",
       "28803  02-SEP-21 12.00.00.000000000 AM  \n",
       "37942  25-AUG-22 12.00.00.000000000 AM  "
      ]
     },
     "execution_count": 3,
     "metadata": {},
     "output_type": "execute_result"
    }
   ],
   "source": [
    "Duplicate_meter_list=CurrentActiveMeters_MDMS[CurrentActiveMeters_MDMS.duplicated(subset=['METER_MRID'],keep=False)]\n",
    "Duplicate_meter_list.head()"
   ]
  },
  {
   "cell_type": "code",
   "execution_count": 4,
   "metadata": {},
   "outputs": [
    {
     "data": {
      "text/plain": [
       "(204, 7)"
      ]
     },
     "execution_count": 4,
     "metadata": {},
     "output_type": "execute_result"
    }
   ],
   "source": [
    "Duplicate_meter_list.shape"
   ]
  },
  {
   "cell_type": "markdown",
   "metadata": {},
   "source": [
    "# new data with no duplicate"
   ]
  },
  {
   "cell_type": "code",
   "execution_count": 5,
   "metadata": {},
   "outputs": [
    {
     "data": {
      "text/html": [
       "<div>\n",
       "<style scoped>\n",
       "    .dataframe tbody tr th:only-of-type {\n",
       "        vertical-align: middle;\n",
       "    }\n",
       "\n",
       "    .dataframe tbody tr th {\n",
       "        vertical-align: top;\n",
       "    }\n",
       "\n",
       "    .dataframe thead th {\n",
       "        text-align: right;\n",
       "    }\n",
       "</style>\n",
       "<table border=\"1\" class=\"dataframe\">\n",
       "  <thead>\n",
       "    <tr style=\"text-align: right;\">\n",
       "      <th></th>\n",
       "      <th>aa</th>\n",
       "      <th>SDP_MRID</th>\n",
       "      <th>METER_MRID</th>\n",
       "      <th>ACCOUNT_UDC_ID</th>\n",
       "      <th>MRU</th>\n",
       "      <th>INSTALLATION_TIME</th>\n",
       "      <th>LAST_UPD_TIME</th>\n",
       "      <th>ACCNT_SDP_REL_START_TIME</th>\n",
       "      <th>Remark</th>\n",
       "      <th>Unnamed: 9</th>\n",
       "      <th>Unnamed: 10</th>\n",
       "      <th>Unnamed: 11</th>\n",
       "      <th>Unnamed: 12</th>\n",
       "      <th>Unnamed: 13</th>\n",
       "      <th>Unnamed: 14</th>\n",
       "      <th>Unnamed: 15</th>\n",
       "    </tr>\n",
       "  </thead>\n",
       "  <tbody>\n",
       "    <tr>\n",
       "      <th>0</th>\n",
       "      <td>830694</td>\n",
       "      <td>5004111555</td>\n",
       "      <td>GOEGL8573393</td>\n",
       "      <td>402301725.0</td>\n",
       "      <td>EADASMAA</td>\n",
       "      <td>1/22/2024</td>\n",
       "      <td>3/12/2024 12:30</td>\n",
       "      <td>24-JAN-24 12.00.00.000000000 AM</td>\n",
       "      <td>Active</td>\n",
       "      <td>NaN</td>\n",
       "      <td>NaN</td>\n",
       "      <td>NaN</td>\n",
       "      <td>NaN</td>\n",
       "      <td>NaN</td>\n",
       "      <td>NaN</td>\n",
       "      <td>NaN</td>\n",
       "    </tr>\n",
       "  </tbody>\n",
       "</table>\n",
       "</div>"
      ],
      "text/plain": [
       "       aa    SDP_MRID    METER_MRID  ACCOUNT_UDC_ID       MRU  \\\n",
       "0  830694  5004111555  GOEGL8573393     402301725.0  EADASMAA   \n",
       "\n",
       "  INSTALLATION_TIME    LAST_UPD_TIME         ACCNT_SDP_REL_START_TIME  Remark  \\\n",
       "0         1/22/2024  3/12/2024 12:30  24-JAN-24 12.00.00.000000000 AM  Active   \n",
       "\n",
       "   Unnamed: 9  Unnamed: 10  Unnamed: 11  Unnamed: 12  Unnamed: 13  \\\n",
       "0         NaN          NaN          NaN          NaN          NaN   \n",
       "\n",
       "   Unnamed: 14  Unnamed: 15  \n",
       "0          NaN          NaN  "
      ]
     },
     "execution_count": 5,
     "metadata": {},
     "output_type": "execute_result"
    }
   ],
   "source": [
    "NEW_CORRECT_DATA_102_NO_DUPLICATION.head(1)"
   ]
  },
  {
   "cell_type": "code",
   "execution_count": 6,
   "metadata": {},
   "outputs": [],
   "source": [
    "# Removing unwanted column\n",
    "\n",
    "NEW_CORRECT_DATA_102_NO_DUPLICATION.drop(['aa','Unnamed: 9','Unnamed: 10','Unnamed: 11','Unnamed: 12','Unnamed: 13','Unnamed: 14','Unnamed: 15'],axis=1,inplace=True)"
   ]
  },
  {
   "cell_type": "code",
   "execution_count": 7,
   "metadata": {},
   "outputs": [
    {
     "data": {
      "text/html": [
       "<div>\n",
       "<style scoped>\n",
       "    .dataframe tbody tr th:only-of-type {\n",
       "        vertical-align: middle;\n",
       "    }\n",
       "\n",
       "    .dataframe tbody tr th {\n",
       "        vertical-align: top;\n",
       "    }\n",
       "\n",
       "    .dataframe thead th {\n",
       "        text-align: right;\n",
       "    }\n",
       "</style>\n",
       "<table border=\"1\" class=\"dataframe\">\n",
       "  <thead>\n",
       "    <tr style=\"text-align: right;\">\n",
       "      <th></th>\n",
       "      <th>SDP_MRID</th>\n",
       "      <th>METER_MRID</th>\n",
       "      <th>ACCOUNT_UDC_ID</th>\n",
       "      <th>MRU</th>\n",
       "      <th>INSTALLATION_TIME</th>\n",
       "      <th>LAST_UPD_TIME</th>\n",
       "      <th>ACCNT_SDP_REL_START_TIME</th>\n",
       "      <th>Remark</th>\n",
       "    </tr>\n",
       "  </thead>\n",
       "  <tbody>\n",
       "    <tr>\n",
       "      <th>0</th>\n",
       "      <td>5004111555</td>\n",
       "      <td>GOEGL8573393</td>\n",
       "      <td>402301725.0</td>\n",
       "      <td>EADASMAA</td>\n",
       "      <td>1/22/2024</td>\n",
       "      <td>3/12/2024 12:30</td>\n",
       "      <td>24-JAN-24 12.00.00.000000000 AM</td>\n",
       "      <td>Active</td>\n",
       "    </tr>\n",
       "    <tr>\n",
       "      <th>1</th>\n",
       "      <td>5003949995</td>\n",
       "      <td>GOEGL8612557</td>\n",
       "      <td>402294217.0</td>\n",
       "      <td>GBECSMAA</td>\n",
       "      <td>1/25/2024</td>\n",
       "      <td>3/12/2024 12:30</td>\n",
       "      <td>31-JAN-24 12.00.00.000000000 AM</td>\n",
       "      <td>Active</td>\n",
       "    </tr>\n",
       "    <tr>\n",
       "      <th>2</th>\n",
       "      <td>5004009309</td>\n",
       "      <td>GOEGL8889282</td>\n",
       "      <td>402311087.0</td>\n",
       "      <td>FBDASMAA</td>\n",
       "      <td>1/20/2024</td>\n",
       "      <td>3/12/2024 12:30</td>\n",
       "      <td>24-JAN-24 12.00.00.000000000 AM</td>\n",
       "      <td>Active</td>\n",
       "    </tr>\n",
       "    <tr>\n",
       "      <th>3</th>\n",
       "      <td>5004049867</td>\n",
       "      <td>GOEGL8907786</td>\n",
       "      <td>402308195.0</td>\n",
       "      <td>EADASMAA</td>\n",
       "      <td>1/25/2024</td>\n",
       "      <td>3/12/2024 12:30</td>\n",
       "      <td>31-JAN-24 12.00.00.000000000 AM</td>\n",
       "      <td>Active</td>\n",
       "    </tr>\n",
       "    <tr>\n",
       "      <th>4</th>\n",
       "      <td>5002572356</td>\n",
       "      <td>GOEGL8915219</td>\n",
       "      <td>401584792.0</td>\n",
       "      <td>EADASMPY</td>\n",
       "      <td>1/17/2024</td>\n",
       "      <td>3/12/2024 12:30</td>\n",
       "      <td>17-JAN-24 12.00.00.000000000 AM</td>\n",
       "      <td>Active</td>\n",
       "    </tr>\n",
       "  </tbody>\n",
       "</table>\n",
       "</div>"
      ],
      "text/plain": [
       "     SDP_MRID    METER_MRID  ACCOUNT_UDC_ID       MRU INSTALLATION_TIME  \\\n",
       "0  5004111555  GOEGL8573393     402301725.0  EADASMAA         1/22/2024   \n",
       "1  5003949995  GOEGL8612557     402294217.0  GBECSMAA         1/25/2024   \n",
       "2  5004009309  GOEGL8889282     402311087.0  FBDASMAA         1/20/2024   \n",
       "3  5004049867  GOEGL8907786     402308195.0  EADASMAA         1/25/2024   \n",
       "4  5002572356  GOEGL8915219     401584792.0  EADASMPY         1/17/2024   \n",
       "\n",
       "     LAST_UPD_TIME         ACCNT_SDP_REL_START_TIME  Remark  \n",
       "0  3/12/2024 12:30  24-JAN-24 12.00.00.000000000 AM  Active  \n",
       "1  3/12/2024 12:30  31-JAN-24 12.00.00.000000000 AM  Active  \n",
       "2  3/12/2024 12:30  24-JAN-24 12.00.00.000000000 AM  Active  \n",
       "3  3/12/2024 12:30  31-JAN-24 12.00.00.000000000 AM  Active  \n",
       "4  3/12/2024 12:30  17-JAN-24 12.00.00.000000000 AM  Active  "
      ]
     },
     "execution_count": 7,
     "metadata": {},
     "output_type": "execute_result"
    }
   ],
   "source": [
    "NEW_CORRECT_DATA_102_NO_DUPLICATION.head()"
   ]
  },
  {
   "cell_type": "code",
   "execution_count": 8,
   "metadata": {},
   "outputs": [
    {
     "data": {
      "text/html": [
       "<div>\n",
       "<style scoped>\n",
       "    .dataframe tbody tr th:only-of-type {\n",
       "        vertical-align: middle;\n",
       "    }\n",
       "\n",
       "    .dataframe tbody tr th {\n",
       "        vertical-align: top;\n",
       "    }\n",
       "\n",
       "    .dataframe thead th {\n",
       "        text-align: right;\n",
       "    }\n",
       "</style>\n",
       "<table border=\"1\" class=\"dataframe\">\n",
       "  <thead>\n",
       "    <tr style=\"text-align: right;\">\n",
       "      <th></th>\n",
       "      <th>SDP_MRID</th>\n",
       "      <th>METER_MRID</th>\n",
       "      <th>ACCOUNT_UDC_ID</th>\n",
       "      <th>MRU</th>\n",
       "      <th>INSTALLATION_TIME</th>\n",
       "      <th>LAST_UPD_TIME</th>\n",
       "      <th>ACCNT_SDP_REL_START_TIME</th>\n",
       "    </tr>\n",
       "  </thead>\n",
       "  <tbody>\n",
       "    <tr>\n",
       "      <th>16212</th>\n",
       "      <td>5001365060</td>\n",
       "      <td>LNTLT0964748</td>\n",
       "      <td>100599582</td>\n",
       "      <td>AAFBSMO8</td>\n",
       "      <td>02-DEC-22 12.00.00.000000000 AM</td>\n",
       "      <td>12-MAR-2024 12:30:31</td>\n",
       "      <td>02-DEC-22 12.00.00.000000000 AM</td>\n",
       "    </tr>\n",
       "    <tr>\n",
       "      <th>23606</th>\n",
       "      <td>5004056835</td>\n",
       "      <td>GOEGP4977744</td>\n",
       "      <td>108748487</td>\n",
       "      <td>AAFBSMA1</td>\n",
       "      <td>03-JAN-24 12.00.00.000000000 AM</td>\n",
       "      <td>12-MAR-2024 12:30:31</td>\n",
       "      <td>06-JAN-24 12.00.00.000000000 AM</td>\n",
       "    </tr>\n",
       "  </tbody>\n",
       "</table>\n",
       "</div>"
      ],
      "text/plain": [
       "         SDP_MRID    METER_MRID ACCOUNT_UDC_ID       MRU  \\\n",
       "16212  5001365060  LNTLT0964748      100599582  AAFBSMO8   \n",
       "23606  5004056835  GOEGP4977744      108748487  AAFBSMA1   \n",
       "\n",
       "                     INSTALLATION_TIME         LAST_UPD_TIME  \\\n",
       "16212  02-DEC-22 12.00.00.000000000 AM  12-MAR-2024 12:30:31   \n",
       "23606  03-JAN-24 12.00.00.000000000 AM  12-MAR-2024 12:30:31   \n",
       "\n",
       "              ACCNT_SDP_REL_START_TIME  \n",
       "16212  02-DEC-22 12.00.00.000000000 AM  \n",
       "23606  06-JAN-24 12.00.00.000000000 AM  "
      ]
     },
     "execution_count": 8,
     "metadata": {},
     "output_type": "execute_result"
    }
   ],
   "source": [
    "Duplicate_meter_list.head(2)"
   ]
  },
  {
   "cell_type": "code",
   "execution_count": null,
   "metadata": {},
   "outputs": [],
   "source": []
  },
  {
   "cell_type": "markdown",
   "metadata": {},
   "source": [
    "### dropping some rows from original data"
   ]
  },
  {
   "cell_type": "code",
   "execution_count": 9,
   "metadata": {},
   "outputs": [
    {
     "data": {
      "text/plain": [
       "(1564651, 7)"
      ]
     },
     "execution_count": 9,
     "metadata": {},
     "output_type": "execute_result"
    }
   ],
   "source": [
    "# dropping 4 rows from the original data. bcz for that 4 rows.  installation no. is in diff format. and while merging the data with other data. it give some error\n",
    "CurrentActiveMeters_MDMS.shape"
   ]
  },
  {
   "cell_type": "code",
   "execution_count": 10,
   "metadata": {},
   "outputs": [],
   "source": [
    "# drop these data bcz of format issue in corrected file.\n",
    "# so that remove this manually\n",
    "\n",
    "CurrentActiveMeters_MDMS=CurrentActiveMeters_MDMS[CurrentActiveMeters_MDMS['SDP_MRID']!='5000986813']\n",
    "CurrentActiveMeters_MDMS=CurrentActiveMeters_MDMS[CurrentActiveMeters_MDMS['SDP_MRID']!='5002443548']\n",
    "\n",
    "CurrentActiveMeters_MDMS=CurrentActiveMeters_MDMS[CurrentActiveMeters_MDMS['SDP_MRID']!='5000018324']"
   ]
  },
  {
   "cell_type": "code",
   "execution_count": 11,
   "metadata": {},
   "outputs": [
    {
     "data": {
      "text/plain": [
       "(1564648, 7)"
      ]
     },
     "execution_count": 11,
     "metadata": {},
     "output_type": "execute_result"
    }
   ],
   "source": [
    "CurrentActiveMeters_MDMS.shape"
   ]
  },
  {
   "cell_type": "markdown",
   "metadata": {},
   "source": [
    "### removing the duplicate data"
   ]
  },
  {
   "cell_type": "code",
   "execution_count": 12,
   "metadata": {},
   "outputs": [
    {
     "data": {
      "text/plain": [
       "(198, 7)"
      ]
     },
     "execution_count": 12,
     "metadata": {},
     "output_type": "execute_result"
    }
   ],
   "source": [
    "# now checking the duplicate data\n",
    "\n",
    "Duplicate_meter_list_new=CurrentActiveMeters_MDMS[CurrentActiveMeters_MDMS.duplicated(subset=['METER_MRID'],keep=False)]\n",
    "Duplicate_meter_list_new.shape\n",
    "\n"
   ]
  },
  {
   "cell_type": "code",
   "execution_count": null,
   "metadata": {},
   "outputs": [],
   "source": [
    "# Duplicate_meter_list_new\n",
    "\n",
    "# NEW_CORRECT_DATA_102_NO_DUPLICATION\n",
    "\n",
    "\n",
    "\n"
   ]
  },
  {
   "cell_type": "code",
   "execution_count": 15,
   "metadata": {},
   "outputs": [
    {
     "data": {
      "text/html": [
       "<div>\n",
       "<style scoped>\n",
       "    .dataframe tbody tr th:only-of-type {\n",
       "        vertical-align: middle;\n",
       "    }\n",
       "\n",
       "    .dataframe tbody tr th {\n",
       "        vertical-align: top;\n",
       "    }\n",
       "\n",
       "    .dataframe thead th {\n",
       "        text-align: right;\n",
       "    }\n",
       "</style>\n",
       "<table border=\"1\" class=\"dataframe\">\n",
       "  <thead>\n",
       "    <tr style=\"text-align: right;\">\n",
       "      <th></th>\n",
       "      <th>SDP_MRID</th>\n",
       "      <th>METER_MRID</th>\n",
       "      <th>ACCOUNT_UDC_ID</th>\n",
       "      <th>MRU</th>\n",
       "      <th>INSTALLATION_TIME</th>\n",
       "      <th>LAST_UPD_TIME</th>\n",
       "      <th>ACCNT_SDP_REL_START_TIME</th>\n",
       "      <th>Remark</th>\n",
       "    </tr>\n",
       "  </thead>\n",
       "  <tbody>\n",
       "    <tr>\n",
       "      <th>0</th>\n",
       "      <td>5004111555</td>\n",
       "      <td>GOEGL8573393</td>\n",
       "      <td>402301725.0</td>\n",
       "      <td>EADASMAA</td>\n",
       "      <td>1/22/2024</td>\n",
       "      <td>3/12/2024 12:30</td>\n",
       "      <td>24-JAN-24 12.00.00.000000000 AM</td>\n",
       "      <td>Active</td>\n",
       "    </tr>\n",
       "  </tbody>\n",
       "</table>\n",
       "</div>"
      ],
      "text/plain": [
       "     SDP_MRID    METER_MRID  ACCOUNT_UDC_ID       MRU INSTALLATION_TIME  \\\n",
       "0  5004111555  GOEGL8573393     402301725.0  EADASMAA         1/22/2024   \n",
       "\n",
       "     LAST_UPD_TIME         ACCNT_SDP_REL_START_TIME  Remark  \n",
       "0  3/12/2024 12:30  24-JAN-24 12.00.00.000000000 AM  Active  "
      ]
     },
     "execution_count": 15,
     "metadata": {},
     "output_type": "execute_result"
    }
   ],
   "source": [
    "NEW_CORRECT_DATA_102_NO_DUPLICATION.head(1)"
   ]
  },
  {
   "cell_type": "code",
   "execution_count": null,
   "metadata": {},
   "outputs": [],
   "source": []
  },
  {
   "cell_type": "markdown",
   "metadata": {},
   "source": [
    "# Merge data and "
   ]
  },
  {
   "cell_type": "code",
   "execution_count": 22,
   "metadata": {},
   "outputs": [],
   "source": [
    "# merge duplicate list and correct data\n",
    "\n",
    "Merge_duplicate_meter_and_102_correct_meter_list=pd.merge(Duplicate_meter_list_new,NEW_CORRECT_DATA_102_NO_DUPLICATION[['SDP_MRID','METER_MRID','MRU']],left_on=['METER_MRID','SDP_MRID'],right_on=['METER_MRID','SDP_MRID'],how='left')\n",
    "\n",
    "# take only those data where data is not null()\n",
    "\n",
    "Merge_duplicate_meter_and_102_correct_meter_list_final_list=Merge_duplicate_meter_and_102_correct_meter_list[Merge_duplicate_meter_and_102_correct_meter_list['MRU_y'].notnull()]"
   ]
  },
  {
   "cell_type": "code",
   "execution_count": 25,
   "metadata": {},
   "outputs": [
    {
     "name": "stderr",
     "output_type": "stream",
     "text": [
      "C:\\Users\\Ratan Kumar Jha\\AppData\\Local\\Temp\\ipykernel_35800\\3550159402.py:1: SettingWithCopyWarning: \n",
      "A value is trying to be set on a copy of a slice from a DataFrame\n",
      "\n",
      "See the caveats in the documentation: https://pandas.pydata.org/pandas-docs/stable/user_guide/indexing.html#returning-a-view-versus-a-copy\n",
      "  Merge_duplicate_meter_and_102_correct_meter_list_final_list.drop(columns=['MRU_y'],axis=1,inplace=True)\n"
     ]
    }
   ],
   "source": [
    "# drop a column\n",
    "\n",
    "Merge_duplicate_meter_and_102_correct_meter_list_final_list.drop(columns=['MRU_y'],axis=1,inplace=True)\n",
    "\n",
    "\n",
    "# rename column\n",
    "Merge_duplicate_meter_and_102_correct_meter_list_final_list.rename(columns={'MRU_x':'MRU'},inplace=True)"
   ]
  },
  {
   "cell_type": "code",
   "execution_count": 29,
   "metadata": {},
   "outputs": [
    {
     "data": {
      "text/html": [
       "<div>\n",
       "<style scoped>\n",
       "    .dataframe tbody tr th:only-of-type {\n",
       "        vertical-align: middle;\n",
       "    }\n",
       "\n",
       "    .dataframe tbody tr th {\n",
       "        vertical-align: top;\n",
       "    }\n",
       "\n",
       "    .dataframe thead th {\n",
       "        text-align: right;\n",
       "    }\n",
       "</style>\n",
       "<table border=\"1\" class=\"dataframe\">\n",
       "  <thead>\n",
       "    <tr style=\"text-align: right;\">\n",
       "      <th></th>\n",
       "      <th>SDP_MRID</th>\n",
       "      <th>METER_MRID</th>\n",
       "      <th>ACCOUNT_UDC_ID</th>\n",
       "      <th>MRU</th>\n",
       "      <th>INSTALLATION_TIME</th>\n",
       "      <th>LAST_UPD_TIME</th>\n",
       "      <th>ACCNT_SDP_REL_START_TIME</th>\n",
       "    </tr>\n",
       "  </thead>\n",
       "  <tbody>\n",
       "    <tr>\n",
       "      <th>1</th>\n",
       "      <td>5004056835</td>\n",
       "      <td>GOEGP4977744</td>\n",
       "      <td>108748487</td>\n",
       "      <td>AAFBSMA1</td>\n",
       "      <td>03-JAN-24 12.00.00.000000000 AM</td>\n",
       "      <td>12-MAR-2024 12:30:31</td>\n",
       "      <td>06-JAN-24 12.00.00.000000000 AM</td>\n",
       "    </tr>\n",
       "    <tr>\n",
       "      <th>2</th>\n",
       "      <td>5003955342</td>\n",
       "      <td>GOEGL9042911</td>\n",
       "      <td>402233650</td>\n",
       "      <td>FBDASMAA</td>\n",
       "      <td>24-JAN-24 03.30.57.000000000 PM</td>\n",
       "      <td>12-MAR-2024 12:30:31</td>\n",
       "      <td>27-DEC-23 12.00.00.000000000 AM</td>\n",
       "    </tr>\n",
       "    <tr>\n",
       "      <th>5</th>\n",
       "      <td>5002495767</td>\n",
       "      <td>GOEGP7456509</td>\n",
       "      <td>102137503</td>\n",
       "      <td>AAEASM7C</td>\n",
       "      <td>11-JAN-24 12.00.00.000000000 AM</td>\n",
       "      <td>12-MAR-2024 12:30:31</td>\n",
       "      <td>11-JAN-24 12.00.00.000000000 AM</td>\n",
       "    </tr>\n",
       "    <tr>\n",
       "      <th>6</th>\n",
       "      <td>5004090730</td>\n",
       "      <td>GOEGP7466838</td>\n",
       "      <td>108736307</td>\n",
       "      <td>ABFASMA1</td>\n",
       "      <td>06-JAN-24 12.00.00.000000000 AM</td>\n",
       "      <td>12-MAR-2024 12:30:31</td>\n",
       "      <td>08-JAN-24 12.00.00.000000000 AM</td>\n",
       "    </tr>\n",
       "    <tr>\n",
       "      <th>8</th>\n",
       "      <td>5001733294</td>\n",
       "      <td>GOEGP7606184</td>\n",
       "      <td>100857094</td>\n",
       "      <td>ABCASMO9</td>\n",
       "      <td>30-DEC-23 12.00.00.000000000 AM</td>\n",
       "      <td>12-MAR-2024 12:30:31</td>\n",
       "      <td>30-DEC-23 12.00.00.000000000 AM</td>\n",
       "    </tr>\n",
       "  </tbody>\n",
       "</table>\n",
       "</div>"
      ],
      "text/plain": [
       "     SDP_MRID    METER_MRID ACCOUNT_UDC_ID       MRU  \\\n",
       "1  5004056835  GOEGP4977744      108748487  AAFBSMA1   \n",
       "2  5003955342  GOEGL9042911      402233650  FBDASMAA   \n",
       "5  5002495767  GOEGP7456509      102137503  AAEASM7C   \n",
       "6  5004090730  GOEGP7466838      108736307  ABFASMA1   \n",
       "8  5001733294  GOEGP7606184      100857094  ABCASMO9   \n",
       "\n",
       "                 INSTALLATION_TIME         LAST_UPD_TIME  \\\n",
       "1  03-JAN-24 12.00.00.000000000 AM  12-MAR-2024 12:30:31   \n",
       "2  24-JAN-24 03.30.57.000000000 PM  12-MAR-2024 12:30:31   \n",
       "5  11-JAN-24 12.00.00.000000000 AM  12-MAR-2024 12:30:31   \n",
       "6  06-JAN-24 12.00.00.000000000 AM  12-MAR-2024 12:30:31   \n",
       "8  30-DEC-23 12.00.00.000000000 AM  12-MAR-2024 12:30:31   \n",
       "\n",
       "          ACCNT_SDP_REL_START_TIME  \n",
       "1  06-JAN-24 12.00.00.000000000 AM  \n",
       "2  27-DEC-23 12.00.00.000000000 AM  \n",
       "5  11-JAN-24 12.00.00.000000000 AM  \n",
       "6  08-JAN-24 12.00.00.000000000 AM  \n",
       "8  30-DEC-23 12.00.00.000000000 AM  "
      ]
     },
     "execution_count": 29,
     "metadata": {},
     "output_type": "execute_result"
    }
   ],
   "source": [
    "Merge_duplicate_meter_and_102_correct_meter_list_final_list.head()"
   ]
  },
  {
   "cell_type": "code",
   "execution_count": 37,
   "metadata": {},
   "outputs": [
    {
     "data": {
      "text/plain": [
       "(99, 7)"
      ]
     },
     "execution_count": 37,
     "metadata": {},
     "output_type": "execute_result"
    }
   ],
   "source": [
    "Merge_duplicate_meter_and_102_correct_meter_list_final_list.shape"
   ]
  },
  {
   "cell_type": "code",
   "execution_count": 30,
   "metadata": {},
   "outputs": [
    {
     "data": {
      "text/plain": [
       "(1564648, 7)"
      ]
     },
     "execution_count": 30,
     "metadata": {},
     "output_type": "execute_result"
    }
   ],
   "source": [
    "CurrentActiveMeters_MDMS.shape"
   ]
  },
  {
   "cell_type": "code",
   "execution_count": 31,
   "metadata": {},
   "outputs": [
    {
     "data": {
      "text/plain": [
       "(99, 7)"
      ]
     },
     "execution_count": 31,
     "metadata": {},
     "output_type": "execute_result"
    }
   ],
   "source": [
    "Merge_duplicate_meter_and_102_correct_meter_list_final_list.shape"
   ]
  },
  {
   "cell_type": "code",
   "execution_count": 36,
   "metadata": {},
   "outputs": [
    {
     "data": {
      "text/plain": [
       "(0, 7)"
      ]
     },
     "execution_count": 36,
     "metadata": {},
     "output_type": "execute_result"
    }
   ],
   "source": [
    "CurrentActiveMeters_MDMS[CurrentActiveMeters_MDMS.duplicated(subset=['METER_MRID'],keep=False)].shape"
   ]
  },
  {
   "cell_type": "code",
   "execution_count": 35,
   "metadata": {},
   "outputs": [],
   "source": [
    "# removing duplicate data  from the CurrentActiveMeters_MDMS\n",
    "\n",
    "\n",
    "CurrentActiveMeters_MDMS.drop_duplicates(subset=['METER_MRID'],keep=False,inplace=True)"
   ]
  },
  {
   "cell_type": "code",
   "execution_count": 39,
   "metadata": {},
   "outputs": [
    {
     "data": {
      "text/plain": [
       "(1564450, 7)"
      ]
     },
     "execution_count": 39,
     "metadata": {},
     "output_type": "execute_result"
    }
   ],
   "source": [
    "CurrentActiveMeters_MDMS.shape"
   ]
  },
  {
   "cell_type": "code",
   "execution_count": 40,
   "metadata": {},
   "outputs": [],
   "source": [
    "FINAL_MDM_UNIQUE_DATA =pd.concat([CurrentActiveMeters_MDMS,Merge_duplicate_meter_and_102_correct_meter_list_final_list])"
   ]
  },
  {
   "cell_type": "code",
   "execution_count": 41,
   "metadata": {},
   "outputs": [
    {
     "data": {
      "text/html": [
       "<div>\n",
       "<style scoped>\n",
       "    .dataframe tbody tr th:only-of-type {\n",
       "        vertical-align: middle;\n",
       "    }\n",
       "\n",
       "    .dataframe tbody tr th {\n",
       "        vertical-align: top;\n",
       "    }\n",
       "\n",
       "    .dataframe thead th {\n",
       "        text-align: right;\n",
       "    }\n",
       "</style>\n",
       "<table border=\"1\" class=\"dataframe\">\n",
       "  <thead>\n",
       "    <tr style=\"text-align: right;\">\n",
       "      <th></th>\n",
       "      <th>SDP_MRID</th>\n",
       "      <th>METER_MRID</th>\n",
       "      <th>ACCOUNT_UDC_ID</th>\n",
       "      <th>MRU</th>\n",
       "      <th>INSTALLATION_TIME</th>\n",
       "      <th>LAST_UPD_TIME</th>\n",
       "      <th>ACCNT_SDP_REL_START_TIME</th>\n",
       "    </tr>\n",
       "  </thead>\n",
       "  <tbody>\n",
       "    <tr>\n",
       "      <th>0</th>\n",
       "      <td>ARWARL6108</td>\n",
       "      <td>GOEGP4969049</td>\n",
       "      <td>23230011234</td>\n",
       "      <td>IP_ARW_SIPAH1A</td>\n",
       "      <td>07-SEP-19 12.00.00.000000000 AM</td>\n",
       "      <td>12-MAR-2024 12:30:31</td>\n",
       "      <td>07-SEP-19 12.00.00.000000000 AM</td>\n",
       "    </tr>\n",
       "  </tbody>\n",
       "</table>\n",
       "</div>"
      ],
      "text/plain": [
       "     SDP_MRID    METER_MRID ACCOUNT_UDC_ID             MRU  \\\n",
       "0  ARWARL6108  GOEGP4969049    23230011234  IP_ARW_SIPAH1A   \n",
       "\n",
       "                 INSTALLATION_TIME         LAST_UPD_TIME  \\\n",
       "0  07-SEP-19 12.00.00.000000000 AM  12-MAR-2024 12:30:31   \n",
       "\n",
       "          ACCNT_SDP_REL_START_TIME  \n",
       "0  07-SEP-19 12.00.00.000000000 AM  "
      ]
     },
     "execution_count": 41,
     "metadata": {},
     "output_type": "execute_result"
    }
   ],
   "source": [
    "FINAL_MDM_UNIQUE_DATA.head(1)"
   ]
  },
  {
   "cell_type": "code",
   "execution_count": 42,
   "metadata": {},
   "outputs": [
    {
     "data": {
      "text/plain": [
       "(1564549, 7)"
      ]
     },
     "execution_count": 42,
     "metadata": {},
     "output_type": "execute_result"
    }
   ],
   "source": [
    "FINAL_MDM_UNIQUE_DATA.shape"
   ]
  },
  {
   "cell_type": "markdown",
   "metadata": {},
   "source": [
    "# meter status file for utility"
   ]
  },
  {
   "cell_type": "code",
   "execution_count": 44,
   "metadata": {},
   "outputs": [],
   "source": [
    "METER_STATUS_NB = pd.read_csv(r\"C:\\Users\\Ratan Kumar Jha\\Desktop\\hes_mdm\\INPUT FOLDER\\METER_STATUS_NB.csv\")\n",
    "METER_STATUS_SB = pd.read_csv(r\"C:\\Users\\Ratan Kumar Jha\\Desktop\\hes_mdm\\INPUT FOLDER\\METER_STATUS_SB.csv\")"
   ]
  },
  {
   "cell_type": "code",
   "execution_count": 45,
   "metadata": {},
   "outputs": [],
   "source": [
    "METER_STATUS_NB = METER_STATUS_NB.astype(str)\n",
    "METER_STATUS_NB.columns = METER_STATUS_NB.columns.str.upper()\n",
    "METER_STATUS_NB = METER_STATUS_NB.apply(lambda x: x.str.strip() if x.dtype == 'O' else x)\n",
    "METER_STATUS_NB.columns = METER_STATUS_NB.columns.str.strip()\n",
    "\n",
    "\n",
    "METER_STATUS_SB = METER_STATUS_SB.astype(str)\n",
    "METER_STATUS_SB.columns = METER_STATUS_SB.columns.str.upper()\n",
    "METER_STATUS_SB = METER_STATUS_SB.apply(lambda x: x.str.strip() if x.dtype == 'O' else x)\n",
    "METER_STATUS_SB.columns = METER_STATUS_SB.columns.str.strip()\n"
   ]
  },
  {
   "cell_type": "code",
   "execution_count": null,
   "metadata": {},
   "outputs": [],
   "source": [
    "pd.concat([''])"
   ]
  }
 ],
 "metadata": {
  "kernelspec": {
   "display_name": "Python 3",
   "language": "python",
   "name": "python3"
  },
  "language_info": {
   "codemirror_mode": {
    "name": "ipython",
    "version": 3
   },
   "file_extension": ".py",
   "mimetype": "text/x-python",
   "name": "python",
   "nbconvert_exporter": "python",
   "pygments_lexer": "ipython3",
   "version": "3.9.18"
  }
 },
 "nbformat": 4,
 "nbformat_minor": 2
}
