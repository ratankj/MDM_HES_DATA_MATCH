{
 "cells": [
  {
   "cell_type": "code",
   "execution_count": null,
   "metadata": {},
   "outputs": [],
   "source": []
  },
  {
   "cell_type": "code",
   "execution_count": 1,
   "metadata": {},
   "outputs": [],
   "source": []
  },
  {
   "cell_type": "markdown",
   "metadata": {},
   "source": [
    "\n",
    "## working on only meter data"
   ]
  },
  {
   "cell_type": "code",
   "execution_count": null,
   "metadata": {},
   "outputs": [],
   "source": []
  },
  {
   "cell_type": "markdown",
   "metadata": {},
   "source": [
    "# HES DATA"
   ]
  },
  {
   "cell_type": "markdown",
   "metadata": {},
   "source": []
  },
  {
   "cell_type": "code",
   "execution_count": 1,
   "metadata": {},
   "outputs": [],
   "source": [
    "import pandas as pd\n",
    "import pandas as pd\n",
    "import numpy as np\n",
    "import os\n",
    "import sys\n",
    "from datetime import datetime, timedelta\n",
    "pd.set_option('display.max_columns', None)\n",
    "import openpyxl"
   ]
  },
  {
   "cell_type": "code",
   "execution_count": 2,
   "metadata": {},
   "outputs": [],
   "source": [
    "INFRA_SB = pd.read_csv(r\"C:\\Users\\Ratan Kumar Jha\\Desktop\\hes_mdm\\INPUT FOLDER\\infra file\\Infrastructure_Devices SB.csv\",sep=';')\n",
    "INFRA_NB = pd.read_csv( r\"C:\\Users\\Ratan Kumar Jha\\Desktop\\hes_mdm\\INPUT FOLDER\\infra file\\Infrastructure_Devices NB.csv\",sep=';')\n",
    "\n",
    "INFRA_NB.drop(columns=['Unnamed: 13'],axis=1, inplace= True)\n",
    "INFRA_SB.drop(columns=['Unnamed: 13'],axis=1, inplace= True)"
   ]
  },
  {
   "cell_type": "code",
   "execution_count": 3,
   "metadata": {},
   "outputs": [],
   "source": [
    "INFRA_NB = INFRA_NB.astype(str)\n",
    "INFRA_NB.columns = INFRA_NB.columns.str.upper()\n",
    "INFRA_NB = INFRA_NB.apply(lambda x: x.str.strip() if x.dtype == 'O' else x)\n",
    "INFRA_NB.columns = INFRA_NB.columns.str.strip()\n",
    "\n",
    "\n",
    "\n",
    "INFRA_SB = INFRA_SB.astype(str)\n",
    "INFRA_SB.columns = INFRA_SB.columns.str.upper()\n",
    "INFRA_SB = INFRA_SB.apply(lambda x: x.str.strip() if x.dtype == 'O' else x)\n",
    "INFRA_SB.columns = INFRA_SB.columns.str.strip()\n",
    "#-------------------------------------------------------------------------------------------\n",
    "\n"
   ]
  },
  {
   "cell_type": "code",
   "execution_count": 4,
   "metadata": {},
   "outputs": [
    {
     "name": "stderr",
     "output_type": "stream",
     "text": [
      "C:\\Users\\Ratan Kumar Jha\\AppData\\Local\\Temp\\ipykernel_10336\\944210187.py:1: UserWarning: Could not infer format, so each element will be parsed individually, falling back to `dateutil`. To ensure parsing is consistent and as-expected, please specify a format.\n",
      "  INFRA_SB['INSTALLATIONDATETIME'] = pd.to_datetime(INFRA_SB['INSTALLATIONDATETIME'])\n",
      "C:\\Users\\Ratan Kumar Jha\\AppData\\Local\\Temp\\ipykernel_10336\\944210187.py:2: UserWarning: Could not infer format, so each element will be parsed individually, falling back to `dateutil`. To ensure parsing is consistent and as-expected, please specify a format.\n",
      "  INFRA_SB['LASTS05'] = pd.to_datetime(INFRA_SB['LASTS05'])\n",
      "C:\\Users\\Ratan Kumar Jha\\AppData\\Local\\Temp\\ipykernel_10336\\944210187.py:9: UserWarning: Could not infer format, so each element will be parsed individually, falling back to `dateutil`. To ensure parsing is consistent and as-expected, please specify a format.\n",
      "  INFRA_NB['INSTALLATIONDATETIME'] = pd.to_datetime(INFRA_NB['INSTALLATIONDATETIME'])\n",
      "C:\\Users\\Ratan Kumar Jha\\AppData\\Local\\Temp\\ipykernel_10336\\944210187.py:10: UserWarning: Could not infer format, so each element will be parsed individually, falling back to `dateutil`. To ensure parsing is consistent and as-expected, please specify a format.\n",
      "  INFRA_NB['LASTS05'] = pd.to_datetime(INFRA_NB['LASTS05'])\n"
     ]
    }
   ],
   "source": [
    "INFRA_SB['INSTALLATIONDATETIME'] = pd.to_datetime(INFRA_SB['INSTALLATIONDATETIME'])\n",
    "INFRA_SB['LASTS05'] = pd.to_datetime(INFRA_SB['LASTS05'])\n",
    "#INFRA_SB['LastS04'] = pd.to_datetime(INFRA_SB['LastS04'])\n",
    "\n",
    "\n",
    "#--------------------------------------------------------------------------------------------------\n",
    "\n",
    "\n",
    "INFRA_NB['INSTALLATIONDATETIME'] = pd.to_datetime(INFRA_NB['INSTALLATIONDATETIME'])\n",
    "INFRA_NB['LASTS05'] = pd.to_datetime(INFRA_NB['LASTS05'])\n",
    "#INFRA_NB['LastS04'] = pd.to_datetime(INFRA_NB['LastS04'])\n"
   ]
  },
  {
   "cell_type": "code",
   "execution_count": 5,
   "metadata": {},
   "outputs": [],
   "source": [
    "# rename the column name\n",
    "\n",
    "INFRA_NB.rename(\n",
    "    columns = {\"INSTALLATIONDATETIME\":\"INSTALLATIONDATETIME_NB\",\"UTILITY\": \"UTILITY_NB\",\n",
    "    \"DEVICEID\":\"DEVICEID_NB\",\"LASTS04\":\"LASTS04_NB\",\n",
    "    \"SERIALNUMBER\":\"SERIALNUMBER_NB\",\"LASTS05\":\"LASTS05_NB\",\"STATENAME\":\"STATENAME_NB\",\n",
    "    \"IP\":\"IP_NB\"},inplace=True\n",
    ")\n",
    "\n",
    "\n",
    "\n",
    "#-----------------------------------------------------------------\n",
    "\n",
    "\n",
    "\n",
    "\n",
    "INFRA_SB.rename(\n",
    "    columns = {\"INSTALLATIONDATETIME\":\"INSTALLATIONDATETIME_SB\",\"UTILITY\": \"UTILITY_SB\",\n",
    "    \"DEVICEID\":\"DEVICEID_NB\",\"LASTS04\":\"LASTS04_SB\",\n",
    "    \"SERIALNUMBER\":\"SERIALNUMBER_SB\",\"LASTS05\":\"LASTS05_SB\",\"STATENAME\":\"STATENAME_SB\",\n",
    "    \"IP\":\"IP_SB\"},inplace=True\n",
    ")\n"
   ]
  },
  {
   "cell_type": "code",
   "execution_count": 6,
   "metadata": {},
   "outputs": [],
   "source": [
    "# Remove cordinatex, cordinatey   from infrasb and infranb file \n",
    "\n",
    "INFRA_SB.drop(columns = ['COORDINATEX','COORDINATEY'],axis= 1,inplace= True)\n",
    "INFRA_NB.drop(columns = ['COORDINATEX','COORDINATEY'],axis= 1,inplace= True)"
   ]
  },
  {
   "cell_type": "code",
   "execution_count": 7,
   "metadata": {},
   "outputs": [
    {
     "data": {
      "text/html": [
       "<div>\n",
       "<style scoped>\n",
       "    .dataframe tbody tr th:only-of-type {\n",
       "        vertical-align: middle;\n",
       "    }\n",
       "\n",
       "    .dataframe tbody tr th {\n",
       "        vertical-align: top;\n",
       "    }\n",
       "\n",
       "    .dataframe thead th {\n",
       "        text-align: right;\n",
       "    }\n",
       "</style>\n",
       "<table border=\"1\" class=\"dataframe\">\n",
       "  <thead>\n",
       "    <tr style=\"text-align: right;\">\n",
       "      <th></th>\n",
       "      <th>INSTALLATIONDATETIME_SB</th>\n",
       "      <th>ENTRYDATETIME</th>\n",
       "      <th>UTILITY_SB</th>\n",
       "      <th>UTILITYSITEID</th>\n",
       "      <th>UTILITYDEVICEID</th>\n",
       "      <th>SERIALNUMBER_SB</th>\n",
       "      <th>LASTS05_SB</th>\n",
       "      <th>LASTS02</th>\n",
       "      <th>LASTS04_SB</th>\n",
       "      <th>STATENAME_SB</th>\n",
       "      <th>IP_SB</th>\n",
       "    </tr>\n",
       "  </thead>\n",
       "  <tbody>\n",
       "    <tr>\n",
       "      <th>0</th>\n",
       "      <td>2023-08-18 18:11:30</td>\n",
       "      <td>7/31/2023 4:25:14 PM</td>\n",
       "      <td>SBPDCL</td>\n",
       "      <td>5002259607</td>\n",
       "      <td>LNTLT8072561</td>\n",
       "      <td>LT8072561</td>\n",
       "      <td>2024-09-18</td>\n",
       "      <td>10/2/2023 12:00:00 AM</td>\n",
       "      <td>9/1/2024 12:00:00 AM</td>\n",
       "      <td>Imported&amp;&amp;Installed</td>\n",
       "      <td>2405:0203:0535:126E:0000:0000:0000:0010</td>\n",
       "    </tr>\n",
       "  </tbody>\n",
       "</table>\n",
       "</div>"
      ],
      "text/plain": [
       "  INSTALLATIONDATETIME_SB         ENTRYDATETIME UTILITY_SB UTILITYSITEID  \\\n",
       "0     2023-08-18 18:11:30  7/31/2023 4:25:14 PM     SBPDCL    5002259607   \n",
       "\n",
       "  UTILITYDEVICEID SERIALNUMBER_SB LASTS05_SB                LASTS02  \\\n",
       "0    LNTLT8072561       LT8072561 2024-09-18  10/2/2023 12:00:00 AM   \n",
       "\n",
       "             LASTS04_SB         STATENAME_SB  \\\n",
       "0  9/1/2024 12:00:00 AM  Imported&&Installed   \n",
       "\n",
       "                                     IP_SB  \n",
       "0  2405:0203:0535:126E:0000:0000:0000:0010  "
      ]
     },
     "execution_count": 7,
     "metadata": {},
     "output_type": "execute_result"
    }
   ],
   "source": [
    "INFRA_SB.head(1)"
   ]
  },
  {
   "cell_type": "code",
   "execution_count": null,
   "metadata": {},
   "outputs": [],
   "source": []
  },
  {
   "cell_type": "markdown",
   "metadata": {},
   "source": [
    "## check duplicate data"
   ]
  },
  {
   "cell_type": "code",
   "execution_count": null,
   "metadata": {},
   "outputs": [],
   "source": []
  },
  {
   "cell_type": "code",
   "execution_count": 8,
   "metadata": {},
   "outputs": [
    {
     "data": {
      "text/html": [
       "<div>\n",
       "<style scoped>\n",
       "    .dataframe tbody tr th:only-of-type {\n",
       "        vertical-align: middle;\n",
       "    }\n",
       "\n",
       "    .dataframe tbody tr th {\n",
       "        vertical-align: top;\n",
       "    }\n",
       "\n",
       "    .dataframe thead th {\n",
       "        text-align: right;\n",
       "    }\n",
       "</style>\n",
       "<table border=\"1\" class=\"dataframe\">\n",
       "  <thead>\n",
       "    <tr style=\"text-align: right;\">\n",
       "      <th></th>\n",
       "      <th>INSTALLATIONDATETIME_SB</th>\n",
       "      <th>ENTRYDATETIME</th>\n",
       "      <th>UTILITY_SB</th>\n",
       "      <th>UTILITYSITEID</th>\n",
       "      <th>UTILITYDEVICEID</th>\n",
       "      <th>SERIALNUMBER_SB</th>\n",
       "      <th>LASTS05_SB</th>\n",
       "      <th>LASTS02</th>\n",
       "      <th>LASTS04_SB</th>\n",
       "      <th>STATENAME_SB</th>\n",
       "      <th>IP_SB</th>\n",
       "    </tr>\n",
       "  </thead>\n",
       "  <tbody>\n",
       "  </tbody>\n",
       "</table>\n",
       "</div>"
      ],
      "text/plain": [
       "Empty DataFrame\n",
       "Columns: [INSTALLATIONDATETIME_SB, ENTRYDATETIME, UTILITY_SB, UTILITYSITEID, UTILITYDEVICEID, SERIALNUMBER_SB, LASTS05_SB, LASTS02, LASTS04_SB, STATENAME_SB, IP_SB]\n",
       "Index: []"
      ]
     },
     "execution_count": 8,
     "metadata": {},
     "output_type": "execute_result"
    }
   ],
   "source": [
    "# checking duplicate meter in utility - sb\n",
    "\n",
    "INFRA_SB[INFRA_SB.duplicated(subset = [\"SERIALNUMBER_SB\"])]"
   ]
  },
  {
   "cell_type": "code",
   "execution_count": 9,
   "metadata": {},
   "outputs": [
    {
     "data": {
      "text/html": [
       "<div>\n",
       "<style scoped>\n",
       "    .dataframe tbody tr th:only-of-type {\n",
       "        vertical-align: middle;\n",
       "    }\n",
       "\n",
       "    .dataframe tbody tr th {\n",
       "        vertical-align: top;\n",
       "    }\n",
       "\n",
       "    .dataframe thead th {\n",
       "        text-align: right;\n",
       "    }\n",
       "</style>\n",
       "<table border=\"1\" class=\"dataframe\">\n",
       "  <thead>\n",
       "    <tr style=\"text-align: right;\">\n",
       "      <th></th>\n",
       "      <th>INSTALLATIONDATETIME_NB</th>\n",
       "      <th>ENTRYDATETIME</th>\n",
       "      <th>UTILITY_NB</th>\n",
       "      <th>UTILITYSITEID</th>\n",
       "      <th>UTILITYDEVICEID</th>\n",
       "      <th>SERIALNUMBER_NB</th>\n",
       "      <th>LASTS05_NB</th>\n",
       "      <th>LASTS02</th>\n",
       "      <th>LASTS04_NB</th>\n",
       "      <th>STATENAME_NB</th>\n",
       "      <th>IP_NB</th>\n",
       "    </tr>\n",
       "  </thead>\n",
       "  <tbody>\n",
       "  </tbody>\n",
       "</table>\n",
       "</div>"
      ],
      "text/plain": [
       "Empty DataFrame\n",
       "Columns: [INSTALLATIONDATETIME_NB, ENTRYDATETIME, UTILITY_NB, UTILITYSITEID, UTILITYDEVICEID, SERIALNUMBER_NB, LASTS05_NB, LASTS02, LASTS04_NB, STATENAME_NB, IP_NB]\n",
       "Index: []"
      ]
     },
     "execution_count": 9,
     "metadata": {},
     "output_type": "execute_result"
    }
   ],
   "source": [
    "# checking duplicate meter in utility - nb\n",
    "\n",
    "INFRA_NB[INFRA_NB.duplicated(subset = [\"SERIALNUMBER_NB\"])]"
   ]
  },
  {
   "cell_type": "code",
   "execution_count": 10,
   "metadata": {},
   "outputs": [],
   "source": [
    "# join on  meter no-  now check duplicate meter in nb and sb both\n",
    "\n",
    "HES_NB_SB_DATA_METER_NO = pd.merge(INFRA_NB, INFRA_SB, left_on=['SERIALNUMBER_NB'], right_on=['SERIALNUMBER_SB'], how='inner')\n",
    "HES_NB_SB_DATA_METER_NO.to_csv(r\"C:\\Users\\Ratan Kumar Jha\\Desktop\\hes_mdm\\OUTPUT_FOLDER_HES_MDM_METER\\HES_NB_SB_DATA_METER_NO.csv\")\n",
    "\n",
    "\n",
    "\n",
    "\n",
    "\n",
    "\n"
   ]
  },
  {
   "cell_type": "code",
   "execution_count": null,
   "metadata": {},
   "outputs": [],
   "source": []
  },
  {
   "cell_type": "code",
   "execution_count": null,
   "metadata": {},
   "outputs": [],
   "source": []
  },
  {
   "cell_type": "markdown",
   "metadata": {},
   "source": [
    "# MDM DATA"
   ]
  },
  {
   "cell_type": "code",
   "execution_count": null,
   "metadata": {},
   "outputs": [],
   "source": []
  },
  {
   "cell_type": "code",
   "execution_count": 11,
   "metadata": {},
   "outputs": [
    {
     "name": "stderr",
     "output_type": "stream",
     "text": [
      "C:\\Users\\Ratan Kumar Jha\\AppData\\Local\\Temp\\ipykernel_10336\\2900168889.py:1: DtypeWarning: Columns (2) have mixed types. Specify dtype option on import or set low_memory=False.\n",
      "  mdm_nb = pd.read_csv(r\"C:\\Users\\Ratan Kumar Jha\\Desktop\\hes_mdm\\INPUT FOLDER\\MDM DATA NEW\\ASSET_INITIATION_INVENTORY_nb.csv\")\n"
     ]
    }
   ],
   "source": [
    "mdm_nb = pd.read_csv(r\"C:\\Users\\Ratan Kumar Jha\\Desktop\\hes_mdm\\INPUT FOLDER\\MDM DATA NEW\\ASSET_INITIATION_INVENTORY_nb.csv\")\n",
    "mdm_sb = pd.read_csv(r\"C:\\Users\\Ratan Kumar Jha\\Desktop\\hes_mdm\\INPUT FOLDER\\MDM DATA NEW\\ASSET_INITIATION_INVENTORY_sb.csv\")"
   ]
  },
  {
   "cell_type": "code",
   "execution_count": 12,
   "metadata": {},
   "outputs": [],
   "source": [
    "mdm_sb = mdm_sb[mdm_sb['Status']=='Installed']\n",
    "mdm_nb = mdm_nb[mdm_nb['Status']=='Installed']"
   ]
  },
  {
   "cell_type": "code",
   "execution_count": 13,
   "metadata": {},
   "outputs": [],
   "source": [
    "\n",
    "mdm_nb = mdm_nb.astype(str)\n",
    "mdm_sb = mdm_sb.astype(str)\n",
    "\n",
    "\n",
    "mdm_nb.columns = mdm_nb.columns.str.strip()\n",
    "mdm_sb.columns = mdm_sb.columns.str.strip()\n",
    "\n",
    "\n",
    "mdm_sb.columns = mdm_sb.columns.str.upper()\n",
    "mdm_nb.columns = mdm_nb.columns.str.upper()\n"
   ]
  },
  {
   "cell_type": "code",
   "execution_count": 14,
   "metadata": {},
   "outputs": [],
   "source": [
    "# rename the column name\n",
    "\n",
    "mdm_nb.rename(\n",
    "    columns = {\"METERNUMBER\":\"METERNUMBER_NB\",\"MFG_SERIAL_NUM\": \"MFG_SERIAL_NUM_NB\",\n",
    "    \"UDC_ID\":\"UDC_ID_NB\",\"NETWORK_ID\":\"NETWORK_ID_NB\",\n",
    "    \"INSTALLATIONNUMBER\":\"INSTALLATIONNUMBER_NB\",\"STATUS\":\"STATUS_NB\",\"INSERT_TIME\":\"INSERT_TIME_NB\",\n",
    "    \"DECODE(D.ORG_ID,52,'SBPDCL',102,'NBPDCL')\":\"UTILITY_NB\"},inplace=True\n",
    ")\n",
    "\n",
    "\n",
    "\n",
    "#-----------------------------------------------------------------\n",
    "\n",
    "\n",
    "\n",
    "\n",
    "mdm_sb.rename(\n",
    "    columns = {\"METERNUMBER\":\"METERNUMBER_SB\",\"MFG_SERIAL_NUM\": \"MFG_SERIAL_NUM_SB\",\n",
    "    \"UDC_ID\":\"UDC_ID_SB\",\"NETWORK_ID\":\"NETWORK_ID_SB\",\n",
    "    \"INSTALLATIONNUMBER\":\"INSTALLATIONNUMBER_SB\",\"STATUS\":\"STATUS_SB\",\"INSERT_TIME\":\"INSERT_TIME_SB\",\n",
    "    \"DECODE(D.ORG_ID,52,'SBPDCL',102,'NBPDCL')\":\"UTILITY_SB\"},inplace=True\n",
    ")\n"
   ]
  },
  {
   "cell_type": "markdown",
   "metadata": {},
   "source": [
    "### DUPLICATE DATA IN NB AND SB IN MDM"
   ]
  },
  {
   "cell_type": "code",
   "execution_count": 15,
   "metadata": {},
   "outputs": [],
   "source": [
    "# DUPLICATE DATA IN NB AND SB IN MDM\n",
    "\n",
    "Mdm_nb_sb_meter_no_data = pd.merge(mdm_nb,mdm_sb , left_on=['MFG_SERIAL_NUM_NB'], right_on = ['MFG_SERIAL_NUM_SB'], how = 'inner')\n",
    "Mdm_nb_sb_meter_no_data = Mdm_nb_sb_meter_no_data[(Mdm_nb_sb_meter_no_data['STATUS_NB']=='Installed') & (Mdm_nb_sb_meter_no_data['STATUS_SB']=='Installed')]\n",
    "Mdm_nb_sb_meter_no_data.to_csv(r\"C:\\Users\\Ratan Kumar Jha\\Desktop\\hes_mdm\\OUTPUT_FOLDER_HES_MDM_METER\\MDM_NB_SB_DATA_METER_NO.csv\")"
   ]
  },
  {
   "cell_type": "code",
   "execution_count": 16,
   "metadata": {},
   "outputs": [
    {
     "data": {
      "text/plain": [
       "(1035, 16)"
      ]
     },
     "execution_count": 16,
     "metadata": {},
     "output_type": "execute_result"
    }
   ],
   "source": [
    "Mdm_nb_sb_meter_no_data.shape"
   ]
  },
  {
   "cell_type": "code",
   "execution_count": 17,
   "metadata": {},
   "outputs": [
    {
     "data": {
      "text/plain": [
       "(261,)"
      ]
     },
     "execution_count": 17,
     "metadata": {},
     "output_type": "execute_result"
    }
   ],
   "source": [
    "Mdm_nb_sb_meter_no_data['MFG_SERIAL_NUM_NB'].unique().shape"
   ]
  },
  {
   "cell_type": "code",
   "execution_count": 18,
   "metadata": {},
   "outputs": [
    {
     "data": {
      "text/plain": [
       "MFG_SERIAL_NUM_NB\n",
       "GL8573393    4\n",
       "GL8612557    4\n",
       "GL8626858    4\n",
       "GL8907786    4\n",
       "GL8914175    4\n",
       "            ..\n",
       "LT0979160    4\n",
       "LT0986686    4\n",
       "LT0987555    4\n",
       "LT1017485    4\n",
       "LT1052044    4\n",
       "Name: METERNUMBER_NB, Length: 261, dtype: int64"
      ]
     },
     "execution_count": 18,
     "metadata": {},
     "output_type": "execute_result"
    }
   ],
   "source": [
    "Mdm_nb_sb_meter_no_data.groupby('MFG_SERIAL_NUM_NB')['METERNUMBER_NB'].count()"
   ]
  },
  {
   "cell_type": "code",
   "execution_count": null,
   "metadata": {},
   "outputs": [],
   "source": []
  },
  {
   "cell_type": "markdown",
   "metadata": {},
   "source": [
    "### CHECK METER NO. DUPLCATE IN NB UITILITY"
   ]
  },
  {
   "cell_type": "code",
   "execution_count": 19,
   "metadata": {},
   "outputs": [],
   "source": [
    "# SCHECK METER NO. DUPLCATE IN NB UITILITY\n",
    "\n",
    "\n",
    "MDM_NB_INSTALLED_DATA = mdm_nb[mdm_nb['STATUS_NB']=='Installed']\n",
    "MDM_NB_DATA_METER = MDM_NB_INSTALLED_DATA[MDM_NB_INSTALLED_DATA.duplicated(subset = [\"MFG_SERIAL_NUM_NB\"])]\n",
    "MDM_NB_DATA_METER.to_csv(r\"C:\\Users\\Ratan Kumar Jha\\Desktop\\hes_mdm\\OUTPUT_FOLDER_HES_MDM_METER\\MDM_NB_DATA_METER.csv\")"
   ]
  },
  {
   "cell_type": "code",
   "execution_count": 20,
   "metadata": {},
   "outputs": [
    {
     "data": {
      "text/plain": [
       "(43692, 8)"
      ]
     },
     "execution_count": 20,
     "metadata": {},
     "output_type": "execute_result"
    }
   ],
   "source": [
    "MDM_NB_DATA_METER.shape"
   ]
  },
  {
   "cell_type": "code",
   "execution_count": 21,
   "metadata": {},
   "outputs": [
    {
     "data": {
      "text/plain": [
       "(31521,)"
      ]
     },
     "execution_count": 21,
     "metadata": {},
     "output_type": "execute_result"
    }
   ],
   "source": [
    "## unique meter in nb\n",
    "\n",
    "MDM_NB_DATA_METER['MFG_SERIAL_NUM_NB'].unique().shape"
   ]
  },
  {
   "cell_type": "code",
   "execution_count": 22,
   "metadata": {},
   "outputs": [
    {
     "data": {
      "text/plain": [
       "MFG_SERIAL_NUM_NB\n",
       "GL8548353    1\n",
       "GL8548408    1\n",
       "GL8548429    1\n",
       "GL8548775    1\n",
       "GL8549117    1\n",
       "            ..\n",
       "LT8044212    1\n",
       "LT8045131    1\n",
       "LT8045242    1\n",
       "LT8049520    1\n",
       "LT8050156    1\n",
       "Name: METERNUMBER_NB, Length: 31521, dtype: int64"
      ]
     },
     "execution_count": 22,
     "metadata": {},
     "output_type": "execute_result"
    }
   ],
   "source": [
    "MDM_NB_DATA_METER.groupby('MFG_SERIAL_NUM_NB')['METERNUMBER_NB'].count()"
   ]
  },
  {
   "cell_type": "code",
   "execution_count": null,
   "metadata": {},
   "outputs": [],
   "source": []
  },
  {
   "cell_type": "markdown",
   "metadata": {},
   "source": [
    "### CHECK METER NO. DUPLCATE IN SB UITILITY"
   ]
  },
  {
   "cell_type": "code",
   "execution_count": 23,
   "metadata": {},
   "outputs": [],
   "source": [
    "# SCHECK METER NO. DUPLCATE IN SB UITILITY\n",
    "\n",
    "\n",
    "MDM_SB_INSTALLED_DATA = mdm_sb[mdm_sb['STATUS_SB']=='Installed']\n",
    "MDM_SB_DATA_METER = MDM_SB_INSTALLED_DATA[MDM_SB_INSTALLED_DATA.duplicated(subset = [\"MFG_SERIAL_NUM_SB\"])]\n",
    "MDM_SB_DATA_METER.to_csv(r\"C:\\Users\\Ratan Kumar Jha\\Desktop\\hes_mdm\\OUTPUT_FOLDER_HES_MDM_METER\\MDM_SB_DATA_METER.csv\")"
   ]
  },
  {
   "cell_type": "code",
   "execution_count": 24,
   "metadata": {},
   "outputs": [
    {
     "data": {
      "text/plain": [
       "(113193, 8)"
      ]
     },
     "execution_count": 24,
     "metadata": {},
     "output_type": "execute_result"
    }
   ],
   "source": [
    "MDM_SB_DATA_METER.shape"
   ]
  },
  {
   "cell_type": "code",
   "execution_count": 25,
   "metadata": {},
   "outputs": [
    {
     "data": {
      "text/plain": [
       "(68178,)"
      ]
     },
     "execution_count": 25,
     "metadata": {},
     "output_type": "execute_result"
    }
   ],
   "source": [
    "## unique meter in nb\n",
    "\n",
    "MDM_SB_DATA_METER['MFG_SERIAL_NUM_SB'].unique().shape"
   ]
  },
  {
   "cell_type": "code",
   "execution_count": 26,
   "metadata": {},
   "outputs": [
    {
     "data": {
      "text/plain": [
       "MFG_SERIAL_NUM_SB\n",
       "GL8548303    3\n",
       "GL8548461    3\n",
       "GL8548474    3\n",
       "GL8548478    1\n",
       "GL8548486    1\n",
       "            ..\n",
       "LT8066796    1\n",
       "LT8066888    1\n",
       "LT8067908    1\n",
       "LT8067999    1\n",
       "LT8068727    1\n",
       "Name: MFG_SERIAL_NUM_SB, Length: 68178, dtype: int64"
      ]
     },
     "execution_count": 26,
     "metadata": {},
     "output_type": "execute_result"
    }
   ],
   "source": [
    "MDM_SB_DATA_METER.groupby('MFG_SERIAL_NUM_SB')['MFG_SERIAL_NUM_SB'].count()"
   ]
  },
  {
   "cell_type": "code",
   "execution_count": null,
   "metadata": {},
   "outputs": [],
   "source": []
  },
  {
   "cell_type": "markdown",
   "metadata": {},
   "source": [
    "## MDM AND HES METER DULICATES"
   ]
  },
  {
   "cell_type": "code",
   "execution_count": null,
   "metadata": {},
   "outputs": [],
   "source": []
  },
  {
   "cell_type": "markdown",
   "metadata": {},
   "source": [
    "### MDM - HES --> SAME UTILITY"
   ]
  },
  {
   "cell_type": "code",
   "execution_count": null,
   "metadata": {},
   "outputs": [],
   "source": []
  },
  {
   "cell_type": "code",
   "execution_count": 27,
   "metadata": {},
   "outputs": [
    {
     "data": {
      "text/html": [
       "<div>\n",
       "<style scoped>\n",
       "    .dataframe tbody tr th:only-of-type {\n",
       "        vertical-align: middle;\n",
       "    }\n",
       "\n",
       "    .dataframe tbody tr th {\n",
       "        vertical-align: top;\n",
       "    }\n",
       "\n",
       "    .dataframe thead th {\n",
       "        text-align: right;\n",
       "    }\n",
       "</style>\n",
       "<table border=\"1\" class=\"dataframe\">\n",
       "  <thead>\n",
       "    <tr style=\"text-align: right;\">\n",
       "      <th></th>\n",
       "      <th>METERNUMBER_NB</th>\n",
       "      <th>MFG_SERIAL_NUM_NB</th>\n",
       "      <th>UDC_ID_NB</th>\n",
       "      <th>NETWORK_ID_NB</th>\n",
       "      <th>INSTALLATIONNUMBER_NB</th>\n",
       "      <th>STATUS_NB</th>\n",
       "      <th>INSERT_TIME_NB</th>\n",
       "      <th>UTILITY_NB</th>\n",
       "    </tr>\n",
       "  </thead>\n",
       "  <tbody>\n",
       "    <tr>\n",
       "      <th>1</th>\n",
       "      <td>GOEGP4881969</td>\n",
       "      <td>GP4881969</td>\n",
       "      <td>404751250450510</td>\n",
       "      <td>2001:4490:0800:A41A:0000:0000:0000:0001</td>\n",
       "      <td>DALGND-816</td>\n",
       "      <td>Installed</td>\n",
       "      <td>9/9/2019 1:01:27 AM</td>\n",
       "      <td>NBPDCL</td>\n",
       "    </tr>\n",
       "  </tbody>\n",
       "</table>\n",
       "</div>"
      ],
      "text/plain": [
       "  METERNUMBER_NB MFG_SERIAL_NUM_NB        UDC_ID_NB  \\\n",
       "1   GOEGP4881969         GP4881969  404751250450510   \n",
       "\n",
       "                             NETWORK_ID_NB INSTALLATIONNUMBER_NB  STATUS_NB  \\\n",
       "1  2001:4490:0800:A41A:0000:0000:0000:0001            DALGND-816  Installed   \n",
       "\n",
       "        INSERT_TIME_NB UTILITY_NB  \n",
       "1  9/9/2019 1:01:27 AM     NBPDCL  "
      ]
     },
     "execution_count": 27,
     "metadata": {},
     "output_type": "execute_result"
    }
   ],
   "source": [
    "mdm_nb.head(1)"
   ]
  },
  {
   "cell_type": "code",
   "execution_count": null,
   "metadata": {},
   "outputs": [],
   "source": []
  },
  {
   "cell_type": "code",
   "execution_count": 28,
   "metadata": {},
   "outputs": [],
   "source": [
    "# NBPDCL\n",
    "\n",
    "INFRA_NB_MDM_NB_METER = pd.merge(INFRA_NB,mdm_nb, left_on='SERIALNUMBER_NB',right_on= 'MFG_SERIAL_NUM_NB', how = 'inner')\n",
    "HES_MDM_NB_METER_DATA = INFRA_NB_MDM_NB_METER[INFRA_NB_MDM_NB_METER.duplicated(subset=['SERIALNUMBER_NB'])]\n",
    "HES_MDM_NB_METER_DATA.to_csv(r\"C:\\Users\\Ratan Kumar Jha\\Desktop\\hes_mdm\\OUTPUT_FOLDER_HES_MDM_METER\\HES_MDM_NB_METER_DATA.csv\")"
   ]
  },
  {
   "cell_type": "code",
   "execution_count": 29,
   "metadata": {},
   "outputs": [
    {
     "data": {
      "text/plain": [
       "(31077,)"
      ]
     },
     "execution_count": 29,
     "metadata": {},
     "output_type": "execute_result"
    }
   ],
   "source": [
    "HES_MDM_NB_METER_DATA['MFG_SERIAL_NUM_NB'].unique().shape"
   ]
  },
  {
   "cell_type": "code",
   "execution_count": 30,
   "metadata": {},
   "outputs": [
    {
     "data": {
      "text/html": [
       "<div>\n",
       "<style scoped>\n",
       "    .dataframe tbody tr th:only-of-type {\n",
       "        vertical-align: middle;\n",
       "    }\n",
       "\n",
       "    .dataframe tbody tr th {\n",
       "        vertical-align: top;\n",
       "    }\n",
       "\n",
       "    .dataframe thead th {\n",
       "        text-align: right;\n",
       "    }\n",
       "</style>\n",
       "<table border=\"1\" class=\"dataframe\">\n",
       "  <thead>\n",
       "    <tr style=\"text-align: right;\">\n",
       "      <th></th>\n",
       "      <th>METERNUMBER_SB</th>\n",
       "      <th>MFG_SERIAL_NUM_SB</th>\n",
       "      <th>UDC_ID_SB</th>\n",
       "      <th>NETWORK_ID_SB</th>\n",
       "      <th>INSTALLATIONNUMBER_SB</th>\n",
       "      <th>STATUS_SB</th>\n",
       "      <th>INSERT_TIME_SB</th>\n",
       "      <th>UTILITY_SB</th>\n",
       "    </tr>\n",
       "  </thead>\n",
       "  <tbody>\n",
       "    <tr>\n",
       "      <th>1</th>\n",
       "      <td>GOEGP4882550</td>\n",
       "      <td>GP4882550</td>\n",
       "      <td>404751250450725</td>\n",
       "      <td>2001:4490:0800:A4F1:0000:0000:0000:1</td>\n",
       "      <td>ARWARL5842</td>\n",
       "      <td>Installed</td>\n",
       "      <td>9/2/2019 1:08:20 AM</td>\n",
       "      <td>SBPDCL</td>\n",
       "    </tr>\n",
       "  </tbody>\n",
       "</table>\n",
       "</div>"
      ],
      "text/plain": [
       "  METERNUMBER_SB MFG_SERIAL_NUM_SB        UDC_ID_SB  \\\n",
       "1   GOEGP4882550         GP4882550  404751250450725   \n",
       "\n",
       "                          NETWORK_ID_SB INSTALLATIONNUMBER_SB  STATUS_SB  \\\n",
       "1  2001:4490:0800:A4F1:0000:0000:0000:1            ARWARL5842  Installed   \n",
       "\n",
       "        INSERT_TIME_SB UTILITY_SB  \n",
       "1  9/2/2019 1:08:20 AM     SBPDCL  "
      ]
     },
     "execution_count": 30,
     "metadata": {},
     "output_type": "execute_result"
    }
   ],
   "source": [
    "mdm_sb.head(1)"
   ]
  },
  {
   "cell_type": "code",
   "execution_count": 31,
   "metadata": {},
   "outputs": [],
   "source": [
    "# SBPDCL\n",
    "\n",
    "INFRA_SB_MDM_SB_METER = pd.merge(INFRA_SB,mdm_sb, left_on='SERIALNUMBER_SB',right_on= 'MFG_SERIAL_NUM_SB', how = 'inner')\n",
    "HES_MDM_SB_METER_DATA = INFRA_SB_MDM_SB_METER[INFRA_SB_MDM_SB_METER.duplicated(subset=['SERIALNUMBER_SB'])]\n",
    "HES_MDM_SB_METER_DATA.to_csv(r\"C:\\Users\\Ratan Kumar Jha\\Desktop\\hes_mdm\\OUTPUT_FOLDER_HES_MDM_METER\\HES_MDM_SB_METER_DATA.csv\")"
   ]
  },
  {
   "cell_type": "code",
   "execution_count": 32,
   "metadata": {},
   "outputs": [
    {
     "data": {
      "text/plain": [
       "(112185, 19)"
      ]
     },
     "execution_count": 32,
     "metadata": {},
     "output_type": "execute_result"
    }
   ],
   "source": [
    "HES_MDM_SB_METER_DATA.shape"
   ]
  },
  {
   "cell_type": "code",
   "execution_count": 33,
   "metadata": {},
   "outputs": [
    {
     "data": {
      "text/plain": [
       "(67335,)"
      ]
     },
     "execution_count": 33,
     "metadata": {},
     "output_type": "execute_result"
    }
   ],
   "source": [
    "HES_MDM_SB_METER_DATA['MFG_SERIAL_NUM_SB'].unique().shape"
   ]
  },
  {
   "cell_type": "code",
   "execution_count": null,
   "metadata": {},
   "outputs": [],
   "source": []
  },
  {
   "cell_type": "markdown",
   "metadata": {},
   "source": [
    "## HES - MDM DIFF UTILITY"
   ]
  },
  {
   "cell_type": "code",
   "execution_count": null,
   "metadata": {},
   "outputs": [],
   "source": []
  },
  {
   "cell_type": "code",
   "execution_count": 34,
   "metadata": {},
   "outputs": [],
   "source": [
    "#  HES - NB    AND  MDM - SB  METERS\n",
    "\n",
    "INFRA_NB_MDM_SB_METER = pd.merge(INFRA_NB,mdm_sb, left_on='SERIALNUMBER_NB',right_on= 'MFG_SERIAL_NUM_SB', how = 'inner')\n",
    "INFRA_NB_MDM_SB_METER.to_csv(r\"C:\\Users\\Ratan Kumar Jha\\Desktop\\hes_mdm\\OUTPUT_FOLDER_HES_MDM_METER\\INFRA_NB_MDM_SB_METER.csv\")"
   ]
  },
  {
   "cell_type": "code",
   "execution_count": 36,
   "metadata": {},
   "outputs": [
    {
     "data": {
      "text/plain": [
       "(1074, 19)"
      ]
     },
     "execution_count": 36,
     "metadata": {},
     "output_type": "execute_result"
    }
   ],
   "source": [
    "INFRA_NB_MDM_SB_METER.shape"
   ]
  },
  {
   "cell_type": "code",
   "execution_count": 35,
   "metadata": {},
   "outputs": [],
   "source": [
    "#  HES - SB    AND  MDM - NB  METERS\n",
    "\n",
    "INFRA_SB_MDM_NB_METER = pd.merge(INFRA_SB,mdm_nb, left_on='SERIALNUMBER_SB',right_on= 'MFG_SERIAL_NUM_NB', how = 'inner')\n",
    "INFRA_SB_MDM_NB_METER.to_csv(r\"C:\\Users\\Ratan Kumar Jha\\Desktop\\hes_mdm\\OUTPUT_FOLDER_HES_MDM_METER\\INFRA_SB_MDM_NB_METER.csv\")"
   ]
  },
  {
   "cell_type": "code",
   "execution_count": 37,
   "metadata": {},
   "outputs": [
    {
     "data": {
      "text/plain": [
       "(309, 19)"
      ]
     },
     "execution_count": 37,
     "metadata": {},
     "output_type": "execute_result"
    }
   ],
   "source": [
    "INFRA_SB_MDM_NB_METER.shape"
   ]
  },
  {
   "cell_type": "code",
   "execution_count": null,
   "metadata": {},
   "outputs": [],
   "source": []
  }
 ],
 "metadata": {
  "kernelspec": {
   "display_name": "Python 3",
   "language": "python",
   "name": "python3"
  },
  "language_info": {
   "codemirror_mode": {
    "name": "ipython",
    "version": 3
   },
   "file_extension": ".py",
   "mimetype": "text/x-python",
   "name": "python",
   "nbconvert_exporter": "python",
   "pygments_lexer": "ipython3",
   "version": "3.9.18"
  }
 },
 "nbformat": 4,
 "nbformat_minor": 2
}
