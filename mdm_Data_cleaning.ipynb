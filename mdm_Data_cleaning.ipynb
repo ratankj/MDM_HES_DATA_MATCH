{
 "cells": [
  {
   "cell_type": "code",
   "execution_count": 12,
   "metadata": {},
   "outputs": [],
   "source": [
    "import pandas as pd"
   ]
  },
  {
   "cell_type": "markdown",
   "metadata": {},
   "source": [
    "### MDM DATA CLEANING"
   ]
  },
  {
   "cell_type": "code",
   "execution_count": null,
   "metadata": {},
   "outputs": [],
   "source": []
  },
  {
   "cell_type": "code",
   "execution_count": 13,
   "metadata": {},
   "outputs": [
    {
     "name": "stderr",
     "output_type": "stream",
     "text": [
      "C:\\Users\\Ratan Kumar Jha\\AppData\\Local\\Temp\\ipykernel_23888\\2900168889.py:1: DtypeWarning: Columns (2) have mixed types. Specify dtype option on import or set low_memory=False.\n",
      "  mdm_nb = pd.read_csv(r\"C:\\Users\\Ratan Kumar Jha\\Desktop\\hes_mdm\\INPUT FOLDER\\MDM DATA NEW\\ASSET_INITIATION_INVENTORY_nb.csv\")\n"
     ]
    }
   ],
   "source": [
    "mdm_nb = pd.read_csv(r\"C:\\Users\\Ratan Kumar Jha\\Desktop\\hes_mdm\\INPUT FOLDER\\MDM DATA NEW\\ASSET_INITIATION_INVENTORY_nb.csv\")\n",
    "mdm_sb = pd.read_csv(r\"C:\\Users\\Ratan Kumar Jha\\Desktop\\hes_mdm\\INPUT FOLDER\\MDM DATA NEW\\ASSET_INITIATION_INVENTORY_sb.csv\")"
   ]
  },
  {
   "cell_type": "code",
   "execution_count": 14,
   "metadata": {},
   "outputs": [
    {
     "data": {
      "text/html": [
       "<div>\n",
       "<style scoped>\n",
       "    .dataframe tbody tr th:only-of-type {\n",
       "        vertical-align: middle;\n",
       "    }\n",
       "\n",
       "    .dataframe tbody tr th {\n",
       "        vertical-align: top;\n",
       "    }\n",
       "\n",
       "    .dataframe thead th {\n",
       "        text-align: right;\n",
       "    }\n",
       "</style>\n",
       "<table border=\"1\" class=\"dataframe\">\n",
       "  <thead>\n",
       "    <tr style=\"text-align: right;\">\n",
       "      <th></th>\n",
       "      <th>MeterNumber</th>\n",
       "      <th>MFG_SERIAL_NUM</th>\n",
       "      <th>UDC_ID</th>\n",
       "      <th>NETWORK_ID</th>\n",
       "      <th>InstallationNumber</th>\n",
       "      <th>Status</th>\n",
       "      <th>INSERT_TIME</th>\n",
       "      <th>DECODE(D.ORG_ID,52,'SBPDCL',102,'NBPDCL')</th>\n",
       "    </tr>\n",
       "  </thead>\n",
       "  <tbody>\n",
       "    <tr>\n",
       "      <th>0</th>\n",
       "      <td>GOEGP4970536</td>\n",
       "      <td>GP4970536</td>\n",
       "      <td>404759210464493</td>\n",
       "      <td>2001:4490:0800:5FAC:0000:0000:0000:0001</td>\n",
       "      <td>ARWARL2013</td>\n",
       "      <td>Retired</td>\n",
       "      <td>8/1/2019 1:46:44 PM</td>\n",
       "      <td>SBPDCL</td>\n",
       "    </tr>\n",
       "    <tr>\n",
       "      <th>1</th>\n",
       "      <td>GOEGP4882550</td>\n",
       "      <td>GP4882550</td>\n",
       "      <td>404751250450725</td>\n",
       "      <td>2001:4490:0800:A4F1:0000:0000:0000:1</td>\n",
       "      <td>ARWARL5842</td>\n",
       "      <td>Installed</td>\n",
       "      <td>9/2/2019 1:08:20 AM</td>\n",
       "      <td>SBPDCL</td>\n",
       "    </tr>\n",
       "  </tbody>\n",
       "</table>\n",
       "</div>"
      ],
      "text/plain": [
       "    MeterNumber MFG_SERIAL_NUM           UDC_ID  \\\n",
       "0  GOEGP4970536      GP4970536  404759210464493   \n",
       "1  GOEGP4882550      GP4882550  404751250450725   \n",
       "\n",
       "                                NETWORK_ID InstallationNumber     Status  \\\n",
       "0  2001:4490:0800:5FAC:0000:0000:0000:0001         ARWARL2013    Retired   \n",
       "1     2001:4490:0800:A4F1:0000:0000:0000:1         ARWARL5842  Installed   \n",
       "\n",
       "           INSERT_TIME DECODE(D.ORG_ID,52,'SBPDCL',102,'NBPDCL')  \n",
       "0  8/1/2019 1:46:44 PM                                    SBPDCL  \n",
       "1  9/2/2019 1:08:20 AM                                    SBPDCL  "
      ]
     },
     "execution_count": 14,
     "metadata": {},
     "output_type": "execute_result"
    }
   ],
   "source": [
    "mdm_sb.head(2)"
   ]
  },
  {
   "cell_type": "code",
   "execution_count": 15,
   "metadata": {},
   "outputs": [],
   "source": [
    "\n",
    "mdm_nb = mdm_nb.astype(str)\n",
    "mdm_sb = mdm_sb.astype(str)\n",
    "\n",
    "\n",
    "mdm_nb.columns = mdm_nb.columns.str.strip()\n",
    "mdm_sb.columns = mdm_sb.columns.str.strip()\n",
    "\n",
    "\n",
    "mdm_sb.columns = mdm_sb.columns.str.upper()\n",
    "mdm_nb.columns = mdm_nb.columns.str.upper()\n"
   ]
  },
  {
   "cell_type": "code",
   "execution_count": 16,
   "metadata": {},
   "outputs": [],
   "source": [
    "# rename the column name\n",
    "\n",
    "mdm_nb.rename(\n",
    "    columns = {\"METERNUMBER\":\"METERNUMBER_NB\",\"MFG_SERIAL_NUM\": \"MFG_SERIAL_NUM_NB\",\n",
    "    \"UDC_ID\":\"UDC_ID_NB\",\"NETWORK_ID\":\"NETWORK_ID_NB\",\n",
    "    \"INSTALLATIONNUMBER\":\"INSTALLATIONNUMBER_NB\",\"STATUS\":\"STATUS_NB\",\"INSERT_TIME\":\"INSERT_TIME_NB\",\n",
    "    \"DECODE(D.ORG_ID,52,'SBPDCL',102,'NBPDCL')\":\"UTILITY_NB\"},inplace=True\n",
    ")\n",
    "\n",
    "\n",
    "\n",
    "#-----------------------------------------------------------------\n",
    "\n",
    "\n",
    "\n",
    "\n",
    "mdm_sb.rename(\n",
    "    columns = {\"METERNUMBER\":\"METERNUMBER_SB\",\"MFG_SERIAL_NUM\": \"MFG_SERIAL_NUM_SB\",\n",
    "    \"UDC_ID\":\"UDC_ID_SB\",\"NETWORK_ID\":\"NETWORK_ID_SB\",\n",
    "    \"INSTALLATIONNUMBER\":\"INSTALLATIONNUMBER_SB\",\"STATUS\":\"STATUS_SB\",\"INSERT_TIME\":\"INSERT_TIME_SB\",\n",
    "    \"DECODE(D.ORG_ID,52,'SBPDCL',102,'NBPDCL')\":\"UTILITY_SB\"},inplace=True\n",
    ")\n"
   ]
  },
  {
   "cell_type": "code",
   "execution_count": 18,
   "metadata": {},
   "outputs": [
    {
     "data": {
      "text/plain": [
       "array(['Retired', 'Installed', 'Refurbished', 'Meter Shop'], dtype=object)"
      ]
     },
     "execution_count": 18,
     "metadata": {},
     "output_type": "execute_result"
    }
   ],
   "source": [
    "mdm_sb['STATUS_SB'].unique()"
   ]
  },
  {
   "cell_type": "code",
   "execution_count": 19,
   "metadata": {},
   "outputs": [
    {
     "data": {
      "text/plain": [
       "array(['Retired', 'Installed', 'Meter Shop', 'Refurbished', 'Duplicate'],\n",
       "      dtype=object)"
      ]
     },
     "execution_count": 19,
     "metadata": {},
     "output_type": "execute_result"
    }
   ],
   "source": [
    "mdm_nb['STATUS_NB'].unique()"
   ]
  },
  {
   "cell_type": "code",
   "execution_count": 20,
   "metadata": {},
   "outputs": [
    {
     "data": {
      "text/html": [
       "<div>\n",
       "<style scoped>\n",
       "    .dataframe tbody tr th:only-of-type {\n",
       "        vertical-align: middle;\n",
       "    }\n",
       "\n",
       "    .dataframe tbody tr th {\n",
       "        vertical-align: top;\n",
       "    }\n",
       "\n",
       "    .dataframe thead th {\n",
       "        text-align: right;\n",
       "    }\n",
       "</style>\n",
       "<table border=\"1\" class=\"dataframe\">\n",
       "  <thead>\n",
       "    <tr style=\"text-align: right;\">\n",
       "      <th></th>\n",
       "      <th>METERNUMBER_NB</th>\n",
       "      <th>MFG_SERIAL_NUM_NB</th>\n",
       "      <th>UDC_ID_NB</th>\n",
       "      <th>NETWORK_ID_NB</th>\n",
       "      <th>INSTALLATIONNUMBER_NB</th>\n",
       "      <th>STATUS_NB</th>\n",
       "      <th>INSERT_TIME_NB</th>\n",
       "      <th>UTILITY_NB</th>\n",
       "    </tr>\n",
       "  </thead>\n",
       "  <tbody>\n",
       "    <tr>\n",
       "      <th>0</th>\n",
       "      <td>GOEGP4968974</td>\n",
       "      <td>GP4968974</td>\n",
       "      <td>404759210464692</td>\n",
       "      <td>2001:4490:0800:6073:0000:0000:0000:0001</td>\n",
       "      <td>MUZW-2290805636</td>\n",
       "      <td>Retired</td>\n",
       "      <td>9/2/2019 1:07:37 AM</td>\n",
       "      <td>NBPDCL</td>\n",
       "    </tr>\n",
       "    <tr>\n",
       "      <th>1</th>\n",
       "      <td>GOEGP4881969</td>\n",
       "      <td>GP4881969</td>\n",
       "      <td>404751250450510</td>\n",
       "      <td>2001:4490:0800:A41A:0000:0000:0000:0001</td>\n",
       "      <td>DALGND-816</td>\n",
       "      <td>Installed</td>\n",
       "      <td>9/9/2019 1:01:27 AM</td>\n",
       "      <td>NBPDCL</td>\n",
       "    </tr>\n",
       "  </tbody>\n",
       "</table>\n",
       "</div>"
      ],
      "text/plain": [
       "  METERNUMBER_NB MFG_SERIAL_NUM_NB        UDC_ID_NB  \\\n",
       "0   GOEGP4968974         GP4968974  404759210464692   \n",
       "1   GOEGP4881969         GP4881969  404751250450510   \n",
       "\n",
       "                             NETWORK_ID_NB INSTALLATIONNUMBER_NB  STATUS_NB  \\\n",
       "0  2001:4490:0800:6073:0000:0000:0000:0001       MUZW-2290805636    Retired   \n",
       "1  2001:4490:0800:A41A:0000:0000:0000:0001            DALGND-816  Installed   \n",
       "\n",
       "        INSERT_TIME_NB UTILITY_NB  \n",
       "0  9/2/2019 1:07:37 AM     NBPDCL  \n",
       "1  9/9/2019 1:01:27 AM     NBPDCL  "
      ]
     },
     "execution_count": 20,
     "metadata": {},
     "output_type": "execute_result"
    }
   ],
   "source": [
    "mdm_nb.head(2)"
   ]
  },
  {
   "cell_type": "code",
   "execution_count": 21,
   "metadata": {},
   "outputs": [
    {
     "data": {
      "text/html": [
       "<div>\n",
       "<style scoped>\n",
       "    .dataframe tbody tr th:only-of-type {\n",
       "        vertical-align: middle;\n",
       "    }\n",
       "\n",
       "    .dataframe tbody tr th {\n",
       "        vertical-align: top;\n",
       "    }\n",
       "\n",
       "    .dataframe thead th {\n",
       "        text-align: right;\n",
       "    }\n",
       "</style>\n",
       "<table border=\"1\" class=\"dataframe\">\n",
       "  <thead>\n",
       "    <tr style=\"text-align: right;\">\n",
       "      <th></th>\n",
       "      <th>METERNUMBER_SB</th>\n",
       "      <th>MFG_SERIAL_NUM_SB</th>\n",
       "      <th>UDC_ID_SB</th>\n",
       "      <th>NETWORK_ID_SB</th>\n",
       "      <th>INSTALLATIONNUMBER_SB</th>\n",
       "      <th>STATUS_SB</th>\n",
       "      <th>INSERT_TIME_SB</th>\n",
       "      <th>UTILITY_SB</th>\n",
       "    </tr>\n",
       "  </thead>\n",
       "  <tbody>\n",
       "    <tr>\n",
       "      <th>0</th>\n",
       "      <td>GOEGP4970536</td>\n",
       "      <td>GP4970536</td>\n",
       "      <td>404759210464493</td>\n",
       "      <td>2001:4490:0800:5FAC:0000:0000:0000:0001</td>\n",
       "      <td>ARWARL2013</td>\n",
       "      <td>Retired</td>\n",
       "      <td>8/1/2019 1:46:44 PM</td>\n",
       "      <td>SBPDCL</td>\n",
       "    </tr>\n",
       "    <tr>\n",
       "      <th>1</th>\n",
       "      <td>GOEGP4882550</td>\n",
       "      <td>GP4882550</td>\n",
       "      <td>404751250450725</td>\n",
       "      <td>2001:4490:0800:A4F1:0000:0000:0000:1</td>\n",
       "      <td>ARWARL5842</td>\n",
       "      <td>Installed</td>\n",
       "      <td>9/2/2019 1:08:20 AM</td>\n",
       "      <td>SBPDCL</td>\n",
       "    </tr>\n",
       "  </tbody>\n",
       "</table>\n",
       "</div>"
      ],
      "text/plain": [
       "  METERNUMBER_SB MFG_SERIAL_NUM_SB        UDC_ID_SB  \\\n",
       "0   GOEGP4970536         GP4970536  404759210464493   \n",
       "1   GOEGP4882550         GP4882550  404751250450725   \n",
       "\n",
       "                             NETWORK_ID_SB INSTALLATIONNUMBER_SB  STATUS_SB  \\\n",
       "0  2001:4490:0800:5FAC:0000:0000:0000:0001            ARWARL2013    Retired   \n",
       "1     2001:4490:0800:A4F1:0000:0000:0000:1            ARWARL5842  Installed   \n",
       "\n",
       "        INSERT_TIME_SB UTILITY_SB  \n",
       "0  8/1/2019 1:46:44 PM     SBPDCL  \n",
       "1  9/2/2019 1:08:20 AM     SBPDCL  "
      ]
     },
     "execution_count": 21,
     "metadata": {},
     "output_type": "execute_result"
    }
   ],
   "source": [
    "mdm_sb.head(2)"
   ]
  },
  {
   "cell_type": "markdown",
   "metadata": {},
   "source": [
    "### Merge the files"
   ]
  },
  {
   "cell_type": "code",
   "execution_count": null,
   "metadata": {},
   "outputs": [],
   "source": []
  },
  {
   "cell_type": "markdown",
   "metadata": {},
   "source": [
    "### case 1  :  meter no. is same in sb and nb   and both are in installed stage"
   ]
  },
  {
   "cell_type": "code",
   "execution_count": 33,
   "metadata": {},
   "outputs": [],
   "source": [
    "Mdm_nb_sb_meter_no_data = pd.merge(mdm_nb,mdm_sb , left_on=['MFG_SERIAL_NUM_NB'], right_on = ['MFG_SERIAL_NUM_SB'], how = 'inner')\n",
    "Mdm_nb_sb_meter_no_data = Mdm_nb_sb_meter_no_data[(Mdm_nb_sb_meter_no_data['STATUS_NB']=='Installed') & (Mdm_nb_sb_meter_no_data['STATUS_SB']=='Installed')]\n",
    "Mdm_nb_sb_meter_no_data.to_csv(r\"C:\\Users\\Ratan Kumar Jha\\Desktop\\hes_mdm\\OUTPUT FOLDER MDM\\Mdm_nb_sb_meter_no_data.csv\")"
   ]
  },
  {
   "cell_type": "code",
   "execution_count": null,
   "metadata": {},
   "outputs": [],
   "source": []
  },
  {
   "cell_type": "markdown",
   "metadata": {},
   "source": [
    "### case 2  :  IP. is same in sb and nb   and both are in installed stage"
   ]
  },
  {
   "cell_type": "code",
   "execution_count": null,
   "metadata": {},
   "outputs": [],
   "source": []
  },
  {
   "cell_type": "code",
   "execution_count": null,
   "metadata": {},
   "outputs": [],
   "source": []
  },
  {
   "cell_type": "code",
   "execution_count": 35,
   "metadata": {},
   "outputs": [],
   "source": [
    "MDM_NB_SB_IP_DATA = pd.merge(mdm_nb, mdm_sb , left_on= ['NETWORK_ID_NB'], right_on=['NETWORK_ID_SB'],how = 'inner')\n",
    "MDM_NB_SB_IP_DATA = MDM_NB_SB_IP_DATA[(MDM_NB_SB_IP_DATA['STATUS_NB']=='Installed') & (MDM_NB_SB_IP_DATA['STATUS_SB']=='Installed')]\n",
    "MDM_NB_SB_IP_DATA.to_csv(r\"C:\\Users\\Ratan Kumar Jha\\Desktop\\hes_mdm\\OUTPUT FOLDER MDM\\MDM_NB_SB_IP_DATA.csv\")"
   ]
  },
  {
   "cell_type": "code",
   "execution_count": null,
   "metadata": {},
   "outputs": [],
   "source": []
  },
  {
   "cell_type": "code",
   "execution_count": null,
   "metadata": {},
   "outputs": [],
   "source": []
  },
  {
   "cell_type": "markdown",
   "metadata": {},
   "source": [
    "### case 3  :  IP and meter  is same in sb and nb   and both are in installed stage"
   ]
  },
  {
   "cell_type": "code",
   "execution_count": 36,
   "metadata": {},
   "outputs": [],
   "source": [
    "MDM_NB_SB_IP_METER_DATA = pd.merge(mdm_nb, mdm_sb , left_on= ['MFG_SERIAL_NUM_NB','NETWORK_ID_NB'], right_on=['MFG_SERIAL_NUM_SB','NETWORK_ID_SB'],how = 'inner')\n",
    "MDM_NB_SB_IP_METER_DATA = MDM_NB_SB_IP_METER_DATA[(MDM_NB_SB_IP_METER_DATA['STATUS_NB']=='Installed') & (MDM_NB_SB_IP_METER_DATA['STATUS_SB']=='Installed')]\n",
    "MDM_NB_SB_IP_METER_DATA.to_csv(r\"C:\\Users\\Ratan Kumar Jha\\Desktop\\hes_mdm\\OUTPUT FOLDER MDM\\MDM_NB_SB_IP_METER_DATA.csv\")"
   ]
  },
  {
   "cell_type": "code",
   "execution_count": null,
   "metadata": {},
   "outputs": [],
   "source": []
  },
  {
   "cell_type": "markdown",
   "metadata": {},
   "source": [
    "### Case 4 : UDC_ID is same in sb and nb   and both are in installed stage"
   ]
  },
  {
   "cell_type": "code",
   "execution_count": null,
   "metadata": {},
   "outputs": [],
   "source": []
  },
  {
   "cell_type": "code",
   "execution_count": 38,
   "metadata": {},
   "outputs": [],
   "source": [
    "MDM_NB_SB_UDC_ID_DATA = pd.merge(mdm_nb, mdm_sb, left_on=['UDC_ID_NB'],right_on=['UDC_ID_SB'], how= 'inner')\n",
    "MDM_NB_SB_UDC_ID_DATA = MDM_NB_SB_UDC_ID_DATA[(MDM_NB_SB_UDC_ID_DATA['STATUS_NB']=='Installed') & (MDM_NB_SB_UDC_ID_DATA['STATUS_SB']=='Installed')]\n",
    "MDM_NB_SB_UDC_ID_DATA.to_csv(r\"C:\\Users\\Ratan Kumar Jha\\Desktop\\hes_mdm\\OUTPUT FOLDER MDM\\MDM_NB_SB_UDC_ID_DATA.csv\")"
   ]
  },
  {
   "cell_type": "code",
   "execution_count": null,
   "metadata": {},
   "outputs": [],
   "source": []
  },
  {
   "cell_type": "markdown",
   "metadata": {},
   "source": [
    "### Case 5 : UDC_ID  AND METER is same in sb and nb   and both are in installed stage"
   ]
  },
  {
   "cell_type": "code",
   "execution_count": null,
   "metadata": {},
   "outputs": [],
   "source": [
    "WORK ON THIS\n"
   ]
  },
  {
   "cell_type": "code",
   "execution_count": null,
   "metadata": {},
   "outputs": [],
   "source": [
    "MDM_NB_SB_UDC_ID_METER_DATA = pd.merge(mdm_nb, mdm_sb, left_on=['UDC_ID_NB'],right_on=['UDC_ID_SB'], how= 'inner')\n",
    "MDM_NB_SB_UDC_ID_METER_DATA = MDM_NB_SB_UDC_ID_DATA[(MDM_NB_SB_UDC_ID_DATA['STATUS_NB']=='Installed') & (MDM_NB_SB_UDC_ID_DATA['STATUS_SB']=='Installed')]\n",
    "MDM_NB_SB_UDC_ID_METER_DATA.to_csv(r\"C:\\Users\\Ratan Kumar Jha\\Desktop\\hes_mdm\\OUTPUT FOLDER MDM\\MDM_NB_SB_UDC_ID_DATA.csv\")"
   ]
  },
  {
   "cell_type": "code",
   "execution_count": null,
   "metadata": {},
   "outputs": [],
   "source": []
  },
  {
   "cell_type": "code",
   "execution_count": null,
   "metadata": {},
   "outputs": [],
   "source": []
  },
  {
   "cell_type": "code",
   "execution_count": null,
   "metadata": {},
   "outputs": [],
   "source": []
  },
  {
   "cell_type": "code",
   "execution_count": null,
   "metadata": {},
   "outputs": [],
   "source": []
  }
 ],
 "metadata": {
  "kernelspec": {
   "display_name": "Python 3",
   "language": "python",
   "name": "python3"
  },
  "language_info": {
   "codemirror_mode": {
    "name": "ipython",
    "version": 3
   },
   "file_extension": ".py",
   "mimetype": "text/x-python",
   "name": "python",
   "nbconvert_exporter": "python",
   "pygments_lexer": "ipython3",
   "version": "3.9.18"
  }
 },
 "nbformat": 4,
 "nbformat_minor": 2
}
